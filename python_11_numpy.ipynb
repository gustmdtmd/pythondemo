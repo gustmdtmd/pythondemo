{
  "nbformat": 4,
  "nbformat_minor": 0,
  "metadata": {
    "colab": {
      "provenance": [],
      "authorship_tag": "ABX9TyMEavJZjiQ8qw6+UbXe9nju",
      "include_colab_link": true
    },
    "kernelspec": {
      "name": "python3",
      "display_name": "Python 3"
    },
    "language_info": {
      "name": "python"
    }
  },
  "cells": [
    {
      "cell_type": "markdown",
      "metadata": {
        "id": "view-in-github",
        "colab_type": "text"
      },
      "source": [
        "<a href=\"https://colab.research.google.com/github/gustmdtmd/pythondemo/blob/main/python_11_numpy.ipynb\" target=\"_parent\"><img src=\"https://colab.research.google.com/assets/colab-badge.svg\" alt=\"Open In Colab\"/></a>"
      ]
    },
    {
      "cell_type": "markdown",
      "source": [
        "### Numpy\n",
        " - Numpy는 Numerical Python의 줄임말로, 파이썬에서 산술계산을 위한 가장 필수 패키지 중 하나이다.\n",
        " - 과학 계산을 위한 대부분의 패키지는 NumPy의 배열 객체를 데이터 교환을 위한 공통언어처럼 사용한다.\n",
        " - 반복문을 작성할 필요없이 전체 데이터 배열을 빠르게 계산할 수 있는 표준 수학 함수이다.\n",
        " - 배열 데이터르 디스크에 쓰거나 읽을 수 있는 도구와 메모리에 적재된 파일을 다루는 도구이다.\n",
        " - 선형대수, 난수 생성기등에 사용된다.\n",
        " - C, C++, 포트란으로 작성한 코드를 연결할 수 있는 C API가 제공된다.\n",
        "   \n",
        "공식문서 https://numpy.org/doc/stable/   \n",
        "numpy 100문제 https://github.com/rougier/numpy-100"
      ],
      "metadata": {
        "id": "lG8af4rsYLyC"
      }
    },
    {
      "cell_type": "markdown",
      "source": [
        "### 1. 데이터 생성"
      ],
      "metadata": {
        "id": "1J6uIOuXZVJx"
      }
    },
    {
      "cell_type": "code",
      "execution_count": 9,
      "metadata": {
        "id": "3AzRBbXjVdxA"
      },
      "outputs": [],
      "source": [
        "#!pip install numpy\n",
        "import numpy as np"
      ]
    },
    {
      "cell_type": "code",
      "source": [
        "a = np.zeros(3)  # 1차원 배열 = 벡터\n",
        "a"
      ],
      "metadata": {
        "colab": {
          "base_uri": "https://localhost:8080/"
        },
        "id": "of4ACG8CZY_y",
        "outputId": "a72e8b77-4b65-4154-e741-59034b4b7f0b"
      },
      "execution_count": 3,
      "outputs": [
        {
          "output_type": "execute_result",
          "data": {
            "text/plain": [
              "array([0., 0., 0.])"
            ]
          },
          "metadata": {},
          "execution_count": 3
        }
      ]
    },
    {
      "cell_type": "code",
      "source": [
        "print(a)"
      ],
      "metadata": {
        "colab": {
          "base_uri": "https://localhost:8080/"
        },
        "id": "5gydIPVnZyGi",
        "outputId": "11704006-1dd8-48b8-9f6c-69d64cfba583"
      },
      "execution_count": 4,
      "outputs": [
        {
          "output_type": "stream",
          "name": "stdout",
          "text": [
            "[0. 0. 0.]\n"
          ]
        }
      ]
    },
    {
      "cell_type": "code",
      "source": [
        "# 처음 객체들은 type(). dir()을 해본다.\n",
        "print(type(a))\n",
        "print(dir(a))"
      ],
      "metadata": {
        "colab": {
          "base_uri": "https://localhost:8080/"
        },
        "id": "v4MCpWCXZ7mh",
        "outputId": "7fd83b93-af1e-4ebf-c84c-b18c11ef5acc"
      },
      "execution_count": 6,
      "outputs": [
        {
          "output_type": "stream",
          "name": "stdout",
          "text": [
            "<class 'numpy.ndarray'>\n",
            "['T', '__abs__', '__add__', '__and__', '__array__', '__array_finalize__', '__array_function__', '__array_interface__', '__array_prepare__', '__array_priority__', '__array_struct__', '__array_ufunc__', '__array_wrap__', '__bool__', '__class__', '__complex__', '__contains__', '__copy__', '__deepcopy__', '__delattr__', '__delitem__', '__dir__', '__divmod__', '__doc__', '__eq__', '__float__', '__floordiv__', '__format__', '__ge__', '__getattribute__', '__getitem__', '__gt__', '__hash__', '__iadd__', '__iand__', '__ifloordiv__', '__ilshift__', '__imatmul__', '__imod__', '__imul__', '__index__', '__init__', '__init_subclass__', '__int__', '__invert__', '__ior__', '__ipow__', '__irshift__', '__isub__', '__iter__', '__itruediv__', '__ixor__', '__le__', '__len__', '__lshift__', '__lt__', '__matmul__', '__mod__', '__mul__', '__ne__', '__neg__', '__new__', '__or__', '__pos__', '__pow__', '__radd__', '__rand__', '__rdivmod__', '__reduce__', '__reduce_ex__', '__repr__', '__rfloordiv__', '__rlshift__', '__rmatmul__', '__rmod__', '__rmul__', '__ror__', '__rpow__', '__rrshift__', '__rshift__', '__rsub__', '__rtruediv__', '__rxor__', '__setattr__', '__setitem__', '__setstate__', '__sizeof__', '__str__', '__sub__', '__subclasshook__', '__truediv__', '__xor__', 'all', 'any', 'argmax', 'argmin', 'argpartition', 'argsort', 'astype', 'base', 'byteswap', 'choose', 'clip', 'compress', 'conj', 'conjugate', 'copy', 'ctypes', 'cumprod', 'cumsum', 'data', 'diagonal', 'dot', 'dtype', 'dump', 'dumps', 'fill', 'flags', 'flat', 'flatten', 'getfield', 'imag', 'item', 'itemset', 'itemsize', 'max', 'mean', 'min', 'nbytes', 'ndim', 'newbyteorder', 'nonzero', 'partition', 'prod', 'ptp', 'put', 'ravel', 'real', 'repeat', 'reshape', 'resize', 'round', 'searchsorted', 'setfield', 'setflags', 'shape', 'size', 'sort', 'squeeze', 'std', 'strides', 'sum', 'swapaxes', 'take', 'tobytes', 'tofile', 'tolist', 'tostring', 'trace', 'transpose', 'var', 'view']\n"
          ]
        }
      ]
    },
    {
      "cell_type": "code",
      "source": [
        "# 1차원 배열 = 벡터\n",
        "a = np.array([1,2,3])\n",
        "a"
      ],
      "metadata": {
        "colab": {
          "base_uri": "https://localhost:8080/"
        },
        "id": "u1SOQX8oaJS4",
        "outputId": "db5d8792-a785-417f-e97a-a07672442572"
      },
      "execution_count": 8,
      "outputs": [
        {
          "output_type": "execute_result",
          "data": {
            "text/plain": [
              "array([1, 2, 3])"
            ]
          },
          "metadata": {},
          "execution_count": 8
        }
      ]
    },
    {
      "cell_type": "code",
      "source": [
        "print(type(a))\n",
        "print(dir(a))\n",
        "print(len(dir(a)))"
      ],
      "metadata": {
        "colab": {
          "base_uri": "https://localhost:8080/"
        },
        "id": "ZDmSyt5Hcd7B",
        "outputId": "d179a50a-3368-4ca5-f378-8e625f428ad5"
      },
      "execution_count": 17,
      "outputs": [
        {
          "output_type": "stream",
          "name": "stdout",
          "text": [
            "<class 'numpy.ndarray'>\n",
            "['T', '__abs__', '__add__', '__and__', '__array__', '__array_finalize__', '__array_function__', '__array_interface__', '__array_prepare__', '__array_priority__', '__array_struct__', '__array_ufunc__', '__array_wrap__', '__bool__', '__class__', '__complex__', '__contains__', '__copy__', '__deepcopy__', '__delattr__', '__delitem__', '__dir__', '__divmod__', '__doc__', '__eq__', '__float__', '__floordiv__', '__format__', '__ge__', '__getattribute__', '__getitem__', '__gt__', '__hash__', '__iadd__', '__iand__', '__ifloordiv__', '__ilshift__', '__imatmul__', '__imod__', '__imul__', '__index__', '__init__', '__init_subclass__', '__int__', '__invert__', '__ior__', '__ipow__', '__irshift__', '__isub__', '__iter__', '__itruediv__', '__ixor__', '__le__', '__len__', '__lshift__', '__lt__', '__matmul__', '__mod__', '__mul__', '__ne__', '__neg__', '__new__', '__or__', '__pos__', '__pow__', '__radd__', '__rand__', '__rdivmod__', '__reduce__', '__reduce_ex__', '__repr__', '__rfloordiv__', '__rlshift__', '__rmatmul__', '__rmod__', '__rmul__', '__ror__', '__rpow__', '__rrshift__', '__rshift__', '__rsub__', '__rtruediv__', '__rxor__', '__setattr__', '__setitem__', '__setstate__', '__sizeof__', '__str__', '__sub__', '__subclasshook__', '__truediv__', '__xor__', 'all', 'any', 'argmax', 'argmin', 'argpartition', 'argsort', 'astype', 'base', 'byteswap', 'choose', 'clip', 'compress', 'conj', 'conjugate', 'copy', 'ctypes', 'cumprod', 'cumsum', 'data', 'diagonal', 'dot', 'dtype', 'dump', 'dumps', 'fill', 'flags', 'flat', 'flatten', 'getfield', 'imag', 'item', 'itemset', 'itemsize', 'max', 'mean', 'min', 'nbytes', 'ndim', 'newbyteorder', 'nonzero', 'partition', 'prod', 'ptp', 'put', 'ravel', 'real', 'repeat', 'reshape', 'resize', 'round', 'searchsorted', 'setfield', 'setflags', 'shape', 'size', 'sort', 'squeeze', 'std', 'strides', 'sum', 'swapaxes', 'take', 'tobytes', 'tofile', 'tolist', 'tostring', 'trace', 'transpose', 'var', 'view']\n",
            "162\n"
          ]
        }
      ]
    },
    {
      "cell_type": "code",
      "source": [
        "# 2차원 배열 = 행렬\n",
        "b = np.array([[1,2],[3,4]])\n",
        "b"
      ],
      "metadata": {
        "colab": {
          "base_uri": "https://localhost:8080/"
        },
        "id": "khPpQMwtaffp",
        "outputId": "749035d0-d158-46c2-fc78-794c18ca68fa"
      },
      "execution_count": 10,
      "outputs": [
        {
          "output_type": "execute_result",
          "data": {
            "text/plain": [
              "array([[1, 2],\n",
              "       [3, 4]])"
            ]
          },
          "metadata": {},
          "execution_count": 10
        }
      ]
    },
    {
      "cell_type": "code",
      "source": [
        "print(type(b))\n",
        "print(dir(b))\n",
        "print(len(dir(b)))"
      ],
      "metadata": {
        "colab": {
          "base_uri": "https://localhost:8080/"
        },
        "id": "5Gzw7X8wasCA",
        "outputId": "f446cdd5-444e-432d-824d-2d1e4f3490c4"
      },
      "execution_count": 16,
      "outputs": [
        {
          "output_type": "stream",
          "name": "stdout",
          "text": [
            "<class 'numpy.ndarray'>\n",
            "['T', '__abs__', '__add__', '__and__', '__array__', '__array_finalize__', '__array_function__', '__array_interface__', '__array_prepare__', '__array_priority__', '__array_struct__', '__array_ufunc__', '__array_wrap__', '__bool__', '__class__', '__complex__', '__contains__', '__copy__', '__deepcopy__', '__delattr__', '__delitem__', '__dir__', '__divmod__', '__doc__', '__eq__', '__float__', '__floordiv__', '__format__', '__ge__', '__getattribute__', '__getitem__', '__gt__', '__hash__', '__iadd__', '__iand__', '__ifloordiv__', '__ilshift__', '__imatmul__', '__imod__', '__imul__', '__index__', '__init__', '__init_subclass__', '__int__', '__invert__', '__ior__', '__ipow__', '__irshift__', '__isub__', '__iter__', '__itruediv__', '__ixor__', '__le__', '__len__', '__lshift__', '__lt__', '__matmul__', '__mod__', '__mul__', '__ne__', '__neg__', '__new__', '__or__', '__pos__', '__pow__', '__radd__', '__rand__', '__rdivmod__', '__reduce__', '__reduce_ex__', '__repr__', '__rfloordiv__', '__rlshift__', '__rmatmul__', '__rmod__', '__rmul__', '__ror__', '__rpow__', '__rrshift__', '__rshift__', '__rsub__', '__rtruediv__', '__rxor__', '__setattr__', '__setitem__', '__setstate__', '__sizeof__', '__str__', '__sub__', '__subclasshook__', '__truediv__', '__xor__', 'all', 'any', 'argmax', 'argmin', 'argpartition', 'argsort', 'astype', 'base', 'byteswap', 'choose', 'clip', 'compress', 'conj', 'conjugate', 'copy', 'ctypes', 'cumprod', 'cumsum', 'data', 'diagonal', 'dot', 'dtype', 'dump', 'dumps', 'fill', 'flags', 'flat', 'flatten', 'getfield', 'imag', 'item', 'itemset', 'itemsize', 'max', 'mean', 'min', 'nbytes', 'ndim', 'newbyteorder', 'nonzero', 'partition', 'prod', 'ptp', 'put', 'ravel', 'real', 'repeat', 'reshape', 'resize', 'round', 'searchsorted', 'setfield', 'setflags', 'shape', 'size', 'sort', 'squeeze', 'std', 'strides', 'sum', 'swapaxes', 'take', 'tobytes', 'tofile', 'tolist', 'tostring', 'trace', 'transpose', 'var', 'view']\n",
            "162\n"
          ]
        }
      ]
    },
    {
      "cell_type": "code",
      "source": [
        "# 3차원 배열 이상 = 텐서(tensor)\n",
        "c = np.array([[[1,2],[3,4]],[[5,6],[7,8]]])\n",
        "c"
      ],
      "metadata": {
        "colab": {
          "base_uri": "https://localhost:8080/"
        },
        "id": "z1xpwEaxbBMp",
        "outputId": "97e44e3f-64cd-462f-db5b-30c68302dc66"
      },
      "execution_count": 12,
      "outputs": [
        {
          "output_type": "execute_result",
          "data": {
            "text/plain": [
              "array([[[1, 2],\n",
              "        [3, 4]],\n",
              "\n",
              "       [[5, 6],\n",
              "        [7, 8]]])"
            ]
          },
          "metadata": {},
          "execution_count": 12
        }
      ]
    },
    {
      "cell_type": "code",
      "source": [
        "print(type(c))\n",
        "print(dir(c))\n",
        "print(len(dir(c)))"
      ],
      "metadata": {
        "colab": {
          "base_uri": "https://localhost:8080/"
        },
        "id": "uJVB7pTtbQk5",
        "outputId": "1ac61cda-cdc7-4e69-e0d3-33ba0c19e206"
      },
      "execution_count": 15,
      "outputs": [
        {
          "output_type": "stream",
          "name": "stdout",
          "text": [
            "<class 'numpy.ndarray'>\n",
            "['T', '__abs__', '__add__', '__and__', '__array__', '__array_finalize__', '__array_function__', '__array_interface__', '__array_prepare__', '__array_priority__', '__array_struct__', '__array_ufunc__', '__array_wrap__', '__bool__', '__class__', '__complex__', '__contains__', '__copy__', '__deepcopy__', '__delattr__', '__delitem__', '__dir__', '__divmod__', '__doc__', '__eq__', '__float__', '__floordiv__', '__format__', '__ge__', '__getattribute__', '__getitem__', '__gt__', '__hash__', '__iadd__', '__iand__', '__ifloordiv__', '__ilshift__', '__imatmul__', '__imod__', '__imul__', '__index__', '__init__', '__init_subclass__', '__int__', '__invert__', '__ior__', '__ipow__', '__irshift__', '__isub__', '__iter__', '__itruediv__', '__ixor__', '__le__', '__len__', '__lshift__', '__lt__', '__matmul__', '__mod__', '__mul__', '__ne__', '__neg__', '__new__', '__or__', '__pos__', '__pow__', '__radd__', '__rand__', '__rdivmod__', '__reduce__', '__reduce_ex__', '__repr__', '__rfloordiv__', '__rlshift__', '__rmatmul__', '__rmod__', '__rmul__', '__ror__', '__rpow__', '__rrshift__', '__rshift__', '__rsub__', '__rtruediv__', '__rxor__', '__setattr__', '__setitem__', '__setstate__', '__sizeof__', '__str__', '__sub__', '__subclasshook__', '__truediv__', '__xor__', 'all', 'any', 'argmax', 'argmin', 'argpartition', 'argsort', 'astype', 'base', 'byteswap', 'choose', 'clip', 'compress', 'conj', 'conjugate', 'copy', 'ctypes', 'cumprod', 'cumsum', 'data', 'diagonal', 'dot', 'dtype', 'dump', 'dumps', 'fill', 'flags', 'flat', 'flatten', 'getfield', 'imag', 'item', 'itemset', 'itemsize', 'max', 'mean', 'min', 'nbytes', 'ndim', 'newbyteorder', 'nonzero', 'partition', 'prod', 'ptp', 'put', 'ravel', 'real', 'repeat', 'reshape', 'resize', 'round', 'searchsorted', 'setfield', 'setflags', 'shape', 'size', 'sort', 'squeeze', 'std', 'strides', 'sum', 'swapaxes', 'take', 'tobytes', 'tofile', 'tolist', 'tostring', 'trace', 'transpose', 'var', 'view']\n",
            "162\n"
          ]
        }
      ]
    },
    {
      "cell_type": "code",
      "source": [
        "# 배열은 문자 데이터가 하나라도 있으면 전체가 문자로 바뀐다.\n",
        "# numpy는 homogeneous 이다.\n",
        "a = np.array([1,'2',3])\n",
        "print(a)\n",
        "print(type(a))\n",
        "print(type(a[0]))"
      ],
      "metadata": {
        "colab": {
          "base_uri": "https://localhost:8080/"
        },
        "id": "v2aCJr0DcQZh",
        "outputId": "9de2c680-728c-484d-ab3d-659d08fce050"
      },
      "execution_count": 20,
      "outputs": [
        {
          "output_type": "stream",
          "name": "stdout",
          "text": [
            "['1' '2' '3']\n",
            "<class 'numpy.ndarray'>\n",
            "<class 'numpy.str_'>\n"
          ]
        }
      ]
    },
    {
      "cell_type": "code",
      "source": [
        "# boolean값이 있어도 문자열이 있다면 전체가 문자로 바뀐다.\n",
        "b = np.array(['a', 1, True])\n",
        "print(b)\n",
        "print(type(b))\n",
        "b"
      ],
      "metadata": {
        "colab": {
          "base_uri": "https://localhost:8080/"
        },
        "id": "ZzW9n67SdgTC",
        "outputId": "0bed1ef0-d68f-4687-ec49-ffe65ac958b9"
      },
      "execution_count": 23,
      "outputs": [
        {
          "output_type": "stream",
          "name": "stdout",
          "text": [
            "['a' '1' 'True']\n",
            "<class 'numpy.ndarray'>\n"
          ]
        },
        {
          "output_type": "execute_result",
          "data": {
            "text/plain": [
              "array(['a', '1', 'True'], dtype='<U21')"
            ]
          },
          "metadata": {},
          "execution_count": 23
        }
      ]
    },
    {
      "cell_type": "code",
      "source": [
        "# 배열에서 True = 1, False = 0으로 출력된다.\n",
        "c = np.array([1, True, 2, False])\n",
        "print(c)\n",
        "print(type(c))\n",
        "c\n",
        "print(type(c[0]))"
      ],
      "metadata": {
        "colab": {
          "base_uri": "https://localhost:8080/"
        },
        "id": "tJFfHUdXdnf4",
        "outputId": "81e82dc2-dbb5-4fb1-dec5-e5ef36341484"
      },
      "execution_count": 25,
      "outputs": [
        {
          "output_type": "stream",
          "name": "stdout",
          "text": [
            "[1 1 2 0]\n",
            "<class 'numpy.ndarray'>\n",
            "<class 'numpy.int64'>\n"
          ]
        }
      ]
    },
    {
      "cell_type": "markdown",
      "source": [
        "### np.zeros\n",
        "- tuple로 인자를 넣으면 그대로 모양을 만든다.\n",
        "- (2, 3) : 2행 3열 행렬을 만든다.\n",
        "- zeros는 기본값으로 0.으로 값을 모두 채운다.   \n",
        "  a = np.zeros((2,3))   \n",
        "  a = np.zeros([2,3])"
      ],
      "metadata": {
        "id": "e-TEdv0xf_vh"
      }
    },
    {
      "cell_type": "code",
      "source": [
        "a = np.zeros([2,3])\n",
        "a"
      ],
      "metadata": {
        "colab": {
          "base_uri": "https://localhost:8080/"
        },
        "id": "bIJVnO7reDHh",
        "outputId": "b8ec9af2-e23c-4031-caca-d85471f49b15"
      },
      "execution_count": 26,
      "outputs": [
        {
          "output_type": "execute_result",
          "data": {
            "text/plain": [
              "array([[0., 0., 0.],\n",
              "       [0., 0., 0.]])"
            ]
          },
          "metadata": {},
          "execution_count": 26
        }
      ]
    },
    {
      "cell_type": "code",
      "source": [
        "c = np.zeros([2,3,2])\n",
        "c"
      ],
      "metadata": {
        "colab": {
          "base_uri": "https://localhost:8080/"
        },
        "id": "UvvNwWYmgcrp",
        "outputId": "6c0a79ee-a21c-4da8-d70b-4ff73320e54f"
      },
      "execution_count": 27,
      "outputs": [
        {
          "output_type": "execute_result",
          "data": {
            "text/plain": [
              "array([[[0., 0.],\n",
              "        [0., 0.],\n",
              "        [0., 0.]],\n",
              "\n",
              "       [[0., 0.],\n",
              "        [0., 0.],\n",
              "        [0., 0.]]])"
            ]
          },
          "metadata": {},
          "execution_count": 27
        }
      ]
    },
    {
      "cell_type": "markdown",
      "source": [
        "### np.eye\n",
        "- eye는 단위 행렬\n",
        "- 숫자만 사용할 수 있다."
      ],
      "metadata": {
        "id": "uULjhuWGhLkY"
      }
    },
    {
      "cell_type": "code",
      "source": [
        "# 인자값이 1개이면 행과 열이 같다.\n",
        "# 3행 3열이 만들어진다. \n",
        "a = np.eye(3)\n",
        "a"
      ],
      "metadata": {
        "colab": {
          "base_uri": "https://localhost:8080/"
        },
        "id": "bLhkvOV1g084",
        "outputId": "33235289-7392-4f26-d48e-284ec47ba42c"
      },
      "execution_count": 28,
      "outputs": [
        {
          "output_type": "execute_result",
          "data": {
            "text/plain": [
              "array([[1., 0., 0.],\n",
              "       [0., 1., 0.],\n",
              "       [0., 0., 1.]])"
            ]
          },
          "metadata": {},
          "execution_count": 28
        }
      ]
    },
    {
      "cell_type": "code",
      "source": [
        "# eye은 행과 열의 크기를 지정할 수 있다.\n",
        "# 3행 2열 행렬 생성\n",
        "b = np.eye(3,2)\n",
        "b"
      ],
      "metadata": {
        "colab": {
          "base_uri": "https://localhost:8080/"
        },
        "id": "vCcuQof7hU1g",
        "outputId": "eed089b8-d33f-483f-81d2-46e2441205e0"
      },
      "execution_count": 29,
      "outputs": [
        {
          "output_type": "execute_result",
          "data": {
            "text/plain": [
              "array([[1., 0.],\n",
              "       [0., 1.],\n",
              "       [0., 0.]])"
            ]
          },
          "metadata": {},
          "execution_count": 29
        }
      ]
    },
    {
      "cell_type": "code",
      "source": [
        "# 크기(1)가 시작되는 위치를 지정할 수 있다.\n",
        "c = np.eye(3, 4, k=1)\n",
        "c"
      ],
      "metadata": {
        "colab": {
          "base_uri": "https://localhost:8080/"
        },
        "id": "OtLvZ69thoen",
        "outputId": "970303dd-0f3a-4023-c4ae-009417c52594"
      },
      "execution_count": 37,
      "outputs": [
        {
          "output_type": "execute_result",
          "data": {
            "text/plain": [
              "array([[0., 1., 0., 0.],\n",
              "       [0., 0., 1., 0.],\n",
              "       [0., 0., 0., 1.]])"
            ]
          },
          "metadata": {},
          "execution_count": 37
        }
      ]
    },
    {
      "cell_type": "markdown",
      "source": [
        "### np.identity\n",
        "- 수학에서 단위행렬은 영어로 identity matrix\n",
        "- 크기 한개만 지정해서 생성할 수 있다."
      ],
      "metadata": {
        "id": "PhIIElmeiodI"
      }
    },
    {
      "cell_type": "code",
      "source": [
        "a = np.identity(3)\n",
        "a"
      ],
      "metadata": {
        "colab": {
          "base_uri": "https://localhost:8080/"
        },
        "id": "H7_1hiepiQU3",
        "outputId": "12982459-3084-4519-f346-497508653e3f"
      },
      "execution_count": 39,
      "outputs": [
        {
          "output_type": "execute_result",
          "data": {
            "text/plain": [
              "array([[1., 0., 0.],\n",
              "       [0., 1., 0.],\n",
              "       [0., 0., 1.]])"
            ]
          },
          "metadata": {},
          "execution_count": 39
        }
      ]
    },
    {
      "cell_type": "code",
      "source": [
        "# TypeError\n",
        "# 인자 하나만 지정할 수 있다.\n",
        "b = np.identity(3,2)\n",
        "b"
      ],
      "metadata": {
        "colab": {
          "base_uri": "https://localhost:8080/",
          "height": 345
        },
        "id": "WLsVzWl3i94Q",
        "outputId": "f85635db-02a9-453e-a88e-1d83c47f15ef"
      },
      "execution_count": 41,
      "outputs": [
        {
          "output_type": "error",
          "ename": "TypeError",
          "evalue": "ignored",
          "traceback": [
            "\u001b[0;31m---------------------------------------------------------------------------\u001b[0m",
            "\u001b[0;31mTypeError\u001b[0m                                 Traceback (most recent call last)",
            "\u001b[0;32m<ipython-input-41-e75c06959309>\u001b[0m in \u001b[0;36m<module>\u001b[0;34m\u001b[0m\n\u001b[0;32m----> 1\u001b[0;31m \u001b[0mb\u001b[0m \u001b[0;34m=\u001b[0m \u001b[0mnp\u001b[0m\u001b[0;34m.\u001b[0m\u001b[0midentity\u001b[0m\u001b[0;34m(\u001b[0m\u001b[0;36m3\u001b[0m\u001b[0;34m,\u001b[0m\u001b[0;36m2\u001b[0m\u001b[0;34m)\u001b[0m\u001b[0;34m\u001b[0m\u001b[0;34m\u001b[0m\u001b[0m\n\u001b[0m\u001b[1;32m      2\u001b[0m \u001b[0mb\u001b[0m\u001b[0;34m\u001b[0m\u001b[0;34m\u001b[0m\u001b[0m\n",
            "\u001b[0;32m/usr/local/lib/python3.8/dist-packages/numpy/core/numeric.py\u001b[0m in \u001b[0;36midentity\u001b[0;34m(n, dtype, like)\u001b[0m\n\u001b[1;32m   2165\u001b[0m \u001b[0;34m\u001b[0m\u001b[0m\n\u001b[1;32m   2166\u001b[0m     \u001b[0;32mfrom\u001b[0m \u001b[0mnumpy\u001b[0m \u001b[0;32mimport\u001b[0m \u001b[0meye\u001b[0m\u001b[0;34m\u001b[0m\u001b[0;34m\u001b[0m\u001b[0m\n\u001b[0;32m-> 2167\u001b[0;31m     \u001b[0;32mreturn\u001b[0m \u001b[0meye\u001b[0m\u001b[0;34m(\u001b[0m\u001b[0mn\u001b[0m\u001b[0;34m,\u001b[0m \u001b[0mdtype\u001b[0m\u001b[0;34m=\u001b[0m\u001b[0mdtype\u001b[0m\u001b[0;34m,\u001b[0m \u001b[0mlike\u001b[0m\u001b[0;34m=\u001b[0m\u001b[0mlike\u001b[0m\u001b[0;34m)\u001b[0m\u001b[0;34m\u001b[0m\u001b[0;34m\u001b[0m\u001b[0m\n\u001b[0m\u001b[1;32m   2168\u001b[0m \u001b[0;34m\u001b[0m\u001b[0m\n\u001b[1;32m   2169\u001b[0m \u001b[0;34m\u001b[0m\u001b[0m\n",
            "\u001b[0;32m/usr/local/lib/python3.8/dist-packages/numpy/lib/twodim_base.py\u001b[0m in \u001b[0;36meye\u001b[0;34m(N, M, k, dtype, order, like)\u001b[0m\n\u001b[1;32m    212\u001b[0m     \u001b[0;32mif\u001b[0m \u001b[0mM\u001b[0m \u001b[0;32mis\u001b[0m \u001b[0;32mNone\u001b[0m\u001b[0;34m:\u001b[0m\u001b[0;34m\u001b[0m\u001b[0;34m\u001b[0m\u001b[0m\n\u001b[1;32m    213\u001b[0m         \u001b[0mM\u001b[0m \u001b[0;34m=\u001b[0m \u001b[0mN\u001b[0m\u001b[0;34m\u001b[0m\u001b[0;34m\u001b[0m\u001b[0m\n\u001b[0;32m--> 214\u001b[0;31m     \u001b[0mm\u001b[0m \u001b[0;34m=\u001b[0m \u001b[0mzeros\u001b[0m\u001b[0;34m(\u001b[0m\u001b[0;34m(\u001b[0m\u001b[0mN\u001b[0m\u001b[0;34m,\u001b[0m \u001b[0mM\u001b[0m\u001b[0;34m)\u001b[0m\u001b[0;34m,\u001b[0m \u001b[0mdtype\u001b[0m\u001b[0;34m=\u001b[0m\u001b[0mdtype\u001b[0m\u001b[0;34m,\u001b[0m \u001b[0morder\u001b[0m\u001b[0;34m=\u001b[0m\u001b[0morder\u001b[0m\u001b[0;34m)\u001b[0m\u001b[0;34m\u001b[0m\u001b[0;34m\u001b[0m\u001b[0m\n\u001b[0m\u001b[1;32m    215\u001b[0m     \u001b[0;32mif\u001b[0m \u001b[0mk\u001b[0m \u001b[0;34m>=\u001b[0m \u001b[0mM\u001b[0m\u001b[0;34m:\u001b[0m\u001b[0;34m\u001b[0m\u001b[0;34m\u001b[0m\u001b[0m\n\u001b[1;32m    216\u001b[0m         \u001b[0;32mreturn\u001b[0m \u001b[0mm\u001b[0m\u001b[0;34m\u001b[0m\u001b[0;34m\u001b[0m\u001b[0m\n",
            "\u001b[0;31mTypeError\u001b[0m: Cannot interpret '2' as a data type"
          ]
        }
      ]
    },
    {
      "cell_type": "markdown",
      "source": [
        "### np.full\n",
        "- 지정한 크기의 배열을 생성하고 채울 값을 지정한다.\n",
        "- 2행 2열의 배열 생성 후 1로 채워준다.   \n",
        "  np.full((2,2),1)"
      ],
      "metadata": {
        "id": "HVr5-6s3jfOY"
      }
    },
    {
      "cell_type": "code",
      "source": [
        "# 2행 2열의 배열을 생성하고 1로 초기화 해준다.\n",
        "a = np.full((2,2), 1)\n",
        "a"
      ],
      "metadata": {
        "colab": {
          "base_uri": "https://localhost:8080/"
        },
        "id": "2iMI99NJjFw4",
        "outputId": "b1eb649a-5766-4fd5-cceb-3720da66f0c8"
      },
      "execution_count": 42,
      "outputs": [
        {
          "output_type": "execute_result",
          "data": {
            "text/plain": [
              "array([[1, 1],\n",
              "       [1, 1]])"
            ]
          },
          "metadata": {},
          "execution_count": 42
        }
      ]
    },
    {
      "cell_type": "code",
      "source": [
        "# 1행 3열의 배열을 생성하고 4로 채워준다.\n",
        "b = np.full(3,4)\n",
        "b"
      ],
      "metadata": {
        "colab": {
          "base_uri": "https://localhost:8080/"
        },
        "id": "v-qVXC6AmeS3",
        "outputId": "58243e0c-9cb5-4f4a-a285-b0ff1f7ba435"
      },
      "execution_count": 44,
      "outputs": [
        {
          "output_type": "execute_result",
          "data": {
            "text/plain": [
              "array([4, 4, 4])"
            ]
          },
          "metadata": {},
          "execution_count": 44
        }
      ]
    },
    {
      "cell_type": "code",
      "source": [
        "# 2행 2열의 배열을 생성하고 [1,2]로 각 행을 지정해준다.\n",
        "c = np.full((2,2),[1,2])\n",
        "c"
      ],
      "metadata": {
        "colab": {
          "base_uri": "https://localhost:8080/"
        },
        "id": "zMbUV1l-nOC_",
        "outputId": "e58b9596-4f2f-4878-fa53-dad4e4a15d4e"
      },
      "execution_count": 46,
      "outputs": [
        {
          "output_type": "execute_result",
          "data": {
            "text/plain": [
              "array([[1, 2],\n",
              "       [1, 2]])"
            ]
          },
          "metadata": {},
          "execution_count": 46
        }
      ]
    },
    {
      "cell_type": "code",
      "source": [
        "# 2행 2열의 배열을 생성하고 [1,2],[3,4]로 순서대로 행을 채워준다.\n",
        "d = np.full((2,2),[[1,2],[3,4]])\n",
        "d"
      ],
      "metadata": {
        "colab": {
          "base_uri": "https://localhost:8080/"
        },
        "id": "gFTeoXC4ndI_",
        "outputId": "118c3718-23e0-47cf-9f08-c1a596dc41af"
      },
      "execution_count": 47,
      "outputs": [
        {
          "output_type": "execute_result",
          "data": {
            "text/plain": [
              "array([[1, 2],\n",
              "       [3, 4]])"
            ]
          },
          "metadata": {},
          "execution_count": 47
        }
      ]
    },
    {
      "cell_type": "markdown",
      "source": [
        "### np.empty\n",
        "- 배열을 생성하고 초기화를 지정하지 않는다.\n",
        "- 메모리에 있는 값이나 이전에 사용했던 값들로 채워진다."
      ],
      "metadata": {
        "id": "PwTKLQQdnrvJ"
      }
    },
    {
      "cell_type": "code",
      "source": [
        "# 각 행에 메모리에 남아있는 찌꺼기 값이 들어간다. 매번 바뀐다.\n",
        "a = np.empty(3)\n",
        "a"
      ],
      "metadata": {
        "colab": {
          "base_uri": "https://localhost:8080/"
        },
        "id": "3Sd1tXkEniJP",
        "outputId": "73db73e7-c26a-4223-f602-fe51b8d22b4d"
      },
      "execution_count": 48,
      "outputs": [
        {
          "output_type": "execute_result",
          "data": {
            "text/plain": [
              "array([3.48154069e-316, 6.79038653e-313, 5.43472210e-322])"
            ]
          },
          "metadata": {},
          "execution_count": 48
        }
      ]
    },
    {
      "cell_type": "code",
      "source": [
        "k = np.zeros((2,3))\n",
        "k"
      ],
      "metadata": {
        "colab": {
          "base_uri": "https://localhost:8080/"
        },
        "id": "AHZSQeOHn5Mv",
        "outputId": "17dc6617-0861-4744-b497-baf7552f1089"
      },
      "execution_count": 50,
      "outputs": [
        {
          "output_type": "execute_result",
          "data": {
            "text/plain": [
              "array([[0., 0., 0.],\n",
              "       [0., 0., 0.]])"
            ]
          },
          "metadata": {},
          "execution_count": 50
        }
      ]
    },
    {
      "cell_type": "code",
      "source": [
        "# zeros에서 생성한 배열이 있으면 배열의 값을 0으로 채워준다.\n",
        "b = np.empty((2,3))\n",
        "b"
      ],
      "metadata": {
        "colab": {
          "base_uri": "https://localhost:8080/"
        },
        "id": "K8CbvDrFobl3",
        "outputId": "84db9cf3-ed07-43fd-c77f-d3866e5cde9f"
      },
      "execution_count": 51,
      "outputs": [
        {
          "output_type": "execute_result",
          "data": {
            "text/plain": [
              "array([[0., 0., 0.],\n",
              "       [0., 0., 0.]])"
            ]
          },
          "metadata": {},
          "execution_count": 51
        }
      ]
    },
    {
      "cell_type": "code",
      "source": [
        "c = np.empty((2,5))\n",
        "c"
      ],
      "metadata": {
        "colab": {
          "base_uri": "https://localhost:8080/"
        },
        "id": "SuTlUNWMoqL_",
        "outputId": "b47f6d12-0c9d-4508-a533-12ab1845b371"
      },
      "execution_count": 53,
      "outputs": [
        {
          "output_type": "execute_result",
          "data": {
            "text/plain": [
              "array([[3.45223904e-316, 1.77863633e-322, 0.00000000e+000,\n",
              "        0.00000000e+000, 2.41907520e-312],\n",
              "       [1.15455919e-071, 7.61456000e+169, 7.78936012e-091,\n",
              "        4.91528562e-062, 8.14081864e-315]])"
            ]
          },
          "metadata": {},
          "execution_count": 53
        }
      ]
    },
    {
      "cell_type": "markdown",
      "source": [
        "### np.ones\n",
        "- 배열의 모든 값을 1로 채워준다."
      ],
      "metadata": {
        "id": "qFV8QMPppdpn"
      }
    },
    {
      "cell_type": "code",
      "source": [
        "# 1행 3열의 배열이 생성되고 모든 값을 1로 채운다.\n",
        "a = np.ones(3)\n",
        "a"
      ],
      "metadata": {
        "colab": {
          "base_uri": "https://localhost:8080/"
        },
        "id": "5_ZFrwc3o4j3",
        "outputId": "97af356c-207f-4124-8483-1e9869891258"
      },
      "execution_count": 54,
      "outputs": [
        {
          "output_type": "execute_result",
          "data": {
            "text/plain": [
              "array([1., 1., 1.])"
            ]
          },
          "metadata": {},
          "execution_count": 54
        }
      ]
    },
    {
      "cell_type": "code",
      "source": [
        "#b = np.ones((2,3))\n",
        "b = np.ones([2,3])\n",
        "b"
      ],
      "metadata": {
        "colab": {
          "base_uri": "https://localhost:8080/"
        },
        "id": "qT0NVVbmplsP",
        "outputId": "43790dd2-3b41-4c88-fa9d-91d874f02719"
      },
      "execution_count": 56,
      "outputs": [
        {
          "output_type": "execute_result",
          "data": {
            "text/plain": [
              "array([[1., 1., 1.],\n",
              "       [1., 1., 1.]])"
            ]
          },
          "metadata": {},
          "execution_count": 56
        }
      ]
    },
    {
      "cell_type": "code",
      "source": [
        "c = np.empty((2,3))\n",
        "c"
      ],
      "metadata": {
        "colab": {
          "base_uri": "https://localhost:8080/"
        },
        "id": "gi7h2fEnp35m",
        "outputId": "2654c7a6-ed93-4f39-e09a-8fd2f5933960"
      },
      "execution_count": 57,
      "outputs": [
        {
          "output_type": "execute_result",
          "data": {
            "text/plain": [
              "array([[1., 1., 1.],\n",
              "       [1., 1., 1.]])"
            ]
          },
          "metadata": {},
          "execution_count": 57
        }
      ]
    },
    {
      "cell_type": "code",
      "source": [
        "e = np.eye(3,4)\n",
        "e"
      ],
      "metadata": {
        "colab": {
          "base_uri": "https://localhost:8080/"
        },
        "id": "ZBHLccZIqFAm",
        "outputId": "90a01ce0-ba4d-43e2-9630-47b83b869039"
      },
      "execution_count": 59,
      "outputs": [
        {
          "output_type": "execute_result",
          "data": {
            "text/plain": [
              "array([[1., 0., 0., 0.],\n",
              "       [0., 1., 0., 0.],\n",
              "       [0., 0., 1., 0.]])"
            ]
          },
          "metadata": {},
          "execution_count": 59
        }
      ]
    },
    {
      "cell_type": "code",
      "source": [
        "d = np.empty((3,4))\n",
        "d"
      ],
      "metadata": {
        "colab": {
          "base_uri": "https://localhost:8080/"
        },
        "id": "AreWCCGQqPcn",
        "outputId": "0e2f5233-c89d-4841-c260-a356c71b703b"
      },
      "execution_count": 61,
      "outputs": [
        {
          "output_type": "execute_result",
          "data": {
            "text/plain": [
              "array([[1., 0., 0., 0.],\n",
              "       [0., 1., 0., 0.],\n",
              "       [0., 0., 1., 0.]])"
            ]
          },
          "metadata": {},
          "execution_count": 61
        }
      ]
    },
    {
      "cell_type": "code",
      "source": [
        "# 값을 지정해주면 empty로 출력시 값이 따라가지않는다.\n",
        "e = np.full((3,4),0)\n",
        "e"
      ],
      "metadata": {
        "colab": {
          "base_uri": "https://localhost:8080/"
        },
        "id": "CqFWxix5qXk3",
        "outputId": "ebed3d5e-9cae-4067-fa61-63e89bf6f870"
      },
      "execution_count": 62,
      "outputs": [
        {
          "output_type": "execute_result",
          "data": {
            "text/plain": [
              "array([[0, 0, 0, 0],\n",
              "       [0, 0, 0, 0],\n",
              "       [0, 0, 0, 0]])"
            ]
          },
          "metadata": {},
          "execution_count": 62
        }
      ]
    },
    {
      "cell_type": "code",
      "source": [
        "f = np.empty((3,4))\n",
        "f"
      ],
      "metadata": {
        "colab": {
          "base_uri": "https://localhost:8080/"
        },
        "id": "t4M91Q4Gqv6u",
        "outputId": "4fc5e916-b134-4162-9c5b-33fbc326526b"
      },
      "execution_count": 65,
      "outputs": [
        {
          "output_type": "execute_result",
          "data": {
            "text/plain": [
              "array([[3.40727274e-316, 2.47032823e-322, 0.00000000e+000,\n",
              "        0.00000000e+000],\n",
              "       [0.00000000e+000, 5.74084271e+169, 7.11579326e-091,\n",
              "        1.20009338e-071],\n",
              "       [9.98705796e-048, 1.57144795e-076, 3.99910963e+252,\n",
              "        1.46030983e-319]])"
            ]
          },
          "metadata": {},
          "execution_count": 65
        }
      ]
    },
    {
      "cell_type": "markdown",
      "source": [
        "### _like\n",
        "- _like가 붙으면 shape가 같게 만들어진다.\n",
        "- 연산하기 위해서 shape을 맞춰야하는 경우가 있다."
      ],
      "metadata": {
        "id": "iHlacguvrFE2"
      }
    },
    {
      "cell_type": "code",
      "source": [
        "a = np.array([[1,2,3],[4,5,6]])\n",
        "a"
      ],
      "metadata": {
        "colab": {
          "base_uri": "https://localhost:8080/"
        },
        "id": "hgzab0vuqx7m",
        "outputId": "d0f57100-ae3e-480c-8445-883028f26bb0"
      },
      "execution_count": 68,
      "outputs": [
        {
          "output_type": "execute_result",
          "data": {
            "text/plain": [
              "array([[1, 2, 3],\n",
              "       [4, 5, 6]])"
            ]
          },
          "metadata": {},
          "execution_count": 68
        }
      ]
    },
    {
      "cell_type": "code",
      "source": [
        "a.shape"
      ],
      "metadata": {
        "colab": {
          "base_uri": "https://localhost:8080/"
        },
        "id": "pFpzRtfRrblw",
        "outputId": "2649839b-b150-41a7-8dc9-607a5dbddbfd"
      },
      "execution_count": 69,
      "outputs": [
        {
          "output_type": "execute_result",
          "data": {
            "text/plain": [
              "(2, 3)"
            ]
          },
          "metadata": {},
          "execution_count": 69
        }
      ]
    },
    {
      "cell_type": "code",
      "source": [
        "# 배열(행렬)은 같게 가져오지만 값은 다르게 가져온다.\n",
        "b = np.empty_like(a)\n",
        "b"
      ],
      "metadata": {
        "colab": {
          "base_uri": "https://localhost:8080/"
        },
        "id": "esdkqxg-rhoW",
        "outputId": "c791c32f-06c1-4189-b49e-98fe8fb75331"
      },
      "execution_count": 70,
      "outputs": [
        {
          "output_type": "execute_result",
          "data": {
            "text/plain": [
              "array([[4607182418800017408, 4607182418800017408, 4607182418800017408],\n",
              "       [4607182418800017408, 4607182418800017408, 4607182418800017408]])"
            ]
          },
          "metadata": {},
          "execution_count": 70
        }
      ]
    },
    {
      "cell_type": "code",
      "source": [
        "c = np.eye(2)\n",
        "c"
      ],
      "metadata": {
        "colab": {
          "base_uri": "https://localhost:8080/"
        },
        "id": "wxEdKt9QrnlG",
        "outputId": "7b0ac258-6543-4bec-e4fb-5fa2a3b31fd5"
      },
      "execution_count": 71,
      "outputs": [
        {
          "output_type": "execute_result",
          "data": {
            "text/plain": [
              "array([[1., 0.],\n",
              "       [0., 1.]])"
            ]
          },
          "metadata": {},
          "execution_count": 71
        }
      ]
    },
    {
      "cell_type": "code",
      "source": [
        "c.shape"
      ],
      "metadata": {
        "colab": {
          "base_uri": "https://localhost:8080/"
        },
        "id": "YjS9uiVNrxl2",
        "outputId": "33f4e842-6021-4137-dc52-e9e4c8387bec"
      },
      "execution_count": 72,
      "outputs": [
        {
          "output_type": "execute_result",
          "data": {
            "text/plain": [
              "(2, 2)"
            ]
          },
          "metadata": {},
          "execution_count": 72
        }
      ]
    },
    {
      "cell_type": "code",
      "source": [
        "d = np.eye(3)\n",
        "d"
      ],
      "metadata": {
        "colab": {
          "base_uri": "https://localhost:8080/"
        },
        "id": "VLBeYHL6rzFu",
        "outputId": "5f2645c3-edf2-4af8-9bc2-74158efa3968"
      },
      "execution_count": 74,
      "outputs": [
        {
          "output_type": "execute_result",
          "data": {
            "text/plain": [
              "array([[1., 0., 0.],\n",
              "       [0., 1., 0.],\n",
              "       [0., 0., 1.]])"
            ]
          },
          "metadata": {},
          "execution_count": 74
        }
      ]
    },
    {
      "cell_type": "code",
      "source": [
        "d.shape"
      ],
      "metadata": {
        "colab": {
          "base_uri": "https://localhost:8080/"
        },
        "id": "XLFhb0VFr4nG",
        "outputId": "63871e13-be88-43c2-d047-1ed5172a9f2c"
      },
      "execution_count": 75,
      "outputs": [
        {
          "output_type": "execute_result",
          "data": {
            "text/plain": [
              "(3, 3)"
            ]
          },
          "metadata": {},
          "execution_count": 75
        }
      ]
    },
    {
      "cell_type": "code",
      "source": [
        "# ValueError\n",
        "c + b"
      ],
      "metadata": {
        "colab": {
          "base_uri": "https://localhost:8080/",
          "height": 174
        },
        "id": "b4Sn4GGVr9Du",
        "outputId": "9c854073-92fb-4e8c-ccf8-296c31fe3b58"
      },
      "execution_count": 76,
      "outputs": [
        {
          "output_type": "error",
          "ename": "ValueError",
          "evalue": "ignored",
          "traceback": [
            "\u001b[0;31m---------------------------------------------------------------------------\u001b[0m",
            "\u001b[0;31mValueError\u001b[0m                                Traceback (most recent call last)",
            "\u001b[0;32m<ipython-input-76-93e37e1cb2c9>\u001b[0m in \u001b[0;36m<module>\u001b[0;34m\u001b[0m\n\u001b[0;32m----> 1\u001b[0;31m \u001b[0mc\u001b[0m \u001b[0;34m+\u001b[0m \u001b[0mb\u001b[0m\u001b[0;34m\u001b[0m\u001b[0;34m\u001b[0m\u001b[0m\n\u001b[0m",
            "\u001b[0;31mValueError\u001b[0m: operands could not be broadcast together with shapes (2,2) (2,3) "
          ]
        }
      ]
    },
    {
      "cell_type": "markdown",
      "source": [
        "### linspace\n",
        "- 동등한 간격으로 값을 생성한다.\n",
        "- 0부터 49까지 50개가 생성된다면 세번째 num인자값이 생략되어 있으므로 start와 end 계산해서 default 50이 생성된다.  \n",
        "  linspace(start, end, num)   \n",
        "  linspace(0, 49)   #num = 50"
      ],
      "metadata": {
        "id": "rOL63aL4stN2"
      }
    },
    {
      "cell_type": "code",
      "source": [
        "a = np.linspace(0,49)\n",
        "a"
      ],
      "metadata": {
        "colab": {
          "base_uri": "https://localhost:8080/"
        },
        "id": "JJsRY38LsACO",
        "outputId": "4325852b-2ca1-4d3a-ff11-97c05691558b"
      },
      "execution_count": 78,
      "outputs": [
        {
          "output_type": "execute_result",
          "data": {
            "text/plain": [
              "array([ 0.,  1.,  2.,  3.,  4.,  5.,  6.,  7.,  8.,  9., 10., 11., 12.,\n",
              "       13., 14., 15., 16., 17., 18., 19., 20., 21., 22., 23., 24., 25.,\n",
              "       26., 27., 28., 29., 30., 31., 32., 33., 34., 35., 36., 37., 38.,\n",
              "       39., 40., 41., 42., 43., 44., 45., 46., 47., 48., 49.])"
            ]
          },
          "metadata": {},
          "execution_count": 78
        }
      ]
    },
    {
      "cell_type": "code",
      "source": [
        "# 3번째(num) 값을 지정하지 않으면 default값이 50이기때문에 알아서 값을 나누어 출력한다.\n",
        "b = np.linspace(1, 5)\n",
        "b"
      ],
      "metadata": {
        "colab": {
          "base_uri": "https://localhost:8080/"
        },
        "id": "9vH-6CEktXR_",
        "outputId": "207896b3-09c7-4d85-fa82-055fd2ff2783"
      },
      "execution_count": 79,
      "outputs": [
        {
          "output_type": "execute_result",
          "data": {
            "text/plain": [
              "array([1.        , 1.08163265, 1.16326531, 1.24489796, 1.32653061,\n",
              "       1.40816327, 1.48979592, 1.57142857, 1.65306122, 1.73469388,\n",
              "       1.81632653, 1.89795918, 1.97959184, 2.06122449, 2.14285714,\n",
              "       2.2244898 , 2.30612245, 2.3877551 , 2.46938776, 2.55102041,\n",
              "       2.63265306, 2.71428571, 2.79591837, 2.87755102, 2.95918367,\n",
              "       3.04081633, 3.12244898, 3.20408163, 3.28571429, 3.36734694,\n",
              "       3.44897959, 3.53061224, 3.6122449 , 3.69387755, 3.7755102 ,\n",
              "       3.85714286, 3.93877551, 4.02040816, 4.10204082, 4.18367347,\n",
              "       4.26530612, 4.34693878, 4.42857143, 4.51020408, 4.59183673,\n",
              "       4.67346939, 4.75510204, 4.83673469, 4.91836735, 5.        ])"
            ]
          },
          "metadata": {},
          "execution_count": 79
        }
      ]
    },
    {
      "cell_type": "code",
      "source": [
        "len(b)"
      ],
      "metadata": {
        "colab": {
          "base_uri": "https://localhost:8080/"
        },
        "id": "cpzXBJR2tizW",
        "outputId": "95581441-8eff-4fdc-8513-4f8d037deb07"
      },
      "execution_count": 80,
      "outputs": [
        {
          "output_type": "execute_result",
          "data": {
            "text/plain": [
              "50"
            ]
          },
          "metadata": {},
          "execution_count": 80
        }
      ]
    },
    {
      "cell_type": "code",
      "source": [
        "# 1부터 10까지 3개의 요소를 생성한다.\n",
        "# 기본은 endpoint = True 로 설정되어 있기 때문에 10이 포함된다.\n",
        "np.linspace(1, 10, 3)"
      ],
      "metadata": {
        "colab": {
          "base_uri": "https://localhost:8080/"
        },
        "id": "1F7ScTN4txml",
        "outputId": "4ed34891-64be-4a9c-cc1a-6f5209565de1"
      },
      "execution_count": 81,
      "outputs": [
        {
          "output_type": "execute_result",
          "data": {
            "text/plain": [
              "array([ 1. ,  5.5, 10. ])"
            ]
          },
          "metadata": {},
          "execution_count": 81
        }
      ]
    },
    {
      "cell_type": "code",
      "source": [
        "# 1부터 10미만 사이에서 3개의 요소를 생성한다.\n",
        "# endpoint = False로 설정되어 있으므로 10은 포함이 안된다.\n",
        "np.linspace(1, 10, 3, endpoint=False)"
      ],
      "metadata": {
        "colab": {
          "base_uri": "https://localhost:8080/"
        },
        "id": "HJQ3Uc7Wt0gF",
        "outputId": "7459f4cd-2cc6-40da-ea2a-5c3cbbe70dd4"
      },
      "execution_count": 82,
      "outputs": [
        {
          "output_type": "execute_result",
          "data": {
            "text/plain": [
              "array([1., 4., 7.])"
            ]
          },
          "metadata": {},
          "execution_count": 82
        }
      ]
    },
    {
      "cell_type": "markdown",
      "source": [
        "### logspace\n",
        "- linspace와 비슷하다.\n",
        "- log scale을 사용하는 차이가 있다.\n",
        "- 1부터 50까지 사이의 10개의 요소를 생성한다.\n",
        "     np.logspace(1, 50, 10) "
      ],
      "metadata": {
        "id": "YlD76A1aut2e"
      }
    },
    {
      "cell_type": "code",
      "source": [
        "np.logspace(1, 50, 10)"
      ],
      "metadata": {
        "colab": {
          "base_uri": "https://localhost:8080/"
        },
        "id": "iXWMmI2OuTPn",
        "outputId": "c34f64db-aa36-45d7-fa21-158e43beb602"
      },
      "execution_count": 83,
      "outputs": [
        {
          "output_type": "execute_result",
          "data": {
            "text/plain": [
              "array([1.00000000e+01, 2.78255940e+06, 7.74263683e+11, 2.15443469e+17,\n",
              "       5.99484250e+22, 1.66810054e+28, 4.64158883e+33, 1.29154967e+39,\n",
              "       3.59381366e+44, 1.00000000e+50])"
            ]
          },
          "metadata": {},
          "execution_count": 83
        }
      ]
    },
    {
      "cell_type": "markdown",
      "source": [
        "### *dtype*\n",
        "-numpy는 c언어를 기반으로 해서 만들었기 때문에 c의 데이터 타입을 차용할 수 있다."
      ],
      "metadata": {
        "id": "2OEDUcTYvojW"
      }
    },
    {
      "cell_type": "code",
      "source": [
        "a = np.array([1,2,3])\n",
        "a"
      ],
      "metadata": {
        "colab": {
          "base_uri": "https://localhost:8080/"
        },
        "id": "XchmUF7bvJOu",
        "outputId": "73790563-6c30-4503-b534-2379ec6efcf5"
      },
      "execution_count": 84,
      "outputs": [
        {
          "output_type": "execute_result",
          "data": {
            "text/plain": [
              "array([1, 2, 3])"
            ]
          },
          "metadata": {},
          "execution_count": 84
        }
      ]
    },
    {
      "cell_type": "code",
      "source": [
        "print(type(a))\n",
        "print(a.dtype)"
      ],
      "metadata": {
        "colab": {
          "base_uri": "https://localhost:8080/"
        },
        "id": "pED6PW5iv5eG",
        "outputId": "9330fce1-4c6e-4893-9350-bfa5e8d0915d"
      },
      "execution_count": 86,
      "outputs": [
        {
          "output_type": "stream",
          "name": "stdout",
          "text": [
            "<class 'numpy.ndarray'>\n",
            "int64\n"
          ]
        }
      ]
    },
    {
      "cell_type": "code",
      "source": [
        "b = np.array([1,2,3], dtype=np.int8)\n",
        "b"
      ],
      "metadata": {
        "colab": {
          "base_uri": "https://localhost:8080/"
        },
        "id": "1UU5oBYFv6sO",
        "outputId": "6bda9f12-7904-4ed8-92d4-64ba98ee2d59"
      },
      "execution_count": 88,
      "outputs": [
        {
          "output_type": "execute_result",
          "data": {
            "text/plain": [
              "array([1, 2, 3], dtype=int8)"
            ]
          },
          "metadata": {},
          "execution_count": 88
        }
      ]
    },
    {
      "cell_type": "code",
      "source": [
        "# np.int8은 -128 ~ 127 사이의 값을 저장할 수 있다.\n",
        "c = np.array([-127, -128, 17, 2, 3, -127, -128, -127], dtype=np.int8)\n",
        "c"
      ],
      "metadata": {
        "colab": {
          "base_uri": "https://localhost:8080/"
        },
        "id": "tcXPxn2FwV_G",
        "outputId": "845c4255-edb2-42ef-e4b0-def418e89816"
      },
      "execution_count": 89,
      "outputs": [
        {
          "output_type": "execute_result",
          "data": {
            "text/plain": [
              "array([-127, -128,   17,    2,    3, -127, -128, -127], dtype=int8)"
            ]
          },
          "metadata": {},
          "execution_count": 89
        }
      ]
    },
    {
      "cell_type": "code",
      "source": [
        "# int는 python의 int를 사용한다.\n",
        "d = np.array([127, 2, 3, -127, -128], dtype=int)\n",
        "d"
      ],
      "metadata": {
        "colab": {
          "base_uri": "https://localhost:8080/"
        },
        "id": "jEFHlF0owymG",
        "outputId": "e419d1b5-f7f1-46f4-c709-39e1c82e0f52"
      },
      "execution_count": 91,
      "outputs": [
        {
          "output_type": "execute_result",
          "data": {
            "text/plain": [
              "array([ 127,    2,    3, -127, -128])"
            ]
          },
          "metadata": {},
          "execution_count": 91
        }
      ]
    },
    {
      "cell_type": "code",
      "source": [
        "type(d[0])"
      ],
      "metadata": {
        "colab": {
          "base_uri": "https://localhost:8080/"
        },
        "id": "nChFJwIRw822",
        "outputId": "ea2d5e1a-25d0-483c-f9c6-a58667babc66"
      },
      "execution_count": 92,
      "outputs": [
        {
          "output_type": "execute_result",
          "data": {
            "text/plain": [
              "numpy.int64"
            ]
          },
          "metadata": {},
          "execution_count": 92
        }
      ]
    },
    {
      "cell_type": "markdown",
      "source": [
        "### python 도움말"
      ],
      "metadata": {
        "id": "JkTVDZsH5RkV"
      }
    },
    {
      "cell_type": "code",
      "source": [
        "# ? 도움말 \n",
        "?sum"
      ],
      "metadata": {
        "id": "FGlQ6kwmxLAe"
      },
      "execution_count": 93,
      "outputs": []
    },
    {
      "cell_type": "code",
      "source": [
        "help(sum)"
      ],
      "metadata": {
        "colab": {
          "base_uri": "https://localhost:8080/"
        },
        "id": "3qh3n46v4-hl",
        "outputId": "f0245a76-ba00-4ca0-eaf5-5a72cb2d3c7a"
      },
      "execution_count": 94,
      "outputs": [
        {
          "output_type": "stream",
          "name": "stdout",
          "text": [
            "Help on built-in function sum in module builtins:\n",
            "\n",
            "sum(iterable, /, start=0)\n",
            "    Return the sum of a 'start' value (default: 0) plus an iterable of numbers\n",
            "    \n",
            "    When the iterable is empty, return the start value.\n",
            "    This function is intended specifically for use with numeric values and may\n",
            "    reject non-numeric types.\n",
            "\n"
          ]
        }
      ]
    },
    {
      "cell_type": "markdown",
      "source": [
        "### numpy 도움말"
      ],
      "metadata": {
        "id": "NoAnG3vj5lad"
      }
    },
    {
      "cell_type": "code",
      "source": [
        "np.lookfor('sum')"
      ],
      "metadata": {
        "colab": {
          "base_uri": "https://localhost:8080/"
        },
        "id": "Rt3RkVDt5Aa9",
        "outputId": "e3aa29bb-8b35-4250-8597-a9be740a43d1"
      },
      "execution_count": 95,
      "outputs": [
        {
          "output_type": "stream",
          "name": "stdout",
          "text": [
            "Search results for 'sum'\n",
            "------------------------\n",
            "numpy.sum\n",
            "    Sum of array elements over a given axis.\n",
            "numpy.cumsum\n",
            "    Return the cumulative sum of the elements along a given axis.\n",
            "numpy.einsum\n",
            "    einsum(subscripts, *operands, out=None, dtype=None, order='K',\n",
            "numpy.nansum\n",
            "    Return the sum of array elements over a given axis treating Not a\n",
            "numpy.nancumsum\n",
            "    Return the cumulative sum of array elements over a given axis treating Not a\n",
            "numpy.einsum_path\n",
            "    Evaluates the lowest cost contraction order for an einsum expression by\n",
            "numpy.trace\n",
            "    Return the sum along diagonals of the array.\n",
            "numpy.ma.sum\n",
            "    Return the sum of the array elements over the given axis.\n",
            "numpy.Bytes0.sum\n",
            "    Scalar method identical to the corresponding array attribute.\n",
            "numpy.polyadd\n",
            "    Find the sum of two polynomials.\n",
            "numpy.ma.cumsum\n",
            "    Return the cumulative sum of the array elements over the given axis.\n",
            "numpy.logaddexp\n",
            "    Logarithm of the sum of exponentiations of the inputs.\n",
            "numpy.Bytes0.cumsum\n",
            "    Scalar method identical to the corresponding array attribute.\n",
            "numpy.logaddexp2\n",
            "    Logarithm of the sum of exponentiations of the inputs in base-2.\n",
            "numpy.matrix.sum\n",
            "    Returns the sum of the matrix elements, along the given axis.\n",
            "numpy.chararray.sum\n",
            "    Return the sum of the array elements over the given axis.\n",
            "numpy.mask_indices\n",
            "    Return the indices to access (n, n) arrays, given a masking function.\n",
            "numpy.chararray.cumsum\n",
            "    Return the cumulative sum of the elements along the given axis.\n",
            "numpy.Str0.expandtabs\n",
            "    Return a copy where all tab characters are expanded using spaces.\n",
            "numpy.chararray.trace\n",
            "    Return the sum along diagonals of the array.\n",
            "numpy.Bytes0.expandtabs\n",
            "    Return a copy where all tab characters are expanded using spaces.\n",
            "numpy.format_float_positional\n",
            "    Format a floating-point scalar as a decimal string in positional notation.\n",
            "numpy.format_float_scientific\n",
            "    Format a floating-point scalar as a decimal string in scientific notation.\n",
            "numpy.linalg.tensorsolve\n",
            "    Solve the tensor equation ``a x = b`` for x.\n",
            "numpy.ma.MaskedArray.sum\n",
            "    Return the sum of the array elements over the given axis.\n",
            "numpy.ma.MaskedArray.cumsum\n",
            "    Return the cumulative sum of the array elements over the given axis.\n",
            "numpy.core._umath_tests.cumsum\n",
            "    Cumulative sum of the input (n)->(n)\n",
            "numpy.ma.MaskedArray.trace\n",
            "    Return the sum along diagonals of the array.\n",
            "numpy.core._multiarray_umath.c_einsum\n",
            "    c_einsum(subscripts, *operands, out=None, dtype=None, order='K',\n",
            "numpy.polynomial.Hermite._add\n",
            "    Add one Hermite series to another.\n",
            "numpy.polynomial.HermiteE._add\n",
            "    Add one Hermite series to another.\n",
            "numpy.polynomial.Laguerre._add\n",
            "    Add one Laguerre series to another.\n",
            "numpy.polynomial.Legendre._add\n",
            "    Add one Legendre series to another.\n",
            "numpy.polynomial.Chebyshev._add\n",
            "    Add one Chebyshev series to another.\n",
            "numpy.polynomial.Polynomial._add\n",
            "    Add one polynomial to another.\n",
            "numpy.AxisError.__class__.__sizeof__\n",
            "    Return memory consumption of the type object.\n",
            "numpy.add\n",
            "    Add arguments element-wise.\n",
            "numpy.cov\n",
            "    Estimate a covariance matrix, given data and weights.\n",
            "numpy.dot\n",
            "    Dot product of two arrays. Specifically,\n",
            "numpy.std\n",
            "    Compute the standard deviation along the specified axis.\n",
            "numpy.var\n",
            "    Compute the variance along the specified axis.\n",
            "numpy.diag\n",
            "    Extract a diagonal or construct a diagonal array.\n",
            "numpy.diff\n",
            "    Calculate the n-th discrete difference along the given axis.\n",
            "numpy.in1d\n",
            "    Test whether each element of a 1-D array is also present in a second array.\n",
            "numpy.isin\n",
            "    Calculates `element in test_elements`, broadcasting over `element` only.\n",
            "numpy.kron\n",
            "    Kronecker product of two arrays.\n",
            "numpy.core.setup_common.get_api_versions\n",
            "    Return current C API checksum and the recorded checksum.\n",
            "numpy.mean\n",
            "    Compute the arithmetic mean along the specified axis.\n",
            "numpy.poly\n",
            "    Find the coefficients of a polynomial with the given sequence of roots.\n",
            "numpy.cross\n",
            "    Return the cross product of two (arrays of) vectors.\n",
            "numpy.inner\n",
            "    Inner product of two arrays.\n",
            "numpy.outer\n",
            "    Compute the outer product of two vectors.\n",
            "numpy.roots\n",
            "    Return the roots of a polynomial with coefficients given in p.\n",
            "numpy.trapz\n",
            "    Integrate along the given axis using the composite trapezoidal rule.\n",
            "numpy.choose\n",
            "    Construct an array from an index array and a list of arrays to choose from.\n",
            "numpy.matmul\n",
            "    Matrix product of two arrays.\n",
            "numpy.nanstd\n",
            "    Compute the standard deviation along the specified axis, while\n",
            "numpy.nanvar\n",
            "    Compute the variance along the specified axis, while ignoring NaNs.\n",
            "numpy.nditer\n",
            "    Efficient multi-dimensional iterator object to iterate over arrays.\n",
            "numpy.poly1d\n",
            "    A one-dimensional polynomial class.\n",
            "numpy.average\n",
            "    Compute the weighted average along the specified axis.\n",
            "numpy.isclose\n",
            "    Returns a boolean array where two arrays are element-wise equal within a\n",
            "numpy.nanmean\n",
            "    Compute the arithmetic mean along the specified axis, ignoring NaNs.\n",
            "numpy.nanprod\n",
            "    Return the product of array elements over a given axis treating Not a\n",
            "numpy.polyder\n",
            "    Return the derivative of the specified order of a polynomial.\n",
            "numpy.polydiv\n",
            "    Returns the quotient and remainder of polynomial division.\n",
            "numpy.polyfit\n",
            "    Least squares polynomial fit.\n",
            "numpy.polyint\n",
            "    Return an antiderivative (indefinite integral) of a polynomial.\n",
            "numpy.polymul\n",
            "    Find the product of two polynomials.\n",
            "numpy.polysub\n",
            "    Difference (subtraction) of two polynomials.\n",
            "numpy.polyval\n",
            "    Evaluate a polynomial at specific values.\n",
            "numpy.bincount\n",
            "    Count number of occurrences of each value in array of non-negative ints.\n",
            "numpy.blackman\n",
            "    Return the Blackman window.\n",
            "numpy.convolve\n",
            "    Returns the discrete, linear convolution of two one-dimensional sequences.\n",
            "numpy.diagflat\n",
            "    Create a two-dimensional array with the flattened input as a diagonal.\n",
            "numpy.diagonal\n",
            "    Return specified diagonals.\n",
            "numpy.gradient\n",
            "    Return the gradient of an N-dimensional array.\n",
            "numpy.setxor1d\n",
            "    Find the set exclusive-or of two arrays.\n",
            "numpy.correlate\n",
            "    Cross-correlation of two 1-dimensional sequences.\n",
            "numpy.histogram\n",
            "    Compute the histogram of a dataset.\n",
            "numpy.isrealobj\n",
            "    Return True if x is a not complex type or an array of complex numbers.\n",
            "numpy.piecewise\n",
            "    Evaluate a piecewise-defined function.\n",
            "numpy.setdiff1d\n",
            "    Find the set difference of two arrays.\n",
            "numpy.tensordot\n",
            "    Compute tensor dot product along specified axes.\n",
            "numpy.vectorize\n",
            "    vectorize(pyfunc, otypes=None, doc=None, excluded=None, cache=False,\n",
            "numpy.histogram2d\n",
            "    Compute the bi-dimensional histogram of two data samples.\n",
            "numpy.histogramdd\n",
            "    Compute the multidimensional histogram of some data.\n",
            "numpy.intersect1d\n",
            "    Find the intersection of two arrays.\n",
            "numpy.ma.add\n",
            "    Add arguments element-wise.\n",
            "numpy.array2string\n",
            "    Return a string representation of an array.\n",
            "numpy.ma.var\n",
            "    Compute the variance along the specified axis.\n",
            "numpy.searchsorted\n",
            "    Find indices where elements should be inserted to maintain order.\n",
            "numpy.lib.tests.test_utils.old_func4\n",
            "    Summary.\n",
            "numpy.lib.tests.test_utils.old_func5\n",
            "    Summary.\n",
            "numpy.fft.hfft\n",
            "    Compute the FFT of a signal that has Hermitian symmetry, i.e., a real\n",
            "numpy.fft.ifft\n",
            "    Compute the one-dimensional inverse discrete Fourier Transform.\n",
            "numpy.fft.irfft\n",
            "    Computes the inverse of `rfft`.\n",
            "numpy.ma.inner\n",
            "    Inner product of two arrays.\n",
            "numpy.ma.outer\n",
            "    Compute the outer product of two vectors.\n",
            "numpy.ma.trace\n",
            "    a.trace(offset=0, axis1=0, axis2=1, dtype=None, out=None)\n",
            "numpy.apply_over_axes\n",
            "    Apply a function repeatedly over multiple axes.\n",
            "numpy.fft.irfftn\n",
            "    Computes the inverse of `rfftn`.\n",
            "numpy.linalg.svd\n",
            "    Singular Value Decomposition.\n",
            "numpy.ma.average\n",
            "    Return the weighted average of array over the given axis.\n",
            "numpy.ma.polyfit\n",
            "    Least squares polynomial fit.\n",
            "numpy.set_printoptions\n",
            "    Set printing options.\n",
            "numpy.linalg.cond\n",
            "    Compute the condition number of a matrix.\n",
            "numpy.linalg.norm\n",
            "    Matrix or vector norm.\n",
            "numpy.linalg.pinv\n",
            "    Compute the (Moore-Penrose) pseudo-inverse of a matrix.\n",
            "numpy.ma.convolve\n",
            "    Returns the discrete, linear convolution of two one-dimensional sequences.\n",
            "numpy.ma.diagflat\n",
            "    Create a two-dimensional array with the flattened input as a diagonal.\n",
            "numpy.linalg.lstsq\n",
            "    Return the least-squares solution to a linear matrix equation.\n",
            "numpy.random.PCG64\n",
            "    BitGenerator for the PCG-64 pseudo-random number generator.\n",
            "numpy.random.SFC64\n",
            "    BitGenerator for Chris Doty-Humphrey's Small Fast Chaotic PRNG.\n",
            "numpy.ufunc.reduce\n",
            "    Reduces `array`'s dimension by one, by applying ufunc along one axis.\n",
            "numpy.histogram_bin_edges\n",
            "    Function to calculate only the edges of the bins used by the `histogram`\n",
            "numpy.random.Philox\n",
            "    Container for the Philox (4x64) pseudo-random number generator.\n",
            "numpy.random.MT19937\n",
            "    Container for the Mersenne Twister pseudo-random number generator.\n",
            "numpy.ufunc.reduceat\n",
            "    Performs a (local) reduce with specified slices over a single axis.\n",
            "numpy.linalg.multi_dot\n",
            "    Compute the dot product of two or more arrays in a single function call,\n",
            "numpy.linalg.tensorinv\n",
            "    Compute the 'inverse' of an N-dimensional array.\n",
            "numpy.random.PCG64DXSM\n",
            "    BitGenerator for the PCG-64 DXSM pseudo-random number generator.\n",
            "numpy.ufunc.accumulate\n",
            "    Accumulate the result of applying the operator to all elements.\n",
            "numpy.linalg.matrix_rank\n",
            "    Return matrix rank of array using SVD method\n",
            "numpy.ma.apply_over_axes\n",
            "    Apply a function repeatedly over multiple axes.\n",
            "numpy.ma.MaskedArray.var\n",
            "    Compute the variance along the specified axis.\n",
            "numpy.random.Generator.f\n",
            "    Draw samples from an F distribution.\n",
            "numpy.distutils.command.sdist.sdist.write_manifest\n",
            "    Write the file list in 'self.filelist' (presumably as filled in\n",
            "numpy.random.RandomState.f\n",
            "    Draw samples from an F distribution.\n",
            "numpy.random.MT19937.jumped\n",
            "    Returns a new bit generator with the state jumped\n",
            "numpy.polynomial.Hermite.fit\n",
            "    Least squares fit to data.\n",
            "numpy.polynomial.Hermite._fit\n",
            "    Least squares fit of Hermite series to data.\n",
            "numpy.core._multiarray_umath.dot\n",
            "    Dot product of two arrays. Specifically,\n",
            "numpy.polynomial.HermiteE.fit\n",
            "    Least squares fit to data.\n",
            "numpy.polynomial.Laguerre.fit\n",
            "    Least squares fit to data.\n",
            "numpy.polynomial.Legendre.fit\n",
            "    Least squares fit to data.\n",
            "numpy.random.Generator.choice\n",
            "    Generates a random sample from a given array\n",
            "numpy.polynomial.Chebyshev.fit\n",
            "    Least squares fit to data.\n",
            "numpy.polynomial.HermiteE._fit\n",
            "    Least squares fit of Hermite series to data.\n",
            "numpy.polynomial.Laguerre._fit\n",
            "    Least squares fit of Laguerre series to data.\n",
            "numpy.polynomial.Legendre._fit\n",
            "    Least squares fit of Legendre series to data.\n",
            "numpy.polynomial.Chebyshev._fit\n",
            "    Least squares fit of Chebyshev series to data.\n",
            "numpy.polynomial.Hermite._roots\n",
            "    Compute the roots of a Hermite series.\n",
            "numpy.core._multiarray_umath.inner\n",
            "    Inner product of two arrays.\n",
            "numpy.polynomial.Polynomial.fit\n",
            "    Least squares fit to data.\n",
            "numpy.random.Generator.binomial\n",
            "    Draw samples from a binomial distribution.\n",
            "numpy.random.Generator.logistic\n",
            "    Draw samples from a logistic distribution.\n",
            "numpy.random.Generator.rayleigh\n",
            "    Draw samples from a Rayleigh distribution.\n",
            "numpy.random.RandomState.choice\n",
            "    Generates a random sample from a given 1-D array\n",
            "numpy.polynomial.HermiteE._roots\n",
            "    Compute the roots of a HermiteE series.\n",
            "numpy.polynomial.Laguerre._roots\n",
            "    Compute the roots of a Laguerre series.\n",
            "numpy.polynomial.Legendre._roots\n",
            "    Compute the roots of a Legendre series.\n",
            "numpy.polynomial.Polynomial._fit\n",
            "    Least-squares fit of a polynomial to data.\n",
            "numpy.random.Generator.chisquare\n",
            "    Draw samples from a chi-square distribution.\n",
            "numpy.random.Generator.dirichlet\n",
            "    Draw samples from the Dirichlet distribution.\n",
            "numpy.random.Generator.geometric\n",
            "    Draw samples from the geometric distribution.\n",
            "numpy.random.Generator.lognormal\n",
            "    Draw samples from a log-normal distribution.\n",
            "numpy.polynomial.Chebyshev._roots\n",
            "    Compute the roots of a Chebyshev series.\n",
            "numpy.random.Generator.standard_t\n",
            "    Draw samples from a standard Student's t distribution with `df` degrees\n",
            "numpy.random.RandomState.binomial\n",
            "    Draw samples from a binomial distribution.\n",
            "numpy.random.RandomState.logistic\n",
            "    Draw samples from a logistic distribution.\n",
            "numpy.random.RandomState.rayleigh\n",
            "    Draw samples from a Rayleigh distribution.\n",
            "numpy.core._multiarray_umath.bincount\n",
            "    Count number of occurrences of each value in array of non-negative ints.\n",
            "numpy.polynomial.Polynomial._roots\n",
            "    Compute the roots of a polynomial.\n",
            "numpy.polynomial.hermite.hermval2d\n",
            "    Evaluate a 2-D Hermite series at points (x, y).\n",
            "numpy.polynomial.hermite.hermval3d\n",
            "    Evaluate a 3-D Hermite series at points (x, y, z).\n",
            "numpy.polynomial.laguerre.lagval2d\n",
            "    Evaluate a 2-D Laguerre series at points (x, y).\n",
            "numpy.polynomial.laguerre.lagval3d\n",
            "    Evaluate a 3-D Laguerre series at points (x, y, z).\n",
            "numpy.polynomial.legendre.legval2d\n",
            "    Evaluate a 2-D Legendre series at points (x, y).\n",
            "numpy.polynomial.legendre.legval3d\n",
            "    Evaluate a 3-D Legendre series at points (x, y, z).\n",
            "numpy.random.Generator.multinomial\n",
            "    Draw samples from a multinomial distribution.\n",
            "numpy.random.RandomState.chisquare\n",
            "    Draw samples from a chi-square distribution.\n",
            "numpy.random.RandomState.dirichlet\n",
            "    Draw samples from the Dirichlet distribution.\n",
            "numpy.random.RandomState.geometric\n",
            "    Draw samples from the geometric distribution.\n",
            "numpy.random.RandomState.lognormal\n",
            "    Draw samples from a log-normal distribution.\n",
            "numpy.random.RandomState.set_state\n",
            "    set_state(state)\n",
            "numpy.polynomial.hermite.hermgrid2d\n",
            "    Evaluate a 2-D Hermite series on the Cartesian product of x and y.\n",
            "numpy.polynomial.hermite.hermgrid3d\n",
            "    Evaluate a 3-D Hermite series on the Cartesian product of x, y, and z.\n",
            "numpy.polynomial.laguerre.laggrid2d\n",
            "    Evaluate a 2-D Laguerre series on the Cartesian product of x and y.\n",
            "numpy.polynomial.laguerre.laggrid3d\n",
            "    Evaluate a 3-D Laguerre series on the Cartesian product of x, y, and z.\n",
            "numpy.polynomial.legendre.leggrid2d\n",
            "    Evaluate a 2-D Legendre series on the Cartesian product of x and y.\n",
            "numpy.polynomial.legendre.leggrid3d\n",
            "    Evaluate a 3-D Legendre series on the Cartesian product of x, y, and z.\n",
            "numpy.random.Generator.noncentral_f\n",
            "    Draw samples from the noncentral F distribution.\n",
            "numpy.random.RandomState.standard_t\n",
            "    Draw samples from a standard Student's t distribution with `df` degrees\n",
            "numpy.polynomial.chebyshev.chebval2d\n",
            "    Evaluate a 2-D Chebyshev series at points (x, y).\n",
            "numpy.polynomial.chebyshev.chebval3d\n",
            "    Evaluate a 3-D Chebyshev series at points (x, y, z).\n",
            "numpy.random.RandomState.multinomial\n",
            "    Draw samples from a multinomial distribution.\n",
            "numpy.polynomial.chebyshev.chebgrid2d\n",
            "    Evaluate a 2-D Chebyshev series on the Cartesian product of x and y.\n",
            "numpy.polynomial.chebyshev.chebgrid3d\n",
            "    Evaluate a 3-D Chebyshev series on the Cartesian product of x, y, and z.\n",
            "numpy.polynomial.hermite_e.hermeval2d\n",
            "    Evaluate a 2-D HermiteE series at points (x, y).\n",
            "numpy.polynomial.hermite_e.hermeval3d\n",
            "    Evaluate a 3-D Hermite_e series at points (x, y, z).\n",
            "numpy.polynomial.polynomial.polyval2d\n",
            "    Evaluate a 2-D polynomial at points (x, y).\n",
            "numpy.polynomial.polynomial.polyval3d\n",
            "    Evaluate a 3-D polynomial at points (x, y, z).\n",
            "numpy.random.Generator.hypergeometric\n",
            "    Draw samples from a Hypergeometric distribution.\n",
            "numpy.random.RandomState.noncentral_f\n",
            "    Draw samples from the noncentral F distribution.\n",
            "numpy.polynomial.hermite_e.hermegrid2d\n",
            "    Evaluate a 2-D HermiteE series on the Cartesian product of x and y.\n",
            "numpy.polynomial.hermite_e.hermegrid3d\n",
            "    Evaluate a 3-D HermiteE series on the Cartesian product of x, y, and z.\n",
            "numpy.polynomial.polynomial.polygrid2d\n",
            "    Evaluate a 2-D polynomial on the Cartesian product of x and y.\n",
            "numpy.polynomial.polynomial.polygrid3d\n",
            "    Evaluate a 3-D polynomial on the Cartesian product of x, y and z.\n",
            "numpy.random.Generator.standard_cauchy\n",
            "    Draw samples from a standard Cauchy distribution with mode = 0.\n",
            "numpy.distutils.command.build_clib.build_clib.check_library_list\n",
            "    Ensure that the list of libraries is valid.\n",
            "numpy.distutils.command.build_ext.build_ext.check_extensions_list\n",
            "    Ensure that the list of extensions (presumably provided as a\n",
            "numpy.random.RandomState.hypergeometric\n",
            "    Draw samples from a Hypergeometric distribution.\n",
            "numpy.lib.recfunctions.apply_along_fields\n",
            "    Apply function 'func' as a reduction across fields of a structured array.\n",
            "numpy.random.Generator.negative_binomial\n",
            "    Draw samples from a negative binomial distribution.\n",
            "numpy.distutils.command.develop.develop.create_index.__getitem__\n",
            "    Return a newest-to-oldest list of distributions for `project_name`\n",
            "numpy.random.RandomState.random_integers\n",
            "    Random integers of type `np.int_` between `low` and `high`, inclusive.\n",
            "numpy.random.RandomState.standard_cauchy\n",
            "    Draw samples from a standard Cauchy distribution with mode = 0.\n",
            "numpy.random.RandomState.negative_binomial\n",
            "    Draw samples from a negative binomial distribution.\n",
            "numpy.random.Generator.noncentral_chisquare\n",
            "    Draw samples from a noncentral chi-square distribution.\n",
            "numpy.random.RandomState.noncentral_chisquare\n",
            "    Draw samples from a noncentral chi-square distribution.\n",
            "numpy.core.tests.test_simd.Test_SIMD_FP64_128_SSE42_f64.test_conversions\n",
            "    Round to nearest even integer, assume CPU control register is set to rounding.\n",
            "numpy.core.tests.test_simd.Test_SIMD_FP32_128_SSE42_f32.test_conversions\n",
            "    Round to nearest even integer, assume CPU control register is set to rounding.\n",
            "numpy.core.tests.test_simd.Test_SIMD_ALL_128_SSE42_f32.test_arithmetic_reduce_sum\n",
            "    Test reduce sum intrinsics:\n",
            "numpy.random.Generator.multivariate_hypergeometric\n",
            "    multivariate_hypergeometric(colors, nsample, size=None,\n",
            "numpy.core.tests.test_simd.Test_SIMD_ALL_128_SSE42_f32.test_arithmetic_reduce_sumup\n",
            "    Test extend reduce sum intrinsics:\n",
            "numpy.distutils.misc_util.Configuration.set_options\n",
            "    Configure Configuration instance.\n",
            "numpy.distutils.misc_util.Configuration.add_subpackage\n",
            "    Add a sub-package to the current Configuration instance.\n",
            "numpy.distutils.misc_util.Configuration.get_subpackage\n",
            "    Return list of subpackage configurations.\n",
            "numpy.distutils.ccompiler_opt.CCompilerOpt.feature_ahead\n",
            "    Return list of features in 'names' after remove any\n",
            "numpy.distutils.ccompiler_opt.CCompilerOpt.feature_untied\n",
            "    same as 'feature_ahead()' but if both features implied each other\n",
            "numpy.distutils.misc_util.Configuration.add_npy_pkg_config\n",
            "    Generate and install a npy-pkg config file from a template.\n",
            "numpy.linalg.tests.test_deprecations.test_qr_mode_full_future_warning\n",
            "    Check mode='full' FutureWarning.\n",
            "numpy.distutils.tests.test_ccompiler_opt_conf.TestConfFeatures.subTest\n",
            "    Return a context manager that will return the enclosed block"
          ]
        }
      ]
    },
    {
      "cell_type": "code",
      "source": [
        "a = np.array([[1,2,3],[4,5,6]])\n",
        "# 배열의 형태를 알려준다.\n",
        "a.shape  "
      ],
      "metadata": {
        "colab": {
          "base_uri": "https://localhost:8080/"
        },
        "id": "cexte1UV5EHd",
        "outputId": "78a34606-6dd5-4714-d21d-0dcd035a8fc0"
      },
      "execution_count": 96,
      "outputs": [
        {
          "output_type": "execute_result",
          "data": {
            "text/plain": [
              "(2, 3)"
            ]
          },
          "metadata": {},
          "execution_count": 96
        }
      ]
    },
    {
      "cell_type": "code",
      "source": [
        "# 배열이 몇 차원인지 알려준다.\n",
        "# shape로도 알 수 있다.\n",
        "a.ndim"
      ],
      "metadata": {
        "colab": {
          "base_uri": "https://localhost:8080/"
        },
        "id": "HXpnvUqP50sU",
        "outputId": "44546d93-758b-429b-fce2-7cb50779a2b3"
      },
      "execution_count": 97,
      "outputs": [
        {
          "output_type": "execute_result",
          "data": {
            "text/plain": [
              "2"
            ]
          },
          "metadata": {},
          "execution_count": 97
        }
      ]
    },
    {
      "cell_type": "code",
      "source": [
        "# 데이터 타입을 알려준다.\n",
        "# numpy 처리법 int64 = 8바이트\n",
        "a.dtype"
      ],
      "metadata": {
        "colab": {
          "base_uri": "https://localhost:8080/"
        },
        "id": "KPbYj1OM59nc",
        "outputId": "ebbe00e9-74a5-4dc9-d49f-0ae83a523bbf"
      },
      "execution_count": 99,
      "outputs": [
        {
          "output_type": "execute_result",
          "data": {
            "text/plain": [
              "dtype('int64')"
            ]
          },
          "metadata": {},
          "execution_count": 99
        }
      ]
    },
    {
      "cell_type": "code",
      "source": [
        "# 요소의 개수\n",
        "# shape로도 알 수 있다.\n",
        "a.size"
      ],
      "metadata": {
        "colab": {
          "base_uri": "https://localhost:8080/"
        },
        "id": "SewIJTSo6OfU",
        "outputId": "77092f50-39d0-470e-8055-98e318d4d166"
      },
      "execution_count": 101,
      "outputs": [
        {
          "output_type": "execute_result",
          "data": {
            "text/plain": [
              "6"
            ]
          },
          "metadata": {},
          "execution_count": 101
        }
      ]
    },
    {
      "cell_type": "code",
      "source": [
        "# 요소당 byte수를 알려준다.\n",
        "a.itemsize"
      ],
      "metadata": {
        "colab": {
          "base_uri": "https://localhost:8080/"
        },
        "id": "O-Tbu_6p6T28",
        "outputId": "4b0ae8b8-6172-4535-ae19-58fe3221b6f3"
      },
      "execution_count": 102,
      "outputs": [
        {
          "output_type": "execute_result",
          "data": {
            "text/plain": [
              "8"
            ]
          },
          "metadata": {},
          "execution_count": 102
        }
      ]
    },
    {
      "cell_type": "markdown",
      "source": [
        "### 2. numpy와 python의 속도 차이"
      ],
      "metadata": {
        "id": "yu0eDZEi7eY8"
      }
    },
    {
      "cell_type": "code",
      "source": [
        "# ranger\n",
        "np.arange(10)"
      ],
      "metadata": {
        "colab": {
          "base_uri": "https://localhost:8080/"
        },
        "id": "MJqXZHMh6jds",
        "outputId": "7083e63c-dc2f-412a-d1f7-b55b73621a2b"
      },
      "execution_count": 103,
      "outputs": [
        {
          "output_type": "execute_result",
          "data": {
            "text/plain": [
              "array([0, 1, 2, 3, 4, 5, 6, 7, 8, 9])"
            ]
          },
          "metadata": {},
          "execution_count": 103
        }
      ]
    },
    {
      "cell_type": "markdown",
      "source": [
        "값이 작을 때는 속도가 비슷하다.  \n",
        "값이 커지면 속도 차이가 난다. (빠름 : numpy > python)"
      ],
      "metadata": {
        "id": "1P91pjnH70ml"
      }
    },
    {
      "cell_type": "code",
      "source": [
        "# numpy을 이용한 계산\n",
        "%time np.sum(np.arange(1000000000))"
      ],
      "metadata": {
        "colab": {
          "base_uri": "https://localhost:8080/"
        },
        "id": "3gKOw6G37ri1",
        "outputId": "68ff5c41-d85a-4854-f066-e5e3957e46cd"
      },
      "execution_count": 105,
      "outputs": [
        {
          "output_type": "stream",
          "name": "stdout",
          "text": [
            "CPU times: user 1.59 s, sys: 2.55 s, total: 4.14 s\n",
            "Wall time: 4.14 s\n"
          ]
        },
        {
          "output_type": "execute_result",
          "data": {
            "text/plain": [
              "499999999500000000"
            ]
          },
          "metadata": {},
          "execution_count": 105
        }
      ]
    },
    {
      "cell_type": "code",
      "source": [
        "# python을 이용한 계산\n",
        "%time sum(range(1000000000))"
      ],
      "metadata": {
        "colab": {
          "base_uri": "https://localhost:8080/"
        },
        "id": "exehti0f79is",
        "outputId": "33230f32-c2fe-4293-feef-85b61fd22e86"
      },
      "execution_count": 106,
      "outputs": [
        {
          "output_type": "stream",
          "name": "stdout",
          "text": [
            "CPU times: user 22.6 s, sys: 0 ns, total: 22.6 s\n",
            "Wall time: 22.7 s\n"
          ]
        },
        {
          "output_type": "execute_result",
          "data": {
            "text/plain": [
              "499999999500000000"
            ]
          },
          "metadata": {},
          "execution_count": 106
        }
      ]
    },
    {
      "cell_type": "markdown",
      "source": [
        "같은 np.sum() 사용하더라도 값을 생성하는 방법에 따라 속도가 달라진다."
      ],
      "metadata": {
        "id": "-MVX4xLJ9sT2"
      }
    },
    {
      "cell_type": "code",
      "source": [
        "%time np.sum(np.arange(1000000000))"
      ],
      "metadata": {
        "colab": {
          "base_uri": "https://localhost:8080/"
        },
        "id": "dnQx_r2N8GCc",
        "outputId": "630df5a3-9406-4b4d-82c9-057f5fde27da"
      },
      "execution_count": 10,
      "outputs": [
        {
          "output_type": "stream",
          "name": "stdout",
          "text": [
            "CPU times: user 1.8 s, sys: 1.56 s, total: 3.36 s\n",
            "Wall time: 3.39 s\n"
          ]
        },
        {
          "output_type": "execute_result",
          "data": {
            "text/plain": [
              "499999999500000000"
            ]
          },
          "metadata": {},
          "execution_count": 10
        }
      ]
    },
    {
      "cell_type": "code",
      "source": [
        "%time np.sum(range(1000000000))"
      ],
      "metadata": {
        "id": "58BIWFhD9i_E"
      },
      "execution_count": null,
      "outputs": []
    },
    {
      "cell_type": "markdown",
      "source": [
        "### 3. copy\n",
        "※ 대입문 6가지\n",
        "a = 1   \n",
        "a = b = 1   \n",
        "a,b = 1, 2   \n",
        "a, *b = 1, 2, 3   \n",
        "a += 1   \n",
        "global, nonlocal"
      ],
      "metadata": {
        "id": "C4Aq4ciX-FOc"
      }
    },
    {
      "cell_type": "markdown",
      "source": [
        "#### python에서 copy"
      ],
      "metadata": {
        "id": "GU2dqHzZ-nW9"
      }
    },
    {
      "cell_type": "code",
      "source": [
        "a = [1, 2, 3]  # heterogeneousm sequence, mutable"
      ],
      "metadata": {
        "id": "cmeJZBRY97ss"
      },
      "execution_count": 11,
      "outputs": []
    },
    {
      "cell_type": "code",
      "source": [
        "b = a"
      ],
      "metadata": {
        "id": "WAdTL_7d97_M"
      },
      "execution_count": 12,
      "outputs": []
    },
    {
      "cell_type": "code",
      "source": [
        "b"
      ],
      "metadata": {
        "colab": {
          "base_uri": "https://localhost:8080/"
        },
        "id": "zolXV72_-t88",
        "outputId": "e03c1ca7-d473-4a7d-96cd-a65c32633f28"
      },
      "execution_count": 13,
      "outputs": [
        {
          "output_type": "execute_result",
          "data": {
            "text/plain": [
              "[1, 2, 3]"
            ]
          },
          "metadata": {},
          "execution_count": 13
        }
      ]
    },
    {
      "cell_type": "code",
      "source": [
        "a is b # 메모리 주소값 비교"
      ],
      "metadata": {
        "colab": {
          "base_uri": "https://localhost:8080/"
        },
        "id": "WLguNX81-uUU",
        "outputId": "1940ced3-0a28-4ef4-9045-1f7b9615795a"
      },
      "execution_count": 14,
      "outputs": [
        {
          "output_type": "execute_result",
          "data": {
            "text/plain": [
              "True"
            ]
          },
          "metadata": {},
          "execution_count": 14
        }
      ]
    },
    {
      "cell_type": "code",
      "source": [
        "# a와 b가 메모리 주소를 공유\n",
        "# b의 값을 변경하면 a의 값도 변경된다.\n",
        "b[0] = 7"
      ],
      "metadata": {
        "id": "S8_pychM-y0m"
      },
      "execution_count": 15,
      "outputs": []
    },
    {
      "cell_type": "code",
      "source": [
        "b"
      ],
      "metadata": {
        "colab": {
          "base_uri": "https://localhost:8080/"
        },
        "id": "2vc2_COL-2VE",
        "outputId": "938d3395-6e9a-43c5-c942-0458de974641"
      },
      "execution_count": 16,
      "outputs": [
        {
          "output_type": "execute_result",
          "data": {
            "text/plain": [
              "[7, 2, 3]"
            ]
          },
          "metadata": {},
          "execution_count": 16
        }
      ]
    },
    {
      "cell_type": "code",
      "source": [
        "a"
      ],
      "metadata": {
        "colab": {
          "base_uri": "https://localhost:8080/"
        },
        "id": "bdD7n2kp-21c",
        "outputId": "f2c16505-bee6-4d57-cbf4-2c21cc8a4836"
      },
      "execution_count": 17,
      "outputs": [
        {
          "output_type": "execute_result",
          "data": {
            "text/plain": [
              "[7, 2, 3]"
            ]
          },
          "metadata": {},
          "execution_count": 17
        }
      ]
    },
    {
      "cell_type": "markdown",
      "source": [
        "list copy"
      ],
      "metadata": {
        "id": "XqfLIESO_oI9"
      }
    },
    {
      "cell_type": "code",
      "source": [
        "a = [1, 2, 3]"
      ],
      "metadata": {
        "id": "5IVKgqBf-30F"
      },
      "execution_count": 18,
      "outputs": []
    },
    {
      "cell_type": "code",
      "source": [
        "# copy()는 똑같은 값만 가지고 메모리는 공유하지 않는다.\n",
        "b = a.copy()"
      ],
      "metadata": {
        "id": "Vamnt3Pq_rCk"
      },
      "execution_count": 19,
      "outputs": []
    },
    {
      "cell_type": "code",
      "source": [
        "# 메모리 주소 비교\n",
        "a is b"
      ],
      "metadata": {
        "colab": {
          "base_uri": "https://localhost:8080/"
        },
        "id": "shgeH33v_tns",
        "outputId": "836ddb37-f9e7-4920-842a-6b92f4ee3059"
      },
      "execution_count": 21,
      "outputs": [
        {
          "output_type": "execute_result",
          "data": {
            "text/plain": [
              "False"
            ]
          },
          "metadata": {},
          "execution_count": 21
        }
      ]
    },
    {
      "cell_type": "code",
      "source": [
        "# 메모리 확인 id()\n",
        "id(a)"
      ],
      "metadata": {
        "colab": {
          "base_uri": "https://localhost:8080/"
        },
        "id": "FEGqfP5W_vOM",
        "outputId": "51ccf5bf-d1cd-4946-c95f-f418f49f4b4c"
      },
      "execution_count": 22,
      "outputs": [
        {
          "output_type": "execute_result",
          "data": {
            "text/plain": [
              "140068860214784"
            ]
          },
          "metadata": {},
          "execution_count": 22
        }
      ]
    },
    {
      "cell_type": "code",
      "source": [
        "id(b)"
      ],
      "metadata": {
        "colab": {
          "base_uri": "https://localhost:8080/"
        },
        "id": "yuBUBgHoABYL",
        "outputId": "5afe74fe-f104-458b-ee38-75a40550832b"
      },
      "execution_count": 23,
      "outputs": [
        {
          "output_type": "execute_result",
          "data": {
            "text/plain": [
              "140068859543424"
            ]
          },
          "metadata": {},
          "execution_count": 23
        }
      ]
    },
    {
      "cell_type": "code",
      "source": [
        "# 값을 비교\n",
        "a == b"
      ],
      "metadata": {
        "colab": {
          "base_uri": "https://localhost:8080/"
        },
        "id": "k0ICgL_nACCL",
        "outputId": "44c7df77-f1cc-4225-cb8f-e430444d9621"
      },
      "execution_count": 24,
      "outputs": [
        {
          "output_type": "execute_result",
          "data": {
            "text/plain": [
              "True"
            ]
          },
          "metadata": {},
          "execution_count": 24
        }
      ]
    },
    {
      "cell_type": "code",
      "source": [
        "b[0] = 8\n",
        "# a는 변경되지 않는다. 메모리 주소가 다르기때문.\n",
        "print(a)\n",
        "print(b)"
      ],
      "metadata": {
        "colab": {
          "base_uri": "https://localhost:8080/"
        },
        "id": "ZKenpFLMAGQL",
        "outputId": "f296e1c8-e6a4-46f8-cd04-abaeae704f4e"
      },
      "execution_count": 27,
      "outputs": [
        {
          "output_type": "stream",
          "name": "stdout",
          "text": [
            "[1, 2, 3]\n",
            "[8, 2, 3]\n"
          ]
        }
      ]
    },
    {
      "cell_type": "code",
      "source": [
        "print(a is b)\n",
        "print(a == b)"
      ],
      "metadata": {
        "colab": {
          "base_uri": "https://localhost:8080/"
        },
        "id": "Td9lQExIAUCL",
        "outputId": "75c1eb72-4954-4579-b592-820cf604ac7f"
      },
      "execution_count": 28,
      "outputs": [
        {
          "output_type": "stream",
          "name": "stdout",
          "text": [
            "False\n",
            "False\n"
          ]
        }
      ]
    },
    {
      "cell_type": "markdown",
      "source": [
        "list가 2차원일 때"
      ],
      "metadata": {
        "id": "D_L8ADZ6AntE"
      }
    },
    {
      "cell_type": "code",
      "source": [
        "a = [[1,2,3]]"
      ],
      "metadata": {
        "id": "qS-yAtVHAY80"
      },
      "execution_count": 29,
      "outputs": []
    },
    {
      "cell_type": "code",
      "source": [
        "type(a)"
      ],
      "metadata": {
        "colab": {
          "base_uri": "https://localhost:8080/"
        },
        "id": "3K7sScKyAsTc",
        "outputId": "32116269-6219-4deb-ef2f-37fd4345414d"
      },
      "execution_count": 30,
      "outputs": [
        {
          "output_type": "execute_result",
          "data": {
            "text/plain": [
              "list"
            ]
          },
          "metadata": {},
          "execution_count": 30
        }
      ]
    },
    {
      "cell_type": "code",
      "source": [
        "# shallow copy(얇은복사)\n",
        "b = a.copy()"
      ],
      "metadata": {
        "id": "6uFeiTTJAtIM"
      },
      "execution_count": 31,
      "outputs": []
    },
    {
      "cell_type": "code",
      "source": [
        "print(a is b)\n",
        "print(a == b)"
      ],
      "metadata": {
        "colab": {
          "base_uri": "https://localhost:8080/"
        },
        "id": "rCDyV4_kAyOe",
        "outputId": "3e871367-a805-4be8-af57-0cbdc0c42106"
      },
      "execution_count": 32,
      "outputs": [
        {
          "output_type": "stream",
          "name": "stdout",
          "text": [
            "False\n",
            "True\n"
          ]
        }
      ]
    },
    {
      "cell_type": "code",
      "source": [
        "print(a[0] is b[0])\n",
        "print(a[0] == b[0])"
      ],
      "metadata": {
        "colab": {
          "base_uri": "https://localhost:8080/"
        },
        "id": "UyuKZcfVA1D0",
        "outputId": "787bee84-9b57-4a71-cf68-69adc622ff11"
      },
      "execution_count": 34,
      "outputs": [
        {
          "output_type": "stream",
          "name": "stdout",
          "text": [
            "True\n",
            "True\n"
          ]
        }
      ]
    },
    {
      "cell_type": "markdown",
      "source": [
        "list deep copy"
      ],
      "metadata": {
        "id": "04OE-jBLBrxk"
      }
    },
    {
      "cell_type": "code",
      "source": [
        "import copy"
      ],
      "metadata": {
        "id": "LRerilTjBAs0"
      },
      "execution_count": 35,
      "outputs": []
    },
    {
      "cell_type": "code",
      "source": [
        "a = [[1,2,3]]\n",
        "b = copy.deepcopy(a)"
      ],
      "metadata": {
        "id": "HA5HR1G5BuwL"
      },
      "execution_count": 36,
      "outputs": []
    },
    {
      "cell_type": "code",
      "source": [
        "print(a)\n",
        "print(b)"
      ],
      "metadata": {
        "colab": {
          "base_uri": "https://localhost:8080/"
        },
        "id": "6maNHwJmBzfr",
        "outputId": "f4cfd31d-f5b7-45f2-a291-8f5994151150"
      },
      "execution_count": 37,
      "outputs": [
        {
          "output_type": "stream",
          "name": "stdout",
          "text": [
            "[[1, 2, 3]]\n",
            "[[1, 2, 3]]\n"
          ]
        }
      ]
    },
    {
      "cell_type": "code",
      "source": [
        "print(a is b)\n",
        "print(a == b)\n",
        "print(a[0] is b[0]) # deep coyp가 됨\n",
        "print(a[0] == b[0])"
      ],
      "metadata": {
        "colab": {
          "base_uri": "https://localhost:8080/"
        },
        "id": "hP2alr8JB24U",
        "outputId": "7e01cc96-d558-422f-98ba-f89b74ae8a92"
      },
      "execution_count": 40,
      "outputs": [
        {
          "output_type": "stream",
          "name": "stdout",
          "text": [
            "False\n",
            "True\n",
            "False\n",
            "True\n"
          ]
        }
      ]
    },
    {
      "cell_type": "markdown",
      "source": [
        "[:]는 전체라는 뜻이다.   \n",
        "슬라이싱 방식으로 1차 리스트일 때는 재할당하면 deepcopy가 발생된다. 슬라이싱 2차 리스트 이상인 경우 shallow copy가 발생한다."
      ],
      "metadata": {
        "id": "6BLnhSHrCPjE"
      }
    },
    {
      "cell_type": "code",
      "source": [
        "a = [1,2,3]\n",
        "b = a[:]\n",
        "print(a is b)\n",
        "print(a == b)\n",
        "b[0] = 7\n",
        "print(a is b)\n",
        "print(a == b)"
      ],
      "metadata": {
        "colab": {
          "base_uri": "https://localhost:8080/"
        },
        "id": "UzHjnPd6B5JF",
        "outputId": "63c42a03-7744-408d-e10a-8890b4c89580"
      },
      "execution_count": 42,
      "outputs": [
        {
          "output_type": "stream",
          "name": "stdout",
          "text": [
            "False\n",
            "True\n",
            "False\n",
            "False\n"
          ]
        }
      ]
    },
    {
      "cell_type": "code",
      "source": [
        "a = [[1,2,3]]\n",
        "# 슬라이싱 2차 이상인 경우 shallow copy가 된다.\n",
        "b = a[:]\n",
        "print(a is b)\n",
        "print(a == b)\n",
        "b[0][0] = 7\n",
        "print(a is b)\n",
        "print(a == b)"
      ],
      "metadata": {
        "colab": {
          "base_uri": "https://localhost:8080/"
        },
        "id": "gla8vFSPCwS9",
        "outputId": "985d7c5f-ef4e-4104-ad2e-725c00312c1a"
      },
      "execution_count": 43,
      "outputs": [
        {
          "output_type": "stream",
          "name": "stdout",
          "text": [
            "False\n",
            "True\n",
            "False\n",
            "True\n"
          ]
        }
      ]
    },
    {
      "cell_type": "markdown",
      "source": [
        "※ python의 copy는 기본적으로 shallow copy를 한다."
      ],
      "metadata": {
        "id": "d96wRA0YDXwr"
      }
    },
    {
      "cell_type": "code",
      "source": [],
      "metadata": {
        "id": "MdatHG2JDE1j"
      },
      "execution_count": null,
      "outputs": []
    },
    {
      "cell_type": "markdown",
      "source": [
        "#### numpy의 copy"
      ],
      "metadata": {
        "id": "I0vjbgybDkjM"
      }
    },
    {
      "cell_type": "code",
      "source": [
        "a = b = np.array([1,2,3])"
      ],
      "metadata": {
        "id": "zLxAHZkXDpWT"
      },
      "execution_count": 44,
      "outputs": []
    },
    {
      "cell_type": "code",
      "source": [
        "print(a is b)\n",
        "print(a == b)"
      ],
      "metadata": {
        "colab": {
          "base_uri": "https://localhost:8080/"
        },
        "id": "VDyk6ij8DtxL",
        "outputId": "45bc5eff-bd04-422b-f39c-e8631f1c7fae"
      },
      "execution_count": 46,
      "outputs": [
        {
          "output_type": "stream",
          "name": "stdout",
          "text": [
            "True\n",
            "[ True  True  True]\n"
          ]
        }
      ]
    },
    {
      "cell_type": "markdown",
      "source": [
        "array는 sequence타입으로 인덱싱과 슬라이싱이 가능하다."
      ],
      "metadata": {
        "id": "thYVfY48HQ9z"
      }
    },
    {
      "cell_type": "code",
      "source": [
        "a[0] # indexing"
      ],
      "metadata": {
        "colab": {
          "base_uri": "https://localhost:8080/"
        },
        "id": "i6Mg0nzyDxsb",
        "outputId": "9751cab2-b6a6-4cf6-8534-1ef31ebffa96"
      },
      "execution_count": 47,
      "outputs": [
        {
          "output_type": "execute_result",
          "data": {
            "text/plain": [
              "1"
            ]
          },
          "metadata": {},
          "execution_count": 47
        }
      ]
    },
    {
      "cell_type": "code",
      "source": [
        "a[:] # slicing"
      ],
      "metadata": {
        "colab": {
          "base_uri": "https://localhost:8080/"
        },
        "id": "ELDlhYRZHXgb",
        "outputId": "21ce8fa0-45ef-4c65-8a5b-df9959f729a6"
      },
      "execution_count": 48,
      "outputs": [
        {
          "output_type": "execute_result",
          "data": {
            "text/plain": [
              "array([1, 2, 3])"
            ]
          },
          "metadata": {},
          "execution_count": 48
        }
      ]
    },
    {
      "cell_type": "code",
      "source": [
        "# array는 mutable 이다.\n",
        "# 예외가 몇 가지 있지만 mutable에 가깝다.\n",
        "a[0] = 100\n",
        "print(a)\n",
        "print(b)"
      ],
      "metadata": {
        "colab": {
          "base_uri": "https://localhost:8080/"
        },
        "id": "_4opTS8lHbL7",
        "outputId": "e8452508-6db0-4832-b68e-033319989b6b"
      },
      "execution_count": 50,
      "outputs": [
        {
          "output_type": "stream",
          "name": "stdout",
          "text": [
            "[100   2   3]\n",
            "[100   2   3]\n"
          ]
        }
      ]
    },
    {
      "cell_type": "markdown",
      "source": [
        "array은 homogeneous, sequence, mutable이다."
      ],
      "metadata": {
        "id": "JQ-xdXaWH44c"
      }
    },
    {
      "cell_type": "markdown",
      "source": [
        "array deepcopy"
      ],
      "metadata": {
        "id": "8A_rht6AICyr"
      }
    },
    {
      "cell_type": "code",
      "source": [
        "a = np.array([[1,2,3]])\n",
        "# numpy는 기본적으로 deepcopy이다.\n",
        "b = a.copy()"
      ],
      "metadata": {
        "id": "txL8WwO5Hgxa"
      },
      "execution_count": 52,
      "outputs": []
    },
    {
      "cell_type": "code",
      "source": [
        "print(a is b)"
      ],
      "metadata": {
        "colab": {
          "base_uri": "https://localhost:8080/"
        },
        "id": "Y4QA01ZoICIT",
        "outputId": "b7372f94-095b-4819-e607-fddfad07503d"
      },
      "execution_count": 54,
      "outputs": [
        {
          "output_type": "stream",
          "name": "stdout",
          "text": [
            "False\n"
          ]
        }
      ]
    },
    {
      "cell_type": "code",
      "source": [
        "print(a[0] is b[0])"
      ],
      "metadata": {
        "colab": {
          "base_uri": "https://localhost:8080/"
        },
        "id": "R93feRHrIQ0a",
        "outputId": "b7163d92-b93e-4a18-c047-b799d7279e4c"
      },
      "execution_count": 55,
      "outputs": [
        {
          "output_type": "stream",
          "name": "stdout",
          "text": [
            "False\n"
          ]
        }
      ]
    },
    {
      "cell_type": "markdown",
      "source": [
        "### 4. as 계열\n",
        "다른 데이터 타입을 가져와서 바꿔서 사용할 때는 as라는 이름이 보통 붙는다."
      ],
      "metadata": {
        "id": "2PqZAShAIeBT"
      }
    },
    {
      "cell_type": "code",
      "source": [
        "# python의 list데이터 타입을 int ndarry로 변환\n",
        "a = [1, 2, 3] # python의 list\n",
        "print(type(a))\n",
        "print(type(a[0]))\n",
        "b = np.array(a)\n",
        "print(type(b))\n",
        "print(type(b[0]))"
      ],
      "metadata": {
        "colab": {
          "base_uri": "https://localhost:8080/"
        },
        "id": "9T2ItiaxIYoy",
        "outputId": "847f4f46-ac3a-4313-e0c7-476dccf6a27a"
      },
      "execution_count": 59,
      "outputs": [
        {
          "output_type": "stream",
          "name": "stdout",
          "text": [
            "<class 'list'>\n",
            "<class 'int'>\n",
            "<class 'numpy.ndarray'>\n",
            "<class 'numpy.int64'>\n"
          ]
        }
      ]
    },
    {
      "cell_type": "code",
      "source": [
        "# python의 list데이터 타입을 int ndarry로 변환 (asarray())\n",
        "a = [1, 2, 3] # python의 list\n",
        "print(type(a))\n",
        "print(type(a[0]))\n",
        "b = np.asarray(a)\n",
        "print(type(b))\n",
        "print(type(b[0]))"
      ],
      "metadata": {
        "colab": {
          "base_uri": "https://localhost:8080/"
        },
        "id": "9s83wEK9JUb6",
        "outputId": "3deea166-de15-45b7-802e-ca5c6f3aefed"
      },
      "execution_count": 61,
      "outputs": [
        {
          "output_type": "stream",
          "name": "stdout",
          "text": [
            "<class 'list'>\n",
            "<class 'int'>\n",
            "<class 'numpy.ndarray'>\n",
            "<class 'numpy.int64'>\n"
          ]
        }
      ]
    },
    {
      "cell_type": "code",
      "source": [
        "# python의 list데이터 타입을 float ndarry로 변환 (asfarray())\n",
        "a = [1, 2, 3] # python의 list\n",
        "print(type(a))\n",
        "print(type(a[0]))\n",
        "b = np.asfarray(a)\n",
        "print(type(b))\n",
        "print(type(b[0]))"
      ],
      "metadata": {
        "colab": {
          "base_uri": "https://localhost:8080/"
        },
        "id": "nAUXNuvWKAB9",
        "outputId": "13dd60e3-1e89-41b7-821b-bda113b21c80"
      },
      "execution_count": 63,
      "outputs": [
        {
          "output_type": "stream",
          "name": "stdout",
          "text": [
            "<class 'list'>\n",
            "<class 'int'>\n",
            "<class 'numpy.ndarray'>\n",
            "<class 'numpy.float64'>\n"
          ]
        }
      ]
    },
    {
      "cell_type": "code",
      "source": [
        "# python의 list데이터 타입 float이면 float ndarray로 변환\n",
        "# python의 list데이터 타입 int이면 int ndarray로 변환\n",
        "# 같은 타입으로 변환할 땐 asarray() 혹은 array()를 사용해도 된다.\n",
        "a = [1., 2., 3.]\n",
        "print(type(a))\n",
        "print(type(a[0]))\n",
        "\n",
        "b = np.asarray(a)\n",
        "print(type(b))\n",
        "print(type(b[0]))\n",
        "\n",
        "c = np.array(a)\n",
        "print(type(c))\n",
        "print(type(c[0]))"
      ],
      "metadata": {
        "colab": {
          "base_uri": "https://localhost:8080/"
        },
        "id": "LZNQBT8TKLsL",
        "outputId": "cf5966f2-9148-4950-e9be-710880612f5b"
      },
      "execution_count": 65,
      "outputs": [
        {
          "output_type": "stream",
          "name": "stdout",
          "text": [
            "<class 'list'>\n",
            "<class 'float'>\n",
            "<class 'numpy.ndarray'>\n",
            "<class 'numpy.float64'>\n",
            "<class 'numpy.ndarray'>\n",
            "<class 'numpy.float64'>\n"
          ]
        }
      ]
    },
    {
      "cell_type": "markdown",
      "source": [
        "### 5. 값 가져오기"
      ],
      "metadata": {
        "id": "h7gHDRbQL6Sr"
      }
    },
    {
      "cell_type": "markdown",
      "source": [
        "####(1) comma로 값 가져오기"
      ],
      "metadata": {
        "id": "ixcg_UyAL_3z"
      }
    },
    {
      "cell_type": "code",
      "source": [
        "a = [[1, 2, 3], [4, 5, 6]] #python\n",
        "b = np.array([[1, 2, 3], [4, 5, 6]]) #numpy"
      ],
      "metadata": {
        "id": "HzYUAUq8LKWK"
      },
      "execution_count": 66,
      "outputs": []
    },
    {
      "cell_type": "code",
      "source": [
        "# 1차원 리스트로 가져온다.\n",
        "a[0]"
      ],
      "metadata": {
        "colab": {
          "base_uri": "https://localhost:8080/"
        },
        "id": "3aA9uasxMSka",
        "outputId": "1cc8acff-2829-4490-dda4-2e8add8ccb95"
      },
      "execution_count": 67,
      "outputs": [
        {
          "output_type": "execute_result",
          "data": {
            "text/plain": [
              "[1, 2, 3]"
            ]
          },
          "metadata": {},
          "execution_count": 67
        }
      ]
    },
    {
      "cell_type": "code",
      "source": [
        "# TypeError\n",
        "# 인덱싱에서는 , 를 사용할 수 없다.\n",
        "a[0,1]"
      ],
      "metadata": {
        "colab": {
          "base_uri": "https://localhost:8080/",
          "height": 211
        },
        "id": "kbZscqJbMZpC",
        "outputId": "acc6a340-edf3-4093-ff45-b3611ba7559b"
      },
      "execution_count": 71,
      "outputs": [
        {
          "output_type": "error",
          "ename": "TypeError",
          "evalue": "ignored",
          "traceback": [
            "\u001b[0;31m---------------------------------------------------------------------------\u001b[0m",
            "\u001b[0;31mTypeError\u001b[0m                                 Traceback (most recent call last)",
            "\u001b[0;32m<ipython-input-71-d74ad471a69b>\u001b[0m in \u001b[0;36m<module>\u001b[0;34m\u001b[0m\n\u001b[1;32m      1\u001b[0m \u001b[0;31m# TypeError\u001b[0m\u001b[0;34m\u001b[0m\u001b[0;34m\u001b[0m\u001b[0;34m\u001b[0m\u001b[0m\n\u001b[1;32m      2\u001b[0m \u001b[0;31m# 인덱싱에서는 , 를 사용할 수 없다.\u001b[0m\u001b[0;34m\u001b[0m\u001b[0;34m\u001b[0m\u001b[0;34m\u001b[0m\u001b[0m\n\u001b[0;32m----> 3\u001b[0;31m \u001b[0ma\u001b[0m\u001b[0;34m[\u001b[0m\u001b[0;36m0\u001b[0m\u001b[0;34m,\u001b[0m\u001b[0;36m1\u001b[0m\u001b[0;34m]\u001b[0m\u001b[0;34m\u001b[0m\u001b[0;34m\u001b[0m\u001b[0m\n\u001b[0m",
            "\u001b[0;31mTypeError\u001b[0m: list indices must be integers or slices, not tuple"
          ]
        }
      ]
    },
    {
      "cell_type": "markdown",
      "source": [
        "슬라이싱 함수를 이용해서 comma를 사용하는 방법은 가능하다."
      ],
      "metadata": {
        "id": "nibKPG5yNFTq"
      }
    },
    {
      "cell_type": "code",
      "source": [
        "# 2차원 리스트로 가져온다.\n",
        "a[slice(0,1)] # 0번째 행부터 1행 미만의 데이터를 가져온다."
      ],
      "metadata": {
        "colab": {
          "base_uri": "https://localhost:8080/"
        },
        "id": "9g2vLOw3Mb7q",
        "outputId": "8a426689-fe4f-4af9-b56d-2fe76b2ddf42"
      },
      "execution_count": 72,
      "outputs": [
        {
          "output_type": "execute_result",
          "data": {
            "text/plain": [
              "[[1, 2, 3]]"
            ]
          },
          "metadata": {},
          "execution_count": 72
        }
      ]
    },
    {
      "cell_type": "code",
      "source": [
        "a[slice(0,2)] # 0번째 행부터 2행 미만의 데이터를 가져온다."
      ],
      "metadata": {
        "colab": {
          "base_uri": "https://localhost:8080/"
        },
        "id": "ng0UEKFCM33y",
        "outputId": "6f604688-148f-4ab8-a9a7-cb37649a0c68"
      },
      "execution_count": 74,
      "outputs": [
        {
          "output_type": "execute_result",
          "data": {
            "text/plain": [
              "[[1, 2, 3], [4, 5, 6]]"
            ]
          },
          "metadata": {},
          "execution_count": 74
        }
      ]
    },
    {
      "cell_type": "code",
      "source": [
        "a[0:2]"
      ],
      "metadata": {
        "colab": {
          "base_uri": "https://localhost:8080/"
        },
        "id": "Xo1c8ik9NSUb",
        "outputId": "a751f47d-0e09-486e-cd99-a1553c1d16ee"
      },
      "execution_count": 76,
      "outputs": [
        {
          "output_type": "execute_result",
          "data": {
            "text/plain": [
              "[[1, 2, 3], [4, 5, 6]]"
            ]
          },
          "metadata": {},
          "execution_count": 76
        }
      ]
    },
    {
      "cell_type": "markdown",
      "source": [
        "numpy는 기본적으로 인덱싱/슬라이싱할 때 comma를 사용할 수 있다."
      ],
      "metadata": {
        "id": "r6zAFjiiNlbi"
      }
    },
    {
      "cell_type": "code",
      "source": [
        "# numpy\n",
        "# b[행, 열]\n",
        "print(b[0,2]) # 인덱싱\n",
        "print(b[0,-1]) # -1은 행의 마지막 열을 가져온다."
      ],
      "metadata": {
        "colab": {
          "base_uri": "https://localhost:8080/"
        },
        "id": "qXrBFdBlNeiq",
        "outputId": "fee4563b-a717-4b31-8843-8ee32c29da13"
      },
      "execution_count": 78,
      "outputs": [
        {
          "output_type": "stream",
          "name": "stdout",
          "text": [
            "3\n",
            "3\n"
          ]
        }
      ]
    },
    {
      "cell_type": "code",
      "source": [
        "# python\n",
        "# a[행][열]\n",
        "print(a[0][2])\n",
        "print(a[0][-1])"
      ],
      "metadata": {
        "colab": {
          "base_uri": "https://localhost:8080/"
        },
        "id": "0SOlgtgeNwzc",
        "outputId": "f2b2d134-6c36-48b4-af78-e3bc38dde5c4"
      },
      "execution_count": 79,
      "outputs": [
        {
          "output_type": "stream",
          "name": "stdout",
          "text": [
            "3\n",
            "3\n"
          ]
        }
      ]
    },
    {
      "cell_type": "markdown",
      "source": [
        "#### (2) boolean indexing"
      ],
      "metadata": {
        "id": "Rk8c2xybOgZa"
      }
    },
    {
      "cell_type": "code",
      "source": [
        "a = [[1,2,3,4]] # python list"
      ],
      "metadata": {
        "id": "yOhEFj-xOP6S"
      },
      "execution_count": 80,
      "outputs": []
    },
    {
      "cell_type": "code",
      "source": [
        "# TypeError\n",
        "a > 3"
      ],
      "metadata": {
        "colab": {
          "base_uri": "https://localhost:8080/",
          "height": 174
        },
        "id": "vJfHOu-oOmpC",
        "outputId": "e721421a-22cc-4ee8-90fd-7acde2a3bdc7"
      },
      "execution_count": 81,
      "outputs": [
        {
          "output_type": "error",
          "ename": "TypeError",
          "evalue": "ignored",
          "traceback": [
            "\u001b[0;31m---------------------------------------------------------------------------\u001b[0m",
            "\u001b[0;31mTypeError\u001b[0m                                 Traceback (most recent call last)",
            "\u001b[0;32m<ipython-input-81-4a7bcd1a5f68>\u001b[0m in \u001b[0;36m<module>\u001b[0;34m\u001b[0m\n\u001b[0;32m----> 1\u001b[0;31m \u001b[0ma\u001b[0m \u001b[0;34m>\u001b[0m \u001b[0;36m3\u001b[0m\u001b[0;34m\u001b[0m\u001b[0;34m\u001b[0m\u001b[0m\n\u001b[0m",
            "\u001b[0;31mTypeError\u001b[0m: '>' not supported between instances of 'list' and 'int'"
          ]
        }
      ]
    },
    {
      "cell_type": "code",
      "source": [
        "b = np.array([1,2,3,4])\n",
        "b"
      ],
      "metadata": {
        "colab": {
          "base_uri": "https://localhost:8080/"
        },
        "id": "rjNxcgfvOnyR",
        "outputId": "f0bdc408-7304-4d34-a661-45b339d1ed60"
      },
      "execution_count": 82,
      "outputs": [
        {
          "output_type": "execute_result",
          "data": {
            "text/plain": [
              "array([1, 2, 3, 4])"
            ]
          },
          "metadata": {},
          "execution_count": 82
        }
      ]
    },
    {
      "cell_type": "markdown",
      "source": [
        "array를 scalar와 연산하면 elementwise로 계산한다.   \n",
        "(elementwise : 원소별로 각각 계산이 된다.)"
      ],
      "metadata": {
        "id": "rhEVkmlGPD8a"
      }
    },
    {
      "cell_type": "code",
      "source": [
        "# 원소별로 비교해서 True/False로 계산한다.\n",
        "#1>2, 2>2, 3>2, 4>2\n",
        "# numpy에서는 가능하고 python에서는 안된다.\n",
        "b>2   # array > scalar"
      ],
      "metadata": {
        "colab": {
          "base_uri": "https://localhost:8080/"
        },
        "id": "aYEJ0V31O0Dq",
        "outputId": "7c5331fe-7ab1-4884-8dfb-e7a2da5b15e4"
      },
      "execution_count": 84,
      "outputs": [
        {
          "output_type": "execute_result",
          "data": {
            "text/plain": [
              "array([False, False,  True,  True])"
            ]
          },
          "metadata": {},
          "execution_count": 84
        }
      ]
    },
    {
      "cell_type": "markdown",
      "source": [
        "numpy는 indexing, slicing 자리에 조건도 쓸 수 있다.  \n",
        "True에 해당되는 값만 가져온다."
      ],
      "metadata": {
        "id": "28YwXHRZQCsy"
      }
    },
    {
      "cell_type": "code",
      "source": [
        "# boolean indexing\n",
        "b[np.array([False, False, True, True])] # b[1,2,3,4] True에 해당하는 값만 가져온다."
      ],
      "metadata": {
        "colab": {
          "base_uri": "https://localhost:8080/"
        },
        "id": "jGptJUTBPaLa",
        "outputId": "813dc4d9-362c-476c-ac80-d0190e9d1986"
      },
      "execution_count": 85,
      "outputs": [
        {
          "output_type": "execute_result",
          "data": {
            "text/plain": [
              "array([3, 4])"
            ]
          },
          "metadata": {},
          "execution_count": 85
        }
      ]
    },
    {
      "cell_type": "code",
      "source": [
        "b[b>2]"
      ],
      "metadata": {
        "colab": {
          "base_uri": "https://localhost:8080/"
        },
        "id": "GZvZNyVYQWzy",
        "outputId": "1427d2cd-2712-4304-f175-e1aff07859bd"
      },
      "execution_count": 86,
      "outputs": [
        {
          "output_type": "execute_result",
          "data": {
            "text/plain": [
              "array([3, 4])"
            ]
          },
          "metadata": {},
          "execution_count": 86
        }
      ]
    },
    {
      "cell_type": "markdown",
      "source": [
        "numpy에서 booleaning indexing 조건  \n",
        "- array만 가능하다.\n",
        "- numpy True, False로만 가능하다.\n",
        "- shape이 맞아야 한다. (개수가 맞을 때만 사용할 수 있다.)"
      ],
      "metadata": {
        "id": "NbdIfMpCRBGq"
      }
    },
    {
      "cell_type": "code",
      "source": [
        "# python에서는 지원 안한다.\n",
        "a = [1,2,3,4]\n",
        "a[True,True,False,False]"
      ],
      "metadata": {
        "colab": {
          "base_uri": "https://localhost:8080/",
          "height": 211
        },
        "id": "CZGYIns4Qj4B",
        "outputId": "610a701d-e747-4613-d95c-88395e58da2c"
      },
      "execution_count": 87,
      "outputs": [
        {
          "output_type": "error",
          "ename": "TypeError",
          "evalue": "ignored",
          "traceback": [
            "\u001b[0;31m---------------------------------------------------------------------------\u001b[0m",
            "\u001b[0;31mTypeError\u001b[0m                                 Traceback (most recent call last)",
            "\u001b[0;32m<ipython-input-87-2c3cad2936f8>\u001b[0m in \u001b[0;36m<module>\u001b[0;34m\u001b[0m\n\u001b[1;32m      1\u001b[0m \u001b[0;31m# python에서는 지원 안한다.\u001b[0m\u001b[0;34m\u001b[0m\u001b[0;34m\u001b[0m\u001b[0;34m\u001b[0m\u001b[0m\n\u001b[1;32m      2\u001b[0m \u001b[0ma\u001b[0m \u001b[0;34m=\u001b[0m \u001b[0;34m[\u001b[0m\u001b[0;36m1\u001b[0m\u001b[0;34m,\u001b[0m\u001b[0;36m2\u001b[0m\u001b[0;34m,\u001b[0m\u001b[0;36m3\u001b[0m\u001b[0;34m,\u001b[0m\u001b[0;36m4\u001b[0m\u001b[0;34m]\u001b[0m\u001b[0;34m\u001b[0m\u001b[0;34m\u001b[0m\u001b[0m\n\u001b[0;32m----> 3\u001b[0;31m \u001b[0ma\u001b[0m\u001b[0;34m[\u001b[0m\u001b[0;32mTrue\u001b[0m\u001b[0;34m,\u001b[0m\u001b[0;32mTrue\u001b[0m\u001b[0;34m,\u001b[0m\u001b[0;32mFalse\u001b[0m\u001b[0;34m,\u001b[0m\u001b[0;32mFalse\u001b[0m\u001b[0;34m]\u001b[0m\u001b[0;34m\u001b[0m\u001b[0;34m\u001b[0m\u001b[0m\n\u001b[0m",
            "\u001b[0;31mTypeError\u001b[0m: list indices must be integers or slices, not tuple"
          ]
        }
      ]
    },
    {
      "cell_type": "markdown",
      "source": [
        "### (3) fancy indexing"
      ],
      "metadata": {
        "id": "RW_vFo0pUNyi"
      }
    },
    {
      "cell_type": "code",
      "source": [
        "b = np.arange(100).reshape(20,5) # reshape(행, 열) 배열의 구조 변경\n",
        "b"
      ],
      "metadata": {
        "colab": {
          "base_uri": "https://localhost:8080/"
        },
        "id": "g9uMgN5cRYrJ",
        "outputId": "00d95271-bf1f-4f2f-d37b-78524507d5e5"
      },
      "execution_count": 93,
      "outputs": [
        {
          "output_type": "execute_result",
          "data": {
            "text/plain": [
              "array([[ 0,  1,  2,  3,  4],\n",
              "       [ 5,  6,  7,  8,  9],\n",
              "       [10, 11, 12, 13, 14],\n",
              "       [15, 16, 17, 18, 19],\n",
              "       [20, 21, 22, 23, 24],\n",
              "       [25, 26, 27, 28, 29],\n",
              "       [30, 31, 32, 33, 34],\n",
              "       [35, 36, 37, 38, 39],\n",
              "       [40, 41, 42, 43, 44],\n",
              "       [45, 46, 47, 48, 49],\n",
              "       [50, 51, 52, 53, 54],\n",
              "       [55, 56, 57, 58, 59],\n",
              "       [60, 61, 62, 63, 64],\n",
              "       [65, 66, 67, 68, 69],\n",
              "       [70, 71, 72, 73, 74],\n",
              "       [75, 76, 77, 78, 79],\n",
              "       [80, 81, 82, 83, 84],\n",
              "       [85, 86, 87, 88, 89],\n",
              "       [90, 91, 92, 93, 94],\n",
              "       [95, 96, 97, 98, 99]])"
            ]
          },
          "metadata": {},
          "execution_count": 93
        }
      ]
    },
    {
      "cell_type": "markdown",
      "source": [
        "인덱싱, 슬라이싱 자리에 괄호를 하나 더 넣으면 fancy indexing 할 수 있다.  \n",
        "여러개를 한번에 인덱싱할 수 있다."
      ],
      "metadata": {
        "id": "sX6Xy_oXUqwB"
      }
    },
    {
      "cell_type": "code",
      "source": [
        "b[:] # 전체를 가져온다. b[:,:]와 같다.\n",
        "# b[행, 열]\n",
        "print(b[1:3]) # 1행부터 3행 미만의 데이터를 가져온다.\n",
        "print(b[1:3,2:4]) # 1행부터 3행 미만이면서 2열부터 4열 미만의 데이터를 가져온다.\n",
        "print(b[[1,3,5]]) # b[[1,3,5], :] 1행, 3행 ,5행의 데이터를 가져온다. []괄호 추가 (fancy indexing)\n",
        "print(b[[1,3,5],[0,2,4]]) # 1행 0열, 3행 2열, 5행 4열의 데이터를 가져온다."
      ],
      "metadata": {
        "colab": {
          "base_uri": "https://localhost:8080/"
        },
        "id": "rJqkYhcWUUM6",
        "outputId": "3724e15d-1369-4680-c373-f0bfdf789cfc"
      },
      "execution_count": 102,
      "outputs": [
        {
          "output_type": "stream",
          "name": "stdout",
          "text": [
            "[[ 5  6  7  8  9]\n",
            " [10 11 12 13 14]]\n",
            "[[ 7  8]\n",
            " [12 13]]\n",
            "[[ 5  6  7  8  9]\n",
            " [15 16 17 18 19]\n",
            " [25 26 27 28 29]]\n",
            "[ 5 17 29]\n"
          ]
        }
      ]
    },
    {
      "cell_type": "markdown",
      "source": [
        "fancying indexting은 인덱싱 기법만 사용할 수 있다.  \n",
        "\":\"(클론)은 슬라이싱 기법이므로 지원하지 않는다."
      ],
      "metadata": {
        "id": "0zv8Vx04XSg5"
      }
    },
    {
      "cell_type": "code",
      "source": [
        "# SyntaxError\n",
        "b[[2:5]]"
      ],
      "metadata": {
        "colab": {
          "base_uri": "https://localhost:8080/",
          "height": 137
        },
        "id": "Ifz-LdjfU88R",
        "outputId": "cc173a5e-f4f1-4bf7-b374-24a3f38c6ee1"
      },
      "execution_count": 103,
      "outputs": [
        {
          "output_type": "error",
          "ename": "SyntaxError",
          "evalue": "ignored",
          "traceback": [
            "\u001b[0;36m  File \u001b[0;32m\"<ipython-input-103-4dd318ecbc54>\"\u001b[0;36m, line \u001b[0;32m1\u001b[0m\n\u001b[0;31m    b[[2:5]]\u001b[0m\n\u001b[0m        ^\u001b[0m\n\u001b[0;31mSyntaxError\u001b[0m\u001b[0;31m:\u001b[0m invalid syntax\n"
          ]
        }
      ]
    },
    {
      "cell_type": "code",
      "source": [
        "# 0열, 2열, 4열에 해당하는 모든 행을 가져온다.\n",
        "b[:,[0,2,4]]"
      ],
      "metadata": {
        "colab": {
          "base_uri": "https://localhost:8080/"
        },
        "id": "QSheHfBTXdIo",
        "outputId": "c7616956-51cb-47d5-93f0-740e5b8b158f"
      },
      "execution_count": 104,
      "outputs": [
        {
          "output_type": "execute_result",
          "data": {
            "text/plain": [
              "array([[ 0,  2,  4],\n",
              "       [ 5,  7,  9],\n",
              "       [10, 12, 14],\n",
              "       [15, 17, 19],\n",
              "       [20, 22, 24],\n",
              "       [25, 27, 29],\n",
              "       [30, 32, 34],\n",
              "       [35, 37, 39],\n",
              "       [40, 42, 44],\n",
              "       [45, 47, 49],\n",
              "       [50, 52, 54],\n",
              "       [55, 57, 59],\n",
              "       [60, 62, 64],\n",
              "       [65, 67, 69],\n",
              "       [70, 72, 74],\n",
              "       [75, 77, 79],\n",
              "       [80, 82, 84],\n",
              "       [85, 87, 89],\n",
              "       [90, 92, 94],\n",
              "       [95, 97, 99]])"
            ]
          },
          "metadata": {},
          "execution_count": 104
        }
      ]
    },
    {
      "cell_type": "code",
      "source": [
        "# 개수가 같게 지정되야 한다. 행과 열의 개수\n",
        "b[[1,3,4],[0,2,1]] # 정상처리\n",
        "b[[1,3,4],[0,2]] # IndexError"
      ],
      "metadata": {
        "colab": {
          "base_uri": "https://localhost:8080/",
          "height": 211
        },
        "id": "WE6gh9EgXvr7",
        "outputId": "31faddcb-c021-46c1-9f8d-deb041d72499"
      },
      "execution_count": 106,
      "outputs": [
        {
          "output_type": "error",
          "ename": "IndexError",
          "evalue": "ignored",
          "traceback": [
            "\u001b[0;31m---------------------------------------------------------------------------\u001b[0m",
            "\u001b[0;31mIndexError\u001b[0m                                Traceback (most recent call last)",
            "\u001b[0;32m<ipython-input-106-83f0f01c5781>\u001b[0m in \u001b[0;36m<module>\u001b[0;34m\u001b[0m\n\u001b[1;32m      1\u001b[0m \u001b[0;31m# 개수가 같게 지정되야 한다. 행과 열의 개수\u001b[0m\u001b[0;34m\u001b[0m\u001b[0;34m\u001b[0m\u001b[0;34m\u001b[0m\u001b[0m\n\u001b[1;32m      2\u001b[0m \u001b[0mb\u001b[0m\u001b[0;34m[\u001b[0m\u001b[0;34m[\u001b[0m\u001b[0;36m1\u001b[0m\u001b[0;34m,\u001b[0m\u001b[0;36m3\u001b[0m\u001b[0;34m,\u001b[0m\u001b[0;36m4\u001b[0m\u001b[0;34m]\u001b[0m\u001b[0;34m,\u001b[0m\u001b[0;34m[\u001b[0m\u001b[0;36m0\u001b[0m\u001b[0;34m,\u001b[0m\u001b[0;36m2\u001b[0m\u001b[0;34m,\u001b[0m\u001b[0;36m1\u001b[0m\u001b[0;34m]\u001b[0m\u001b[0;34m]\u001b[0m\u001b[0;34m\u001b[0m\u001b[0;34m\u001b[0m\u001b[0m\n\u001b[0;32m----> 3\u001b[0;31m \u001b[0mb\u001b[0m\u001b[0;34m[\u001b[0m\u001b[0;34m[\u001b[0m\u001b[0;36m1\u001b[0m\u001b[0;34m,\u001b[0m\u001b[0;36m3\u001b[0m\u001b[0;34m,\u001b[0m\u001b[0;36m4\u001b[0m\u001b[0;34m]\u001b[0m\u001b[0;34m,\u001b[0m\u001b[0;34m[\u001b[0m\u001b[0;36m0\u001b[0m\u001b[0;34m,\u001b[0m\u001b[0;36m2\u001b[0m\u001b[0;34m]\u001b[0m\u001b[0;34m]\u001b[0m\u001b[0;34m\u001b[0m\u001b[0;34m\u001b[0m\u001b[0m\n\u001b[0m",
            "\u001b[0;31mIndexError\u001b[0m: shape mismatch: indexing arrays could not be broadcast together with shapes (3,) (2,) "
          ]
        }
      ]
    },
    {
      "cell_type": "code",
      "source": [],
      "metadata": {
        "id": "G1ZDR62zYL6w"
      },
      "execution_count": null,
      "outputs": []
    }
  ]
}