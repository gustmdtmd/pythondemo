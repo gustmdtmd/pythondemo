{
  "nbformat": 4,
  "nbformat_minor": 0,
  "metadata": {
    "colab": {
      "provenance": [],
      "authorship_tag": "ABX9TyOTlkdu1o6yazRhjTlkpnZb",
      "include_colab_link": true
    },
    "kernelspec": {
      "name": "python3",
      "display_name": "Python 3"
    },
    "language_info": {
      "name": "python"
    }
  },
  "cells": [
    {
      "cell_type": "markdown",
      "metadata": {
        "id": "view-in-github",
        "colab_type": "text"
      },
      "source": [
        "<a href=\"https://colab.research.google.com/github/gustmdtmd/pythondemo/blob/main/python_06_%ED%8C%8C%EC%9D%BC%EC%9E%85%EC%B6%9C%EB%A0%A5.ipynb\" target=\"_parent\"><img src=\"https://colab.research.google.com/assets/colab-badge.svg\" alt=\"Open In Colab\"/></a>"
      ]
    },
    {
      "cell_type": "markdown",
      "source": [
        "open('파일경로', '파일열기모드')   \n",
        " - 파일 열기 모드\n",
        "   - w: 쓰기모드 - 파일에 내용을 쓸 때 사용\n",
        "   - r: 읽기모드 - 파일에 내용을 읽을 때 사용\n",
        "   - a: 추가모드 - 파일에 내용을 추가할 때 사용 "
      ],
      "metadata": {
        "id": "W82lhKPt_BHv"
      }
    },
    {
      "cell_type": "code",
      "execution_count": null,
      "metadata": {
        "id": "sSdxD_h5-3cD"
      },
      "outputs": [],
      "source": [
        "# open('파일경로', '모드)\n",
        "fwrite = open('sample.txt', 'w') # 파일 열기\n",
        "for i in range(1, 4): \n",
        "  data = '%d번째 줄입니다.\\n' % i\n",
        "  fwrite.write(data)\n",
        "fwrite.close()  # 파일 닫기"
      ]
    },
    {
      "cell_type": "code",
      "source": [
        "fread = open('sample.txt', 'r') # sample.txt파일에 데이터를 읽어온다.\n",
        "# line = fread.readline()  # readline()은 파일에서 한 라인씩 읽어옴\n",
        "line = fread.read()  #read() 은 파일에서 전체를 읽어와 str로 리턴한다.\n",
        "print(type(line))\n",
        "fread.close()"
      ],
      "metadata": {
        "colab": {
          "base_uri": "https://localhost:8080/"
        },
        "id": "HQ_Z0B4xAUZ-",
        "outputId": "605b7963-afd1-4bfb-da5e-f2b887990e66"
      },
      "execution_count": null,
      "outputs": [
        {
          "output_type": "stream",
          "name": "stdout",
          "text": [
            "<class 'str'>\n"
          ]
        }
      ]
    },
    {
      "cell_type": "code",
      "source": [
        "fread = open('sample.txt', 'r')  # sample.txt파일에 데이터를 읽어온다.\n",
        "while True:\n",
        "  line = fread.readline() # readline()은 파일에서 한 라인씩 읽어옴\n",
        "  if not line: # 파일에서 더이상 읽어올 내용이 없다\n",
        "    break\n",
        "  print(line)\n",
        "fread.close()"
      ],
      "metadata": {
        "colab": {
          "base_uri": "https://localhost:8080/"
        },
        "id": "lNoryArDBmK2",
        "outputId": "e9ff2ec3-6031-4029-d9a3-ec7d143efde4"
      },
      "execution_count": null,
      "outputs": [
        {
          "output_type": "stream",
          "name": "stdout",
          "text": [
            "1번째 줄입니다.\n",
            "\n",
            "2번째 줄입니다.\n",
            "\n",
            "3번째 줄입니다.\n",
            "\n"
          ]
        }
      ]
    },
    {
      "cell_type": "code",
      "source": [
        "import os\n",
        "path = os.getcwd()\n",
        "print(path)"
      ],
      "metadata": {
        "colab": {
          "base_uri": "https://localhost:8080/"
        },
        "id": "hCCElBdADBcO",
        "outputId": "1dff62d3-9e50-4b14-c24e-3eef15d7ffb1"
      },
      "execution_count": null,
      "outputs": [
        {
          "output_type": "stream",
          "name": "stdout",
          "text": [
            "/content\n"
          ]
        }
      ]
    },
    {
      "cell_type": "markdown",
      "source": [
        "### with문과 함께 사용\n",
        "- with문과 함께 파일을 사용하면 읽기, 쓰기할 때 close()을 안해도 된다."
      ],
      "metadata": {
        "id": "BQ1-QCtIEFqX"
      }
    },
    {
      "cell_type": "code",
      "source": [
        "with open('sample.txt', 'w') as f:\n",
        "  for i in range(5, 8):\n",
        "    data = '%d번째 줄입니다.\\n' % i\n",
        "    f.write(data)"
      ],
      "metadata": {
        "id": "kPo2bSJ1DEz2"
      },
      "execution_count": null,
      "outputs": []
    },
    {
      "cell_type": "code",
      "source": [
        "with open('sample.txt', 'r') as f:\n",
        "  while True:\n",
        "    line = f.readline()\n",
        "    if not line:\n",
        "      break\n",
        "    print(line)"
      ],
      "metadata": {
        "colab": {
          "base_uri": "https://localhost:8080/"
        },
        "id": "imZ-GVcNElUe",
        "outputId": "f0948bc5-8cf4-48bc-adca-23b8d861b478"
      },
      "execution_count": null,
      "outputs": [
        {
          "output_type": "stream",
          "name": "stdout",
          "text": [
            "5번째 줄입니다.\n",
            "\n",
            "6번째 줄입니다.\n",
            "\n",
            "7번째 줄입니다.\n",
            "\n"
          ]
        }
      ]
    },
    {
      "cell_type": "code",
      "source": [
        "with open('text.txt','w') as f:\n",
        "  f.writelines(['apple', 'banana', 'lemon']) # str만 가능하다.\n",
        "  #f.writelines([True, False, True, False])"
      ],
      "metadata": {
        "id": "ZBAoh7B0E4Pu"
      },
      "execution_count": null,
      "outputs": []
    },
    {
      "cell_type": "code",
      "source": [
        "with open('text.txt', 'r') as f:\n",
        "  print(f.readlines())"
      ],
      "metadata": {
        "colab": {
          "base_uri": "https://localhost:8080/"
        },
        "id": "s9XnIVj3Fjgt",
        "outputId": "db2260a0-ba0f-42e9-fb8d-6a5e92e3b46b"
      },
      "execution_count": null,
      "outputs": [
        {
          "output_type": "stream",
          "name": "stdout",
          "text": [
            "['applebananalemon']\n"
          ]
        }
      ]
    },
    {
      "cell_type": "code",
      "source": [
        "import random"
      ],
      "metadata": {
        "id": "mCvFV2adGFDV"
      },
      "execution_count": null,
      "outputs": []
    },
    {
      "cell_type": "code",
      "source": [
        "random.choice([1,2,3,4])"
      ],
      "metadata": {
        "colab": {
          "base_uri": "https://localhost:8080/"
        },
        "id": "MWaRgUpcGt2m",
        "outputId": "6c3844fa-83de-4da0-e228-a5c0e434accc"
      },
      "execution_count": null,
      "outputs": [
        {
          "output_type": "execute_result",
          "data": {
            "text/plain": [
              "3"
            ]
          },
          "metadata": {},
          "execution_count": 33
        }
      ]
    },
    {
      "cell_type": "code",
      "source": [
        "random.randrange(1, 10) # 1부터 10 미만 사이의 난수 발생"
      ],
      "metadata": {
        "colab": {
          "base_uri": "https://localhost:8080/"
        },
        "id": "o1hv1qnzGxuV",
        "outputId": "ee039efd-15f1-4d25-aa13-c0db9eccd620"
      },
      "execution_count": null,
      "outputs": [
        {
          "output_type": "execute_result",
          "data": {
            "text/plain": [
              "9"
            ]
          },
          "metadata": {},
          "execution_count": 35
        }
      ]
    },
    {
      "cell_type": "code",
      "source": [
        "with open('number.txt', 'w') as f:\n",
        "  f.write(str(random.randrange(1, 10)))"
      ],
      "metadata": {
        "id": "u_EOXEMIHBE1"
      },
      "execution_count": null,
      "outputs": []
    },
    {
      "cell_type": "code",
      "source": [
        "with open('number.txt', 'r') as f:\n",
        "  print(f.read())"
      ],
      "metadata": {
        "colab": {
          "base_uri": "https://localhost:8080/"
        },
        "id": "5XmNmfkcHfXt",
        "outputId": "bfeb1c53-8feb-4c0d-f04b-7dfa28557f3e"
      },
      "execution_count": null,
      "outputs": [
        {
          "output_type": "stream",
          "name": "stdout",
          "text": [
            "7\n"
          ]
        }
      ]
    }
  ]
}