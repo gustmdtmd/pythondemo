{
  "nbformat": 4,
  "nbformat_minor": 0,
  "metadata": {
    "colab": {
      "provenance": [],
      "mount_file_id": "1lZWyEekTjM6Ik_RdA86gVVtZyUGhUOTp",
      "authorship_tag": "ABX9TyNy2Ydfs5d8crBzGkloryf4",
      "include_colab_link": true
    },
    "kernelspec": {
      "name": "python3",
      "display_name": "Python 3"
    },
    "language_info": {
      "name": "python"
    }
  },
  "cells": [
    {
      "cell_type": "markdown",
      "metadata": {
        "id": "view-in-github",
        "colab_type": "text"
      },
      "source": [
        "<a href=\"https://colab.research.google.com/github/gustmdtmd/pythondemo/blob/main/100_colab_%ED%99%98%EA%B2%BD%EC%84%A4%EC%A0%95.ipynb\" target=\"_parent\"><img src=\"https://colab.research.google.com/assets/colab-badge.svg\" alt=\"Open In Colab\"/></a>"
      ]
    },
    {
      "cell_type": "code",
      "execution_count": 1,
      "metadata": {
        "colab": {
          "base_uri": "https://localhost:8080/"
        },
        "id": "GGrEGLQzyoI2",
        "outputId": "fdba626a-8f41-4072-814e-10d407375c92"
      },
      "outputs": [
        {
          "output_type": "stream",
          "name": "stdout",
          "text": [
            "/content\n"
          ]
        }
      ],
      "source": [
        "# 코랩에서 리눅스 명령어 사용시 앞에 ! 사용\n",
        "# 현재 위치를 나타내는 리눅스 명령어\n",
        "!pwd"
      ]
    },
    {
      "cell_type": "markdown",
      "source": [
        "### 1. 구글 코랩 환경"
      ],
      "metadata": {
        "id": "yYCvTkXa0UBW"
      }
    },
    {
      "cell_type": "code",
      "source": [
        "# os 확인 (코랩 버전 확인)\n",
        "!cat /etc/issue.net"
      ],
      "metadata": {
        "colab": {
          "base_uri": "https://localhost:8080/"
        },
        "id": "7kYdVAv50bGf",
        "outputId": "75ad32dd-e748-42b5-ab62-6039715ce7b2"
      },
      "execution_count": 3,
      "outputs": [
        {
          "output_type": "stream",
          "name": "stdout",
          "text": [
            "Ubuntu 18.04.6 LTS\n"
          ]
        }
      ]
    },
    {
      "cell_type": "code",
      "source": [
        "# cpu 확인\n",
        "!head /proc/cpuinfo"
      ],
      "metadata": {
        "colab": {
          "base_uri": "https://localhost:8080/"
        },
        "id": "yBPkvaiE0rSm",
        "outputId": "dde0205e-6c42-483d-cfa4-968df585165f"
      },
      "execution_count": 5,
      "outputs": [
        {
          "output_type": "stream",
          "name": "stdout",
          "text": [
            "processor\t: 0\n",
            "vendor_id\t: AuthenticAMD\n",
            "cpu family\t: 23\n",
            "model\t\t: 49\n",
            "model name\t: AMD EPYC 7B12\n",
            "stepping\t: 0\n",
            "microcode\t: 0x1000065\n",
            "cpu MHz\t\t: 2249.998\n",
            "cache size\t: 512 KB\n",
            "physical id\t: 0\n"
          ]
        }
      ]
    },
    {
      "cell_type": "code",
      "source": [
        "# memory 확인\n",
        "!head /proc/meminfo"
      ],
      "metadata": {
        "colab": {
          "base_uri": "https://localhost:8080/"
        },
        "id": "sJzRKeAE0ygf",
        "outputId": "61ac1739-2343-4f58-d300-480af8c0c165"
      },
      "execution_count": 6,
      "outputs": [
        {
          "output_type": "stream",
          "name": "stdout",
          "text": [
            "MemTotal:       13297228 kB\n",
            "MemFree:         8232116 kB\n",
            "MemAvailable:   12348684 kB\n",
            "Buffers:          331660 kB\n",
            "Cached:          3883636 kB\n",
            "SwapCached:            0 kB\n",
            "Active:           640204 kB\n",
            "Inactive:        4200800 kB\n",
            "Active(anon):        928 kB\n",
            "Inactive(anon):   546416 kB\n"
          ]
        }
      ]
    },
    {
      "cell_type": "markdown",
      "source": [
        "### 2. 구글 코랩 드라이버 연동"
      ],
      "metadata": {
        "id": "95IrCL35zm7P"
      }
    },
    {
      "cell_type": "code",
      "source": [
        "!pwd"
      ],
      "metadata": {
        "colab": {
          "base_uri": "https://localhost:8080/"
        },
        "id": "VaUp_9tL1KkX",
        "outputId": "db3ea53e-8973-4223-8d7a-77a6c329d637"
      },
      "execution_count": 7,
      "outputs": [
        {
          "output_type": "stream",
          "name": "stdout",
          "text": [
            "/content\n"
          ]
        }
      ]
    },
    {
      "cell_type": "code",
      "source": [
        "# 구글 드라이브 연동\n",
        "from google.colab import drive\n",
        "drive.mount('/content/drive')"
      ],
      "metadata": {
        "colab": {
          "base_uri": "https://localhost:8080/"
        },
        "id": "T-94NCObyzkg",
        "outputId": "18ce5e83-f51f-43b9-8abe-717a7f9b2156"
      },
      "execution_count": 13,
      "outputs": [
        {
          "output_type": "stream",
          "name": "stdout",
          "text": [
            "Drive already mounted at /content/drive; to attempt to forcibly remount, call drive.mount(\"/content/drive\", force_remount=True).\n"
          ]
        }
      ]
    },
    {
      "cell_type": "code",
      "source": [
        "# 경로 변경은 !가 아닌 % 사용\n",
        "%cd /content/drive/MyDrive/python_demo"
      ],
      "metadata": {
        "colab": {
          "base_uri": "https://localhost:8080/"
        },
        "id": "ScYn2SWnz2yw",
        "outputId": "255bb2bd-771d-4cdc-a8f4-df6733f34e62"
      },
      "execution_count": 16,
      "outputs": [
        {
          "output_type": "stream",
          "name": "stdout",
          "text": [
            "/content/drive/MyDrive/python_demo\n"
          ]
        }
      ]
    },
    {
      "cell_type": "code",
      "source": [
        "!pwd"
      ],
      "metadata": {
        "colab": {
          "base_uri": "https://localhost:8080/"
        },
        "id": "-Zb29fZ71qlQ",
        "outputId": "d9d4a0a1-9f81-4c5a-c5a1-aad536190992"
      },
      "execution_count": 17,
      "outputs": [
        {
          "output_type": "stream",
          "name": "stdout",
          "text": [
            "/content/drive/MyDrive/python_demo\n"
          ]
        }
      ]
    },
    {
      "cell_type": "code",
      "source": [
        "!ls"
      ],
      "metadata": {
        "colab": {
          "base_uri": "https://localhost:8080/"
        },
        "id": "uNS4x_rf1whG",
        "outputId": "b50b8e13-300a-4dee-dc1c-201f9ee2dfb2"
      },
      "execution_count": 22,
      "outputs": [
        {
          "output_type": "stream",
          "name": "stdout",
          "text": [
            " 자료\t\t\t     python_02_basic.ipynb\n",
            " 문제\t\t\t     python_03_statement.ipynb\n",
            "'100_colab 환경설정.ipynb'   python_04_function.ipynb\n",
            "'mod1 (1).py'\t\t     python_07_클래스.ipynb\n",
            " mod1.ipynb\t\t     python_08_파일입출력.ipynb\n",
            " partice.ipynb\t\t     python_10_정규표현식.ipynb\n",
            " __pycache__\t\t     python_11_numpy.ipynb\n",
            " python_01_markdown.ipynb    python_12_numpy.ipynb\n"
          ]
        }
      ]
    },
    {
      "cell_type": "code",
      "source": [],
      "metadata": {
        "id": "ZJvpJB582OCu"
      },
      "execution_count": null,
      "outputs": []
    }
  ]
}