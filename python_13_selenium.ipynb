{
  "nbformat": 4,
  "nbformat_minor": 0,
  "metadata": {
    "colab": {
      "provenance": [],
      "authorship_tag": "ABX9TyP7HleBUpqAg5R2uHOT3OO2",
      "include_colab_link": true
    },
    "kernelspec": {
      "name": "python3",
      "display_name": "Python 3"
    },
    "language_info": {
      "name": "python"
    }
  },
  "cells": [
    {
      "cell_type": "markdown",
      "metadata": {
        "id": "view-in-github",
        "colab_type": "text"
      },
      "source": [
        "<a href=\"https://colab.research.google.com/github/gustmdtmd/pythondemo/blob/main/python_13_selenium.ipynb\" target=\"_parent\"><img src=\"https://colab.research.google.com/assets/colab-badge.svg\" alt=\"Open In Colab\"/></a>"
      ]
    },
    {
      "cell_type": "markdown",
      "source": [
        "### Selenium\n",
        "- \"Web Application\"의 테스트를 자동화하기 위한 도구이다.\n",
        "- !pip install selenium\n",
        "- 참고사이트\n",
        "  - https://www.selenium.dev/documentation/webdriver/getting_started/upgrade_to_selenium_4/\n",
        "  - https://kibua20.tistory.com/228\n",
        "  - https://wikidocs.net/177133 (참고해서 보기 좋음)\n"
      ],
      "metadata": {
        "id": "Vb4l10dC1_lR"
      }
    },
    {
      "cell_type": "markdown",
      "source": [
        "### selenium V4"
      ],
      "metadata": {
        "id": "oeaV2pbM4dYg"
      }
    },
    {
      "cell_type": "markdown",
      "source": [
        "### 구글드라이브 연결"
      ],
      "metadata": {
        "id": "6Lts8_VO5J63"
      }
    },
    {
      "cell_type": "code",
      "source": [
        "from google.colab import drive\n",
        "drive.mount('/content/drive')\n",
        "\n",
        "%cd /content/drive/MyDrive/python_demo"
      ],
      "metadata": {
        "colab": {
          "base_uri": "https://localhost:8080/"
        },
        "id": "lUYZ1ada5DJm",
        "outputId": "e60f8dc6-89a1-4f43-fedd-45dcafd42e99"
      },
      "execution_count": 12,
      "outputs": [
        {
          "output_type": "stream",
          "name": "stdout",
          "text": [
            "Drive already mounted at /content/drive; to attempt to forcibly remount, call drive.mount(\"/content/drive\", force_remount=True).\n",
            "/content/drive/MyDrive/python_demo\n"
          ]
        }
      ]
    },
    {
      "cell_type": "code",
      "source": [
        "#!pip install selenium\n",
        "\n",
        "# 특정 버전 설치\n",
        "# !pip install selenium == 4.4.3\n",
        "\n",
        "#selenium  v4\n",
        "#!pip install webdriver-manager\n",
        "\n",
        "#구글코랩 selenium4\n",
        "!apt-get update\n",
        "!apt install chromium-chromedriver\n",
        "!cp /usr/lib/chromium-browser/chromedriver /usr/bin"
      ],
      "metadata": {
        "id": "wDfQiUdM4wEO",
        "colab": {
          "base_uri": "https://localhost:8080/"
        },
        "outputId": "9f18d857-bf75-4937-f3f8-5cb2f04824c2"
      },
      "execution_count": 13,
      "outputs": [
        {
          "output_type": "stream",
          "name": "stdout",
          "text": [
            "\r0% [Working]\r            \rHit:1 https://cloud.r-project.org/bin/linux/ubuntu bionic-cran40/ InRelease\n",
            "\r0% [Connecting to archive.ubuntu.com (185.125.190.39)] [Connecting to security.\r0% [1 InRelease gpgv 3,626 B] [Connecting to archive.ubuntu.com (185.125.190.39\r                                                                               \rHit:2 http://ppa.launchpad.net/c2d4u.team/c2d4u4.0+/ubuntu bionic InRelease\n",
            "\r0% [1 InRelease gpgv 3,626 B] [Waiting for headers] [Waiting for headers] [Wait\r                                                                               \rHit:3 http://security.ubuntu.com/ubuntu bionic-security InRelease\n",
            "\r0% [1 InRelease gpgv 3,626 B] [Waiting for headers] [Waiting for headers] [Conn\r                                                                               \rHit:4 http://archive.ubuntu.com/ubuntu bionic InRelease\n",
            "\r0% [1 InRelease gpgv 3,626 B] [Waiting for headers] [Waiting for headers] [Conn\r                                                                               \rIgn:5 https://developer.download.nvidia.com/compute/machine-learning/repos/ubuntu1804/x86_64  InRelease\n",
            "\r0% [1 InRelease gpgv 3,626 B] [Waiting for headers] [Connecting to ppa.launchpa\r                                                                               \rHit:6 https://developer.download.nvidia.com/compute/cuda/repos/ubuntu1804/x86_64  InRelease\n",
            "\r0% [1 InRelease gpgv 3,626 B] [Waiting for headers] [Connecting to ppa.launchpa\r0% [Waiting for headers] [Waiting for headers] [Connecting to ppa.launchpad.net\r0% [2 InRelease gpgv 15.9 kB] [Waiting for headers] [Waiting for headers] [Conn\r                                                                               \rHit:7 https://developer.download.nvidia.com/compute/machine-learning/repos/ubuntu1804/x86_64  Release\n",
            "Hit:8 http://archive.ubuntu.com/ubuntu bionic-updates InRelease\n",
            "Hit:9 http://ppa.launchpad.net/cran/libgit2/ubuntu bionic InRelease\n",
            "Hit:10 http://archive.ubuntu.com/ubuntu bionic-backports InRelease\n",
            "Hit:11 http://ppa.launchpad.net/deadsnakes/ppa/ubuntu bionic InRelease\n",
            "Hit:12 http://ppa.launchpad.net/graphics-drivers/ppa/ubuntu bionic InRelease\n",
            "Reading package lists... Done\n",
            "Reading package lists... Done\n",
            "Building dependency tree       \n",
            "Reading state information... Done\n",
            "chromium-chromedriver is already the newest version (108.0.5359.71-0ubuntu0.18.04.5).\n",
            "The following package was automatically installed and is no longer required:\n",
            "  libnvidia-common-460\n",
            "Use 'apt autoremove' to remove it.\n",
            "0 upgraded, 0 newly installed, 0 to remove and 34 not upgraded.\n",
            "cp: '/usr/lib/chromium-browser/chromedriver' and '/usr/bin/chromedriver' are the same file\n"
          ]
        }
      ]
    },
    {
      "cell_type": "markdown",
      "source": [
        "#### import"
      ],
      "metadata": {
        "id": "kX_C3AiT5_ws"
      }
    },
    {
      "cell_type": "code",
      "source": [
        "import requests\n",
        "from bs4 import BeautifulSoup\n",
        "import time\n",
        "from datetime import datetime\n",
        "\n",
        "from selenium import webdriver\n",
        "\n",
        "from selenium.webdriver.common.by import By\n",
        "from selenium.webdriver.support.ui import WebDriverWait \n",
        "from selenium.webdriver.support import expected_conditions as EC\n",
        "from selenium.webdriver.common.keys import Keys\n"
      ],
      "metadata": {
        "id": "KIoiZp61580-"
      },
      "execution_count": 53,
      "outputs": []
    },
    {
      "cell_type": "code",
      "source": [
        "#selenium V3\n",
        "#path = './lib/chromedriver.exe'\n",
        "#driver.get(path)\n",
        "\n",
        "\n",
        "#selenium V4\n",
        "#chrome_options = webdriver.ChromeOptions()\n",
        "#driver = webdriver.Chrome(service=Service(ChromeDriverManager().install()))\n",
        "\n",
        "\n",
        "#Colab에선 웹브라우저 창이 뜨지 않으므로 별도 설정한다.\n",
        "options = webdriver.ChromeOptions()\n",
        "options.add_argument('--headless')        # Head-less 설정\n",
        "options.add_argument('--no-sandbox')\n",
        "options.add_argument('--disable-dev-shm-usage')\n",
        "driver = webdriver.Chrome('chromedriver', options=options)"
      ],
      "metadata": {
        "id": "6fjjla257VOd"
      },
      "execution_count": 46,
      "outputs": []
    },
    {
      "cell_type": "markdown",
      "source": [
        "### Naver에서 id가 1개일 때 & 검색어 입력"
      ],
      "metadata": {
        "id": "wAG9OkHP6hEg"
      }
    },
    {
      "cell_type": "code",
      "source": [
        "url = 'https://www.naver.com/'\n",
        "driver.get(url)\n"
      ],
      "metadata": {
        "id": "KyVUimBA6p2G"
      },
      "execution_count": 27,
      "outputs": []
    },
    {
      "cell_type": "code",
      "source": [
        "# 크롤링 데이터 확인\n",
        "print(type(driver))\n",
        "#print(driver.page_source)\n",
        "\n",
        "print(type(driver.page_source))"
      ],
      "metadata": {
        "colab": {
          "base_uri": "https://localhost:8080/"
        },
        "id": "rguME5769l92",
        "outputId": "bbba2e67-44e8-475a-bccb-fe35e015c84a"
      },
      "execution_count": 28,
      "outputs": [
        {
          "output_type": "stream",
          "name": "stdout",
          "text": [
            "<class 'selenium.webdriver.chrome.webdriver.WebDriver'>\n",
            "<class 'str'>\n"
          ]
        }
      ]
    },
    {
      "cell_type": "code",
      "source": [
        "# WebElement로 리턴\n",
        "inputSearch = driver.find_element(By.ID, 'query')\n",
        "print(inputSearch)\n",
        "print(dir(inputSearch))\n",
        "\n",
        "# 검색어를 입력한다.\n",
        "inputSearch.send_keys('겨울왕국')\n",
        "\n",
        "# id='search_btn'인 검색버튼을 찾는다.\n",
        "buttonSearch = driver.find_element(By.ID, 'search_btn')\n",
        "\n",
        "print(inputSearch.get_attribute(\"value\"))\n",
        "\n",
        "# 검색버튼을 클릭\n",
        "buttonSearch.click()"
      ],
      "metadata": {
        "colab": {
          "base_uri": "https://localhost:8080/"
        },
        "id": "DXu1g7r89_pl",
        "outputId": "e8f7eee6-18c3-4d8f-d0b4-bef9aaf380e1"
      },
      "execution_count": 29,
      "outputs": [
        {
          "output_type": "stream",
          "name": "stdout",
          "text": [
            "<selenium.webdriver.remote.webelement.WebElement (session=\"0f1dfa99453bca6589a9019b5f0eea43\", element=\"3b26df1a-0339-423c-9f55-7ab1a352495e\")>\n",
            "['__abstractmethods__', '__class__', '__delattr__', '__dict__', '__dir__', '__doc__', '__eq__', '__format__', '__ge__', '__getattribute__', '__gt__', '__hash__', '__init__', '__init_subclass__', '__le__', '__lt__', '__module__', '__ne__', '__new__', '__reduce__', '__reduce_ex__', '__repr__', '__setattr__', '__sizeof__', '__str__', '__subclasshook__', '__weakref__', '_abc_impl', '_execute', '_id', '_parent', '_upload', 'accessible_name', 'aria_role', 'clear', 'click', 'find_element', 'find_elements', 'get_attribute', 'get_dom_attribute', 'get_property', 'id', 'is_displayed', 'is_enabled', 'is_selected', 'location', 'location_once_scrolled_into_view', 'parent', 'rect', 'screenshot', 'screenshot_as_base64', 'screenshot_as_png', 'send_keys', 'shadow_root', 'size', 'submit', 'tag_name', 'text', 'value_of_css_property']\n",
            "겨울왕국\n"
          ]
        }
      ]
    },
    {
      "cell_type": "markdown",
      "source": [
        "### Google에서 class가 1개일 때 & 검색어 입력"
      ],
      "metadata": {
        "id": "V1_S1mLYEEp9"
      }
    },
    {
      "cell_type": "code",
      "source": [
        "url = 'https://www.google.com/'\n",
        "driver.get(url)"
      ],
      "metadata": {
        "id": "zPR9GbYOBit9"
      },
      "execution_count": 30,
      "outputs": []
    },
    {
      "cell_type": "code",
      "source": [
        "btns = driver.find_element(By.CLASS_NAME, 'gLFyf')\n",
        "\n",
        "# 검색어를 입력한다.\n",
        "btns.send_keys('겨울왕국')\n",
        "\n",
        "print(btns.get_attribute('value'))\n",
        "# btns.click() = click이 안됨. 버튼이 아니기때문.\n",
        "btns.submit()"
      ],
      "metadata": {
        "colab": {
          "base_uri": "https://localhost:8080/"
        },
        "id": "LiepwoB9EV_U",
        "outputId": "9bc24309-d495-4056-cc5a-ad86908558c1"
      },
      "execution_count": 31,
      "outputs": [
        {
          "output_type": "stream",
          "name": "stdout",
          "text": [
            "겨울왕국\n"
          ]
        }
      ]
    },
    {
      "cell_type": "markdown",
      "source": [
        "### Daum에서 css가 여러개일 때"
      ],
      "metadata": {
        "id": "6TMeZWw4F4lM"
      }
    },
    {
      "cell_type": "code",
      "source": [
        "url = 'https://www.daum.net/'\n",
        "driver.get(url)"
      ],
      "metadata": {
        "id": "eYKk2pizFsmW"
      },
      "execution_count": 40,
      "outputs": []
    },
    {
      "cell_type": "code",
      "source": [
        "# selector가 여러개일 때\n",
        "\n",
        "ahtml = driver.find_element(By.CSS_SELECTOR, '.menu_service > ul > li:nth-child(4) a')\n",
        "print(type(ahtml))\n",
        "print(ahtml.text)\n",
        "ahtml.click()"
      ],
      "metadata": {
        "colab": {
          "base_uri": "https://localhost:8080/"
        },
        "id": "9f5Ga3peGMmU",
        "outputId": "5de919df-5e16-4327-eb01-fcbbd66be2cb"
      },
      "execution_count": 41,
      "outputs": [
        {
          "output_type": "stream",
          "name": "stdout",
          "text": [
            "<class 'selenium.webdriver.remote.webelement.WebElement'>\n",
            "지도\n"
          ]
        }
      ]
    },
    {
      "cell_type": "markdown",
      "source": [
        "### Naver에서 많이 본 뉴스 목록 보기"
      ],
      "metadata": {
        "id": "8PbAuhRIHu58"
      }
    },
    {
      "cell_type": "code",
      "source": [
        "url = 'https://www.naver.com/'\n",
        "driver.get(url)"
      ],
      "metadata": {
        "id": "oy9nqIBiHRms"
      },
      "execution_count": 50,
      "outputs": []
    },
    {
      "cell_type": "code",
      "source": [
        "# 클래스가 2개이면 .으로 이어준다.\n",
        "news = driver.find_element(By.CSS_SELECTOR, '#NM_FAVORITE > div.group_nav > ul.list_nav.NM_FAVORITE_LIST > li:nth-child(2) > a.nav')\n",
        "print(news.text)\n",
        "news.click()\n",
        "\n",
        "div_cjs_list = driver.find_elements(By.CSS_SELECTOR, 'div.cjs_journal_wrap._item_contents div.cjs_news_tw > div.cjs_t')\n",
        "print(len(div_cjs_list))\n",
        "\n",
        "for element_cjs in div_cjs_list:\n",
        "  print(element_cjs.text)"
      ],
      "metadata": {
        "id": "wkaISzG0ILn8",
        "colab": {
          "base_uri": "https://localhost:8080/"
        },
        "outputId": "dcbc327d-cc07-4f52-a76b-c9060020c221"
      },
      "execution_count": 51,
      "outputs": [
        {
          "output_type": "stream",
          "name": "stdout",
          "text": [
            "뉴스\n",
            "81\n",
            "“크로아티아 우승하면 벗겠다”…파격 공약 월드컵 미녀, 누구길래?\n",
            "해임건의안 후폭풍…예산안도 국정조사도 '꽉 막힌' 국회\n",
            "\"두 채까지는 중과 안해\"…종부세 완화 합의\n",
            "\"인터넷 방송 통해 유인\"..성매매 강요·폭행\n",
            "연장근로 단위 '주→월·연' 확대… '주 69시간 근로' 가능해진다\n",
            "\n",
            "\n",
            "\n",
            "\n",
            "\n",
            "\n",
            "\n",
            "\n",
            "\n",
            "\n",
            "\n",
            "\n",
            "\n",
            "\n",
            "\n",
            "\n",
            "\n",
            "\n",
            "\n",
            "\n",
            "\n",
            "\n",
            "\n",
            "\n",
            "\n",
            "\n",
            "\n",
            "\n",
            "\n",
            "\n",
            "\n",
            "\n",
            "\n",
            "\n",
            "\n",
            "\n",
            "\n",
            "\n",
            "\n",
            "\n",
            "\n",
            "\n",
            "\n",
            "\n",
            "\n",
            "\n",
            "\n",
            "\n",
            "\n",
            "\n",
            "\n",
            "\n",
            "\n",
            "\n",
            "\n",
            "\n",
            "\n",
            "\n",
            "\n",
            "\n",
            "\n",
            "\n",
            "\n",
            "\n",
            "\n",
            "\n",
            "\n",
            "\n",
            "\n",
            "\n",
            "\n",
            "\n",
            "\n",
            "\n",
            "\n",
            "\n"
          ]
        }
      ]
    },
    {
      "cell_type": "markdown",
      "source": [
        "### 시간창 대기 3가지\n",
        "- 일반적으로 시간창 대기는 time.sleep, implicity_wait, Explicit Waits 3가지 사용\n",
        "  - time.sleep : 그냥 지정한 시간만큼 기다린 뒤에 작업을 진행\n",
        "  - implicitly_wait : 지정한 시간만큼 기다려주고 그 이후는 기다리지 않음 , 지정한 시간동안 특정한 작업을 처리할 때 시간이 안되도 넘어간다.\n",
        "  - Explicit Waits : 특정 상태가 될 때까지 기다리고, 상태가 되면 바로 다음 실행"
      ],
      "metadata": {
        "id": "0gQDnOijQg5j"
      }
    },
    {
      "cell_type": "code",
      "source": [
        "# 무조건 지정된 time만큼 대기\n",
        "# time.sleep(5) # 5초까지 기다려준다.\n",
        "\n",
        "# 5초 driver.implicitly_wait(5)의 경우, 페이지가 2초만에 로딩된다면\n",
        "# 5초를 기다리지 않고 바로 다음 코드로 넘어간다.\n",
        "driver.implicitly_wait(5)\n",
        "\n",
        "url = 'https://www.daum.net/'\n",
        "driver.get(url)\n",
        "\n",
        "# 검색 버튼을 찾아서 누를건데, 최대 5초까지만 기다리겠다는 의미\n",
        "button = WebDriverWait(driver, 5).until(EC.presence_of_element_located((By.CSS_SELECTOR, '.menu_service > ul > li:nth-child(4) > a')))\n",
        "print(button.text)\n",
        "button.click()"
      ],
      "metadata": {
        "colab": {
          "base_uri": "https://localhost:8080/"
        },
        "id": "8O7t85kTIKE-",
        "outputId": "c69c4d86-ad77-4b86-88bf-4cd739d088bd"
      },
      "execution_count": 56,
      "outputs": [
        {
          "output_type": "stream",
          "name": "stdout",
          "text": [
            "지도\n"
          ]
        }
      ]
    },
    {
      "cell_type": "markdown",
      "source": [
        "### daum 로그인"
      ],
      "metadata": {
        "id": "R6_V2F3RWcsK"
      }
    },
    {
      "cell_type": "code",
      "source": [
        "url = 'https://www.daum.net/'\n",
        "driver.get(url)\n",
        "\n",
        "next = driver.find_element(By.XPATH, '//*[@id=\"inner_login\"]/a[1]')\n",
        "next.click()\n",
        "\n",
        "inputid = driver.find_element(By.ID, 'input-loginKey')\n",
        "\n",
        "inputpwd = driver.find_element(By.ID, 'input-password')\n",
        "\n",
        "time.sleep(3)\n",
        "\n",
        "inputid.send_keys('kaos5930@naver.com')\n",
        "inputpwd.send_keys('')\n",
        "\n",
        "login = driver.find_element(By.CLASS_NAME, 'btn_g highlight')\n",
        "login.click()"
      ],
      "metadata": {
        "colab": {
          "base_uri": "https://localhost:8080/",
          "height": 804
        },
        "id": "O0O5XNGgU4Ds",
        "outputId": "5d105ce8-4e2e-419a-b98f-2b07b8fcd8e8"
      },
      "execution_count": 57,
      "outputs": [
        {
          "output_type": "error",
          "ename": "NoSuchElementException",
          "evalue": "ignored",
          "traceback": [
            "\u001b[0;31m---------------------------------------------------------------------------\u001b[0m",
            "\u001b[0;31mNoSuchElementException\u001b[0m                    Traceback (most recent call last)",
            "\u001b[0;32m<ipython-input-57-1f9e4cebd10a>\u001b[0m in \u001b[0;36m<module>\u001b[0;34m\u001b[0m\n\u001b[1;32m     14\u001b[0m \u001b[0minputpwd\u001b[0m\u001b[0;34m.\u001b[0m\u001b[0msend_keys\u001b[0m\u001b[0;34m(\u001b[0m\u001b[0;34m'lhs5930@'\u001b[0m\u001b[0;34m)\u001b[0m\u001b[0;34m\u001b[0m\u001b[0;34m\u001b[0m\u001b[0m\n\u001b[1;32m     15\u001b[0m \u001b[0;34m\u001b[0m\u001b[0m\n\u001b[0;32m---> 16\u001b[0;31m \u001b[0mlogin\u001b[0m \u001b[0;34m=\u001b[0m \u001b[0mdriver\u001b[0m\u001b[0;34m.\u001b[0m\u001b[0mfind_element\u001b[0m\u001b[0;34m(\u001b[0m\u001b[0mBy\u001b[0m\u001b[0;34m.\u001b[0m\u001b[0mCLASS_NAME\u001b[0m\u001b[0;34m,\u001b[0m \u001b[0;34m'btn_g highlight'\u001b[0m\u001b[0;34m)\u001b[0m\u001b[0;34m\u001b[0m\u001b[0;34m\u001b[0m\u001b[0m\n\u001b[0m\u001b[1;32m     17\u001b[0m \u001b[0mlogin\u001b[0m\u001b[0;34m.\u001b[0m\u001b[0mclick\u001b[0m\u001b[0;34m(\u001b[0m\u001b[0;34m)\u001b[0m\u001b[0;34m\u001b[0m\u001b[0;34m\u001b[0m\u001b[0m\n",
            "\u001b[0;32m/usr/local/lib/python3.8/dist-packages/selenium/webdriver/remote/webdriver.py\u001b[0m in \u001b[0;36mfind_element\u001b[0;34m(self, by, value)\u001b[0m\n\u001b[1;32m    859\u001b[0m             \u001b[0mvalue\u001b[0m \u001b[0;34m=\u001b[0m \u001b[0;34m'[name=\"%s\"]'\u001b[0m \u001b[0;34m%\u001b[0m \u001b[0mvalue\u001b[0m\u001b[0;34m\u001b[0m\u001b[0;34m\u001b[0m\u001b[0m\n\u001b[1;32m    860\u001b[0m \u001b[0;34m\u001b[0m\u001b[0m\n\u001b[0;32m--> 861\u001b[0;31m         \u001b[0;32mreturn\u001b[0m \u001b[0mself\u001b[0m\u001b[0;34m.\u001b[0m\u001b[0mexecute\u001b[0m\u001b[0;34m(\u001b[0m\u001b[0mCommand\u001b[0m\u001b[0;34m.\u001b[0m\u001b[0mFIND_ELEMENT\u001b[0m\u001b[0;34m,\u001b[0m \u001b[0;34m{\u001b[0m\u001b[0;34m\"using\"\u001b[0m\u001b[0;34m:\u001b[0m \u001b[0mby\u001b[0m\u001b[0;34m,\u001b[0m \u001b[0;34m\"value\"\u001b[0m\u001b[0;34m:\u001b[0m \u001b[0mvalue\u001b[0m\u001b[0;34m}\u001b[0m\u001b[0;34m)\u001b[0m\u001b[0;34m[\u001b[0m\u001b[0;34m\"value\"\u001b[0m\u001b[0;34m]\u001b[0m\u001b[0;34m\u001b[0m\u001b[0;34m\u001b[0m\u001b[0m\n\u001b[0m\u001b[1;32m    862\u001b[0m \u001b[0;34m\u001b[0m\u001b[0m\n\u001b[1;32m    863\u001b[0m     \u001b[0;32mdef\u001b[0m \u001b[0mfind_elements\u001b[0m\u001b[0;34m(\u001b[0m\u001b[0mself\u001b[0m\u001b[0;34m,\u001b[0m \u001b[0mby\u001b[0m\u001b[0;34m=\u001b[0m\u001b[0mBy\u001b[0m\u001b[0;34m.\u001b[0m\u001b[0mID\u001b[0m\u001b[0;34m,\u001b[0m \u001b[0mvalue\u001b[0m\u001b[0;34m:\u001b[0m \u001b[0mOptional\u001b[0m\u001b[0;34m[\u001b[0m\u001b[0mstr\u001b[0m\u001b[0;34m]\u001b[0m \u001b[0;34m=\u001b[0m \u001b[0;32mNone\u001b[0m\u001b[0;34m)\u001b[0m \u001b[0;34m->\u001b[0m \u001b[0mList\u001b[0m\u001b[0;34m[\u001b[0m\u001b[0mWebElement\u001b[0m\u001b[0;34m]\u001b[0m\u001b[0;34m:\u001b[0m\u001b[0;34m\u001b[0m\u001b[0;34m\u001b[0m\u001b[0m\n",
            "\u001b[0;32m/usr/local/lib/python3.8/dist-packages/selenium/webdriver/remote/webdriver.py\u001b[0m in \u001b[0;36mexecute\u001b[0;34m(self, driver_command, params)\u001b[0m\n\u001b[1;32m    442\u001b[0m         \u001b[0mresponse\u001b[0m \u001b[0;34m=\u001b[0m \u001b[0mself\u001b[0m\u001b[0;34m.\u001b[0m\u001b[0mcommand_executor\u001b[0m\u001b[0;34m.\u001b[0m\u001b[0mexecute\u001b[0m\u001b[0;34m(\u001b[0m\u001b[0mdriver_command\u001b[0m\u001b[0;34m,\u001b[0m \u001b[0mparams\u001b[0m\u001b[0;34m)\u001b[0m\u001b[0;34m\u001b[0m\u001b[0;34m\u001b[0m\u001b[0m\n\u001b[1;32m    443\u001b[0m         \u001b[0;32mif\u001b[0m \u001b[0mresponse\u001b[0m\u001b[0;34m:\u001b[0m\u001b[0;34m\u001b[0m\u001b[0;34m\u001b[0m\u001b[0m\n\u001b[0;32m--> 444\u001b[0;31m             \u001b[0mself\u001b[0m\u001b[0;34m.\u001b[0m\u001b[0merror_handler\u001b[0m\u001b[0;34m.\u001b[0m\u001b[0mcheck_response\u001b[0m\u001b[0;34m(\u001b[0m\u001b[0mresponse\u001b[0m\u001b[0;34m)\u001b[0m\u001b[0;34m\u001b[0m\u001b[0;34m\u001b[0m\u001b[0m\n\u001b[0m\u001b[1;32m    445\u001b[0m             \u001b[0mresponse\u001b[0m\u001b[0;34m[\u001b[0m\u001b[0;34m\"value\"\u001b[0m\u001b[0;34m]\u001b[0m \u001b[0;34m=\u001b[0m \u001b[0mself\u001b[0m\u001b[0;34m.\u001b[0m\u001b[0m_unwrap_value\u001b[0m\u001b[0;34m(\u001b[0m\u001b[0mresponse\u001b[0m\u001b[0;34m.\u001b[0m\u001b[0mget\u001b[0m\u001b[0;34m(\u001b[0m\u001b[0;34m\"value\"\u001b[0m\u001b[0;34m,\u001b[0m \u001b[0;32mNone\u001b[0m\u001b[0;34m)\u001b[0m\u001b[0;34m)\u001b[0m\u001b[0;34m\u001b[0m\u001b[0;34m\u001b[0m\u001b[0m\n\u001b[1;32m    446\u001b[0m             \u001b[0;32mreturn\u001b[0m \u001b[0mresponse\u001b[0m\u001b[0;34m\u001b[0m\u001b[0;34m\u001b[0m\u001b[0m\n",
            "\u001b[0;32m/usr/local/lib/python3.8/dist-packages/selenium/webdriver/remote/errorhandler.py\u001b[0m in \u001b[0;36mcheck_response\u001b[0;34m(self, response)\u001b[0m\n\u001b[1;32m    247\u001b[0m                 \u001b[0malert_text\u001b[0m \u001b[0;34m=\u001b[0m \u001b[0mvalue\u001b[0m\u001b[0;34m[\u001b[0m\u001b[0;34m\"alert\"\u001b[0m\u001b[0;34m]\u001b[0m\u001b[0;34m.\u001b[0m\u001b[0mget\u001b[0m\u001b[0;34m(\u001b[0m\u001b[0;34m\"text\"\u001b[0m\u001b[0;34m)\u001b[0m\u001b[0;34m\u001b[0m\u001b[0;34m\u001b[0m\u001b[0m\n\u001b[1;32m    248\u001b[0m             \u001b[0;32mraise\u001b[0m \u001b[0mexception_class\u001b[0m\u001b[0;34m(\u001b[0m\u001b[0mmessage\u001b[0m\u001b[0;34m,\u001b[0m \u001b[0mscreen\u001b[0m\u001b[0;34m,\u001b[0m \u001b[0mstacktrace\u001b[0m\u001b[0;34m,\u001b[0m \u001b[0malert_text\u001b[0m\u001b[0;34m)\u001b[0m  \u001b[0;31m# type: ignore[call-arg]  # mypy is not smart enough here\u001b[0m\u001b[0;34m\u001b[0m\u001b[0;34m\u001b[0m\u001b[0m\n\u001b[0;32m--> 249\u001b[0;31m         \u001b[0;32mraise\u001b[0m \u001b[0mexception_class\u001b[0m\u001b[0;34m(\u001b[0m\u001b[0mmessage\u001b[0m\u001b[0;34m,\u001b[0m \u001b[0mscreen\u001b[0m\u001b[0;34m,\u001b[0m \u001b[0mstacktrace\u001b[0m\u001b[0;34m)\u001b[0m\u001b[0;34m\u001b[0m\u001b[0;34m\u001b[0m\u001b[0m\n\u001b[0m",
            "\u001b[0;31mNoSuchElementException\u001b[0m: Message: no such element: Unable to locate element: {\"method\":\"css selector\",\"selector\":\".btn_g highlight\"}\n  (Session info: headless chrome=108.0.5359.71)\nStacktrace:\n#0 0x55bf38772253 <unknown>\n#1 0x55bf384e82e1 <unknown>\n#2 0x55bf38524b45 <unknown>\n#3 0x55bf38524d71 <unknown>\n#4 0x55bf385619f7 <unknown>\n#5 0x55bf3854615d <unknown>\n#6 0x55bf3855f52c <unknown>\n#7 0x55bf38546493 <unknown>\n#8 0x55bf38517f73 <unknown>\n#9 0x55bf385195f5 <unknown>\n#10 0x55bf387f0080 <unknown>\n#11 0x55bf387aa9c9 <unknown>\n#12 0x55bf387aa420 <unknown>\n#13 0x55bf387ab1a5 <unknown>\n#14 0x55bf387ebc2b <unknown>\n#15 0x55bf387ab50e <unknown>\n#16 0x55bf3878ce17 <unknown>\n#17 0x55bf387b6248 <unknown>\n#18 0x55bf387b63e9 <unknown>\n#19 0x55bf387ce770 <unknown>\n#20 0x7fae18d8b6db start_thread\n"
          ]
        }
      ]
    }
  ]
}