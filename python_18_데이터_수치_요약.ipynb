{
  "nbformat": 4,
  "nbformat_minor": 0,
  "metadata": {
    "colab": {
      "provenance": [],
      "authorship_tag": "ABX9TyN8fTRLY7jv/dTcE22UV5Ve",
      "include_colab_link": true
    },
    "kernelspec": {
      "name": "python3",
      "display_name": "Python 3"
    },
    "language_info": {
      "name": "python"
    }
  },
  "cells": [
    {
      "cell_type": "markdown",
      "metadata": {
        "id": "view-in-github",
        "colab_type": "text"
      },
      "source": [
        "<a href=\"https://colab.research.google.com/github/gustmdtmd/pythondemo/blob/main/python_18_%EB%8D%B0%EC%9D%B4%ED%84%B0_%EC%88%98%EC%B9%98_%EC%9A%94%EC%95%BD.ipynb\" target=\"_parent\"><img src=\"https://colab.research.google.com/assets/colab-badge.svg\" alt=\"Open In Colab\"/></a>"
      ]
    },
    {
      "cell_type": "markdown",
      "source": [
        "## 4명의 키와 몸무게 계산(합계, 평균, 편차, 분산, 표준편차, 상관관계)\n",
        "  1. python을 이용한 4명의 키와 몸무게\n",
        "  2. numpy을 이용한 4명의 키와 몸무게"
      ],
      "metadata": {
        "id": "F16Wxc3uasQc"
      }
    },
    {
      "cell_type": "markdown",
      "source": [
        "### python을 이용한 4명의 키와 몸무게"
      ],
      "metadata": {
        "id": "B_pbJCLra_By"
      }
    },
    {
      "cell_type": "code",
      "source": [
        "height = [175,165,180,160]\n",
        "weight = [75,70,95,72]"
      ],
      "metadata": {
        "id": "NodPXdD0amK9"
      },
      "execution_count": 3,
      "outputs": []
    },
    {
      "cell_type": "markdown",
      "source": [
        "합계_height, weight"
      ],
      "metadata": {
        "id": "K-axAIV_bGoj"
      }
    },
    {
      "cell_type": "code",
      "source": [
        "h_sum = sum(height)\n",
        "w_sum = sum(weight)"
      ],
      "metadata": {
        "id": "XUPt-23AbE4k"
      },
      "execution_count": 4,
      "outputs": []
    },
    {
      "cell_type": "code",
      "source": [
        "print('키 합계 :' , h_sum)\n",
        "print('몸무게 합계: ', w_sum)"
      ],
      "metadata": {
        "colab": {
          "base_uri": "https://localhost:8080/"
        },
        "id": "H6njVmdgbQnE",
        "outputId": "01bb2b62-e235-4e7a-dd7f-c0c4e52e709c"
      },
      "execution_count": 10,
      "outputs": [
        {
          "output_type": "stream",
          "name": "stdout",
          "text": [
            "키 합계 : 680\n",
            "몸무게 합계:  312\n"
          ]
        }
      ]
    },
    {
      "cell_type": "markdown",
      "source": [
        "평균_height, weight"
      ],
      "metadata": {
        "id": "Px2uPlJNbjla"
      }
    },
    {
      "cell_type": "code",
      "source": [
        "length = len(height)"
      ],
      "metadata": {
        "id": "qAXUL6BobiWM"
      },
      "execution_count": 7,
      "outputs": []
    },
    {
      "cell_type": "code",
      "source": [
        "h_mean = h_sum/length\n",
        "w_mean = w_sum/length"
      ],
      "metadata": {
        "id": "oIiSfE5LbqU7"
      },
      "execution_count": 8,
      "outputs": []
    },
    {
      "cell_type": "code",
      "source": [
        "print('키 평균 :' , h_mean)\n",
        "print('몸무게 평균 :' , w_mean)"
      ],
      "metadata": {
        "colab": {
          "base_uri": "https://localhost:8080/"
        },
        "id": "6fJpIxMrbxj7",
        "outputId": "0e38c008-d1e4-45a7-9df4-4317f3431ce6"
      },
      "execution_count": 11,
      "outputs": [
        {
          "output_type": "stream",
          "name": "stdout",
          "text": [
            "키 평균 : 170.0\n",
            "몸무게 평균 : 78.0\n"
          ]
        }
      ]
    },
    {
      "cell_type": "markdown",
      "source": [
        "편차_height, weight  \n",
        "(기본 값에서 평균값을 뺀 값)"
      ],
      "metadata": {
        "id": "MvrsC0ipcB1T"
      }
    },
    {
      "cell_type": "code",
      "source": [
        "h_deviation = [i-h_mean for i in height]\n",
        "w_deviation = [i-w_mean for i in weight]"
      ],
      "metadata": {
        "id": "NFCyhrtGb_R8"
      },
      "execution_count": 12,
      "outputs": []
    },
    {
      "cell_type": "code",
      "source": [
        "print('키 편차 :' ,h_deviation, sum(h_deviation))\n",
        "print('몸무게 편차 :' ,w_deviation, sum(w_deviation))"
      ],
      "metadata": {
        "colab": {
          "base_uri": "https://localhost:8080/"
        },
        "id": "JAp_2EffcsNM",
        "outputId": "ab85379e-80af-4d31-ba10-f7e38c6216af"
      },
      "execution_count": 13,
      "outputs": [
        {
          "output_type": "stream",
          "name": "stdout",
          "text": [
            "키 편차 : [5.0, -5.0, 10.0, -10.0] 0.0\n",
            "몸무게 편차 : [-3.0, -8.0, 17.0, -6.0] 0.0\n"
          ]
        }
      ]
    },
    {
      "cell_type": "markdown",
      "source": [
        "분산_height, weight  \n",
        "(편차에 제곱의 평균값 - 데이터가 평균을 중심으로 얼마나 흩어져있는지)"
      ],
      "metadata": {
        "id": "aoKTwMuBdHL8"
      }
    },
    {
      "cell_type": "code",
      "source": [
        "h_data = [(i-h_mean)**2 for i in height]\n",
        "w_data = [(i-w_mean)**2 for i in weight]\n",
        "h_variance = sum(h_data)/length\n",
        "w_variance = sum(w_data)/length"
      ],
      "metadata": {
        "id": "HhJUL16ldInu"
      },
      "execution_count": 17,
      "outputs": []
    },
    {
      "cell_type": "code",
      "source": [
        "print('키 분산 :' , h_variance)\n",
        "print('몸무게 분산 :' , w_variance)"
      ],
      "metadata": {
        "colab": {
          "base_uri": "https://localhost:8080/"
        },
        "id": "dn0YWzs5dfeO",
        "outputId": "94ef8008-0f56-49f5-b2ec-99e451eaf57f"
      },
      "execution_count": 18,
      "outputs": [
        {
          "output_type": "stream",
          "name": "stdout",
          "text": [
            "키 분산 : 62.5\n",
            "몸무게 분산 : 99.5\n"
          ]
        }
      ]
    },
    {
      "cell_type": "markdown",
      "source": [
        "표준편차_height, weight  \n",
        "(편차에 루트(제곱근)를 씌운값 - 평균으로 부터 원래 데이타에 대한 오차범위의 근사값)\n"
      ],
      "metadata": {
        "id": "T_l6GBTpeFgc"
      }
    },
    {
      "cell_type": "code",
      "source": [
        "import math\n",
        "\n",
        "h_standard_deviation = math.sqrt(h_variance)\n",
        "w_standard_deviation = math.sqrt(w_variance)"
      ],
      "metadata": {
        "id": "PbSSJakLeP6d"
      },
      "execution_count": 19,
      "outputs": []
    },
    {
      "cell_type": "code",
      "source": [
        "print('키 표준편차 :', h_standard_deviation)\n",
        "print('몸무게 표준편차 :', w_standard_deviation)"
      ],
      "metadata": {
        "colab": {
          "base_uri": "https://localhost:8080/"
        },
        "id": "HBJkAn44eZzc",
        "outputId": "6ecf6ea1-21d2-4b4f-8863-0af6ae9cc168"
      },
      "execution_count": 20,
      "outputs": [
        {
          "output_type": "stream",
          "name": "stdout",
          "text": [
            "키 표준편차 : 7.905694150420948\n",
            "몸무게 표준편차 : 9.974968671630002\n"
          ]
        }
      ]
    },
    {
      "cell_type": "markdown",
      "source": [
        "공분산_height, weight  \n",
        "(키와 몸무게의 평균)"
      ],
      "metadata": {
        "id": "T1UU5R-perhc"
      }
    },
    {
      "cell_type": "code",
      "source": [
        "h_w_covariance = [i*j for i, j in zip(h_deviation, w_deviation)]\n",
        "print(h_w_covariance)\n",
        "\n",
        "h_w_covariance = sum(h_w_covariance)/length\n",
        "print(h_w_covariance)"
      ],
      "metadata": {
        "colab": {
          "base_uri": "https://localhost:8080/"
        },
        "id": "94OlNMqMe4fu",
        "outputId": "d0d2e450-1c47-4254-b7b5-b99e313d23e1"
      },
      "execution_count": 23,
      "outputs": [
        {
          "output_type": "stream",
          "name": "stdout",
          "text": [
            "[-15.0, 40.0, 170.0, 60.0]\n",
            "63.75\n"
          ]
        }
      ]
    },
    {
      "cell_type": "markdown",
      "source": [
        "상관계수_height, weight"
      ],
      "metadata": {
        "id": "2FdxZeUvfV9z"
      }
    },
    {
      "cell_type": "code",
      "source": [
        "h_w_coef = h_w_covariance / (h_standard_deviation * w_standard_deviation)\n",
        "print(h_w_coef)"
      ],
      "metadata": {
        "colab": {
          "base_uri": "https://localhost:8080/"
        },
        "id": "Si_b1y1efURc",
        "outputId": "cebd97e1-f579-4563-c08c-f323fe4c16bb"
      },
      "execution_count": 24,
      "outputs": [
        {
          "output_type": "stream",
          "name": "stdout",
          "text": [
            "0.8084043468090077\n"
          ]
        }
      ]
    },
    {
      "cell_type": "markdown",
      "source": [
        "### numpy을 이용한 4명의 키와 몸무게\n",
        "\n",
        "통계랑의 계산이나 기본적인 데이터 분석에 사용하는 함수로 scipy패키지에서 제공되나  \n",
        "sum, mean, var, cov, corrcoef 등은 Scipy2.0부터 remove되고 numpy에서 사용하도록 권장하고 있다."
      ],
      "metadata": {
        "id": "OMV2-Ai2mScb"
      }
    },
    {
      "cell_type": "code",
      "source": [
        "import numpy as np"
      ],
      "metadata": {
        "id": "3XTAF0Mnmrqc"
      },
      "execution_count": 25,
      "outputs": []
    },
    {
      "cell_type": "code",
      "source": [
        "height = [175,165,180,160]\n",
        "weight = [75,70,95,72]"
      ],
      "metadata": {
        "id": "6fv42bW4m0e1"
      },
      "execution_count": null,
      "outputs": []
    },
    {
      "cell_type": "markdown",
      "source": [
        "합계_height, weight"
      ],
      "metadata": {
        "id": "2uU9QtFkm6la"
      }
    },
    {
      "cell_type": "code",
      "source": [
        "h_sum = np.sum(height)\n",
        "w_sum = np.sum(weight)"
      ],
      "metadata": {
        "id": "BaCx0N2Hm6E7"
      },
      "execution_count": 26,
      "outputs": []
    },
    {
      "cell_type": "code",
      "source": [
        "print('키 합계 :', h_sum)\n",
        "print('몸무게 합계:', w_sum)"
      ],
      "metadata": {
        "colab": {
          "base_uri": "https://localhost:8080/"
        },
        "id": "Gn80qjbynFnu",
        "outputId": "37404220-bbe0-43ff-95a2-53fc63d92599"
      },
      "execution_count": 27,
      "outputs": [
        {
          "output_type": "stream",
          "name": "stdout",
          "text": [
            "680\n",
            "312\n"
          ]
        }
      ]
    },
    {
      "cell_type": "markdown",
      "source": [
        "평균_height, weight"
      ],
      "metadata": {
        "id": "AhjDJo4jm7X6"
      }
    },
    {
      "cell_type": "code",
      "source": [
        "h_mean = np.mean(height)\n",
        "w_mean = np.mean(weight)"
      ],
      "metadata": {
        "id": "rP_u9QHUnJFt"
      },
      "execution_count": 29,
      "outputs": []
    },
    {
      "cell_type": "code",
      "source": [
        "print('키 평균',h_mean)\n",
        "print('몸무게 평균',w_mean)"
      ],
      "metadata": {
        "colab": {
          "base_uri": "https://localhost:8080/"
        },
        "id": "yPRI2c3XnVky",
        "outputId": "df3346f3-0b24-48fc-d5b4-9433ab18c9ac"
      },
      "execution_count": 30,
      "outputs": [
        {
          "output_type": "stream",
          "name": "stdout",
          "text": [
            "170.0\n",
            "78.0\n"
          ]
        }
      ]
    },
    {
      "cell_type": "markdown",
      "source": [
        "편차_height, weight\n",
        "(기본 값에서 평균값을 뺀 값)"
      ],
      "metadata": {
        "id": "WSsceuVom9eS"
      }
    },
    {
      "cell_type": "code",
      "source": [
        "h_deviation = height - h_mean\n",
        "w_deviation = weight - w_mean"
      ],
      "metadata": {
        "id": "YvMHdvKfnZXO"
      },
      "execution_count": null,
      "outputs": []
    },
    {
      "cell_type": "code",
      "source": [
        "print('키 편차 :', h_deviation, np.sum(h_deviation))\n",
        "print('몸무게 편차 :', w_deviation, np.sum(w_deviation))"
      ],
      "metadata": {
        "colab": {
          "base_uri": "https://localhost:8080/"
        },
        "id": "SbiIZtoCnaBu",
        "outputId": "ed4e3ec8-2983-41e7-b195-25d8c5fcb5de"
      },
      "execution_count": 33,
      "outputs": [
        {
          "output_type": "stream",
          "name": "stdout",
          "text": [
            "키 편차 : [5.0, -5.0, 10.0, -10.0] 0.0\n",
            "몸무게 편차 : [-3.0, -8.0, 17.0, -6.0] 0.0\n"
          ]
        }
      ]
    },
    {
      "cell_type": "markdown",
      "source": [
        "분산_height, weight"
      ],
      "metadata": {
        "id": "CdEJesJInKvK"
      }
    },
    {
      "cell_type": "code",
      "source": [
        "h_variance = np.var(height)\n",
        "w_variance = np.var(weight)"
      ],
      "metadata": {
        "id": "DzHRm-Tzn-Bz"
      },
      "execution_count": 32,
      "outputs": []
    },
    {
      "cell_type": "code",
      "source": [
        "print('키 분산 :' , h_variance)\n",
        "print('몸무게 분산 :' , w_variance)"
      ],
      "metadata": {
        "colab": {
          "base_uri": "https://localhost:8080/"
        },
        "id": "22KOokJHn53J",
        "outputId": "8c9f1d81-74e1-4c93-c468-ff53a911bc2e"
      },
      "execution_count": 34,
      "outputs": [
        {
          "output_type": "stream",
          "name": "stdout",
          "text": [
            "키 분산 : 62.5\n",
            "몸무게 분산 : 99.5\n"
          ]
        }
      ]
    },
    {
      "cell_type": "markdown",
      "source": [
        "표준편차_height, weight"
      ],
      "metadata": {
        "id": "isZ9uXHSnceD"
      }
    },
    {
      "cell_type": "code",
      "source": [
        "h_standard_deviation = np.std(height)\n",
        "w_standard_deviation = np.std(weight)"
      ],
      "metadata": {
        "id": "chJ98yZ8oYWV"
      },
      "execution_count": 35,
      "outputs": []
    },
    {
      "cell_type": "code",
      "source": [
        "print('키 표준편차 :', h_standard_deviation)\n",
        "print('몸무게 표준편차 :', w_standard_deviation)"
      ],
      "metadata": {
        "colab": {
          "base_uri": "https://localhost:8080/"
        },
        "id": "RsS-BS0uonf1",
        "outputId": "1db9d692-506b-43e3-cdb2-fbff349571e1"
      },
      "execution_count": 36,
      "outputs": [
        {
          "output_type": "stream",
          "name": "stdout",
          "text": [
            "키 표준편차 : 7.905694150420948\n",
            "몸무게 표준편차 : 9.974968671630002\n"
          ]
        }
      ]
    },
    {
      "cell_type": "markdown",
      "source": [
        "공분산_height, weight"
      ],
      "metadata": {
        "id": "lipNlP4-nc5q"
      }
    },
    {
      "cell_type": "code",
      "source": [
        "# 공분산 매트릭스로 출력\n",
        "h_w_covariance = np.cov(height, weight, ddof=0) #default ddof = 0\n",
        "h_w_covariance"
      ],
      "metadata": {
        "colab": {
          "base_uri": "https://localhost:8080/"
        },
        "id": "vsFh2aIYoxaP",
        "outputId": "cc702881-a63c-456c-bfa2-6e0a20cebd6e"
      },
      "execution_count": 37,
      "outputs": [
        {
          "output_type": "execute_result",
          "data": {
            "text/plain": [
              "array([[62.5 , 63.75],\n",
              "       [63.75, 99.5 ]])"
            ]
          },
          "metadata": {},
          "execution_count": 37
        }
      ]
    },
    {
      "cell_type": "markdown",
      "source": [
        "상관계수_height, weight"
      ],
      "metadata": {
        "id": "5oPe68YunfnC"
      }
    },
    {
      "cell_type": "code",
      "source": [
        "# 상관계수 매트릭스로 출력\n",
        "np.corrcoef(height, weight)"
      ],
      "metadata": {
        "colab": {
          "base_uri": "https://localhost:8080/"
        },
        "id": "f8BlpOGXpjWa",
        "outputId": "03684859-5eb7-469d-8534-e96cb6eaa63e"
      },
      "execution_count": 38,
      "outputs": [
        {
          "output_type": "execute_result",
          "data": {
            "text/plain": [
              "array([[1.        , 0.80840435],\n",
              "       [0.80840435, 1.        ]])"
            ]
          },
          "metadata": {},
          "execution_count": 38
        }
      ]
    }
  ]
}