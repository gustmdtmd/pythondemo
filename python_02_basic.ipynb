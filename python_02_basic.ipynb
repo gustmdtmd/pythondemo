{
  "nbformat": 4,
  "nbformat_minor": 0,
  "metadata": {
    "colab": {
      "provenance": [],
      "authorship_tag": "ABX9TyORgfDjRHMzkYt+4lDR+PbO",
      "include_colab_link": true
    },
    "kernelspec": {
      "name": "python3",
      "display_name": "Python 3"
    },
    "language_info": {
      "name": "python"
    }
  },
  "cells": [
    {
      "cell_type": "markdown",
      "metadata": {
        "id": "view-in-github",
        "colab_type": "text"
      },
      "source": [
        "<a href=\"https://colab.research.google.com/github/gustmdtmd/pythondemo/blob/main/python_02_basic.ipynb\" target=\"_parent\"><img src=\"https://colab.research.google.com/assets/colab-badge.svg\" alt=\"Open In Colab\"/></a>"
      ]
    },
    {
      "cell_type": "code",
      "source": [
        "import this"
      ],
      "metadata": {
        "id": "GtyInBOybgdz"
      },
      "execution_count": 13,
      "outputs": []
    },
    {
      "cell_type": "code",
      "source": [
        "import antigravity"
      ],
      "metadata": {
        "id": "ndIK1Tvnaysc"
      },
      "execution_count": 3,
      "outputs": []
    },
    {
      "cell_type": "code",
      "source": [
        "antigravity"
      ],
      "metadata": {
        "colab": {
          "base_uri": "https://localhost:8080/"
        },
        "id": "WUBUeTnwa2hz",
        "outputId": "2e7f9c5e-57e6-4d87-a815-505309a2992c"
      },
      "execution_count": 7,
      "outputs": [
        {
          "output_type": "execute_result",
          "data": {
            "text/plain": [
              "<module 'antigravity' from '/usr/lib/python3.7/antigravity.py'>"
            ]
          },
          "metadata": {},
          "execution_count": 7
        }
      ]
    },
    {
      "cell_type": "code",
      "source": [
        "import keyword\n",
        "keyword.kwlist"
      ],
      "metadata": {
        "colab": {
          "base_uri": "https://localhost:8080/"
        },
        "id": "Mw-xBJoBa81T",
        "outputId": "1638c006-6279-4218-c39d-4e3d0d44075b"
      },
      "execution_count": 10,
      "outputs": [
        {
          "output_type": "execute_result",
          "data": {
            "text/plain": [
              "['False',\n",
              " 'None',\n",
              " 'True',\n",
              " 'and',\n",
              " 'as',\n",
              " 'assert',\n",
              " 'async',\n",
              " 'await',\n",
              " 'break',\n",
              " 'class',\n",
              " 'continue',\n",
              " 'def',\n",
              " 'del',\n",
              " 'elif',\n",
              " 'else',\n",
              " 'except',\n",
              " 'finally',\n",
              " 'for',\n",
              " 'from',\n",
              " 'global',\n",
              " 'if',\n",
              " 'import',\n",
              " 'in',\n",
              " 'is',\n",
              " 'lambda',\n",
              " 'nonlocal',\n",
              " 'not',\n",
              " 'or',\n",
              " 'pass',\n",
              " 'raise',\n",
              " 'return',\n",
              " 'try',\n",
              " 'while',\n",
              " 'with',\n",
              " 'yield']"
            ]
          },
          "metadata": {},
          "execution_count": 10
        }
      ]
    },
    {
      "cell_type": "code",
      "source": [
        "len(keyword.kwlist)"
      ],
      "metadata": {
        "colab": {
          "base_uri": "https://localhost:8080/"
        },
        "id": "BVDOZRdUbR37",
        "outputId": "b534e59d-47c1-4360-ffd0-130f64e034e0"
      },
      "execution_count": 11,
      "outputs": [
        {
          "output_type": "execute_result",
          "data": {
            "text/plain": [
              "35"
            ]
          },
          "metadata": {},
          "execution_count": 11
        }
      ]
    },
    {
      "cell_type": "code",
      "source": [
        "print('Hello World')"
      ],
      "metadata": {
        "colab": {
          "base_uri": "https://localhost:8080/"
        },
        "id": "sZEV5IoAbbZg",
        "outputId": "ba9aa3da-0776-4311-f180-32547c664be9"
      },
      "execution_count": 14,
      "outputs": [
        {
          "output_type": "stream",
          "name": "stdout",
          "text": [
            "Hello World\n"
          ]
        }
      ]
    },
    {
      "cell_type": "code",
      "source": [
        "print(\"Hello World\")"
      ],
      "metadata": {
        "colab": {
          "base_uri": "https://localhost:8080/"
        },
        "id": "eOiaSSfwb2Me",
        "outputId": "eaeaf38e-5f67-41d2-af2a-702a85a62ffe"
      },
      "execution_count": 15,
      "outputs": [
        {
          "output_type": "stream",
          "name": "stdout",
          "text": [
            "Hello World\n"
          ]
        }
      ]
    },
    {
      "cell_type": "code",
      "source": [
        "print(\"python\"); print(\"module\")"
      ],
      "metadata": {
        "colab": {
          "base_uri": "https://localhost:8080/"
        },
        "id": "qdKcMiAdfyKN",
        "outputId": "7253e5c8-16ee-497e-d762-478daada32da"
      },
      "execution_count": 21,
      "outputs": [
        {
          "output_type": "stream",
          "name": "stdout",
          "text": [
            "python\n",
            "module\n"
          ]
        }
      ]
    },
    {
      "cell_type": "code",
      "source": [
        "a = 10; b = 20\n",
        "if(a==10) and \\\n",
        " (b==20):\n",
        "     print(\"OK\")"
      ],
      "metadata": {
        "colab": {
          "base_uri": "https://localhost:8080/"
        },
        "id": "3eNeEG1KhQGt",
        "outputId": "a1472fef-a16a-46aa-a283-eefd46ba3d8a"
      },
      "execution_count": 19,
      "outputs": [
        {
          "output_type": "stream",
          "name": "stdout",
          "text": [
            "OK\n"
          ]
        }
      ]
    },
    {
      "cell_type": "code",
      "source": [
        "pen=ko=100\n",
        "print(pen)\n",
        "print(ko)"
      ],
      "metadata": {
        "colab": {
          "base_uri": "https://localhost:8080/"
        },
        "id": "TwTh41HujCHh",
        "outputId": "9ff135d9-cb36-4df2-c293-09e33531d2f6"
      },
      "execution_count": 22,
      "outputs": [
        {
          "output_type": "stream",
          "name": "stdout",
          "text": [
            "100\n",
            "100\n"
          ]
        }
      ]
    },
    {
      "cell_type": "code",
      "source": [
        "language='korea'\n",
        "body=\"tag\"\n",
        "print(language)\n",
        "print(body)"
      ],
      "metadata": {
        "colab": {
          "base_uri": "https://localhost:8080/"
        },
        "id": "CT4tuLC_jMis",
        "outputId": "6d21784d-7ddb-4a52-edfd-c0a8831895ef"
      },
      "execution_count": 23,
      "outputs": [
        {
          "output_type": "stream",
          "name": "stdout",
          "text": [
            "korea\n",
            "tag\n"
          ]
        }
      ]
    },
    {
      "cell_type": "code",
      "source": [
        "a = 1\n",
        "a = eval('a + 4')\n",
        "print(a)"
      ],
      "metadata": {
        "colab": {
          "base_uri": "https://localhost:8080/"
        },
        "id": "FAOPPTn4jZhb",
        "outputId": "8553ed89-4c88-4b11-ed12-4997b1a47289"
      },
      "execution_count": 27,
      "outputs": [
        {
          "output_type": "stream",
          "name": "stdout",
          "text": [
            "5\n"
          ]
        }
      ]
    },
    {
      "cell_type": "code",
      "source": [
        "type(5)\n",
        "type(85.3)\n",
        "type([1,5,8])\n",
        "type((2,6,7))"
      ],
      "metadata": {
        "colab": {
          "base_uri": "https://localhost:8080/"
        },
        "id": "cGtG3rp-jpiT",
        "outputId": "c23b9b49-a330-4989-ca1c-9a5b2ada82d3"
      },
      "execution_count": 31,
      "outputs": [
        {
          "output_type": "execute_result",
          "data": {
            "text/plain": [
              "tuple"
            ]
          },
          "metadata": {},
          "execution_count": 31
        }
      ]
    },
    {
      "cell_type": "code",
      "source": [
        "dir(str)\n",
        "dir(int)"
      ],
      "metadata": {
        "colab": {
          "base_uri": "https://localhost:8080/"
        },
        "id": "N1HMMyP9lur0",
        "outputId": "5d0ecc5f-2b86-4b78-9305-c676ccc813e3"
      },
      "execution_count": 33,
      "outputs": [
        {
          "output_type": "execute_result",
          "data": {
            "text/plain": [
              "['__abs__',\n",
              " '__add__',\n",
              " '__and__',\n",
              " '__bool__',\n",
              " '__ceil__',\n",
              " '__class__',\n",
              " '__delattr__',\n",
              " '__dir__',\n",
              " '__divmod__',\n",
              " '__doc__',\n",
              " '__eq__',\n",
              " '__float__',\n",
              " '__floor__',\n",
              " '__floordiv__',\n",
              " '__format__',\n",
              " '__ge__',\n",
              " '__getattribute__',\n",
              " '__getnewargs__',\n",
              " '__gt__',\n",
              " '__hash__',\n",
              " '__index__',\n",
              " '__init__',\n",
              " '__init_subclass__',\n",
              " '__int__',\n",
              " '__invert__',\n",
              " '__le__',\n",
              " '__lshift__',\n",
              " '__lt__',\n",
              " '__mod__',\n",
              " '__mul__',\n",
              " '__ne__',\n",
              " '__neg__',\n",
              " '__new__',\n",
              " '__or__',\n",
              " '__pos__',\n",
              " '__pow__',\n",
              " '__radd__',\n",
              " '__rand__',\n",
              " '__rdivmod__',\n",
              " '__reduce__',\n",
              " '__reduce_ex__',\n",
              " '__repr__',\n",
              " '__rfloordiv__',\n",
              " '__rlshift__',\n",
              " '__rmod__',\n",
              " '__rmul__',\n",
              " '__ror__',\n",
              " '__round__',\n",
              " '__rpow__',\n",
              " '__rrshift__',\n",
              " '__rshift__',\n",
              " '__rsub__',\n",
              " '__rtruediv__',\n",
              " '__rxor__',\n",
              " '__setattr__',\n",
              " '__sizeof__',\n",
              " '__str__',\n",
              " '__sub__',\n",
              " '__subclasshook__',\n",
              " '__truediv__',\n",
              " '__trunc__',\n",
              " '__xor__',\n",
              " 'bit_length',\n",
              " 'conjugate',\n",
              " 'denominator',\n",
              " 'from_bytes',\n",
              " 'imag',\n",
              " 'numerator',\n",
              " 'real',\n",
              " 'to_bytes']"
            ]
          },
          "metadata": {},
          "execution_count": 33
        }
      ]
    },
    {
      "cell_type": "code",
      "source": [
        "help(str.index)"
      ],
      "metadata": {
        "colab": {
          "base_uri": "https://localhost:8080/"
        },
        "id": "FLfVvLzInIct",
        "outputId": "502cfa82-bb48-411f-a9a6-218386cb91ba"
      },
      "execution_count": 34,
      "outputs": [
        {
          "output_type": "stream",
          "name": "stdout",
          "text": [
            "Help on method_descriptor:\n",
            "\n",
            "index(...)\n",
            "    S.index(sub[, start[, end]]) -> int\n",
            "    \n",
            "    Return the lowest index in S where substring sub is found, \n",
            "    such that sub is contained within S[start:end].  Optional\n",
            "    arguments start and end are interpreted as in slice notation.\n",
            "    \n",
            "    Raises ValueError when the substring is not found.\n",
            "\n"
          ]
        }
      ]
    },
    {
      "cell_type": "code",
      "source": [
        "data = 1 + 2j\n",
        "#실수\n",
        "print(data.real)\n",
        "#허수\n",
        "print(data.imag)"
      ],
      "metadata": {
        "colab": {
          "base_uri": "https://localhost:8080/"
        },
        "id": "9chZzXsonXCs",
        "outputId": "d0704235-5146-4310-f361-cb7ddd6047d6"
      },
      "execution_count": 38,
      "outputs": [
        {
          "output_type": "stream",
          "name": "stdout",
          "text": [
            "1.0\n",
            "2.0\n"
          ]
        }
      ]
    },
    {
      "cell_type": "code",
      "source": [
        "x=10; y=20\n",
        "divmod(x,y) # (x // y, x % y)쌍을 구한다.\n",
        "pow(x,y) # x의 y승을 구한다. 제곱근"
      ],
      "metadata": {
        "colab": {
          "base_uri": "https://localhost:8080/"
        },
        "id": "cgQ46JLVn51k",
        "outputId": "e2e6d8fa-e23d-4d90-c29b-fb763eb89a2a"
      },
      "execution_count": 40,
      "outputs": [
        {
          "output_type": "execute_result",
          "data": {
            "text/plain": [
              "100000000000000000000"
            ]
          },
          "metadata": {},
          "execution_count": 40
        }
      ]
    },
    {
      "cell_type": "code",
      "source": [
        "import sys\n",
        "\n",
        "sys.maxsize # 현재시스템에서 제공되는 가장 큰 값"
      ],
      "metadata": {
        "colab": {
          "base_uri": "https://localhost:8080/"
        },
        "id": "uoACXGwruZTF",
        "outputId": "0d94f7be-4075-4689-92c8-86ae5d586e65"
      },
      "execution_count": 44,
      "outputs": [
        {
          "output_type": "execute_result",
          "data": {
            "text/plain": [
              "9223372036854775807"
            ]
          },
          "metadata": {},
          "execution_count": 44
        }
      ]
    },
    {
      "cell_type": "code",
      "source": [
        "9223372036854775807 + 1\n",
        "# 최대값에 1을 더해도 오버플로우가 발생하지 않는다."
      ],
      "metadata": {
        "colab": {
          "base_uri": "https://localhost:8080/"
        },
        "id": "882bzuyouvCb",
        "outputId": "e6a0cdab-6cb9-48b3-9942-da7babbfb038"
      },
      "execution_count": 47,
      "outputs": [
        {
          "output_type": "execute_result",
          "data": {
            "text/plain": [
              "9223372036854775808"
            ]
          },
          "metadata": {},
          "execution_count": 47
        }
      ]
    },
    {
      "cell_type": "code",
      "source": [
        "s_val = 'hello python!'\n",
        "s_val[1] # 'e'\n",
        "s_val[0:3] # 'hel'\n",
        "s_val[1:] # 'ello python!'\n",
        "s_val[:3] # 'hel'\n",
        "s_val[:] #s_val와 같다.\n",
        "s_val[-1] # '!'\n",
        "s_val[::2] # 'hlopto!' 2단계마다 가져오기\n",
        "s_val[::-2] #'!otpolh'\n",
        "s_val[::-1] #'!nohtyp olleh'\n",
        "s_val2 = 'hello' + ' ' + 'python!'\n",
        "s_val2 # 'hello python!'\n",
        "s_val3 = 'win' * 3\n",
        "s_val3 # 'winwinwin'\n",
        "s_val3 = 'hello python!'\n",
        "s_val4 = 'H' + s_val3[1:] #'Hello python!'\n",
        "s_val4\n",
        "len(s_val4) # 13 . 문자열의 길이"
      ],
      "metadata": {
        "colab": {
          "base_uri": "https://localhost:8080/"
        },
        "id": "XWIdfK7WvCVL",
        "outputId": "5f2625e3-99b5-443e-df02-d82acbc8678c"
      },
      "execution_count": 70,
      "outputs": [
        {
          "output_type": "execute_result",
          "data": {
            "text/plain": [
              "13"
            ]
          },
          "metadata": {},
          "execution_count": 70
        }
      ]
    },
    {
      "cell_type": "code",
      "source": [
        "# in 연산자로 멤버 검사를 해서 부분 문자열의 존재를 확인\n",
        "'python' in s_val4 #'python'가 문자열 s_val4안에 있는가? Ture\n",
        "'python' not in s_val4 #'python'가 문자열 s_val4안에 없는가? False"
      ],
      "metadata": {
        "colab": {
          "base_uri": "https://localhost:8080/"
        },
        "id": "zCMYERqIwgoL",
        "outputId": "a6a6c791-53d1-4118-b3bd-d86200c70b39"
      },
      "execution_count": 73,
      "outputs": [
        {
          "output_type": "execute_result",
          "data": {
            "text/plain": [
              "False"
            ]
          },
          "metadata": {},
          "execution_count": 73
        }
      ]
    },
    {
      "cell_type": "code",
      "source": [
        "#''' or \"\"\"\n",
        "s_val5 = '''돈이 다 무슨 소용인가? 사람이 아침에 일어나고 밤에 잠자리에\n",
        "들며 그 사이에 하고 싶은 일을 한다면 그 사람은 성공한 것이다.'''\n",
        "s_val5"
      ],
      "metadata": {
        "colab": {
          "base_uri": "https://localhost:8080/",
          "height": 54
        },
        "id": "ST3ZXEbT0Pdb",
        "outputId": "40f62ce3-8539-4c33-8b56-13f8028a8456"
      },
      "execution_count": 81,
      "outputs": [
        {
          "output_type": "execute_result",
          "data": {
            "text/plain": [
              "'돈이 다 무슨 소용인가? 사람이 아침에 일어나고 밤에 잠자리에\\n들며 그 사이에 하고 싶은 일을 한다면 그 사람은 성공한 것이다.'"
            ],
            "application/vnd.google.colaboratory.intrinsic+json": {
              "type": "string"
            }
          },
          "metadata": {},
          "execution_count": 81
        }
      ]
    },
    {
      "cell_type": "code",
      "source": [
        "# 키보드로 데이터 입력받기\n",
        "input('3+2?')"
      ],
      "metadata": {
        "colab": {
          "base_uri": "https://localhost:8080/"
        },
        "id": "ubj-Ycuu1FAb",
        "outputId": "bd3454d0-3d44-4f55-f80c-7e61b03f7612"
      },
      "execution_count": 83,
      "outputs": [
        {
          "name": "stdout",
          "output_type": "stream",
          "text": [
            "3+2?5\n",
            "첫번재정수 입력:10\n"
          ]
        }
      ]
    },
    {
      "cell_type": "code",
      "source": [
        "input()"
      ],
      "metadata": {
        "colab": {
          "base_uri": "https://localhost:8080/",
          "height": 54
        },
        "id": "SW6dyXsR_E3o",
        "outputId": "7ce6cd0a-422f-43bb-e6c6-8ffaa9830cc7"
      },
      "execution_count": 98,
      "outputs": [
        {
          "name": "stdout",
          "output_type": "stream",
          "text": [
            "10\n"
          ]
        },
        {
          "output_type": "execute_result",
          "data": {
            "text/plain": [
              "'10'"
            ],
            "application/vnd.google.colaboratory.intrinsic+json": {
              "type": "string"
            }
          },
          "metadata": {},
          "execution_count": 98
        }
      ]
    },
    {
      "cell_type": "code",
      "source": [
        "#console창으로 받으므로 타입이 String이다.\n",
        "a=input('첫번재정수 입력:')\n",
        "type(a)\n",
        "b=input('두번째정수 입력:')\n",
        "type(b)\n",
        "c=int(a) + int(b)\n",
        "print(c)"
      ],
      "metadata": {
        "colab": {
          "base_uri": "https://localhost:8080/"
        },
        "id": "UKhmZQUI1hX6",
        "outputId": "a27132c2-ef06-469a-e0b3-6738890c23ee"
      },
      "execution_count": 87,
      "outputs": [
        {
          "output_type": "stream",
          "name": "stdout",
          "text": [
            "첫번재정수 입력:10\n",
            "두번째정수 입력:6\n",
            "16\n"
          ]
        }
      ]
    },
    {
      "cell_type": "code",
      "source": [
        "# %사용\n",
        "s_val6 = 'python'\n",
        "s_val7 = 83.5\n",
        "print('%s의 점수는 %0.1f입니다.'%(s_val6, s_val7)) #python1,2방식"
      ],
      "metadata": {
        "colab": {
          "base_uri": "https://localhost:8080/"
        },
        "id": "gxtBwsrp11Jk",
        "outputId": "cb04f9f5-e0ca-4c51-e8ef-bfdbb9dda605"
      },
      "execution_count": 90,
      "outputs": [
        {
          "output_type": "stream",
          "name": "stdout",
          "text": [
            "python의 점수는 83.5입니다.\n"
          ]
        }
      ]
    },
    {
      "cell_type": "code",
      "source": [
        " #'{인덱스}'.format(값)\n",
        "'Hello,{0} {1} {2}'.format('Python','Script',3.6) #Hello,Python Script 3.6\n",
        "'Hello,{0} {2} {1}'.format('Python','Script',3.6) #Hello,Python 3.6 Script"
      ],
      "metadata": {
        "colab": {
          "base_uri": "https://localhost:8080/",
          "height": 35
        },
        "id": "qQ8OVTku2mX8",
        "outputId": "11ba267c-dbdf-4a66-e695-da5c065285c0"
      },
      "execution_count": 95,
      "outputs": [
        {
          "output_type": "execute_result",
          "data": {
            "text/plain": [
              "'Hello,Python Script 3.6'"
            ],
            "application/vnd.google.colaboratory.intrinsic+json": {
              "type": "string"
            }
          },
          "metadata": {},
          "execution_count": 95
        }
      ]
    },
    {
      "cell_type": "code",
      "source": [
        "'Hello,{} {}'.format('Python', 3.6)\n",
        "'Hello,{language} {version}'.format(language='Python', version=3.6)"
      ],
      "metadata": {
        "colab": {
          "base_uri": "https://localhost:8080/",
          "height": 35
        },
        "id": "4M7KYb6s3QBL",
        "outputId": "22a943c5-01d8-436c-f7b9-18f345a509f8"
      },
      "execution_count": 97,
      "outputs": [
        {
          "output_type": "execute_result",
          "data": {
            "text/plain": [
              "'Hello,Python 3.6'"
            ],
            "application/vnd.google.colaboratory.intrinsic+json": {
              "type": "string"
            }
          },
          "metadata": {},
          "execution_count": 97
        }
      ]
    },
    {
      "cell_type": "code",
      "source": [
        "#변수에 값을 먼저 넣어준 후 대입\n",
        "language = 'Python'\n",
        "version = 3.6\n",
        "'Hello, {language} {version}'"
      ],
      "metadata": {
        "colab": {
          "base_uri": "https://localhost:8080/",
          "height": 35
        },
        "id": "5qMiQhg-_356",
        "outputId": "467a0c19-f668-41d5-f712-f835dbb7995e"
      },
      "execution_count": 107,
      "outputs": [
        {
          "output_type": "execute_result",
          "data": {
            "text/plain": [
              "'Hello, {language} {version}'"
            ],
            "application/vnd.google.colaboratory.intrinsic+json": {
              "type": "string"
            }
          },
          "metadata": {},
          "execution_count": 107
        }
      ]
    },
    {
      "cell_type": "code",
      "source": [
        "#sep는 'seperator'의 약어이며 항목 사이에 삽입할 문자열을 지정\n",
        "hp1 = '010'\n",
        "hp2 = '2531'\n",
        "hp3 = '9234'\n",
        "print(hp1, hp2, hp3, sep='-')"
      ],
      "metadata": {
        "colab": {
          "base_uri": "https://localhost:8080/"
        },
        "id": "POVdMVyHAR-q",
        "outputId": "e39c9685-f95b-472f-9237-a0035d981dce"
      },
      "execution_count": 108,
      "outputs": [
        {
          "output_type": "stream",
          "name": "stdout",
          "text": [
            "010-2531-9234\n"
          ]
        }
      ]
    },
    {
      "cell_type": "code",
      "source": [
        "print('korea'.upper()) #KOREA\n",
        "print('KOREA'.lower()) #korea\n",
        "print('korea'.swapcase()) #KOREA\n",
        "print('KOREA'.swapcase()) #korea\n",
        "print('we are the world'.title()) #We Are The World\n",
        "print('we are the world'.capitalize()) #We are the world\n"
      ],
      "metadata": {
        "colab": {
          "base_uri": "https://localhost:8080/"
        },
        "id": "WWKPGnbZBnLS",
        "outputId": "ca33abb6-3d99-462e-8f46-50cca0f55194"
      },
      "execution_count": 115,
      "outputs": [
        {
          "output_type": "stream",
          "name": "stdout",
          "text": [
            "KOREA\n",
            "korea\n",
            "KOREA\n",
            "korea\n",
            "We Are The World\n",
            "We are the world\n"
          ]
        }
      ]
    },
    {
      "cell_type": "code",
      "source": [
        "print('KORea'.islower())\n",
        "print('korea'.islower())\n",
        "print('KORea'.isupper())\n",
        "print('KOREA'.isupper())"
      ],
      "metadata": {
        "colab": {
          "base_uri": "https://localhost:8080/"
        },
        "id": "X97-dwagD4IT",
        "outputId": "6a15c762-d429-40d6-baee-1a28fc769411"
      },
      "execution_count": 120,
      "outputs": [
        {
          "output_type": "stream",
          "name": "stdout",
          "text": [
            "False\n",
            "True\n",
            "False\n",
            "True\n"
          ]
        }
      ]
    },
    {
      "cell_type": "code",
      "source": [
        "print('we are the world'.find('are'))\n",
        "print('we are the world'.find('world')) #11\n",
        "print('we are the world'.find('WORLE')) #-1 대소문자 구분함\n",
        "print('we are the world'.index('are'))\n",
        "print('we are the world'.index('world'))"
      ],
      "metadata": {
        "colab": {
          "base_uri": "https://localhost:8080/"
        },
        "id": "tsfGePRfEGNx",
        "outputId": "867f0cd9-5ab0-47c7-ca52-369db0f8b96a"
      },
      "execution_count": 129,
      "outputs": [
        {
          "output_type": "stream",
          "name": "stdout",
          "text": [
            "3\n",
            "11\n",
            "-1\n",
            "3\n",
            "11\n"
          ]
        }
      ]
    },
    {
      "cell_type": "code",
      "source": [
        "print('we are the world'.join('**'))"
      ],
      "metadata": {
        "colab": {
          "base_uri": "https://localhost:8080/"
        },
        "id": "Q0d-G9bfEuWj",
        "outputId": "97477267-762b-4afd-b1c4-0ff43fb38d87"
      },
      "execution_count": 137,
      "outputs": [
        {
          "output_type": "stream",
          "name": "stdout",
          "text": [
            "*we are the world*\n"
          ]
        }
      ]
    },
    {
      "cell_type": "code",
      "source": [
        "#.isalnum() 공백 없이 문자 혹은 숫자일시 True\n",
        "print('we are'.isalnum()) #False\n",
        "print('weare'.isalnum()) #True\n",
        "print('we123'.isalnum()) #True\n",
        "print('we123'.isdecimal()) #False\n",
        "print('123'.isdecimal()) #True\n",
        "print('123.4'.isdecimal()) #False\n",
        "print('123.4'.isdigit()) #False"
      ],
      "metadata": {
        "colab": {
          "base_uri": "https://localhost:8080/"
        },
        "id": "uSvVxQGjFvCh",
        "outputId": "aff26191-57ad-4756-dfe3-e51e18637b2b"
      },
      "execution_count": 145,
      "outputs": [
        {
          "output_type": "stream",
          "name": "stdout",
          "text": [
            "False\n",
            "True\n",
            "True\n",
            "False\n",
            "True\n",
            "False\n",
            "False\n"
          ]
        }
      ]
    },
    {
      "cell_type": "code",
      "source": [
        "#split()는 list로 리턴된다.\n",
        "print('we are the world'.split())"
      ],
      "metadata": {
        "colab": {
          "base_uri": "https://localhost:8080/"
        },
        "id": "xKvKT2nnGdsB",
        "outputId": "5885edb0-14d3-4cbe-8bdd-b13de91e58eb"
      },
      "execution_count": 146,
      "outputs": [
        {
          "output_type": "stream",
          "name": "stdout",
          "text": [
            "['we', 'are', 'the', 'world']\n"
          ]
        }
      ]
    },
    {
      "cell_type": "code",
      "source": [
        "l_val = [10,20,30]\n",
        "type(l_val) #list"
      ],
      "metadata": {
        "id": "nuUU4SyLG42B"
      },
      "execution_count": 152,
      "outputs": []
    },
    {
      "cell_type": "code",
      "source": [
        "l_val2 = [10,'python',80.5,True]\n",
        "l_val2"
      ],
      "metadata": {
        "colab": {
          "base_uri": "https://localhost:8080/"
        },
        "id": "pBMrXg7zHQ6A",
        "outputId": "fa96c0a5-d3ab-4d9f-c02e-f3e2883c0492"
      },
      "execution_count": 154,
      "outputs": [
        {
          "output_type": "execute_result",
          "data": {
            "text/plain": [
              "[10, 'python', 80.5, True]"
            ]
          },
          "metadata": {},
          "execution_count": 154
        }
      ]
    },
    {
      "cell_type": "code",
      "source": [
        "l_val3=[5,10,15,20,25] \n",
        "l_val3[0]\n",
        "l_val3[-1]\n",
        "l_val3[0:2]\n",
        "l_val3[::2]\n",
        "l_val3 + l_val3 + l_val3 #연결하기\n",
        "l_val3 + [30,35] #연결하기\n",
        "l_val3*3 #반복하기\n",
        "5 in l_val3 #멤버 검사"
      ],
      "metadata": {
        "colab": {
          "base_uri": "https://localhost:8080/"
        },
        "id": "fOYXp2kzHY_4",
        "outputId": "485a535f-4a2f-4b62-c6ac-3f05190bfb27"
      },
      "execution_count": 165,
      "outputs": [
        {
          "output_type": "execute_result",
          "data": {
            "text/plain": [
              "True"
            ]
          },
          "metadata": {},
          "execution_count": 165
        }
      ]
    },
    {
      "cell_type": "code",
      "source": [
        "l_val4 = ['apple','banana',100,200]\n",
        "l_val4[2]=300\n",
        "l_val4"
      ],
      "metadata": {
        "colab": {
          "base_uri": "https://localhost:8080/"
        },
        "id": "6NyGOQvKIwST",
        "outputId": "7dd9c62f-0ab3-4b61-b0aa-9f22da0cea58"
      },
      "execution_count": 167,
      "outputs": [
        {
          "output_type": "execute_result",
          "data": {
            "text/plain": [
              "['apple', 'banana', 300, 200]"
            ]
          },
          "metadata": {},
          "execution_count": 167
        }
      ]
    },
    {
      "cell_type": "code",
      "source": [
        "l_val5=['apple','banana',100,200]\n",
        "l_val5[0:2]=[1,2] #지정한 인덱스[0:2] 범위의 요소를 [1,2]로 변경한다.\n",
        "l_val5\n",
        "l_val5[0:2]=[100] #크기가 달라도 된다.\n",
        "l_val5"
      ],
      "metadata": {
        "colab": {
          "base_uri": "https://localhost:8080/"
        },
        "id": "AXpQUowlJbjJ",
        "outputId": "0eeee3b3-9071-443e-d1f8-8c76f3bf628d"
      },
      "execution_count": 169,
      "outputs": [
        {
          "output_type": "execute_result",
          "data": {
            "text/plain": [
              "[100, 100, 200]"
            ]
          },
          "metadata": {},
          "execution_count": 169
        }
      ]
    },
    {
      "cell_type": "code",
      "source": [
        "l_val6=['apple','banana',100,200]\n",
        "l_val6[0:2]=[]\n",
        "l_val6"
      ],
      "metadata": {
        "colab": {
          "base_uri": "https://localhost:8080/"
        },
        "id": "u1dSE1MvNrdj",
        "outputId": "dda0945b-123f-4f3c-d8eb-e0f8b8517099"
      },
      "execution_count": 171,
      "outputs": [
        {
          "output_type": "execute_result",
          "data": {
            "text/plain": [
              "[100, 200]"
            ]
          },
          "metadata": {},
          "execution_count": 171
        }
      ]
    },
    {
      "cell_type": "code",
      "source": [
        "l_val7=[2,4,6,8]\n",
        "del l_val7[0]\n",
        "l_val7"
      ],
      "metadata": {
        "colab": {
          "base_uri": "https://localhost:8080/"
        },
        "id": "daOsuj7YN4zg",
        "outputId": "10f8317a-239a-457d-ac76-31b7ee53320d"
      },
      "execution_count": 173,
      "outputs": [
        {
          "output_type": "execute_result",
          "data": {
            "text/plain": [
              "[4, 6, 8]"
            ]
          },
          "metadata": {},
          "execution_count": 173
        }
      ]
    },
    {
      "cell_type": "code",
      "source": [
        "l_val8=[3,6,9]\n",
        "l_val8[1:1]=['red','green']\n",
        "l_val8"
      ],
      "metadata": {
        "colab": {
          "base_uri": "https://localhost:8080/"
        },
        "id": "QuSgJpiCON9C",
        "outputId": "094068ab-1f0e-4ef3-e50c-0c5b17267d78"
      },
      "execution_count": 181,
      "outputs": [
        {
          "output_type": "execute_result",
          "data": {
            "text/plain": [
              "[3, 'red', 'green', 6, 9]"
            ]
          },
          "metadata": {},
          "execution_count": 181
        }
      ]
    },
    {
      "cell_type": "code",
      "source": [
        "l_val9=[2,4,6,8]\n",
        "l_val9[::2]=[-1,-2,-3,-4]\n",
        "l_val9"
      ],
      "metadata": {
        "colab": {
          "base_uri": "https://localhost:8080/",
          "height": 210
        },
        "id": "0S2IOjUmPL7B",
        "outputId": "0a43e6c0-aec0-4e6d-eb89-81e8b480bdec"
      },
      "execution_count": 183,
      "outputs": [
        {
          "output_type": "error",
          "ename": "ValueError",
          "evalue": "ignored",
          "traceback": [
            "\u001b[0;31m---------------------------------------------------------------------------\u001b[0m",
            "\u001b[0;31mValueError\u001b[0m                                Traceback (most recent call last)",
            "\u001b[0;32m<ipython-input-183-0b397b8d6157>\u001b[0m in \u001b[0;36m<module>\u001b[0;34m\u001b[0m\n\u001b[1;32m      1\u001b[0m \u001b[0ml_val9\u001b[0m\u001b[0;34m=\u001b[0m\u001b[0;34m[\u001b[0m\u001b[0;36m2\u001b[0m\u001b[0;34m,\u001b[0m\u001b[0;36m4\u001b[0m\u001b[0;34m,\u001b[0m\u001b[0;36m6\u001b[0m\u001b[0;34m,\u001b[0m\u001b[0;36m8\u001b[0m\u001b[0;34m]\u001b[0m\u001b[0;34m\u001b[0m\u001b[0;34m\u001b[0m\u001b[0m\n\u001b[0;32m----> 2\u001b[0;31m \u001b[0ml_val9\u001b[0m\u001b[0;34m[\u001b[0m\u001b[0;34m:\u001b[0m\u001b[0;34m:\u001b[0m\u001b[0;36m2\u001b[0m\u001b[0;34m]\u001b[0m\u001b[0;34m=\u001b[0m\u001b[0;34m[\u001b[0m\u001b[0;34m-\u001b[0m\u001b[0;36m1\u001b[0m\u001b[0;34m,\u001b[0m\u001b[0;34m-\u001b[0m\u001b[0;36m2\u001b[0m\u001b[0;34m,\u001b[0m\u001b[0;34m-\u001b[0m\u001b[0;36m3\u001b[0m\u001b[0;34m,\u001b[0m\u001b[0;34m-\u001b[0m\u001b[0;36m4\u001b[0m\u001b[0;34m]\u001b[0m\u001b[0;34m\u001b[0m\u001b[0;34m\u001b[0m\u001b[0m\n\u001b[0m\u001b[1;32m      3\u001b[0m \u001b[0ml_val9\u001b[0m\u001b[0;34m\u001b[0m\u001b[0;34m\u001b[0m\u001b[0m\n",
            "\u001b[0;31mValueError\u001b[0m: attempt to assign sequence of size 4 to extended slice of size 2"
          ]
        }
      ]
    },
    {
      "cell_type": "code",
      "source": [
        "l_val10=[10,20,30]\n",
        "l_val10=['start',l_val10,'end']\n",
        "l_val10"
      ],
      "metadata": {
        "colab": {
          "base_uri": "https://localhost:8080/"
        },
        "id": "9jUbn1D6PynU",
        "outputId": "3c88c5cc-8779-4bcf-b5c0-dbf9a2f6cfb1"
      },
      "execution_count": 184,
      "outputs": [
        {
          "output_type": "execute_result",
          "data": {
            "text/plain": [
              "['start', [10, 20, 30], 'end']"
            ]
          },
          "metadata": {},
          "execution_count": 184
        }
      ]
    },
    {
      "cell_type": "code",
      "source": [
        "#한 변수에서 데이터를 각각 꺼내 오는 것을 언패킹(unpacking) 지원\n",
        "a=['foo','bar',4,5]\n",
        "x,y,z,w=a\n",
        "print(x,y,z,w)"
      ],
      "metadata": {
        "colab": {
          "base_uri": "https://localhost:8080/"
        },
        "id": "qRt7nQSkQK2x",
        "outputId": "762d5552-12d2-41e9-d255-b5958092ed3e"
      },
      "execution_count": 185,
      "outputs": [
        {
          "output_type": "stream",
          "name": "stdout",
          "text": [
            "foo bar 4 5\n"
          ]
        }
      ]
    },
    {
      "cell_type": "code",
      "source": [
        "dir(list)"
      ],
      "metadata": {
        "colab": {
          "base_uri": "https://localhost:8080/"
        },
        "id": "ayDCZonRQ85A",
        "outputId": "1d857b35-58b2-4460-b9f8-77e2898ef814"
      },
      "execution_count": 186,
      "outputs": [
        {
          "output_type": "execute_result",
          "data": {
            "text/plain": [
              "['__add__',\n",
              " '__class__',\n",
              " '__contains__',\n",
              " '__delattr__',\n",
              " '__delitem__',\n",
              " '__dir__',\n",
              " '__doc__',\n",
              " '__eq__',\n",
              " '__format__',\n",
              " '__ge__',\n",
              " '__getattribute__',\n",
              " '__getitem__',\n",
              " '__gt__',\n",
              " '__hash__',\n",
              " '__iadd__',\n",
              " '__imul__',\n",
              " '__init__',\n",
              " '__init_subclass__',\n",
              " '__iter__',\n",
              " '__le__',\n",
              " '__len__',\n",
              " '__lt__',\n",
              " '__mul__',\n",
              " '__ne__',\n",
              " '__new__',\n",
              " '__reduce__',\n",
              " '__reduce_ex__',\n",
              " '__repr__',\n",
              " '__reversed__',\n",
              " '__rmul__',\n",
              " '__setattr__',\n",
              " '__setitem__',\n",
              " '__sizeof__',\n",
              " '__str__',\n",
              " '__subclasshook__',\n",
              " 'append',\n",
              " 'clear',\n",
              " 'copy',\n",
              " 'count',\n",
              " 'extend',\n",
              " 'index',\n",
              " 'insert',\n",
              " 'pop',\n",
              " 'remove',\n",
              " 'reverse',\n",
              " 'sort']"
            ]
          },
          "metadata": {},
          "execution_count": 186
        }
      ]
    },
    {
      "cell_type": "code",
      "source": [
        "l_val9 = ['red','green','blue','white','black']\n",
        "print(l_val9.append('orange'))\n",
        "print(l_val9)\n",
        "print(l_val9.extend(['yello','aqua']))\n",
        "print(l_val9)\n",
        "l_val9.extend('purple')\n",
        "print(l_val9)\n",
        "l_val9.insert(0,'gray')\n",
        "print(l_val9)\n",
        "l_val9.remove('p')\n",
        "print(l_val9)\n",
        "l_val9.pop()\n",
        "print(l_val9)\n",
        "l_val9.pop(0)\n",
        "print(l_val9)\n",
        "print(l_val9.index('blue'))\n",
        "print(l_val9.count('white'))\n",
        "l_val9.sort()\n",
        "print(l_val9)\n",
        "l_val9.reverse()\n",
        "print(l_val9)\n",
        "l_val10 = l_val9.copy() #copy()은 얇은 복사\n",
        "print(l_val10)\n",
        "l_val10[0]='gray'\n",
        "print(l_val9)\n",
        "print(l_val10)\n",
        "l_val10.clear()\n",
        "print('clear', l_val10)\n",
        "print(l_val9)"
      ],
      "metadata": {
        "colab": {
          "base_uri": "https://localhost:8080/"
        },
        "id": "kfTv41WsRDOh",
        "outputId": "d9fda0c3-b59c-4034-cfde-9e818aedf4a3"
      },
      "execution_count": 257,
      "outputs": [
        {
          "output_type": "stream",
          "name": "stdout",
          "text": [
            "None\n",
            "['red', 'green', 'blue', 'white', 'black', 'orange']\n",
            "None\n",
            "['red', 'green', 'blue', 'white', 'black', 'orange', 'yello', 'aqua']\n",
            "['red', 'green', 'blue', 'white', 'black', 'orange', 'yello', 'aqua', 'p', 'u', 'r', 'p', 'l', 'e']\n",
            "['gray', 'red', 'green', 'blue', 'white', 'black', 'orange', 'yello', 'aqua', 'p', 'u', 'r', 'p', 'l', 'e']\n",
            "['gray', 'red', 'green', 'blue', 'white', 'black', 'orange', 'yello', 'aqua', 'u', 'r', 'p', 'l', 'e']\n",
            "['gray', 'red', 'green', 'blue', 'white', 'black', 'orange', 'yello', 'aqua', 'u', 'r', 'p', 'l']\n",
            "['red', 'green', 'blue', 'white', 'black', 'orange', 'yello', 'aqua', 'u', 'r', 'p', 'l']\n",
            "2\n",
            "1\n",
            "['aqua', 'black', 'blue', 'green', 'l', 'orange', 'p', 'r', 'red', 'u', 'white', 'yello']\n",
            "['yello', 'white', 'u', 'red', 'r', 'p', 'orange', 'l', 'green', 'blue', 'black', 'aqua']\n",
            "['yello', 'white', 'u', 'red', 'r', 'p', 'orange', 'l', 'green', 'blue', 'black', 'aqua']\n",
            "['yello', 'white', 'u', 'red', 'r', 'p', 'orange', 'l', 'green', 'blue', 'black', 'aqua']\n",
            "['gray', 'white', 'u', 'red', 'r', 'p', 'orange', 'l', 'green', 'blue', 'black', 'aqua']\n",
            "clear []\n",
            "['yello', 'white', 'u', 'red', 'r', 'p', 'orange', 'l', 'green', 'blue', 'black', 'aqua']\n"
          ]
        }
      ]
    },
    {
      "cell_type": "code",
      "source": [
        "a=['red','blue']\n",
        "b=a\n",
        "print(a,b)\n",
        "b[0] = 'white'\n",
        "print(a,b)"
      ],
      "metadata": {
        "colab": {
          "base_uri": "https://localhost:8080/"
        },
        "id": "JJysa24JXBPF",
        "outputId": "01279e3b-1baf-4172-de1e-02d5d664dcdd"
      },
      "execution_count": 259,
      "outputs": [
        {
          "output_type": "stream",
          "name": "stdout",
          "text": [
            "['red', 'blue'] ['red', 'blue']\n",
            "['white', 'blue'] ['white', 'blue']\n"
          ]
        }
      ]
    },
    {
      "cell_type": "code",
      "source": [
        "a = ['red','green']\n",
        "b = []\n",
        "print(a,b)\n",
        "\n",
        "b.extend(a)\n",
        "print(a,b)\n",
        "b[0] = 'black'\n",
        "print(a,b)"
      ],
      "metadata": {
        "colab": {
          "base_uri": "https://localhost:8080/"
        },
        "id": "fJuL8JEbXUkw",
        "outputId": "ea3f32a8-c6d5-4ced-bca8-eaa47ab040c3"
      },
      "execution_count": 263,
      "outputs": [
        {
          "output_type": "stream",
          "name": "stdout",
          "text": [
            "['red', 'green'] []\n",
            "['red', 'green'] ['red', 'green']\n",
            "['red', 'green'] ['black', 'green']\n"
          ]
        }
      ]
    },
    {
      "cell_type": "code",
      "source": [
        "a=['red','green']\n",
        "b = a.copy()\n",
        "print(a,b)\n",
        "b[0] = 'black'\n",
        "print(a,b)"
      ],
      "metadata": {
        "colab": {
          "base_uri": "https://localhost:8080/"
        },
        "id": "QXLsSe6CX1Ss",
        "outputId": "5605d6d9-5827-4560-cbcd-0997245aa1fc"
      },
      "execution_count": 265,
      "outputs": [
        {
          "output_type": "stream",
          "name": "stdout",
          "text": [
            "['red', 'green'] ['red', 'green']\n",
            "['red', 'green'] ['black', 'green']\n"
          ]
        }
      ]
    },
    {
      "cell_type": "code",
      "source": [
        "a=[['red','green']]\n",
        "b = a.copy()\n",
        "print(a,b)\n",
        "b[0][0] = 'black'\n",
        "print(a,b)"
      ],
      "metadata": {
        "colab": {
          "base_uri": "https://localhost:8080/"
        },
        "id": "iVAe_5hlakk_",
        "outputId": "887765a3-5985-4f52-e3c4-07c5c65ede7d"
      },
      "execution_count": 266,
      "outputs": [
        {
          "output_type": "stream",
          "name": "stdout",
          "text": [
            "[['red', 'green']] [['red', 'green']]\n",
            "[['black', 'green']] [['black', 'green']]\n"
          ]
        }
      ]
    },
    {
      "cell_type": "code",
      "source": [
        "import copy\n",
        "\n",
        "a=[['red','green']]\n",
        "b = copy.deepcopy(a)\n",
        "print(a,b)\n",
        "b[0][0] = 'black'\n",
        "print(a,b)"
      ],
      "metadata": {
        "colab": {
          "base_uri": "https://localhost:8080/"
        },
        "id": "D39dxNXPbApQ",
        "outputId": "97e5f961-7e6c-44e3-851b-5ea54fc8b181"
      },
      "execution_count": 267,
      "outputs": [
        {
          "output_type": "stream",
          "name": "stdout",
          "text": [
            "[['red', 'green']] [['red', 'green']]\n",
            "[['red', 'green']] [['black', 'green']]\n"
          ]
        }
      ]
    },
    {
      "cell_type": "code",
      "source": [
        "#튜플(Tuple)\n",
        "#변경이 불가능한 순서가 있는 자료형이다. 튜플은 ()소괄호로 표현한다.\n",
        "def test():\n",
        "   return 2,3\n",
        "\n",
        "print(test())"
      ],
      "metadata": {
        "colab": {
          "base_uri": "https://localhost:8080/"
        },
        "id": "yoCfsPwAbeC3",
        "outputId": "04147471-ad5b-4596-9890-4a05f5ce5ab4"
      },
      "execution_count": 271,
      "outputs": [
        {
          "output_type": "stream",
          "name": "stdout",
          "text": [
            "(2, 3)\n"
          ]
        }
      ]
    },
    {
      "cell_type": "code",
      "source": [
        "t_val=(10,20,30) #t_val=10,20,30 괄호 없이도 표현 가능하지만 되도록 ()괄호를 해주라.\n",
        "t_val\n",
        "type(t_val)"
      ],
      "metadata": {
        "colab": {
          "base_uri": "https://localhost:8080/"
        },
        "id": "I8vUKGoacncC",
        "outputId": "0284efbd-d393-4137-8e65-743cede0fbc6"
      },
      "execution_count": 273,
      "outputs": [
        {
          "output_type": "execute_result",
          "data": {
            "text/plain": [
              "tuple"
            ]
          },
          "metadata": {},
          "execution_count": 273
        }
      ]
    },
    {
      "cell_type": "code",
      "source": [
        "t_val2=(1)\n",
        "type(t_val2)  #int\n",
        "t_val2=(1,)   #데이터가 한 개일때는 반드시 쉼표(,)가 있어야 한다.\n",
        "t_val2=1,     #괄호는 없어도 쉼표(,)는 있어야한다.\n",
        "type(t_val2)  #tuple"
      ],
      "metadata": {
        "colab": {
          "base_uri": "https://localhost:8080/"
        },
        "id": "4PQY57inc73O",
        "outputId": "289ffb41-27b8-43c2-cad8-de7d5e2c07ca"
      },
      "execution_count": 275,
      "outputs": [
        {
          "output_type": "execute_result",
          "data": {
            "text/plain": [
              "tuple"
            ]
          },
          "metadata": {},
          "execution_count": 275
        }
      ]
    }
  ]
}