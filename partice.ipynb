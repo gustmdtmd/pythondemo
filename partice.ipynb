{
  "nbformat": 4,
  "nbformat_minor": 0,
  "metadata": {
    "colab": {
      "provenance": [],
      "authorship_tag": "ABX9TyPiz29ej26J0bbeZEYKvGYz",
      "include_colab_link": true
    },
    "kernelspec": {
      "name": "python3",
      "display_name": "Python 3"
    },
    "language_info": {
      "name": "python"
    }
  },
  "cells": [
    {
      "cell_type": "markdown",
      "metadata": {
        "id": "view-in-github",
        "colab_type": "text"
      },
      "source": [
        "<a href=\"https://colab.research.google.com/github/gustmdtmd/pythondemo/blob/main/partice.ipynb\" target=\"_parent\"><img src=\"https://colab.research.google.com/assets/colab-badge.svg\" alt=\"Open In Colab\"/></a>"
      ]
    },
    {
      "cell_type": "code",
      "execution_count": 7,
      "metadata": {
        "colab": {
          "base_uri": "https://localhost:8080/"
        },
        "id": "wGkSrcklQ4ns",
        "outputId": "54fe4762-6de3-4744-b815-63f3213b294a"
      },
      "outputs": [
        {
          "output_type": "stream",
          "name": "stdout",
          "text": [
            "*\n",
            "**\n",
            "***\n",
            "****\n",
            "*****\n"
          ]
        }
      ],
      "source": [
        "#shirt\n",
        "i=0\n",
        "while True:\n",
        "   i+= 1\n",
        "   if(i>5):\n",
        "     break\n",
        "   print(i*'*')"
      ]
    },
    {
      "cell_type": "code",
      "source": [
        "A = [70,60,55,75,95,90,80,80,85,100]\n",
        "total=0\n",
        "for score in A:\n",
        "    total += score\n",
        "average = total/len(A)\n",
        "print(average) "
      ],
      "metadata": {
        "colab": {
          "base_uri": "https://localhost:8080/"
        },
        "id": "1PEMBrgcSLgO",
        "outputId": "691e540e-3fb3-48ab-f30a-65c8950955a3"
      },
      "execution_count": null,
      "outputs": [
        {
          "output_type": "stream",
          "name": "stdout",
          "text": [
            "79.0\n"
          ]
        }
      ]
    },
    {
      "cell_type": "code",
      "source": [
        "def sum(a,b):\n",
        "    return a+b\n",
        "print(sum(5,8))\n",
        "\n",
        "def say():\n",
        "    return 'Hi'\n",
        "print(say())\n",
        "\n",
        "#return값이 없다\n",
        "def summ(a,b):\n",
        "    print(\"%d, %d의 합은 %d입니다.\"%(a,b,a+b))\n",
        "\n",
        "summ(15,25)\n",
        "a=summ(15,25)\n",
        "print(a) #none"
      ],
      "metadata": {
        "colab": {
          "base_uri": "https://localhost:8080/"
        },
        "id": "iyZKFawOTwXr",
        "outputId": "cb79a714-3667-4746-8162-01783a899d3b"
      },
      "execution_count": null,
      "outputs": [
        {
          "output_type": "stream",
          "name": "stdout",
          "text": [
            "13\n",
            "Hi\n",
            "15, 25의 합은 40입니다.\n",
            "15, 25의 합은 40입니다.\n",
            "None\n"
          ]
        }
      ]
    },
    {
      "cell_type": "code",
      "source": [
        "def sum_many(*args):\n",
        "    sum = 0\n",
        "    for i in args:\n",
        "        sum = sum +i\n",
        "    return sum\n",
        "sum_many(1,3,5)\n",
        "sum_many(1,3,5,7,9,11,13)"
      ],
      "metadata": {
        "colab": {
          "base_uri": "https://localhost:8080/"
        },
        "id": "4V8wS3WLV9La",
        "outputId": "4cb88497-60f7-4521-ccb2-23dc97b85ac0"
      },
      "execution_count": null,
      "outputs": [
        {
          "output_type": "execute_result",
          "data": {
            "text/plain": [
              "49"
            ]
          },
          "metadata": {},
          "execution_count": 15
        }
      ]
    },
    {
      "cell_type": "code",
      "source": [
        "def sum_mul(choice, *args):\n",
        "    if choice == 'sum':\n",
        "        result = 0\n",
        "        for i in args:\n",
        "            result = result + i\n",
        "    elif choice == 'mul':\n",
        "        result = 1\n",
        "        for i in args:\n",
        "            result = result * i\n",
        "    return result\n",
        "\n",
        "sum_mul('sum', 1,2,3)\n",
        "sum_mul('mul',2,3,4,)"
      ],
      "metadata": {
        "colab": {
          "base_uri": "https://localhost:8080/"
        },
        "id": "ALmgDb5aWTSh",
        "outputId": "227000e3-b631-4d60-8e50-df00e9f9323d"
      },
      "execution_count": null,
      "outputs": [
        {
          "output_type": "execute_result",
          "data": {
            "text/plain": [
              "24"
            ]
          },
          "metadata": {},
          "execution_count": 18
        }
      ]
    },
    {
      "cell_type": "code",
      "source": [
        "def say_myself(name,old,man=True):\n",
        "    print(\"나의 이름은 %s입니다.\"%name)\n",
        "    print(\"나의 나이는 %s입니다,\"%old)\n",
        "    if man:\n",
        "        print(\"남자입니다.\")\n",
        "    else:\n",
        "        print(\"여자입니다.\")\n",
        "say_myself(\"홍길동\", 28)\n",
        "say_myself(\"홍길순\", 26, False)"
      ],
      "metadata": {
        "colab": {
          "base_uri": "https://localhost:8080/"
        },
        "id": "GnDa7at3ZE6P",
        "outputId": "eb764b40-b04d-419e-ef2c-3713aaf344b9"
      },
      "execution_count": null,
      "outputs": [
        {
          "output_type": "stream",
          "name": "stdout",
          "text": [
            "나의 이름은 홍길동입니다.\n",
            "나의 나이는 28입니다,\n",
            "남자입니다.\n",
            "나의 이름은 홍길순입니다.\n",
            "나의 나이는 26입니다,\n",
            "여자입니다.\n"
          ]
        }
      ]
    },
    {
      "cell_type": "code",
      "source": [
        "a=1\n",
        "def vartest(a):\n",
        "    a = a + 1\n",
        "    return a\n",
        "\n",
        "a= vartest(a)\n",
        "print(a)"
      ],
      "metadata": {
        "colab": {
          "base_uri": "https://localhost:8080/"
        },
        "id": "d_mJT2PxaC7M",
        "outputId": "29b432e1-644c-4942-f6b7-8fbaf2ab81b2"
      },
      "execution_count": null,
      "outputs": [
        {
          "output_type": "stream",
          "name": "stdout",
          "text": [
            "2\n"
          ]
        }
      ]
    },
    {
      "cell_type": "code",
      "source": [
        "a=input()\n",
        "a"
      ],
      "metadata": {
        "colab": {
          "base_uri": "https://localhost:8080/",
          "height": 54
        },
        "id": "JPjvVRT5aPb6",
        "outputId": "8327cac8-b003-4ed7-ddf3-f9398df86612"
      },
      "execution_count": null,
      "outputs": [
        {
          "name": "stdout",
          "output_type": "stream",
          "text": [
            "Life is too short\n"
          ]
        },
        {
          "output_type": "execute_result",
          "data": {
            "text/plain": [
              "'Life is too short'"
            ],
            "application/vnd.google.colaboratory.intrinsic+json": {
              "type": "string"
            }
          },
          "metadata": {},
          "execution_count": 33
        }
      ]
    },
    {
      "cell_type": "code",
      "source": [
        "print('life','is','too short')"
      ],
      "metadata": {
        "colab": {
          "base_uri": "https://localhost:8080/"
        },
        "id": "w5yceyPdbQq-",
        "outputId": "fa02d2cb-48c8-4037-d388-7fdcff0f6e5d"
      },
      "execution_count": null,
      "outputs": [
        {
          "output_type": "stream",
          "name": "stdout",
          "text": [
            "life is too short\n"
          ]
        }
      ]
    },
    {
      "cell_type": "code",
      "source": [
        "for i in range(10):\n",
        "    print(i)\n",
        "\n",
        "for i in range(10):\n",
        "    print(i, end=' ')"
      ],
      "metadata": {
        "colab": {
          "base_uri": "https://localhost:8080/"
        },
        "id": "qgbeSeTNbiOJ",
        "outputId": "89a9e70c-a258-40c7-8344-3c217a1eed81"
      },
      "execution_count": null,
      "outputs": [
        {
          "output_type": "stream",
          "name": "stdout",
          "text": [
            "0\n",
            "1\n",
            "2\n",
            "3\n",
            "4\n",
            "5\n",
            "6\n",
            "7\n",
            "8\n",
            "9\n",
            "0 1 2 3 4 5 6 7 8 9 "
          ]
        }
      ]
    },
    {
      "cell_type": "code",
      "source": [
        "f = open(\"C:\\big_study\\hs.txt\", 'w')\n",
        "for i in range(1,11):\n",
        "    data = \"%d번째 줄입니다.\\n\"%i\n",
        "    f.write(data)\n",
        "f.close()"
      ],
      "metadata": {
        "id": "oSR0F3JMbxR7"
      },
      "execution_count": null,
      "outputs": []
    },
    {
      "cell_type": "code",
      "source": [
        "def fib(n):\n",
        "    if n == 0: return n\n",
        "    if n == 1: return n\n",
        "    return fib(n-2) + fib(n-1)\n",
        "\n",
        "for i in range(10):\n",
        "    print(fib(i))"
      ],
      "metadata": {
        "colab": {
          "base_uri": "https://localhost:8080/"
        },
        "id": "wVXzEip7f-SD",
        "outputId": "351fc526-9cbf-4cc0-e19a-f33e0485dafd"
      },
      "execution_count": null,
      "outputs": [
        {
          "output_type": "stream",
          "name": "stdout",
          "text": [
            "0\n",
            "1\n",
            "1\n",
            "2\n",
            "3\n",
            "5\n",
            "8\n",
            "13\n",
            "21\n",
            "34\n"
          ]
        }
      ]
    },
    {
      "cell_type": "code",
      "source": [
        "class Company:\n",
        "  dog = '강아지는 사람을 좋아한다.'\n",
        "  def __init__(self,name):\n",
        "    self.name=name\n",
        "  def sum(self,a,b):\n",
        "    result = a+b\n",
        "    print('%s님 %s + %s = %s입니다.'%(self.name,a,b,result))\n",
        "\n",
        "pet = Company('퍼플')\n",
        "pet.dog\n",
        "Company.sum(pet,5,6)"
      ],
      "metadata": {
        "colab": {
          "base_uri": "https://localhost:8080/"
        },
        "id": "leTbar85XfFR",
        "outputId": "e5c780a2-86a7-4003-e89b-f1dfa34ae2f3"
      },
      "execution_count": null,
      "outputs": [
        {
          "output_type": "stream",
          "name": "stdout",
          "text": [
            "퍼플님 5 + 6 = 11입니다.\n"
          ]
        }
      ]
    },
    {
      "cell_type": "code",
      "source": [
        "class FourCal:\n",
        "  def setdata(self, first, second):\n",
        "    self.first=first\n",
        "    self.second=second\n",
        "  \n",
        "  def sum(self):\n",
        "    result = self.first + self.second\n",
        "    return result\n",
        "  \n",
        "  def sub(self):\n",
        "    result = self.first - self.second\n",
        "    return result\n",
        "  \n",
        "  def div(self):\n",
        "    result = self.first / self.second\n",
        "    return result\n",
        "\n",
        "  def mul(self):\n",
        "    result = self.first * self.second\n",
        "    return result\n",
        "  \n",
        "a = FourCal()\n",
        "type(a)\n",
        "a.setdata(4,2)\n",
        "print(a.first, a.second)\n",
        "print(a.sum())\n",
        "print(a.div())\n",
        "print(a.mul())\n",
        "print(a.sub())\n",
        "b = FourCal()\n",
        "b.setdata(7,3)\n",
        "print(b.first, b.second)"
      ],
      "metadata": {
        "colab": {
          "base_uri": "https://localhost:8080/"
        },
        "id": "BYvh69nPYrQQ",
        "outputId": "df4dea08-6f41-4e99-a4d2-750fd1d7f5f8"
      },
      "execution_count": null,
      "outputs": [
        {
          "output_type": "stream",
          "name": "stdout",
          "text": [
            "4 2\n",
            "6\n",
            "2.0\n",
            "8\n",
            "2\n",
            "7 3\n"
          ]
        }
      ]
    },
    {
      "cell_type": "code",
      "source": [
        "class HousePark():\n",
        "  lastname = '박'\n",
        "\n",
        "  # def setname(self,name):\n",
        "  #   self.fullname= self.lastname + name\n",
        "  \n",
        "  def __init__(self,name):\n",
        "    self.fullname= self.lastname + name\n",
        "\n",
        "  def travel(self,where):\n",
        "    print('%s,%s여행을 가다.' %(self.fullname,where))\n",
        "  \n",
        "  def love(self,other):\n",
        "    print(\"%s, %s 사랑에 빠졌네.\"%(self.fullname, other.fullname))\n",
        "  \n",
        "  def __add__(self,other):\n",
        "    print('%s, %s 결혼했네.' %(self.fullname,other.fullname))\n",
        "  \n",
        "  def fight(self,other):\n",
        "    print('%s, %s 싸우네.' %(self.fullname, other.fullname))\n",
        "\n",
        "  def __sub__(self,other):\n",
        "    print('%s, %s 이혼했네.' %(self.fullname,other.fullname))\n",
        "\n",
        "pey = HousePark('용용')\n",
        "# pey.setname('용용')\n",
        "pey.travel('제주')\n",
        "\n",
        "class HouseKim(HousePark):\n",
        "  lastname='김'\n",
        "\n",
        "ped = HouseKim('땅땅')\n",
        "ped.travel('미국')\n",
        "pey.love(ped)\n",
        "pey + ped #__add__로 함수를 등록하면  + 롤 더해주면된다.\n",
        "pey.fight(ped)\n",
        "pey-ped"
      ],
      "metadata": {
        "colab": {
          "base_uri": "https://localhost:8080/"
        },
        "id": "kSZRfZzbgDqX",
        "outputId": "abc29a92-3f26-484d-a5c7-7699f869e514"
      },
      "execution_count": null,
      "outputs": [
        {
          "output_type": "stream",
          "name": "stdout",
          "text": [
            "박용용,제주여행을 가다.\n",
            "김땅땅,미국여행을 가다.\n",
            "박용용, 김땅땅 사랑에 빠졌네.\n",
            "박용용, 김땅땅 결혼했네.\n",
            "박용용, 김땅땅 싸우네.\n",
            "박용용, 김땅땅 이혼했네.\n"
          ]
        }
      ]
    },
    {
      "cell_type": "code",
      "source": [],
      "metadata": {
        "colab": {
          "base_uri": "https://localhost:8080/",
          "height": 227
        },
        "id": "t3IjzBrwib9w",
        "outputId": "6cce07ae-4ec7-4a6a-8994-ca2e013f8cf5"
      },
      "execution_count": null,
      "outputs": [
        {
          "output_type": "stream",
          "name": "stdout",
          "text": [
            "김땅땅,미국여행을 가다.\n"
          ]
        },
        {
          "output_type": "error",
          "ename": "AttributeError",
          "evalue": "ignored",
          "traceback": [
            "\u001b[0;31m---------------------------------------------------------------------------\u001b[0m",
            "\u001b[0;31mAttributeError\u001b[0m                            Traceback (most recent call last)",
            "\u001b[0;32m<ipython-input-34-82bd373914ba>\u001b[0m in \u001b[0;36m<module>\u001b[0;34m\u001b[0m\n\u001b[1;32m      4\u001b[0m \u001b[0mped\u001b[0m \u001b[0;34m=\u001b[0m \u001b[0mHouseKim\u001b[0m\u001b[0;34m(\u001b[0m\u001b[0;34m'땅땅'\u001b[0m\u001b[0;34m)\u001b[0m\u001b[0;34m\u001b[0m\u001b[0;34m\u001b[0m\u001b[0m\n\u001b[1;32m      5\u001b[0m \u001b[0mped\u001b[0m\u001b[0;34m.\u001b[0m\u001b[0mtravel\u001b[0m\u001b[0;34m(\u001b[0m\u001b[0;34m'미국'\u001b[0m\u001b[0;34m)\u001b[0m\u001b[0;34m\u001b[0m\u001b[0;34m\u001b[0m\u001b[0m\n\u001b[0;32m----> 6\u001b[0;31m \u001b[0mpey\u001b[0m\u001b[0;34m.\u001b[0m\u001b[0mlove\u001b[0m\u001b[0;34m(\u001b[0m\u001b[0mped\u001b[0m\u001b[0;34m)\u001b[0m\u001b[0;34m\u001b[0m\u001b[0;34m\u001b[0m\u001b[0m\n\u001b[0m",
            "\u001b[0;31mAttributeError\u001b[0m: 'HousePark' object has no attribute 'love'"
          ]
        }
      ]
    },
    {
      "cell_type": "code",
      "source": [],
      "metadata": {
        "colab": {
          "base_uri": "https://localhost:8080/",
          "height": 318
        },
        "id": "zACjm370rJcy",
        "outputId": "2160d9e4-2aba-4160-b4bf-c29bc260ad23"
      },
      "execution_count": null,
      "outputs": [
        {
          "output_type": "error",
          "ename": "ModuleNotFoundError",
          "evalue": "ignored",
          "traceback": [
            "\u001b[0;31m---------------------------------------------------------------------------\u001b[0m",
            "\u001b[0;31mModuleNotFoundError\u001b[0m                       Traceback (most recent call last)",
            "\u001b[0;32m<ipython-input-6-be0c0c33f167>\u001b[0m in \u001b[0;36m<module>\u001b[0;34m\u001b[0m\n\u001b[0;32m----> 1\u001b[0;31m \u001b[0;32mimport\u001b[0m \u001b[0mmod1\u001b[0m\u001b[0;34m\u001b[0m\u001b[0;34m\u001b[0m\u001b[0m\n\u001b[0m",
            "\u001b[0;31mModuleNotFoundError\u001b[0m: No module named 'mod1'",
            "",
            "\u001b[0;31m---------------------------------------------------------------------------\u001b[0;32m\nNOTE: If your import is failing due to a missing package, you can\nmanually install dependencies using either !pip or !apt.\n\nTo view examples of installing some common dependencies, click the\n\"Open Examples\" button below.\n\u001b[0;31m---------------------------------------------------------------------------\u001b[0m\n"
          ],
          "errorDetails": {
            "actions": [
              {
                "action": "open_url",
                "actionText": "Open Examples",
                "url": "/notebooks/snippets/importing_libraries.ipynb"
              }
            ]
          }
        }
      ]
    },
    {
      "cell_type": "code",
      "source": [
        "import sys\n",
        "sys.path.append('/content/drive/MyDrive/python_demo')\n",
        "print(sys.path)"
      ],
      "metadata": {
        "id": "VA1AM2t9tqF9",
        "colab": {
          "base_uri": "https://localhost:8080/"
        },
        "outputId": "ecb4686c-aece-49ae-f6c7-c8eb9f34a4d0"
      },
      "execution_count": 12,
      "outputs": [
        {
          "output_type": "stream",
          "name": "stdout",
          "text": [
            "['/content', '/env/python', '/usr/lib/python38.zip', '/usr/lib/python3.8', '/usr/lib/python3.8/lib-dynload', '', '/usr/local/lib/python3.8/dist-packages', '/usr/lib/python3/dist-packages', '/usr/local/lib/python3.8/dist-packages/IPython/extensions', '/root/.ipython', '/content/drive/MyDrive/pthyon_demo', '/drive/MyDrive/pthyon_demo', '/content/drive/MyDrive/python_demo']\n"
          ]
        }
      ]
    },
    {
      "cell_type": "code",
      "source": [
        "import mod1\n",
        "kk = mod1.sum(1,5)\n",
        "print(kk)"
      ],
      "metadata": {
        "colab": {
          "base_uri": "https://localhost:8080/"
        },
        "id": "vgk3EW9JzrY_",
        "outputId": "d334302a-bfc3-4604-f5a8-89aa11913a0b"
      },
      "execution_count": 14,
      "outputs": [
        {
          "output_type": "stream",
          "name": "stdout",
          "text": [
            "6\n"
          ]
        }
      ]
    },
    {
      "cell_type": "code",
      "source": [
        "# abs 절대값\n",
        "abs(-3)"
      ],
      "metadata": {
        "colab": {
          "base_uri": "https://localhost:8080/"
        },
        "id": "W7RjegH41Qgh",
        "outputId": "f7edc948-f09e-442a-91af-41ac24257014"
      },
      "execution_count": 16,
      "outputs": [
        {
          "output_type": "execute_result",
          "data": {
            "text/plain": [
              "3"
            ]
          },
          "metadata": {},
          "execution_count": 16
        }
      ]
    },
    {
      "cell_type": "code",
      "source": [
        "# all 반복가능한 자료형 x를 입력 인수로 받으며 , 이 x가 모두 참이면 True, 거짓이 하나라도 있으면 False를 리턴한다.\n",
        "all([1,2.3])    #True\n",
        "all([0,1,2,3])  # False"
      ],
      "metadata": {
        "colab": {
          "base_uri": "https://localhost:8080/"
        },
        "id": "yaiUzSzI1SeL",
        "outputId": "64eea14a-87a5-452e-de28-fadfebf44d1b"
      },
      "execution_count": 20,
      "outputs": [
        {
          "output_type": "execute_result",
          "data": {
            "text/plain": [
              "False"
            ]
          },
          "metadata": {},
          "execution_count": 20
        }
      ]
    },
    {
      "cell_type": "code",
      "source": [
        "# any x 중 하나라도 참이 있을 경우 True를 리턴하고, x가 모두 거짓일 경우에만 False를 리턴한다.\n",
        "# all의 반대 경우라고 할 수 있다.\n",
        "any([0, '']) #False\n",
        "any([0,1,2,3]) #True"
      ],
      "metadata": {
        "colab": {
          "base_uri": "https://localhost:8080/"
        },
        "id": "p0aenDWu1sd-",
        "outputId": "684c0e7f-24da-4b00-830f-a4beb52315dc"
      },
      "execution_count": 24,
      "outputs": [
        {
          "output_type": "execute_result",
          "data": {
            "text/plain": [
              "True"
            ]
          },
          "metadata": {},
          "execution_count": 24
        }
      ]
    },
    {
      "cell_type": "code",
      "source": [
        "# dir 객체가 자체적으로 가지고 있는 변수나 함수를 보여준다.\n",
        "dir([1,2,3])"
      ],
      "metadata": {
        "colab": {
          "base_uri": "https://localhost:8080/"
        },
        "id": "c74agTAj2G_S",
        "outputId": "6986219b-74f6-4d47-a8fa-34ba0f33440d"
      },
      "execution_count": 26,
      "outputs": [
        {
          "output_type": "execute_result",
          "data": {
            "text/plain": [
              "['__add__',\n",
              " '__class__',\n",
              " '__contains__',\n",
              " '__delattr__',\n",
              " '__delitem__',\n",
              " '__dir__',\n",
              " '__doc__',\n",
              " '__eq__',\n",
              " '__format__',\n",
              " '__ge__',\n",
              " '__getattribute__',\n",
              " '__getitem__',\n",
              " '__gt__',\n",
              " '__hash__',\n",
              " '__iadd__',\n",
              " '__imul__',\n",
              " '__init__',\n",
              " '__init_subclass__',\n",
              " '__iter__',\n",
              " '__le__',\n",
              " '__len__',\n",
              " '__lt__',\n",
              " '__mul__',\n",
              " '__ne__',\n",
              " '__new__',\n",
              " '__reduce__',\n",
              " '__reduce_ex__',\n",
              " '__repr__',\n",
              " '__reversed__',\n",
              " '__rmul__',\n",
              " '__setattr__',\n",
              " '__setitem__',\n",
              " '__sizeof__',\n",
              " '__str__',\n",
              " '__subclasshook__',\n",
              " 'append',\n",
              " 'clear',\n",
              " 'copy',\n",
              " 'count',\n",
              " 'extend',\n",
              " 'index',\n",
              " 'insert',\n",
              " 'pop',\n",
              " 'remove',\n",
              " 'reverse',\n",
              " 'sort']"
            ]
          },
          "metadata": {},
          "execution_count": 26
        }
      ]
    },
    {
      "cell_type": "code",
      "source": [
        "# divmod 2개의 숫자를 입력으로 받는다. 그리고 a를 b로 나눈 몫과 나머지를 튜플형태로 리턴하는 함수이다.\n",
        "divmod(7,3)\n"
      ],
      "metadata": {
        "colab": {
          "base_uri": "https://localhost:8080/"
        },
        "id": "lx2Bpr1d2aBc",
        "outputId": "0530a78e-a01b-4ec1-d46e-e2fdec6715ca"
      },
      "execution_count": 27,
      "outputs": [
        {
          "output_type": "execute_result",
          "data": {
            "text/plain": [
              "(2, 1)"
            ]
          },
          "metadata": {},
          "execution_count": 27
        }
      ]
    },
    {
      "cell_type": "code",
      "source": [
        "# enumerate 순서가 있는 자료형(리스트, 튜플, 문자열)을 입력받아 인덱스값을 포한하는 enumerate객체를 리턴한다.\n",
        "for i, name in enumerate(['body', 'foo', 'bar']):\n",
        "  print(i,name)"
      ],
      "metadata": {
        "colab": {
          "base_uri": "https://localhost:8080/"
        },
        "id": "XmVb0XdF2lhN",
        "outputId": "6308c642-f053-4289-99c5-5d0df7283531"
      },
      "execution_count": 30,
      "outputs": [
        {
          "output_type": "stream",
          "name": "stdout",
          "text": [
            "0 body\n",
            "1 foo\n",
            "2 bar\n"
          ]
        }
      ]
    },
    {
      "cell_type": "code",
      "source": [
        "# eval 실행가능한 문자열을 입력받아 문자열을 실행한 결과값을 리턴하는 함수이다.\n",
        "eval('2+10')\n",
        "eval(\"'z'+'oo'\")\n",
        "eval(\"divmod(4,3)\")"
      ],
      "metadata": {
        "colab": {
          "base_uri": "https://localhost:8080/"
        },
        "id": "De3M15ez3NWj",
        "outputId": "6d87c5f2-2d04-46db-a509-7061c08fdf7e"
      },
      "execution_count": 35,
      "outputs": [
        {
          "output_type": "execute_result",
          "data": {
            "text/plain": [
              "(1, 1)"
            ]
          },
          "metadata": {},
          "execution_count": 35
        }
      ]
    },
    {
      "cell_type": "code",
      "source": [
        "# filter 걸러주기\n",
        "def positive(x):\n",
        "  return x>0\n",
        "\n",
        "print(list(filter(positive,[1,-3,2,0,-5,6])))\n",
        "print(list(filter(lambda x : x>0,[1,-3,2,0,-5,6])))"
      ],
      "metadata": {
        "colab": {
          "base_uri": "https://localhost:8080/"
        },
        "id": "iz_lL2e_3ebU",
        "outputId": "d5493f20-a735-45e4-ab00-1c92acfe6b7d"
      },
      "execution_count": 40,
      "outputs": [
        {
          "output_type": "stream",
          "name": "stdout",
          "text": [
            "[1, 2, 6]\n",
            "[1, 2, 6]\n"
          ]
        }
      ]
    },
    {
      "cell_type": "code",
      "source": [
        "# hex 정수값을 입력받아 16진수로 변환하여 리턴하는 함수\n",
        "print(hex(234))\n",
        "\n",
        "# oct 정수형태의 숫자를 8진수 문자열로 바꾸어 리턴하는 함수이다.\n",
        "print(oct(85))\n",
        "\n",
        "# ord 문자의 아스키 코드값을 리턴하는 함수이다.\n",
        "print(ord('a'))"
      ],
      "metadata": {
        "colab": {
          "base_uri": "https://localhost:8080/"
        },
        "id": "ScpXixf75yrl",
        "outputId": "a24c1569-5c5e-4e8e-ea98-e6431dddb93b"
      },
      "execution_count": 56,
      "outputs": [
        {
          "output_type": "stream",
          "name": "stdout",
          "text": [
            "0xea\n",
            "0o125\n",
            "97\n"
          ]
        }
      ]
    },
    {
      "cell_type": "code",
      "source": [
        "# id 객체를 입력받아 객체의 고유 주소값을 리턴하는 함수\n",
        "a = 3\n",
        "print(id(3))\n",
        "print(id(a))\n",
        "b = a\n",
        "print(id(a)) "
      ],
      "metadata": {
        "colab": {
          "base_uri": "https://localhost:8080/"
        },
        "id": "PC2J7Ag_55S6",
        "outputId": "dce5769f-7a3d-45c3-b811-990a58fd20f5"
      },
      "execution_count": 45,
      "outputs": [
        {
          "output_type": "stream",
          "name": "stdout",
          "text": [
            "11527680\n",
            "11527680\n",
            "11527680\n"
          ]
        }
      ]
    },
    {
      "cell_type": "code",
      "source": [
        "# input 사용자 입력을 받는 함수\n",
        "a = input()\n",
        "b = input(\"Enter: \")"
      ],
      "metadata": {
        "colab": {
          "base_uri": "https://localhost:8080/"
        },
        "id": "EHBVg2SQ6Kvz",
        "outputId": "d87a48a7-9977-4502-c5cc-cee310d36f7f"
      },
      "execution_count": 48,
      "outputs": [
        {
          "name": "stdout",
          "output_type": "stream",
          "text": [
            "Hi~\n",
            "Enter: Good\n"
          ]
        }
      ]
    },
    {
      "cell_type": "code",
      "source": [
        "# int 문자열형태의 숫자나 소수점있는 숫자 등을 정수 형태로 리턴하는 함수\n",
        "int(3.8)"
      ],
      "metadata": {
        "colab": {
          "base_uri": "https://localhost:8080/"
        },
        "id": "QLTbFQlS6fYK",
        "outputId": "4143259e-1db1-4e23-a62d-d622d8a27511"
      },
      "execution_count": 49,
      "outputs": [
        {
          "output_type": "execute_result",
          "data": {
            "text/plain": [
              "3"
            ]
          },
          "metadata": {},
          "execution_count": 49
        }
      ]
    },
    {
      "cell_type": "code",
      "source": [
        "# map 함수와 반복가능한 자료형을 입력받는다.\n",
        "def two_times(x):\n",
        "  return x*2\n",
        "\n",
        "list(map(two_times,[1,2,3,4]))\n",
        "list(map(lambda x : x*2,[1,2,3,4]))\n",
        "\n",
        "def plus_one(x):\n",
        "  return x+1 \n",
        "\n",
        "print(list(map(plus_one, [1,2,3,4,5])))"
      ],
      "metadata": {
        "colab": {
          "base_uri": "https://localhost:8080/"
        },
        "id": "G4iUbJNH6nxK",
        "outputId": "b77bb0f3-61fd-42f5-9c3b-6956513e3f33"
      },
      "execution_count": 54,
      "outputs": [
        {
          "output_type": "stream",
          "name": "stdout",
          "text": [
            "[2, 3, 4, 5, 6]\n"
          ]
        }
      ]
    },
    {
      "cell_type": "code",
      "source": [
        "# pow x의 y제곱한 결과값을 리턴하는 함수이다.\n",
        "pow(2,4)"
      ],
      "metadata": {
        "colab": {
          "base_uri": "https://localhost:8080/"
        },
        "id": "xueFVEfX8eWo",
        "outputId": "162cc4c4-451a-407b-cf3c-c88d3aff77d1"
      },
      "execution_count": 57,
      "outputs": [
        {
          "output_type": "execute_result",
          "data": {
            "text/plain": [
              "16"
            ]
          },
          "metadata": {},
          "execution_count": 57
        }
      ]
    },
    {
      "cell_type": "code",
      "source": [
        "# zip 동일한 개수로 이루어진 자료형을 묶어주는 역할을 하는 함수이다.\n",
        "list(zip([1,2,3],[4,5,6],[7,8,9]))"
      ],
      "metadata": {
        "colab": {
          "base_uri": "https://localhost:8080/"
        },
        "id": "HJ6TP5RI8oPb",
        "outputId": "7cdefe4a-1d73-4cf7-fb1c-59af00e4650b"
      },
      "execution_count": 59,
      "outputs": [
        {
          "output_type": "execute_result",
          "data": {
            "text/plain": [
              "[(1, 4, 7), (2, 5, 8), (3, 6, 9)]"
            ]
          },
          "metadata": {},
          "execution_count": 59
        }
      ]
    },
    {
      "cell_type": "code",
      "source": [
        "# time\n",
        "import time\n",
        "time.time()\n",
        "time.localtime()\n",
        "time.asctime()\n",
        "time.ctime()\n",
        "time.strftime('%Y-%m-%d', time.localtime(time.time()))\n",
        "\n",
        "for i in range(10):\n",
        "  print(i)\n",
        "  time.sleep(2)"
      ],
      "metadata": {
        "colab": {
          "base_uri": "https://localhost:8080/"
        },
        "id": "w1R_Zxid9yo_",
        "outputId": "a3381ba3-f092-48cc-a3e7-4c0227feaffa"
      },
      "execution_count": 71,
      "outputs": [
        {
          "output_type": "stream",
          "name": "stdout",
          "text": [
            "0\n",
            "1\n",
            "2\n",
            "3\n",
            "4\n",
            "5\n",
            "6\n",
            "7\n",
            "8\n",
            "9\n"
          ]
        }
      ]
    },
    {
      "cell_type": "code",
      "source": [
        "# calendar 달력\n",
        "import calendar\n",
        "print(calendar.calendar(2015)) # 입력한 년도의 전체 달력"
      ],
      "metadata": {
        "colab": {
          "base_uri": "https://localhost:8080/"
        },
        "id": "sMOrry-k9-BT",
        "outputId": "1e334324-7c03-4947-f31d-0e071a309fda"
      },
      "execution_count": 74,
      "outputs": [
        {
          "output_type": "stream",
          "name": "stdout",
          "text": [
            "                                  2015\n",
            "\n",
            "      January                   February                   March\n",
            "Mo Tu We Th Fr Sa Su      Mo Tu We Th Fr Sa Su      Mo Tu We Th Fr Sa Su\n",
            "          1  2  3  4                         1                         1\n",
            " 5  6  7  8  9 10 11       2  3  4  5  6  7  8       2  3  4  5  6  7  8\n",
            "12 13 14 15 16 17 18       9 10 11 12 13 14 15       9 10 11 12 13 14 15\n",
            "19 20 21 22 23 24 25      16 17 18 19 20 21 22      16 17 18 19 20 21 22\n",
            "26 27 28 29 30 31         23 24 25 26 27 28         23 24 25 26 27 28 29\n",
            "                                                    30 31\n",
            "\n",
            "       April                      May                       June\n",
            "Mo Tu We Th Fr Sa Su      Mo Tu We Th Fr Sa Su      Mo Tu We Th Fr Sa Su\n",
            "       1  2  3  4  5                   1  2  3       1  2  3  4  5  6  7\n",
            " 6  7  8  9 10 11 12       4  5  6  7  8  9 10       8  9 10 11 12 13 14\n",
            "13 14 15 16 17 18 19      11 12 13 14 15 16 17      15 16 17 18 19 20 21\n",
            "20 21 22 23 24 25 26      18 19 20 21 22 23 24      22 23 24 25 26 27 28\n",
            "27 28 29 30               25 26 27 28 29 30 31      29 30\n",
            "\n",
            "        July                     August                  September\n",
            "Mo Tu We Th Fr Sa Su      Mo Tu We Th Fr Sa Su      Mo Tu We Th Fr Sa Su\n",
            "       1  2  3  4  5                      1  2          1  2  3  4  5  6\n",
            " 6  7  8  9 10 11 12       3  4  5  6  7  8  9       7  8  9 10 11 12 13\n",
            "13 14 15 16 17 18 19      10 11 12 13 14 15 16      14 15 16 17 18 19 20\n",
            "20 21 22 23 24 25 26      17 18 19 20 21 22 23      21 22 23 24 25 26 27\n",
            "27 28 29 30 31            24 25 26 27 28 29 30      28 29 30\n",
            "                          31\n",
            "\n",
            "      October                   November                  December\n",
            "Mo Tu We Th Fr Sa Su      Mo Tu We Th Fr Sa Su      Mo Tu We Th Fr Sa Su\n",
            "          1  2  3  4                         1          1  2  3  4  5  6\n",
            " 5  6  7  8  9 10 11       2  3  4  5  6  7  8       7  8  9 10 11 12 13\n",
            "12 13 14 15 16 17 18       9 10 11 12 13 14 15      14 15 16 17 18 19 20\n",
            "19 20 21 22 23 24 25      16 17 18 19 20 21 22      21 22 23 24 25 26 27\n",
            "26 27 28 29 30 31         23 24 25 26 27 28 29      28 29 30 31\n",
            "                          30\n",
            "\n"
          ]
        }
      ]
    },
    {
      "cell_type": "code",
      "source": [
        "calendar.prcal(2015)"
      ],
      "metadata": {
        "colab": {
          "base_uri": "https://localhost:8080/"
        },
        "id": "7fWiquUL_Gbr",
        "outputId": "1c86fc2e-d6a2-426f-8af6-6fc5acfe8eb2"
      },
      "execution_count": 75,
      "outputs": [
        {
          "output_type": "stream",
          "name": "stdout",
          "text": [
            "                                  2015\n",
            "\n",
            "      January                   February                   March\n",
            "Mo Tu We Th Fr Sa Su      Mo Tu We Th Fr Sa Su      Mo Tu We Th Fr Sa Su\n",
            "          1  2  3  4                         1                         1\n",
            " 5  6  7  8  9 10 11       2  3  4  5  6  7  8       2  3  4  5  6  7  8\n",
            "12 13 14 15 16 17 18       9 10 11 12 13 14 15       9 10 11 12 13 14 15\n",
            "19 20 21 22 23 24 25      16 17 18 19 20 21 22      16 17 18 19 20 21 22\n",
            "26 27 28 29 30 31         23 24 25 26 27 28         23 24 25 26 27 28 29\n",
            "                                                    30 31\n",
            "\n",
            "       April                      May                       June\n",
            "Mo Tu We Th Fr Sa Su      Mo Tu We Th Fr Sa Su      Mo Tu We Th Fr Sa Su\n",
            "       1  2  3  4  5                   1  2  3       1  2  3  4  5  6  7\n",
            " 6  7  8  9 10 11 12       4  5  6  7  8  9 10       8  9 10 11 12 13 14\n",
            "13 14 15 16 17 18 19      11 12 13 14 15 16 17      15 16 17 18 19 20 21\n",
            "20 21 22 23 24 25 26      18 19 20 21 22 23 24      22 23 24 25 26 27 28\n",
            "27 28 29 30               25 26 27 28 29 30 31      29 30\n",
            "\n",
            "        July                     August                  September\n",
            "Mo Tu We Th Fr Sa Su      Mo Tu We Th Fr Sa Su      Mo Tu We Th Fr Sa Su\n",
            "       1  2  3  4  5                      1  2          1  2  3  4  5  6\n",
            " 6  7  8  9 10 11 12       3  4  5  6  7  8  9       7  8  9 10 11 12 13\n",
            "13 14 15 16 17 18 19      10 11 12 13 14 15 16      14 15 16 17 18 19 20\n",
            "20 21 22 23 24 25 26      17 18 19 20 21 22 23      21 22 23 24 25 26 27\n",
            "27 28 29 30 31            24 25 26 27 28 29 30      28 29 30\n",
            "                          31\n",
            "\n",
            "      October                   November                  December\n",
            "Mo Tu We Th Fr Sa Su      Mo Tu We Th Fr Sa Su      Mo Tu We Th Fr Sa Su\n",
            "          1  2  3  4                         1          1  2  3  4  5  6\n",
            " 5  6  7  8  9 10 11       2  3  4  5  6  7  8       7  8  9 10 11 12 13\n",
            "12 13 14 15 16 17 18       9 10 11 12 13 14 15      14 15 16 17 18 19 20\n",
            "19 20 21 22 23 24 25      16 17 18 19 20 21 22      21 22 23 24 25 26 27\n",
            "26 27 28 29 30 31         23 24 25 26 27 28 29      28 29 30 31\n",
            "                          30\n"
          ]
        }
      ]
    },
    {
      "cell_type": "code",
      "source": [
        "# 입력한 년도의 12월의 달력만 출력\n",
        "calendar.prmonth(2015,12)"
      ],
      "metadata": {
        "colab": {
          "base_uri": "https://localhost:8080/"
        },
        "id": "Bq_kqe7p_LDk",
        "outputId": "868fa6c6-4787-4a16-f207-8e62ead543a3"
      },
      "execution_count": 79,
      "outputs": [
        {
          "output_type": "stream",
          "name": "stdout",
          "text": [
            "   December 2015\n",
            "Mo Tu We Th Fr Sa Su\n",
            "    1  2  3  4  5  6\n",
            " 7  8  9 10 11 12 13\n",
            "14 15 16 17 18 19 20\n",
            "21 22 23 24 25 26 27\n",
            "28 29 30 31\n"
          ]
        }
      ]
    },
    {
      "cell_type": "code",
      "source": [
        "class Calculator:\n",
        "  def __init__(self, numberList):\n",
        "    self.numberList = numberList\n",
        "  \n",
        "  def sum(self):\n",
        "    result = 0\n",
        "    for i in self.numberList:\n",
        "      result += i\n",
        "    return result\n",
        "  \n",
        "  def avg(self):\n",
        "    total = self.sum()\n",
        "    return total / len(self.numberList)\n",
        "\n",
        "cal1 = Calculator([1,2,3,4,5])\n",
        "cal1.sum()\n",
        "cal1.avg()\n",
        "\n",
        "cal2 = Calculator([5,82,4,7])\n",
        "cal2.sum()\n",
        "cal2.avg()"
      ],
      "metadata": {
        "colab": {
          "base_uri": "https://localhost:8080/"
        },
        "id": "FApatC_3_O6i",
        "outputId": "43b753d1-1786-4512-a5bf-2bb54ac28f10"
      },
      "execution_count": 87,
      "outputs": [
        {
          "output_type": "execute_result",
          "data": {
            "text/plain": [
              "24.5"
            ]
          },
          "metadata": {},
          "execution_count": 87
        }
      ]
    },
    {
      "cell_type": "code",
      "source": [
        "from mod1 import sum\n",
        "cal1 = Calculator([1,2,3,4,5])\n",
        "cal1.sum()"
      ],
      "metadata": {
        "colab": {
          "base_uri": "https://localhost:8080/"
        },
        "id": "P45HNBGMCCfq",
        "outputId": "7f74ee0c-fe9a-4edd-f4ce-fc1216545612"
      },
      "execution_count": 100,
      "outputs": [
        {
          "output_type": "execute_result",
          "data": {
            "text/plain": [
              "15"
            ]
          },
          "metadata": {},
          "execution_count": 100
        }
      ]
    }
  ]
}