{
  "nbformat": 4,
  "nbformat_minor": 0,
  "metadata": {
    "colab": {
      "provenance": [],
      "authorship_tag": "ABX9TyMuQi94s8aOn5jGOddYbQpD",
      "include_colab_link": true
    },
    "kernelspec": {
      "name": "python3",
      "display_name": "Python 3"
    },
    "language_info": {
      "name": "python"
    }
  },
  "cells": [
    {
      "cell_type": "markdown",
      "metadata": {
        "id": "view-in-github",
        "colab_type": "text"
      },
      "source": [
        "<a href=\"https://colab.research.google.com/github/gustmdtmd/pythondemo/blob/main/python_17_%EC%B6%9C%EC%9E%85%EA%B5%AD_%EA%B4%80%EA%B4%91.ipynb\" target=\"_parent\"><img src=\"https://colab.research.google.com/assets/colab-badge.svg\" alt=\"Open In Colab\"/></a>"
      ]
    },
    {
      "cell_type": "markdown",
      "source": [
        "### 구글드라이브 연결"
      ],
      "metadata": {
        "id": "I7-Sy2FOYOgd"
      }
    },
    {
      "cell_type": "code",
      "execution_count": 1,
      "metadata": {
        "colab": {
          "base_uri": "https://localhost:8080/"
        },
        "id": "6MeAa-keXopl",
        "outputId": "a8438ff4-8361-4046-ae6d-2adb6fcc578e"
      },
      "outputs": [
        {
          "output_type": "stream",
          "name": "stdout",
          "text": [
            "Mounted at /content/drive\n",
            "/content/drive/MyDrive/python_demo\n"
          ]
        }
      ],
      "source": [
        "from google.colab import drive\n",
        "drive.mount('/content/drive')\n",
        "\n",
        "%cd /content/drive/MyDrive/python_demo"
      ]
    },
    {
      "cell_type": "code",
      "source": [
        "!pip install xmltodict"
      ],
      "metadata": {
        "colab": {
          "base_uri": "https://localhost:8080/"
        },
        "id": "JZpUOM9W2eAA",
        "outputId": "98d0a271-8d4e-4290-d6c0-dcd9a8e06446"
      },
      "execution_count": 14,
      "outputs": [
        {
          "output_type": "stream",
          "name": "stdout",
          "text": [
            "Looking in indexes: https://pypi.org/simple, https://us-python.pkg.dev/colab-wheels/public/simple/\n",
            "Collecting xmltodict\n",
            "  Downloading xmltodict-0.13.0-py2.py3-none-any.whl (10.0 kB)\n",
            "Installing collected packages: xmltodict\n",
            "Successfully installed xmltodict-0.13.0\n"
          ]
        }
      ]
    },
    {
      "cell_type": "code",
      "source": [
        "import requests\n",
        "import json\n",
        "import xmltodict\n",
        "\n",
        "key = '9YAVHopS3HMY6WSQi9xy6vU7drbecgUOEq+Aj7k4uZRGL+TjtLjukNh9O448Tys15mNLdZgPnZkwixwb4vUwuw=='\n",
        "#key = '9YAVHopS3HMY6WSQi9xy6vU7drbecgUOEq%2BAj7k4uZRGL%2BTjtLjukNh9O448Tys15mNLdZgPnZkwixwb4vUwuw%3D%3D'\n",
        "\n",
        "def getTourismStatesItem(yyyymm, national_code, ed_cd):\n",
        "    url = 'http://openapi.tour.go.kr/openapi/service/EdrcntTourismStatsService/getEdrcntTourismStatsList'\n",
        "    params ={'serviceKey' : key, 'YM' : yyyymm, 'NAT_CD' : national_code, 'ED_CD' : ed_cd }\n",
        "\n",
        "    response = requests.get(url, params=params)\n",
        "    #print(response.content)\n",
        "    #print(response.text)\n",
        "    return response.text\n",
        "\n",
        "jsonResult = []\n",
        "result = []\n",
        "natName = ''\n",
        "print('<<국내 입국한 외국인의 통계를 수집합니다.>>')\n",
        "nat_cd = input('국가 코드를 입력하세요(중국 : 112 / 일본 : 130 / 미국 : 275) :')\n",
        "nStartYear = int(input('데이터를 몇 년부터 수집할까요? :'))\n",
        "nEndYear = int(input('데이터를 몇 년까지 수집할까요? :'))\n",
        "ed_cd = 'E' #E:방한외래관광객, D:해외 출국\n",
        "\n",
        "dataEND = '{0}{1:0>2}'.format(str(nEndYear), str(12))\n",
        "print(dataEND)\n",
        "isDataEnd = 0 # 데이터 끝 확인용 flat 초기화\n",
        "\n",
        "for year in range(nStartYear, nEndYear+1):\n",
        "  for month in range(1, 13):\n",
        "    if isDataEnd == 1: break #데이터 끝 flag 설정되어 있으면 작업 중지\n",
        "    yyyymm = '{0}{1:0>2}'.format(str(year), str(month))  # >  오른쪽정렬, <  왼쪽정렬, 2 = 자릿수 확보\n",
        "    \n",
        "    jsonData = getTourismStatesItem(yyyymm, nat_cd, ed_cd)\n",
        "    jsonData = xmltodict.parse(jsonData)\n",
        "    #print(jsonData)\n",
        "\n",
        "    if jsonData['response']['header']['resultMsg'] == 'OK':\n",
        "      if jsonData['response']['body']['items'] == '':\n",
        "        isDataEnd = 1 #데이터 끝 flag 설정\n",
        "        dataEND = '{0}{1:0>2}'.format(str(year), str(month-1))\n",
        "        print('데이터 없음...\\n 제공되는 통계 데이터는 %s년 %s월까지 입니다.' %str(year), str(month-1))\n",
        "        break\n",
        "      \n",
        "      # jsonData를 출력하여 확인....\n",
        "      natName = jsonData['response']['body']['items']['item']['natKorNm']\n",
        "      natName = natName.replace(' ','')\n",
        "      num = jsonData['response']['body']['items']['item']['num']\n",
        "      ed = jsonData['response']['body']['items']['item']['ed']\n",
        "      ym = jsonData['response']['body']['items']['item']['ym']\n",
        "      print('[%s_%s_%s : %s]' %(ym, natName, ed, num))\n",
        "  "
      ],
      "metadata": {
        "id": "d1uffm43Y8eV"
      },
      "execution_count": null,
      "outputs": []
    },
    {
      "cell_type": "code",
      "source": [],
      "metadata": {
        "id": "Y33YD01XZVY_"
      },
      "execution_count": null,
      "outputs": []
    }
  ]
}