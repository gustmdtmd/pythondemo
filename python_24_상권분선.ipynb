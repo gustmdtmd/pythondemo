{
  "cells": [
    {
      "cell_type": "markdown",
      "metadata": {
        "id": "view-in-github",
        "colab_type": "text"
      },
      "source": [
        "<a href=\"https://colab.research.google.com/github/gustmdtmd/pythondemo/blob/main/python_24_%EC%83%81%EA%B6%8C%EB%B6%84%EC%84%A0.ipynb\" target=\"_parent\"><img src=\"https://colab.research.google.com/assets/colab-badge.svg\" alt=\"Open In Colab\"/></a>"
      ]
    },
    {
      "cell_type": "code",
      "execution_count": null,
      "metadata": {
        "id": "cQwRBuUz3UfQ"
      },
      "outputs": [],
      "source": [
        "!sudo apt-get install -y fonts-nanum\n",
        "!sudo fc-cache -fv\n",
        "!rm ~/.cache/matplotlib -rf"
      ]
    },
    {
      "cell_type": "code",
      "execution_count": null,
      "metadata": {
        "colab": {
          "base_uri": "https://localhost:8080/"
        },
        "id": "7-BhxTsz3eGC",
        "outputId": "4f0224a6-5ad2-4de5-aba9-db34be6e91a0"
      },
      "outputs": [
        {
          "name": "stdout",
          "output_type": "stream",
          "text": [
            "Mounted at /content/drive\n",
            "/content/drive/MyDrive/python_demo\n"
          ]
        }
      ],
      "source": [
        "from google.colab import drive\n",
        "drive.mount('/content/drive')\n",
        "\n",
        "%cd /content/drive/MyDrive/python_demo"
      ]
    },
    {
      "cell_type": "code",
      "execution_count": null,
      "metadata": {
        "id": "9f9xzJlR3mm5"
      },
      "outputs": [],
      "source": [
        "import numpy as np\n",
        "import pandas as pd\n",
        "import matplotlib as matplotlib\n",
        "import matplotlib.pyplot as plt\n",
        "import seaborn as sns"
      ]
    },
    {
      "cell_type": "code",
      "execution_count": null,
      "metadata": {
        "id": "VPaNqP2i38WB"
      },
      "outputs": [],
      "source": [
        "plt.rc('font', family='NanumBarunGothic')"
      ]
    },
    {
      "cell_type": "code",
      "execution_count": null,
      "metadata": {
        "colab": {
          "base_uri": "https://localhost:8080/",
          "height": 1000
        },
        "id": "JLVhD4Nq3-Ax",
        "outputId": "b6465313-7609-499a-8d28-02791f95c328"
      },
      "outputs": [
        {
          "data": {
            "text/html": [
              "\n",
              "  <div id=\"df-d499afc4-41a6-4893-9d09-e3bae5c33c27\">\n",
              "    <div class=\"colab-df-container\">\n",
              "      <div>\n",
              "<style scoped>\n",
              "    .dataframe tbody tr th:only-of-type {\n",
              "        vertical-align: middle;\n",
              "    }\n",
              "\n",
              "    .dataframe tbody tr th {\n",
              "        vertical-align: top;\n",
              "    }\n",
              "\n",
              "    .dataframe thead th {\n",
              "        text-align: right;\n",
              "    }\n",
              "</style>\n",
              "<table border=\"1\" class=\"dataframe\">\n",
              "  <thead>\n",
              "    <tr style=\"text-align: right;\">\n",
              "      <th></th>\n",
              "      <th>상가업소번호</th>\n",
              "      <th>상호명</th>\n",
              "      <th>지점명</th>\n",
              "      <th>상권업종대분류코드</th>\n",
              "      <th>상권업종대분류명</th>\n",
              "      <th>상권업종중분류코드</th>\n",
              "      <th>상권업종중분류명</th>\n",
              "      <th>상권업종소분류코드</th>\n",
              "      <th>상권업종소분류명</th>\n",
              "      <th>표준산업분류코드</th>\n",
              "      <th>...</th>\n",
              "      <th>건물관리번호</th>\n",
              "      <th>건물명</th>\n",
              "      <th>도로명주소</th>\n",
              "      <th>구우편번호</th>\n",
              "      <th>신우편번호</th>\n",
              "      <th>동정보</th>\n",
              "      <th>층정보</th>\n",
              "      <th>호정보</th>\n",
              "      <th>경도</th>\n",
              "      <th>위도</th>\n",
              "    </tr>\n",
              "  </thead>\n",
              "  <tbody>\n",
              "    <tr>\n",
              "      <th>0</th>\n",
              "      <td>19964615</td>\n",
              "      <td>석봉토스트</td>\n",
              "      <td>NaN</td>\n",
              "      <td>Q</td>\n",
              "      <td>음식</td>\n",
              "      <td>Q07</td>\n",
              "      <td>패스트푸드</td>\n",
              "      <td>Q07A10</td>\n",
              "      <td>토스트전문</td>\n",
              "      <td>I56192</td>\n",
              "      <td>...</td>\n",
              "      <td>1121510300100770047020647</td>\n",
              "      <td>NaN</td>\n",
              "      <td>서울특별시 광진구 자양로39길 20, (구의동)</td>\n",
              "      <td>143200</td>\n",
              "      <td>4992.0</td>\n",
              "      <td>NaN</td>\n",
              "      <td>1</td>\n",
              "      <td>NaN</td>\n",
              "      <td>127.088387</td>\n",
              "      <td>37.549245</td>\n",
              "    </tr>\n",
              "    <tr>\n",
              "      <th>1</th>\n",
              "      <td>19977290</td>\n",
              "      <td>피자마루</td>\n",
              "      <td>약수점</td>\n",
              "      <td>Q</td>\n",
              "      <td>음식</td>\n",
              "      <td>Q07</td>\n",
              "      <td>패스트푸드</td>\n",
              "      <td>Q07A01</td>\n",
              "      <td>피자전문</td>\n",
              "      <td>I56192</td>\n",
              "      <td>...</td>\n",
              "      <td>1114016200103720095000001</td>\n",
              "      <td>현진빌딩</td>\n",
              "      <td>서울특별시 중구 동호로7길 37, (신당동)</td>\n",
              "      <td>100450</td>\n",
              "      <td>4596.0</td>\n",
              "      <td>NaN</td>\n",
              "      <td>1</td>\n",
              "      <td>NaN</td>\n",
              "      <td>127.010861</td>\n",
              "      <td>37.552153</td>\n",
              "    </tr>\n",
              "    <tr>\n",
              "      <th>2</th>\n",
              "      <td>19979960</td>\n",
              "      <td>홍능갈비</td>\n",
              "      <td>NaN</td>\n",
              "      <td>Q</td>\n",
              "      <td>음식</td>\n",
              "      <td>Q01</td>\n",
              "      <td>한식</td>\n",
              "      <td>Q01A02</td>\n",
              "      <td>갈비/삼겹살</td>\n",
              "      <td>I56111</td>\n",
              "      <td>...</td>\n",
              "      <td>1150010300110860003013118</td>\n",
              "      <td>NaN</td>\n",
              "      <td>서울특별시 강서구 화곡로18길 31, (화곡동)</td>\n",
              "      <td>157010</td>\n",
              "      <td>7718.0</td>\n",
              "      <td>NaN</td>\n",
              "      <td>1</td>\n",
              "      <td>NaN</td>\n",
              "      <td>126.836078</td>\n",
              "      <td>37.538927</td>\n",
              "    </tr>\n",
              "    <tr>\n",
              "      <th>3</th>\n",
              "      <td>19983535</td>\n",
              "      <td>초밥왕</td>\n",
              "      <td>NaN</td>\n",
              "      <td>Q</td>\n",
              "      <td>음식</td>\n",
              "      <td>Q03</td>\n",
              "      <td>일식/수산물</td>\n",
              "      <td>Q03A03</td>\n",
              "      <td>음식점-초밥전문</td>\n",
              "      <td>I56113</td>\n",
              "      <td>...</td>\n",
              "      <td>1171010200100070028000237</td>\n",
              "      <td>현대타워아파트</td>\n",
              "      <td>서울특별시 송파구 올림픽로 293-19, (신천동, 현대타워아파트)</td>\n",
              "      <td>138735</td>\n",
              "      <td>5510.0</td>\n",
              "      <td>NaN</td>\n",
              "      <td>1</td>\n",
              "      <td>NaN</td>\n",
              "      <td>127.102490</td>\n",
              "      <td>37.515149</td>\n",
              "    </tr>\n",
              "    <tr>\n",
              "      <th>4</th>\n",
              "      <td>19969945</td>\n",
              "      <td>에브리돈</td>\n",
              "      <td>북가좌점</td>\n",
              "      <td>Q</td>\n",
              "      <td>음식</td>\n",
              "      <td>Q01</td>\n",
              "      <td>한식</td>\n",
              "      <td>Q01A01</td>\n",
              "      <td>한식/백반/한정식</td>\n",
              "      <td>I56111</td>\n",
              "      <td>...</td>\n",
              "      <td>1141011900103070003002306</td>\n",
              "      <td>NaN</td>\n",
              "      <td>서울특별시 서대문구 응암로 65, (북가좌동)</td>\n",
              "      <td>120130</td>\n",
              "      <td>3681.0</td>\n",
              "      <td>NaN</td>\n",
              "      <td>1</td>\n",
              "      <td>NaN</td>\n",
              "      <td>126.910288</td>\n",
              "      <td>37.579029</td>\n",
              "    </tr>\n",
              "  </tbody>\n",
              "</table>\n",
              "<p>5 rows × 39 columns</p>\n",
              "</div>\n",
              "      <button class=\"colab-df-convert\" onclick=\"convertToInteractive('df-d499afc4-41a6-4893-9d09-e3bae5c33c27')\"\n",
              "              title=\"Convert this dataframe to an interactive table.\"\n",
              "              style=\"display:none;\">\n",
              "        \n",
              "  <svg xmlns=\"http://www.w3.org/2000/svg\" height=\"24px\"viewBox=\"0 0 24 24\"\n",
              "       width=\"24px\">\n",
              "    <path d=\"M0 0h24v24H0V0z\" fill=\"none\"/>\n",
              "    <path d=\"M18.56 5.44l.94 2.06.94-2.06 2.06-.94-2.06-.94-.94-2.06-.94 2.06-2.06.94zm-11 1L8.5 8.5l.94-2.06 2.06-.94-2.06-.94L8.5 2.5l-.94 2.06-2.06.94zm10 10l.94 2.06.94-2.06 2.06-.94-2.06-.94-.94-2.06-.94 2.06-2.06.94z\"/><path d=\"M17.41 7.96l-1.37-1.37c-.4-.4-.92-.59-1.43-.59-.52 0-1.04.2-1.43.59L10.3 9.45l-7.72 7.72c-.78.78-.78 2.05 0 2.83L4 21.41c.39.39.9.59 1.41.59.51 0 1.02-.2 1.41-.59l7.78-7.78 2.81-2.81c.8-.78.8-2.07 0-2.86zM5.41 20L4 18.59l7.72-7.72 1.47 1.35L5.41 20z\"/>\n",
              "  </svg>\n",
              "      </button>\n",
              "      \n",
              "  <style>\n",
              "    .colab-df-container {\n",
              "      display:flex;\n",
              "      flex-wrap:wrap;\n",
              "      gap: 12px;\n",
              "    }\n",
              "\n",
              "    .colab-df-convert {\n",
              "      background-color: #E8F0FE;\n",
              "      border: none;\n",
              "      border-radius: 50%;\n",
              "      cursor: pointer;\n",
              "      display: none;\n",
              "      fill: #1967D2;\n",
              "      height: 32px;\n",
              "      padding: 0 0 0 0;\n",
              "      width: 32px;\n",
              "    }\n",
              "\n",
              "    .colab-df-convert:hover {\n",
              "      background-color: #E2EBFA;\n",
              "      box-shadow: 0px 1px 2px rgba(60, 64, 67, 0.3), 0px 1px 3px 1px rgba(60, 64, 67, 0.15);\n",
              "      fill: #174EA6;\n",
              "    }\n",
              "\n",
              "    [theme=dark] .colab-df-convert {\n",
              "      background-color: #3B4455;\n",
              "      fill: #D2E3FC;\n",
              "    }\n",
              "\n",
              "    [theme=dark] .colab-df-convert:hover {\n",
              "      background-color: #434B5C;\n",
              "      box-shadow: 0px 1px 3px 1px rgba(0, 0, 0, 0.15);\n",
              "      filter: drop-shadow(0px 1px 2px rgba(0, 0, 0, 0.3));\n",
              "      fill: #FFFFFF;\n",
              "    }\n",
              "  </style>\n",
              "\n",
              "      <script>\n",
              "        const buttonEl =\n",
              "          document.querySelector('#df-d499afc4-41a6-4893-9d09-e3bae5c33c27 button.colab-df-convert');\n",
              "        buttonEl.style.display =\n",
              "          google.colab.kernel.accessAllowed ? 'block' : 'none';\n",
              "\n",
              "        async function convertToInteractive(key) {\n",
              "          const element = document.querySelector('#df-d499afc4-41a6-4893-9d09-e3bae5c33c27');\n",
              "          const dataTable =\n",
              "            await google.colab.kernel.invokeFunction('convertToInteractive',\n",
              "                                                     [key], {});\n",
              "          if (!dataTable) return;\n",
              "\n",
              "          const docLinkHtml = 'Like what you see? Visit the ' +\n",
              "            '<a target=\"_blank\" href=https://colab.research.google.com/notebooks/data_table.ipynb>data table notebook</a>'\n",
              "            + ' to learn more about interactive tables.';\n",
              "          element.innerHTML = '';\n",
              "          dataTable['output_type'] = 'display_data';\n",
              "          await google.colab.output.renderOutput(dataTable, element);\n",
              "          const docLink = document.createElement('div');\n",
              "          docLink.innerHTML = docLinkHtml;\n",
              "          element.appendChild(docLink);\n",
              "        }\n",
              "      </script>\n",
              "    </div>\n",
              "  </div>\n",
              "  "
            ],
            "text/plain": [
              "     상가업소번호    상호명   지점명 상권업종대분류코드 상권업종대분류명 상권업종중분류코드 상권업종중분류명 상권업종소분류코드  \\\n",
              "0  19964615  석봉토스트   NaN         Q       음식       Q07    패스트푸드    Q07A10   \n",
              "1  19977290   피자마루   약수점         Q       음식       Q07    패스트푸드    Q07A01   \n",
              "2  19979960   홍능갈비   NaN         Q       음식       Q01       한식    Q01A02   \n",
              "3  19983535    초밥왕   NaN         Q       음식       Q03   일식/수산물    Q03A03   \n",
              "4  19969945   에브리돈  북가좌점         Q       음식       Q01       한식    Q01A01   \n",
              "\n",
              "    상권업종소분류명 표준산업분류코드  ...                     건물관리번호      건물명  \\\n",
              "0      토스트전문   I56192  ...  1121510300100770047020647      NaN   \n",
              "1       피자전문   I56192  ...  1114016200103720095000001     현진빌딩   \n",
              "2     갈비/삼겹살   I56111  ...  1150010300110860003013118      NaN   \n",
              "3   음식점-초밥전문   I56113  ...  1171010200100070028000237  현대타워아파트   \n",
              "4  한식/백반/한정식   I56111  ...  1141011900103070003002306      NaN   \n",
              "\n",
              "                                   도로명주소   구우편번호   신우편번호  동정보 층정보  호정보  \\\n",
              "0             서울특별시 광진구 자양로39길 20, (구의동)  143200  4992.0  NaN   1  NaN   \n",
              "1               서울특별시 중구 동호로7길 37, (신당동)  100450  4596.0  NaN   1  NaN   \n",
              "2             서울특별시 강서구 화곡로18길 31, (화곡동)  157010  7718.0  NaN   1  NaN   \n",
              "3  서울특별시 송파구 올림픽로 293-19, (신천동, 현대타워아파트)  138735  5510.0  NaN   1  NaN   \n",
              "4              서울특별시 서대문구 응암로 65, (북가좌동)  120130  3681.0  NaN   1  NaN   \n",
              "\n",
              "           경도         위도  \n",
              "0  127.088387  37.549245  \n",
              "1  127.010861  37.552153  \n",
              "2  126.836078  37.538927  \n",
              "3  127.102490  37.515149  \n",
              "4  126.910288  37.579029  \n",
              "\n",
              "[5 rows x 39 columns]"
            ]
          },
          "execution_count": 4,
          "metadata": {},
          "output_type": "execute_result"
        }
      ],
      "source": [
        "df = pd.read_csv('pdsample/seoul_20200630.csv', sep='|')\n",
        "df.head()"
      ]
    },
    {
      "cell_type": "code",
      "execution_count": null,
      "metadata": {
        "colab": {
          "base_uri": "https://localhost:8080/"
        },
        "id": "wM9WbF-E4O7J",
        "outputId": "e8046a19-c33c-4b60-8df7-9c570422689a"
      },
      "outputs": [
        {
          "data": {
            "text/plain": [
              "(370321, 39)"
            ]
          },
          "execution_count": 5,
          "metadata": {},
          "output_type": "execute_result"
        }
      ],
      "source": [
        "df.shape"
      ]
    },
    {
      "cell_type": "code",
      "execution_count": null,
      "metadata": {
        "colab": {
          "base_uri": "https://localhost:8080/"
        },
        "id": "3nkNHg2r6BKa",
        "outputId": "f8b77d5a-2a56-4b2f-e47c-6351a1edcd73"
      },
      "outputs": [
        {
          "data": {
            "text/plain": [
              "Index(['상가업소번호', '상호명', '지점명', '상권업종대분류코드', '상권업종대분류명', '상권업종중분류코드',\n",
              "       '상권업종중분류명', '상권업종소분류코드', '상권업종소분류명', '표준산업분류코드', '표준산업분류명', '시도코드',\n",
              "       '시도명', '시군구코드', '시군구명', '행정동코드', '행정동명', '법정동코드', '법정동명', '지번코드',\n",
              "       '대지구분코드', '대지구분명', '지번본번지', '지번부번지', '지번주소', '도로명코드', '도로명', '건물본번지',\n",
              "       '건물부번지', '건물관리번호', '건물명', '도로명주소', '구우편번호', '신우편번호', '동정보', '층정보',\n",
              "       '호정보', '경도', '위도'],\n",
              "      dtype='object')"
            ]
          },
          "execution_count": 6,
          "metadata": {},
          "output_type": "execute_result"
        }
      ],
      "source": [
        "df.columns"
      ]
    },
    {
      "cell_type": "code",
      "execution_count": null,
      "metadata": {
        "colab": {
          "base_uri": "https://localhost:8080/"
        },
        "id": "x_GFAKwZ6Eeh",
        "outputId": "c9c5e6fe-9ac8-4584-8844-a4b33c7fd2fe"
      },
      "outputs": [
        {
          "data": {
            "text/plain": [
              "{'관광/여가/오락', '부동산', '생활서비스', '소매', '숙박', '스포츠', '음식', '학문/교육'}"
            ]
          },
          "execution_count": 7,
          "metadata": {},
          "output_type": "execute_result"
        }
      ],
      "source": [
        "set(df['상권업종대분류명'])"
      ]
    },
    {
      "cell_type": "code",
      "execution_count": null,
      "metadata": {
        "colab": {
          "base_uri": "https://localhost:8080/"
        },
        "id": "8ep41rk-6PnI",
        "outputId": "084b2ed2-4334-4312-ba35-968c3a43c7ba"
      },
      "outputs": [
        {
          "name": "stdout",
          "output_type": "stream",
          "text": [
            "{'학원-어학', '종합소매점', '요가/단전/마사지', '연구소', '음식배달서비스', '사진/광학/정밀기기소매', '유아용품', '학원-음악미술무용', '음/식료품소매', '대중목욕탕/휴게', '연극/영화/극장', '학원-자격/국가고시', '무도/유흥/가무', '사진', '시계/귀금속소매', '종교용품판매', '캠프/별장/펜션', '스포츠/운동', '자동차/이륜차', '유아교육', '의약/의료품소매', '평가/개발/관리', '부페', '주유소/충전소', '학원-창업취업취미', '호텔/콘도', '커피점/카페', '주택수리', '학원-컴퓨터', '학원-예능취미체육', '패스트푸드', '유스호스텔', '기타교육기관', '운송/배달/택배', '건강/미용식품', '장례/묘지', '부동산관련서비스', '법무세무회계', '부동산중개', '예식/의례/관혼상제', '부동산임대', '닭/오리요리', '별식/퓨전요리', '놀이/여가/취미', '학원-보습교습입시', '제과제빵떡케익', '경마/경륜/성인오락', '광고/인쇄', '사무/문구/컴퓨터', '실외운동시설', '개인/가정용품수리', '실내운동시설', '학문교육기타', '운동/경기용품소매', '일식/수산물', '세탁/가사서비스', '분식', '한식', '가방/신발/액세서리', '선물/팬시/기념품', '자동차/자동차용품', '예술품/골동품/수석/분재', '대행업', '물품기기대여', '학교', '전시/관람', '분양', '취미/오락관련소매', '기타서비스업', '중식', '화장품소매', '가정/주방/인테리어', '애견/애완/동물', 'PC/오락/당구/볼링등', '모텔/여관/여인숙', '가구소매', '책/서적/도서', '양식', '철물/난방/건설자재소매', '이/미용/건강', '인력/고용/용역알선', '유흥주점', '페인트/유리제품소매', '기타음식업', '개인서비스', '중고품소매/교환', '민박/하숙', '의복의류', '가전제품소매', '도서관/독서실', '기타판매업', '학원기타', '행사/이벤트', '운영관리시설'}\n"
          ]
        }
      ],
      "source": [
        "print(set(df['상권업종중분류명']))"
      ]
    },
    {
      "cell_type": "code",
      "execution_count": null,
      "metadata": {
        "colab": {
          "base_uri": "https://localhost:8080/"
        },
        "id": "RWBNqfrj6ZWy",
        "outputId": "eaebda98-15e3-48b6-ea59-ea83167ab14d"
      },
      "outputs": [
        {
          "name": "stdout",
          "output_type": "stream",
          "text": [
            "{nan, '활기원', '정육점', '타이어판매', '학원-가요', '학원-복장', '그림/액자판매', '회갑연서비스', '동물약품판매', '꽃꽂이(대행)', '커피전문점/카페/다방', '수입담배판매', '장식품대여', '구판장/직판장', '학원-목공예', '독서실', '학원-레크리에이션', '상가분양', '악기대여', '볼링용품판매', '학원-양재', '카오디오전문', '서바이벌게임장', '오리고기전문', '아케이드/쇼핑센타', '철물/건설자재소매', '표구점', '가구수리', '닭내장/닭발요리', '캠프/별장/펜션', '자동판매기운영', '토산품/기념품점', '스파게티전문점', '제과점', '조립식앵글판매', '학원-역학', '가구판매-돌침대', '국/찌개배달', '학원-속기', '학원-도배', '피아노조율', '학원-네일아트', '스키장비판매', '욕탕업-종합', '복전문', '디스플레이대행', '부동산소유권조사', '출장파티/연회대행', '이동도서관운영', '호텔/콘도', '패션디자인', '화물운송-용달', '할인점', '학원-사진', '재활용/고물수집', '학원/국가고시', '일반가구소매', '학원-관광통역', '갈비/삼겹살', '비만/피부관리', '주택수리종합', '전자오락실', '카메라판매', '진열장판매', '피아노/바이올린/기타', '학원-마술', '농자재판매', '심부름센터', '닭갈비전문', '추어탕전문', '이벤트용품판매', '혼수전문점', '빠/카페/스탠드빠', '자동차정비/카센타', '아구전문', '철판구이요리전문', '학원-칵테일', '과학관/전시관', '건강/헬스용품', '자동차부품판매', '가구판매-사무용가구', '경보기판매', '용달/개별화물', '학원-무용', '두부요리전문', '골동품판매', '휴게텔', '음악감상', '가구판매-등가구', '사진/원고/기록물대여', '고속도로휴게소', '토스트전문', '학원(종합)', '가스레인지판매', '유리창호', '전자오락기구판매', '사료소매', '가정용연료소매', '기타운영설비', '학원-배우/탤런트', '바닷가재/게요리전문', 'LPG판매', '우산/우의판매', '광택전문', '박제표본', '특수사진기', '정보통신기기수리', '아동복판매', '냉면집', '주방용품', '곡물소매', '학원-전자통신', '학원-요리', '편의점', '음반/테이프/CD', '학원-환경기사', '사주카페', '차량연료소매-종합', '컴퓨터대여', '중고명품판매교환', '중고타이어판매', '이종격투기', '컴퓨터학원', '유아용품판매', '수석판매', '모텔/여관/여인숙', '금연관련제품판매', '태권도장', '돌구이요리전문', '잡지/신문소매', '일반가전제품', '청소/소독', '레크레이션지도/상담', '복권판매', '학원-공인중개사', '시계방', '종교용품판매-불교', '두유판매', '미싱판매', '인문/사회과학연구개발-종합', '죽전문점', '컴퓨터/주변기기', '액세서리판매', '보일러/냉난방용품', '토종닭전문', '영사기판매', '학원-검정고시', '서예/서화/미술', '그릇판매', '물품감정서비스', '학원-텔렉스/통신', '냉온수기소독/수리', '지도제작', '인테리어/욕실용품/커튼', '복사대행', '학원-자수/동양자수', '우유판매', '학습지보급', '렌트카', '세탁소/빨래방', '미술관/박물관', '무도장', '학원-경찰', '보석감정', '꽃집/꽃배달', '가구판매-응접세트', '휴대폰튜닝', '종합공연장', '학원-피부미용', '인장/도장', '속기사무소', '소파침대카펫트세탁', '헬스클럽', '상품포장', '종합이삿짐대행', '학원-자동차운전', '어판장', '남성의류전문점', '참치전문점', '학원-입시', '다이아몬드매매', '등세공품판매', '포켓볼장', '음식점-일식', '중고가전가구', '컴퓨터서적판매', '성인용품판매', '탕수육전문점', '학원-펜글씨/한문', '예술품/골동품소매', '도너츠전문', '사철탕전문', '부대찌개/섞어찌개', '민속주점', '생활용품판매', '예절지도', '방앗간/정미소', '샌드위치전문점', '학원-이용', '열쇠제작', '체육관', '고객관리대행', '핸드폰소매', '학원-만화영화', '패스트푸드', '김치판매', '발/네일케어', '심야전기보일러판매', '꼬치구이전문점', '생활용품대여', '안마시술소', '한식부페', '고서적판매', '상품권판매', '서점', '학원-스튜디어스', '우체국/우편물취급소', '솜틀집', '수도설비', '시장/종합상가', '학원-지점토', '컴퓨터수리', '학원-보석감정', '조립모형소매', '동화구연', '컴퓨터/사무용기기종합', '학원-항공기술', '비디오/오디오테이프대여', '사업중개업', '찐빵전문', '학원-간호조무사', '유과판매', '유아/임부복', '십자수/뜨개', '가구판매-침대전문', '조감도/투시도전문', '실내수영장', '나이트클럽', '부동산자문', '보청기판매', '수산물전문음식점-종합', '어물상', '특수복판매', '학원-애견미용', '학원-중장비', '이벤트기획', '안경원', '세탁대행', '매운탕전문', '지물재단', '묘지관리-종합', '할인/아동도서', '전화기판매', '여성미용실', '어린이집', '미장타일도배도장', '캐릭터상품', '퀼트전문', '학원-웅변', '녹즙판매', '학원-세탁기술', '농기구판매', '신발소매', '기타전문서양음식점', '물수건대여', '사무대리서비스', '재봉용품판매', '부동산감정평가', '총포상', '카레전문점', '학원-제과기술', '기념패/휘장', '케익전문점', '중국음식/중국집', '학원-꽃꽃이', '오디오전문점', '생수판매', '학원-한복기술', '도서관', '우표/공중전화카드수집상', '해외취업알선', '연극공연/영화제작용품임대', '무전기(판매/수리)', '실내스케이트장', '응원기획', '공인노무사', '식용유판매', '애견카페', '기타실내운동시설', '학원-국가고시', '네비게이션판매', '인라인스케이트판매', '고기부페', '선식판매', '민물장어전문', '사업경영상담', '예식장/예식서비스', '리본공예판매', '학원-심리변론', '에어컨수리/설치', '한국식유흥주점', '채식/한식부페', '지도판매', '유리/거울판매', '전단지배포대행', '면세백화점', '컴퓨터전문매장', '전통찻집/인삼찻집', '저울판매', '옷수선', '생명과학연구소', '신용조사/흥신소', '요가/단식', '학원-경리', '닭도리탕전문', '구두제화/캐주얼화', '닭집', '롤러스케이트장', '일반의류', '가방/가죽제품소매', '주말농장', '수입품판매점', '학원-편입', '목제품판매', '골프용품판매', '광촉매판매', '퓨전음식전문', '로바다야끼', '황태전문', '청과물소매', '셔츠/내의/속옷', '바베큐전문', '등산용품판매', '학원-비디오', '수영용품판매', '생과자점', '학원-광고디자인', '자전거판매/수리', '공학연구소', '학원-전기기술', '기원', '여성내의전문점', '임대-사무실/오피스텔/공장', '국수/만두/칼국수', '유아교육기관기타', '설렁탕집', '학원-스포츠/재즈댄스', '삼계탕전문', '실외야구연습장', '종교용품판매', '스포츠센터', '해물찜/탕전문', '인삼제품판매', '락카페', '생식판매', '광고대행-전화번호부', '스티커사진방', '체형미교실', '호신용품판매', '관광/유흥주점', '공연티켓예매', '사진관', '제기용품판매', '액세서리수선', '태양열온수기판매', '잡화점', '소주방/포장마차', '유니폼/맞춤복/단체복', '향수전문점', '무도유흥주점-종합', '지물판매', '바둑/장기용품판매', '학원-기억법', '사무실분양', '한복/갈옷/민속옷', '유산균아이스크림전문', '현미경/망원경판매', '학원-경영', '검도도장', '여성의류전문점', '예복/웨딩드레스', '라면김밥분식', '작곡', '학원-섬유기술', '필체감정', '홍어전문', '의족/의수판매', '실내골프연습장', '풍선도소매', '의약품소매', '곱창/양구이전문', '임대-주택/아파트/연립', '변리사', '학원-동물사육', '간판제작종합', '오락/스포츠용품대여', '종교용품판매-천주교', '학원-캐드', '운명감정작명', '가구판매-수입가구', '도료염료', '개인/가정용품수리-종합', '상업사진', '제과재료판매', '한식/백반/한정식', '극장식유흥주점', '골동품수리', '이삿짐보관', '화방/필방', '쿵후도장', '외국서적판매', '연예인대리업', '유도장', '음식출장조달', '족발/보쌈전문', '가죽/모피수선', '국제회의용역', '놀이방', '광고물제작', '선물용품판매', '편집대행', '애완동물 미용실', '스쿼시장', '노래방', '유아식품판매', '차트제작', '사무기기대여', '불교서적판매', '조명기구/전기용품', '시험정보안내', '금고판매', '학원-건축토목기술', '백화점', '신용카드조회기판매', '부동산신탁', '해물부페', '섬유/직물/주단', '수족관', '인공암벽', '굴요리전문', '가전제품수리', '킥복싱', '우동전문점', '실내낚시', '학원-기타', '버섯전문점', '자동차장식품판매', '학원-미용', '건강식품판매', '남성미용실', '스테이크전문점', '금은방', '떡전문', '악기수선', '학원-속독', '학원-목욕관리사', '학원-서당', '스포츠마사지', '게장전문', '기타오락관련산업', '순두부전문', '게임룸', '캐쥬얼/스포츠의류', '페인트/유리제품소매', '기타경기후원업/경기단체', '공예품판매', '법무사', '곰장어전문', '안전보호구판매', '자전거판매', '영화관', '단전호흡', '맞춤양복/양복점', '자동차유리전문점', '서적/신문소매', '정통양식/경양식', '지압원', '수영장', '학원-분장', '공증인', '사우나/증기탕/온천', '호프/맥주', '기타고기요리', '수입가전제품판매', '학원-어린이영어', '복싱도장', '블럭놀이방', '카페트판매', '학원-주산암산부기속셈', '실내야구연습장', '배관난방보일러', '행사대행', '광고물제작-종합', '주택공급', '비디오카메라대여', '찜닭전문점', '기독교서적판매', '세무사', '학원-디자인', '사진/광학/정밀기기소매', '정수기연수기', '합기도장', '목욕업-찜질방', '유기농식품판매', '종합부페', '액자점', '종교서적판매', '건축백화점', '고등어전문', '인터넷PC방', '통신판매', '애견/애완/동물사육판매', '물물교환센타', '비즈공예', '룸살롱/단란주점', '도시락전문점', '재첩국전문', '건과류판매', '인쇄종합', '미곡상', '회계관련서비스-종합', '양품점', '학원-아트플라워', '업소용가전제품', '법복(승복)판매', '가방구두수전', '냉동식품판매', '시계/귀금속', '야식집', '건물분양-종합', '드라이아이스판매', '수상운동용품판매', '쌈밥전문', '식료품점', '건강보조기구판매', '차량가스충전소', '낙지/오징어', '운동/경기용품', '학원-자동차정비', '퀵배달', '오토바이판매/수리', '학원-냉동열관리', '종교용품판매-기독교', '문서송달대행', '동남아음식전문점', '대서소', '청바지판매', '연탄판매', '종합소매', '스케이트장', '유스호스텔', '도면제작대행', '컴퓨터입력대행', '건축물시설관리', '징기스칸요리전문', '불닭전문', '골프장', '노래방기기판매', '피아노운반', '고시원', '직업전문학교', '상품전시', '기사식당', '화장품판매점', '수입자동차판매', '학원-공예', '완구점', '천주교서적판매', '반찬가게', '조합/연금매장', '학원-말더듬', '스낵', '초상화제작', '실내테니스장', '가사도우미알선', '후라이드/양념치킨', '화환/화분대여', '노점/유사이동판매', '비행훈련원', '도서/만화대여', '지역정보지', '침구/수예품', '번역/통역서비스', '관광/민예품/선물용품소매', '학원-미싱자수', '필름판매점', '부동산중개', '유아용품/장난감대여판매', '미용실-어린이', '지점토판매', '파라솔판매', '수입중고자동차판매', '낚시용품판매', '샤브샤브전문', '얼음가게', '음식점-초밥전문', '가구판매-장농', '주유소', '가죽/모피의류', '떡볶이전문', '돌솥/비빕밥전문점', '건강원', '주방가구판매', '골프회원권거래소', '맞춤양장/양장점', '학원-에어로빅', '연극/음악/예술관련기타', '갈치/생선구이', '화물운송대리', '이민유학알선', '교복판매', '학원-기계/금형기술', '당구장', '중고서적판매', '구내식당/자급식음식점', '생과일주스전문점', '탁구장', '분재판매', '오락용사격장', '수산물소매', '직업훈련소', '기능성신발판매', '장의사/관련서비스-종합', '떡/한과집', '신발세탁', '유리/페인트/철물건축자재', '호스피스', '아이스크림판매', '홈패션', '잉크충전', '사회교육단체', '인력공급/고용알선', '악기판매', '패밀리레스토랑', '비디오감상실', '실내놀이터-유아', '조립칸막이/파티션', '중고자동차판매', '의류/한복대여', '학원-국악', '학원-실내운전', '열쇠판매/수리', '물품대여종합', '가발판매', '생활정보제공서비스', '패션쇼대행', '파전전문', '사무용기기소매', '컴퓨터프로그램판매', '단식원', '세차장', '수퍼마켓', '가스설비', '셔터/새시판매', '학원-사교춤', '건어물상', '직장위탁교육', '의료용품소매', '다이어트상품판매', '가정용가구/기기임대', '결혼상담소', '주차장운영', '운동/코치학교', '학원-바둑', '돈가스전문점', '학원-침술', '육류소매', '민박/하숙', '테니스장', '기타일반유흥주점', '유류판매', '학원-외국어/어학', '세탁기구판매', '피자전문', '비데판매', '낚시터', '학원-편물기술', '식자재판매', '운전연수전문', '조개구이전문', '한정식전문', '핫도그', '옻닭전문', '사무/문구용품', '오락게임기구/장난감소매', '학원-간판디자인', '변호사', '해장국/감자탕', '법무관련서비스-종합', '보리밥전문', '횟집', '화랑', '자동차판매', '탐정/경호', '폐백전문', '학원-TV기술', '순대전문점', '보드게임카페', '볼링장'}\n"
          ]
        }
      ],
      "source": [
        "print(set(df['상권업종소분류명']))"
      ]
    },
    {
      "cell_type": "code",
      "execution_count": null,
      "metadata": {
        "colab": {
          "base_uri": "https://localhost:8080/"
        },
        "id": "zj4s2pRa6idB",
        "outputId": "ba55c5d6-a7a3-4b67-92b5-2d90c6e97d33"
      },
      "outputs": [
        {
          "data": {
            "text/plain": [
              "상가업소번호            0\n",
              "상호명               0\n",
              "지점명          315822\n",
              "상권업종대분류코드         0\n",
              "상권업종대분류명          0\n",
              "상권업종중분류코드         0\n",
              "상권업종중분류명          0\n",
              "상권업종소분류코드         0\n",
              "상권업종소분류명         12\n",
              "표준산업분류코드      25266\n",
              "표준산업분류명       25266\n",
              "시도코드              0\n",
              "시도명               0\n",
              "시군구코드             0\n",
              "시군구명              0\n",
              "행정동코드             0\n",
              "행정동명              1\n",
              "법정동코드             0\n",
              "법정동명              0\n",
              "지번코드              0\n",
              "대지구분코드            0\n",
              "대지구분명             0\n",
              "지번본번지             0\n",
              "지번부번지         70637\n",
              "지번주소              0\n",
              "도로명코드             0\n",
              "도로명               0\n",
              "건물본번지             0\n",
              "건물부번지        325767\n",
              "건물관리번호            0\n",
              "건물명          191777\n",
              "도로명주소             0\n",
              "구우편번호             0\n",
              "신우편번호             2\n",
              "동정보          341396\n",
              "층정보          120053\n",
              "호정보          314429\n",
              "경도                0\n",
              "위도                0\n",
              "dtype: int64"
            ]
          },
          "execution_count": 11,
          "metadata": {},
          "output_type": "execute_result"
        }
      ],
      "source": [
        "# 결측지\n",
        "# 각 column의 null의 개수 출력\n",
        "df.isnull().sum()"
      ]
    },
    {
      "cell_type": "code",
      "execution_count": null,
      "metadata": {
        "id": "P2RQXjct7NxZ"
      },
      "outputs": [],
      "source": [
        "# missingno가 지원이 되지 않는다면 설치하면 된다.\n",
        "# !pip install missingno"
      ]
    },
    {
      "cell_type": "code",
      "execution_count": null,
      "metadata": {
        "id": "8uX_RTwb6lbB"
      },
      "outputs": [],
      "source": [
        "#  결측지를 그래프로 확인\n",
        "import missingno as msno"
      ]
    },
    {
      "cell_type": "code",
      "execution_count": null,
      "metadata": {
        "colab": {
          "base_uri": "https://localhost:8080/",
          "height": 446
        },
        "id": "5MrXZY7y64Pq",
        "outputId": "5bd92bea-37e8-4199-8915-6790af0622c4"
      },
      "outputs": [
        {
          "data": {
            "text/plain": [
              "<matplotlib.axes._subplots.AxesSubplot at 0x7fae91d5ccd0>"
            ]
          },
          "execution_count": 13,
          "metadata": {},
          "output_type": "execute_result"
        },
        {
          "data": {
            "image/png": "[encoded data removed]",
            "text/plain": [
              "<Figure size 1800x720 with 2 Axes>"
            ]
          },
          "metadata": {},
          "output_type": "display_data"
        }
      ],
      "source": [
        "msno.matrix(df)"
      ]
    },
    {
      "cell_type": "code",
      "execution_count": null,
      "metadata": {
        "colab": {
          "base_uri": "https://localhost:8080/"
        },
        "id": "J7SjcLRR67Cx",
        "outputId": "3a9343fc-48da-458a-954d-fcb91d5ff9e2"
      },
      "outputs": [
        {
          "data": {
            "text/plain": [
              "음식          124001\n",
              "소매          123003\n",
              "생활서비스        64529\n",
              "학문/교육        29985\n",
              "부동산          14975\n",
              "관광/여가/오락     10454\n",
              "숙박            2971\n",
              "스포츠            403\n",
              "Name: 상권업종대분류명, dtype: int64"
            ]
          },
          "execution_count": 16,
          "metadata": {},
          "output_type": "execute_result"
        }
      ],
      "source": [
        "df['상권업종대분류명'].value_counts()"
      ]
    },
    {
      "cell_type": "code",
      "execution_count": null,
      "metadata": {
        "colab": {
          "base_uri": "https://localhost:8080/"
        },
        "id": "lc2dwiEK7w_R",
        "outputId": "59bac2e5-c2b3-47d3-e0ba-52b85bce0a31"
      },
      "outputs": [
        {
          "data": {
            "text/plain": [
              "한식          38703\n",
              "이/미용/건강     31717\n",
              "종합소매점       25716\n",
              "의복의류        23307\n",
              "커피점/카페      18220\n",
              "            ...  \n",
              "전시/관람          14\n",
              "부동산관련서비스        4\n",
              "기타교육기관          4\n",
              "연구소             3\n",
              "학교              1\n",
              "Name: 상권업종중분류명, Length: 94, dtype: int64"
            ]
          },
          "execution_count": 18,
          "metadata": {},
          "output_type": "execute_result"
        }
      ],
      "source": [
        "df['상권업종중분류명'].value_counts()"
      ]
    },
    {
      "cell_type": "code",
      "execution_count": null,
      "metadata": {
        "colab": {
          "base_uri": "https://localhost:8080/",
          "height": 297
        },
        "id": "K2NWNBXH75SA",
        "outputId": "dfdab737-7649-4151-9766-2ef5f1f6b95b"
      },
      "outputs": [
        {
          "data": {
            "text/plain": [
              "<matplotlib.axes._subplots.AxesSubplot at 0x7fae8ee19b80>"
            ]
          },
          "execution_count": 20,
          "metadata": {},
          "output_type": "execute_result"
        },
        {
          "data": {
            "image/png": "[encoded data removed]",
            "text/plain": [
              "<Figure size 432x288 with 1 Axes>"
            ]
          },
          "metadata": {},
          "output_type": "display_data"
        }
      ],
      "source": [
        "sns.countplot(data=df, y='상권업종대분류명')"
      ]
    },
    {
      "cell_type": "code",
      "execution_count": null,
      "metadata": {
        "id": "y3ux6iu38N74"
      },
      "outputs": [],
      "source": [
        "df_food = df.loc[df['상권업종대분류명']=='음식' ]"
      ]
    },
    {
      "cell_type": "code",
      "execution_count": null,
      "metadata": {
        "colab": {
          "base_uri": "https://localhost:8080/"
        },
        "id": "sDGS0IMK8eaY",
        "outputId": "76a0e4e4-50c3-4acb-a5e2-128fff46855e"
      },
      "outputs": [
        {
          "data": {
            "text/plain": [
              "(124001, 39)"
            ]
          },
          "execution_count": 25,
          "metadata": {},
          "output_type": "execute_result"
        }
      ],
      "source": [
        "df_food.shape"
      ]
    },
    {
      "cell_type": "markdown",
      "metadata": {
        "id": "EPyLAumQ8oA4"
      },
      "source": [
        "### 스타벅스와 이디야"
      ]
    },
    {
      "cell_type": "code",
      "execution_count": null,
      "metadata": {
        "colab": {
          "base_uri": "https://localhost:8080/"
        },
        "id": "_h404La48wtp",
        "outputId": "c5e23b61-ffcf-4ee5-ca2b-623b31f36d8e"
      },
      "outputs": [
        {
          "data": {
            "text/plain": [
              "Index(['상가업소번호', '상호명', '지점명', '상권업종대분류코드', '상권업종대분류명', '상권업종중분류코드',\n",
              "       '상권업종중분류명', '상권업종소분류코드', '상권업종소분류명', '표준산업분류코드', '표준산업분류명', '시도코드',\n",
              "       '시도명', '시군구코드', '시군구명', '행정동코드', '행정동명', '법정동코드', '법정동명', '지번코드',\n",
              "       '대지구분코드', '대지구분명', '지번본번지', '지번부번지', '지번주소', '도로명코드', '도로명', '건물본번지',\n",
              "       '건물부번지', '건물관리번호', '건물명', '도로명주소', '구우편번호', '신우편번호', '동정보', '층정보',\n",
              "       '호정보', '경도', '위도'],\n",
              "      dtype='object')"
            ]
          },
          "execution_count": 26,
          "metadata": {},
          "output_type": "execute_result"
        }
      ],
      "source": [
        "df.columns"
      ]
    },
    {
      "cell_type": "code",
      "execution_count": null,
      "metadata": {
        "colab": {
          "base_uri": "https://localhost:8080/",
          "height": 354
        },
        "id": "SHR7JEeR8y4Z",
        "outputId": "591ebc0f-39fa-455d-b176-c0d6905bea4c"
      },
      "outputs": [
        {
          "data": {
            "text/html": [
              "\n",
              "  <div id=\"df-a9335d54-fa89-440a-8cb5-72de4055a9dd\">\n",
              "    <div class=\"colab-df-container\">\n",
              "      <div>\n",
              "<style scoped>\n",
              "    .dataframe tbody tr th:only-of-type {\n",
              "        vertical-align: middle;\n",
              "    }\n",
              "\n",
              "    .dataframe tbody tr th {\n",
              "        vertical-align: top;\n",
              "    }\n",
              "\n",
              "    .dataframe thead th {\n",
              "        text-align: right;\n",
              "    }\n",
              "</style>\n",
              "<table border=\"1\" class=\"dataframe\">\n",
              "  <thead>\n",
              "    <tr style=\"text-align: right;\">\n",
              "      <th></th>\n",
              "      <th>상호명</th>\n",
              "      <th>지점명</th>\n",
              "      <th>상권업종중분류명</th>\n",
              "      <th>시도명</th>\n",
              "      <th>시군구명</th>\n",
              "      <th>행정동명</th>\n",
              "      <th>도로명</th>\n",
              "      <th>경도</th>\n",
              "      <th>위도</th>\n",
              "    </tr>\n",
              "  </thead>\n",
              "  <tbody>\n",
              "    <tr>\n",
              "      <th>0</th>\n",
              "      <td>석봉토스트</td>\n",
              "      <td>NaN</td>\n",
              "      <td>패스트푸드</td>\n",
              "      <td>서울특별시</td>\n",
              "      <td>광진구</td>\n",
              "      <td>구의2동</td>\n",
              "      <td>서울특별시 광진구 자양로39길</td>\n",
              "      <td>127.088387</td>\n",
              "      <td>37.549245</td>\n",
              "    </tr>\n",
              "    <tr>\n",
              "      <th>1</th>\n",
              "      <td>피자마루</td>\n",
              "      <td>약수점</td>\n",
              "      <td>패스트푸드</td>\n",
              "      <td>서울특별시</td>\n",
              "      <td>중구</td>\n",
              "      <td>약수동</td>\n",
              "      <td>서울특별시 중구 동호로7길</td>\n",
              "      <td>127.010861</td>\n",
              "      <td>37.552153</td>\n",
              "    </tr>\n",
              "    <tr>\n",
              "      <th>2</th>\n",
              "      <td>홍능갈비</td>\n",
              "      <td>NaN</td>\n",
              "      <td>한식</td>\n",
              "      <td>서울특별시</td>\n",
              "      <td>강서구</td>\n",
              "      <td>화곡1동</td>\n",
              "      <td>서울특별시 강서구 화곡로18길</td>\n",
              "      <td>126.836078</td>\n",
              "      <td>37.538927</td>\n",
              "    </tr>\n",
              "    <tr>\n",
              "      <th>3</th>\n",
              "      <td>초밥왕</td>\n",
              "      <td>NaN</td>\n",
              "      <td>일식/수산물</td>\n",
              "      <td>서울특별시</td>\n",
              "      <td>송파구</td>\n",
              "      <td>잠실6동</td>\n",
              "      <td>서울특별시 송파구 올림픽로</td>\n",
              "      <td>127.102490</td>\n",
              "      <td>37.515149</td>\n",
              "    </tr>\n",
              "    <tr>\n",
              "      <th>4</th>\n",
              "      <td>에브리돈</td>\n",
              "      <td>북가좌점</td>\n",
              "      <td>한식</td>\n",
              "      <td>서울특별시</td>\n",
              "      <td>서대문구</td>\n",
              "      <td>북가좌2동</td>\n",
              "      <td>서울특별시 서대문구 응암로</td>\n",
              "      <td>126.910288</td>\n",
              "      <td>37.579029</td>\n",
              "    </tr>\n",
              "  </tbody>\n",
              "</table>\n",
              "</div>\n",
              "      <button class=\"colab-df-convert\" onclick=\"convertToInteractive('df-a9335d54-fa89-440a-8cb5-72de4055a9dd')\"\n",
              "              title=\"Convert this dataframe to an interactive table.\"\n",
              "              style=\"display:none;\">\n",
              "        \n",
              "  <svg xmlns=\"http://www.w3.org/2000/svg\" height=\"24px\"viewBox=\"0 0 24 24\"\n",
              "       width=\"24px\">\n",
              "    <path d=\"M0 0h24v24H0V0z\" fill=\"none\"/>\n",
              "    <path d=\"M18.56 5.44l.94 2.06.94-2.06 2.06-.94-2.06-.94-.94-2.06-.94 2.06-2.06.94zm-11 1L8.5 8.5l.94-2.06 2.06-.94-2.06-.94L8.5 2.5l-.94 2.06-2.06.94zm10 10l.94 2.06.94-2.06 2.06-.94-2.06-.94-.94-2.06-.94 2.06-2.06.94z\"/><path d=\"M17.41 7.96l-1.37-1.37c-.4-.4-.92-.59-1.43-.59-.52 0-1.04.2-1.43.59L10.3 9.45l-7.72 7.72c-.78.78-.78 2.05 0 2.83L4 21.41c.39.39.9.59 1.41.59.51 0 1.02-.2 1.41-.59l7.78-7.78 2.81-2.81c.8-.78.8-2.07 0-2.86zM5.41 20L4 18.59l7.72-7.72 1.47 1.35L5.41 20z\"/>\n",
              "  </svg>\n",
              "      </button>\n",
              "      \n",
              "  <style>\n",
              "    .colab-df-container {\n",
              "      display:flex;\n",
              "      flex-wrap:wrap;\n",
              "      gap: 12px;\n",
              "    }\n",
              "\n",
              "    .colab-df-convert {\n",
              "      background-color: #E8F0FE;\n",
              "      border: none;\n",
              "      border-radius: 50%;\n",
              "      cursor: pointer;\n",
              "      display: none;\n",
              "      fill: #1967D2;\n",
              "      height: 32px;\n",
              "      padding: 0 0 0 0;\n",
              "      width: 32px;\n",
              "    }\n",
              "\n",
              "    .colab-df-convert:hover {\n",
              "      background-color: #E2EBFA;\n",
              "      box-shadow: 0px 1px 2px rgba(60, 64, 67, 0.3), 0px 1px 3px 1px rgba(60, 64, 67, 0.15);\n",
              "      fill: #174EA6;\n",
              "    }\n",
              "\n",
              "    [theme=dark] .colab-df-convert {\n",
              "      background-color: #3B4455;\n",
              "      fill: #D2E3FC;\n",
              "    }\n",
              "\n",
              "    [theme=dark] .colab-df-convert:hover {\n",
              "      background-color: #434B5C;\n",
              "      box-shadow: 0px 1px 3px 1px rgba(0, 0, 0, 0.15);\n",
              "      filter: drop-shadow(0px 1px 2px rgba(0, 0, 0, 0.3));\n",
              "      fill: #FFFFFF;\n",
              "    }\n",
              "  </style>\n",
              "\n",
              "      <script>\n",
              "        const buttonEl =\n",
              "          document.querySelector('#df-a9335d54-fa89-440a-8cb5-72de4055a9dd button.colab-df-convert');\n",
              "        buttonEl.style.display =\n",
              "          google.colab.kernel.accessAllowed ? 'block' : 'none';\n",
              "\n",
              "        async function convertToInteractive(key) {\n",
              "          const element = document.querySelector('#df-a9335d54-fa89-440a-8cb5-72de4055a9dd');\n",
              "          const dataTable =\n",
              "            await google.colab.kernel.invokeFunction('convertToInteractive',\n",
              "                                                     [key], {});\n",
              "          if (!dataTable) return;\n",
              "\n",
              "          const docLinkHtml = 'Like what you see? Visit the ' +\n",
              "            '<a target=\"_blank\" href=https://colab.research.google.com/notebooks/data_table.ipynb>data table notebook</a>'\n",
              "            + ' to learn more about interactive tables.';\n",
              "          element.innerHTML = '';\n",
              "          dataTable['output_type'] = 'display_data';\n",
              "          await google.colab.output.renderOutput(dataTable, element);\n",
              "          const docLink = document.createElement('div');\n",
              "          docLink.innerHTML = docLinkHtml;\n",
              "          element.appendChild(docLink);\n",
              "        }\n",
              "      </script>\n",
              "    </div>\n",
              "  </div>\n",
              "  "
            ],
            "text/plain": [
              "     상호명   지점명 상권업종중분류명    시도명  시군구명   행정동명               도로명          경도  \\\n",
              "0  석봉토스트   NaN    패스트푸드  서울특별시   광진구   구의2동  서울특별시 광진구 자양로39길  127.088387   \n",
              "1   피자마루   약수점    패스트푸드  서울특별시    중구    약수동    서울특별시 중구 동호로7길  127.010861   \n",
              "2   홍능갈비   NaN       한식  서울특별시   강서구   화곡1동  서울특별시 강서구 화곡로18길  126.836078   \n",
              "3    초밥왕   NaN   일식/수산물  서울특별시   송파구   잠실6동    서울특별시 송파구 올림픽로  127.102490   \n",
              "4   에브리돈  북가좌점       한식  서울특별시  서대문구  북가좌2동    서울특별시 서대문구 응암로  126.910288   \n",
              "\n",
              "          위도  \n",
              "0  37.549245  \n",
              "1  37.552153  \n",
              "2  37.538927  \n",
              "3  37.515149  \n",
              "4  37.579029  "
            ]
          },
          "execution_count": 28,
          "metadata": {},
          "output_type": "execute_result"
        }
      ],
      "source": [
        "dataset = df[['상호명', '지점명', '상권업종중분류명', '시도명', '시군구명', '행정동명', '도로명', '경도', '위도']]\n",
        "dataset.head()"
      ]
    },
    {
      "cell_type": "code",
      "execution_count": null,
      "metadata": {
        "colab": {
          "base_uri": "https://localhost:8080/",
          "height": 598
        },
        "id": "sjo2U2Ym9dhb",
        "outputId": "a62e9501-d0c9-4f69-e9a8-0b73be722bdf"
      },
      "outputs": [
        {
          "data": {
            "text/html": [
              "\n",
              "  <div id=\"df-abc1db1d-07b1-468a-a48f-16ca3f3c6b02\">\n",
              "    <div class=\"colab-df-container\">\n",
              "      <div>\n",
              "<style scoped>\n",
              "    .dataframe tbody tr th:only-of-type {\n",
              "        vertical-align: middle;\n",
              "    }\n",
              "\n",
              "    .dataframe tbody tr th {\n",
              "        vertical-align: top;\n",
              "    }\n",
              "\n",
              "    .dataframe thead th {\n",
              "        text-align: right;\n",
              "    }\n",
              "</style>\n",
              "<table border=\"1\" class=\"dataframe\">\n",
              "  <thead>\n",
              "    <tr style=\"text-align: right;\">\n",
              "      <th></th>\n",
              "      <th>상호명</th>\n",
              "      <th>지점명</th>\n",
              "      <th>상권업종중분류명</th>\n",
              "      <th>시도명</th>\n",
              "      <th>시군구명</th>\n",
              "      <th>행정동명</th>\n",
              "      <th>도로명</th>\n",
              "      <th>경도</th>\n",
              "      <th>위도</th>\n",
              "    </tr>\n",
              "  </thead>\n",
              "  <tbody>\n",
              "    <tr>\n",
              "      <th>280660</th>\n",
              "      <td>즉석떡볶이</td>\n",
              "      <td>NaN</td>\n",
              "      <td>분식</td>\n",
              "      <td>서울특별시</td>\n",
              "      <td>중랑구</td>\n",
              "      <td>상봉2동</td>\n",
              "      <td>서울특별시 중랑구 망우로</td>\n",
              "      <td>127.076510</td>\n",
              "      <td>37.593737</td>\n",
              "    </tr>\n",
              "    <tr>\n",
              "      <th>38580</th>\n",
              "      <td>런앤룩이태원비점</td>\n",
              "      <td>NaN</td>\n",
              "      <td>의복의류</td>\n",
              "      <td>서울특별시</td>\n",
              "      <td>용산구</td>\n",
              "      <td>이태원1동</td>\n",
              "      <td>서울특별시 용산구 이태원로</td>\n",
              "      <td>126.991373</td>\n",
              "      <td>37.534526</td>\n",
              "    </tr>\n",
              "    <tr>\n",
              "      <th>94854</th>\n",
              "      <td>박지민헤어</td>\n",
              "      <td>NaN</td>\n",
              "      <td>이/미용/건강</td>\n",
              "      <td>서울특별시</td>\n",
              "      <td>중랑구</td>\n",
              "      <td>중화1동</td>\n",
              "      <td>서울특별시 중랑구 봉화산로</td>\n",
              "      <td>127.080794</td>\n",
              "      <td>37.601744</td>\n",
              "    </tr>\n",
              "    <tr>\n",
              "      <th>277098</th>\n",
              "      <td>대명유통</td>\n",
              "      <td>NaN</td>\n",
              "      <td>종합소매점</td>\n",
              "      <td>서울특별시</td>\n",
              "      <td>종로구</td>\n",
              "      <td>창신1동</td>\n",
              "      <td>서울특별시 종로구 종로44길</td>\n",
              "      <td>127.011367</td>\n",
              "      <td>37.570440</td>\n",
              "    </tr>\n",
              "    <tr>\n",
              "      <th>307449</th>\n",
              "      <td>엔제리너스커피구로디</td>\n",
              "      <td>NaN</td>\n",
              "      <td>커피점/카페</td>\n",
              "      <td>서울특별시</td>\n",
              "      <td>구로구</td>\n",
              "      <td>구로3동</td>\n",
              "      <td>서울특별시 구로구 디지털로34길</td>\n",
              "      <td>126.898205</td>\n",
              "      <td>37.485461</td>\n",
              "    </tr>\n",
              "    <tr>\n",
              "      <th>315117</th>\n",
              "      <td>할리스</td>\n",
              "      <td>개화산점</td>\n",
              "      <td>커피점/카페</td>\n",
              "      <td>서울특별시</td>\n",
              "      <td>양천구</td>\n",
              "      <td>목2동</td>\n",
              "      <td>서울특별시 양천구 목동중앙북로18길</td>\n",
              "      <td>126.874525</td>\n",
              "      <td>37.545094</td>\n",
              "    </tr>\n",
              "    <tr>\n",
              "      <th>142320</th>\n",
              "      <td>콩깍지카페</td>\n",
              "      <td>NaN</td>\n",
              "      <td>커피점/카페</td>\n",
              "      <td>서울특별시</td>\n",
              "      <td>광진구</td>\n",
              "      <td>군자동</td>\n",
              "      <td>서울특별시 광진구 군자로</td>\n",
              "      <td>127.075442</td>\n",
              "      <td>37.554650</td>\n",
              "    </tr>\n",
              "    <tr>\n",
              "      <th>124563</th>\n",
              "      <td>연세ELP음악학원</td>\n",
              "      <td>NaN</td>\n",
              "      <td>학원기타</td>\n",
              "      <td>서울특별시</td>\n",
              "      <td>노원구</td>\n",
              "      <td>중계1동</td>\n",
              "      <td>서울특별시 노원구 덕릉로77길</td>\n",
              "      <td>127.073490</td>\n",
              "      <td>37.654623</td>\n",
              "    </tr>\n",
              "    <tr>\n",
              "      <th>57401</th>\n",
              "      <td>소래포구</td>\n",
              "      <td>NaN</td>\n",
              "      <td>음/식료품소매</td>\n",
              "      <td>서울특별시</td>\n",
              "      <td>은평구</td>\n",
              "      <td>응암3동</td>\n",
              "      <td>서울특별시 은평구 응암로12길</td>\n",
              "      <td>126.918041</td>\n",
              "      <td>37.588561</td>\n",
              "    </tr>\n",
              "    <tr>\n",
              "      <th>87277</th>\n",
              "      <td>열창노래방</td>\n",
              "      <td>NaN</td>\n",
              "      <td>무도/유흥/가무</td>\n",
              "      <td>서울특별시</td>\n",
              "      <td>성동구</td>\n",
              "      <td>행당1동</td>\n",
              "      <td>서울특별시 성동구 왕십리로21다길</td>\n",
              "      <td>127.033196</td>\n",
              "      <td>37.559646</td>\n",
              "    </tr>\n",
              "  </tbody>\n",
              "</table>\n",
              "</div>\n",
              "      <button class=\"colab-df-convert\" onclick=\"convertToInteractive('df-abc1db1d-07b1-468a-a48f-16ca3f3c6b02')\"\n",
              "              title=\"Convert this dataframe to an interactive table.\"\n",
              "              style=\"display:none;\">\n",
              "        \n",
              "  <svg xmlns=\"http://www.w3.org/2000/svg\" height=\"24px\"viewBox=\"0 0 24 24\"\n",
              "       width=\"24px\">\n",
              "    <path d=\"M0 0h24v24H0V0z\" fill=\"none\"/>\n",
              "    <path d=\"M18.56 5.44l.94 2.06.94-2.06 2.06-.94-2.06-.94-.94-2.06-.94 2.06-2.06.94zm-11 1L8.5 8.5l.94-2.06 2.06-.94-2.06-.94L8.5 2.5l-.94 2.06-2.06.94zm10 10l.94 2.06.94-2.06 2.06-.94-2.06-.94-.94-2.06-.94 2.06-2.06.94z\"/><path d=\"M17.41 7.96l-1.37-1.37c-.4-.4-.92-.59-1.43-.59-.52 0-1.04.2-1.43.59L10.3 9.45l-7.72 7.72c-.78.78-.78 2.05 0 2.83L4 21.41c.39.39.9.59 1.41.59.51 0 1.02-.2 1.41-.59l7.78-7.78 2.81-2.81c.8-.78.8-2.07 0-2.86zM5.41 20L4 18.59l7.72-7.72 1.47 1.35L5.41 20z\"/>\n",
              "  </svg>\n",
              "      </button>\n",
              "      \n",
              "  <style>\n",
              "    .colab-df-container {\n",
              "      display:flex;\n",
              "      flex-wrap:wrap;\n",
              "      gap: 12px;\n",
              "    }\n",
              "\n",
              "    .colab-df-convert {\n",
              "      background-color: #E8F0FE;\n",
              "      border: none;\n",
              "      border-radius: 50%;\n",
              "      cursor: pointer;\n",
              "      display: none;\n",
              "      fill: #1967D2;\n",
              "      height: 32px;\n",
              "      padding: 0 0 0 0;\n",
              "      width: 32px;\n",
              "    }\n",
              "\n",
              "    .colab-df-convert:hover {\n",
              "      background-color: #E2EBFA;\n",
              "      box-shadow: 0px 1px 2px rgba(60, 64, 67, 0.3), 0px 1px 3px 1px rgba(60, 64, 67, 0.15);\n",
              "      fill: #174EA6;\n",
              "    }\n",
              "\n",
              "    [theme=dark] .colab-df-convert {\n",
              "      background-color: #3B4455;\n",
              "      fill: #D2E3FC;\n",
              "    }\n",
              "\n",
              "    [theme=dark] .colab-df-convert:hover {\n",
              "      background-color: #434B5C;\n",
              "      box-shadow: 0px 1px 3px 1px rgba(0, 0, 0, 0.15);\n",
              "      filter: drop-shadow(0px 1px 2px rgba(0, 0, 0, 0.3));\n",
              "      fill: #FFFFFF;\n",
              "    }\n",
              "  </style>\n",
              "\n",
              "      <script>\n",
              "        const buttonEl =\n",
              "          document.querySelector('#df-abc1db1d-07b1-468a-a48f-16ca3f3c6b02 button.colab-df-convert');\n",
              "        buttonEl.style.display =\n",
              "          google.colab.kernel.accessAllowed ? 'block' : 'none';\n",
              "\n",
              "        async function convertToInteractive(key) {\n",
              "          const element = document.querySelector('#df-abc1db1d-07b1-468a-a48f-16ca3f3c6b02');\n",
              "          const dataTable =\n",
              "            await google.colab.kernel.invokeFunction('convertToInteractive',\n",
              "                                                     [key], {});\n",
              "          if (!dataTable) return;\n",
              "\n",
              "          const docLinkHtml = 'Like what you see? Visit the ' +\n",
              "            '<a target=\"_blank\" href=https://colab.research.google.com/notebooks/data_table.ipynb>data table notebook</a>'\n",
              "            + ' to learn more about interactive tables.';\n",
              "          element.innerHTML = '';\n",
              "          dataTable['output_type'] = 'display_data';\n",
              "          await google.colab.output.renderOutput(dataTable, element);\n",
              "          const docLink = document.createElement('div');\n",
              "          docLink.innerHTML = docLinkHtml;\n",
              "          element.appendChild(docLink);\n",
              "        }\n",
              "      </script>\n",
              "    </div>\n",
              "  </div>\n",
              "  "
            ],
            "text/plain": [
              "               상호명   지점명  상권업종중분류명    시도명 시군구명   행정동명                  도로명  \\\n",
              "280660       즉석떡볶이   NaN        분식  서울특별시  중랑구   상봉2동        서울특별시 중랑구 망우로   \n",
              "38580     런앤룩이태원비점   NaN      의복의류  서울특별시  용산구  이태원1동       서울특별시 용산구 이태원로   \n",
              "94854        박지민헤어   NaN   이/미용/건강  서울특별시  중랑구   중화1동       서울특별시 중랑구 봉화산로   \n",
              "277098        대명유통   NaN     종합소매점  서울특별시  종로구   창신1동      서울특별시 종로구 종로44길   \n",
              "307449  엔제리너스커피구로디   NaN    커피점/카페  서울특별시  구로구   구로3동    서울특별시 구로구 디지털로34길   \n",
              "315117         할리스  개화산점    커피점/카페  서울특별시  양천구    목2동  서울특별시 양천구 목동중앙북로18길   \n",
              "142320       콩깍지카페   NaN    커피점/카페  서울특별시  광진구    군자동        서울특별시 광진구 군자로   \n",
              "124563   연세ELP음악학원   NaN      학원기타  서울특별시  노원구   중계1동     서울특별시 노원구 덕릉로77길   \n",
              "57401         소래포구   NaN   음/식료품소매  서울특별시  은평구   응암3동     서울특별시 은평구 응암로12길   \n",
              "87277        열창노래방   NaN  무도/유흥/가무  서울특별시  성동구   행당1동   서울특별시 성동구 왕십리로21다길   \n",
              "\n",
              "                경도         위도  \n",
              "280660  127.076510  37.593737  \n",
              "38580   126.991373  37.534526  \n",
              "94854   127.080794  37.601744  \n",
              "277098  127.011367  37.570440  \n",
              "307449  126.898205  37.485461  \n",
              "315117  126.874525  37.545094  \n",
              "142320  127.075442  37.554650  \n",
              "124563  127.073490  37.654623  \n",
              "57401   126.918041  37.588561  \n",
              "87277   127.033196  37.559646  "
            ]
          },
          "execution_count": 30,
          "metadata": {},
          "output_type": "execute_result"
        }
      ],
      "source": [
        "dataset.sample(10)"
      ]
    },
    {
      "cell_type": "code",
      "execution_count": null,
      "metadata": {
        "colab": {
          "base_uri": "https://localhost:8080/",
          "height": 354
        },
        "id": "XrO679-K9e7Q",
        "outputId": "fb473cb0-f7bb-49dd-aaee-ab4d93817dcf"
      },
      "outputs": [
        {
          "data": {
            "text/html": [
              "\n",
              "  <div id=\"df-1738f724-d3a2-4ca4-8ebc-fa11e1dfc67f\">\n",
              "    <div class=\"colab-df-container\">\n",
              "      <div>\n",
              "<style scoped>\n",
              "    .dataframe tbody tr th:only-of-type {\n",
              "        vertical-align: middle;\n",
              "    }\n",
              "\n",
              "    .dataframe tbody tr th {\n",
              "        vertical-align: top;\n",
              "    }\n",
              "\n",
              "    .dataframe thead th {\n",
              "        text-align: right;\n",
              "    }\n",
              "</style>\n",
              "<table border=\"1\" class=\"dataframe\">\n",
              "  <thead>\n",
              "    <tr style=\"text-align: right;\">\n",
              "      <th></th>\n",
              "      <th>상호명</th>\n",
              "      <th>지점명</th>\n",
              "      <th>상권업종중분류명</th>\n",
              "      <th>시도명</th>\n",
              "      <th>시군구명</th>\n",
              "      <th>행정동명</th>\n",
              "      <th>도로명</th>\n",
              "      <th>경도</th>\n",
              "      <th>위도</th>\n",
              "    </tr>\n",
              "  </thead>\n",
              "  <tbody>\n",
              "    <tr>\n",
              "      <th>9</th>\n",
              "      <td>왕실</td>\n",
              "      <td>NaN</td>\n",
              "      <td>커피점/카페</td>\n",
              "      <td>서울특별시</td>\n",
              "      <td>중구</td>\n",
              "      <td>명동</td>\n",
              "      <td>서울특별시 중구 남대문로</td>\n",
              "      <td>126.982419</td>\n",
              "      <td>37.562274</td>\n",
              "    </tr>\n",
              "    <tr>\n",
              "      <th>13</th>\n",
              "      <td>커피빈</td>\n",
              "      <td>코리아교대점</td>\n",
              "      <td>커피점/카페</td>\n",
              "      <td>서울특별시</td>\n",
              "      <td>서초구</td>\n",
              "      <td>서초1동</td>\n",
              "      <td>서울특별시 서초구 서초중앙로</td>\n",
              "      <td>127.014217</td>\n",
              "      <td>37.492388</td>\n",
              "    </tr>\n",
              "    <tr>\n",
              "      <th>15</th>\n",
              "      <td>고려대학교교육관쎄리오점</td>\n",
              "      <td>NaN</td>\n",
              "      <td>커피점/카페</td>\n",
              "      <td>서울특별시</td>\n",
              "      <td>성북구</td>\n",
              "      <td>안암동</td>\n",
              "      <td>서울특별시 성북구 안암로</td>\n",
              "      <td>127.031702</td>\n",
              "      <td>37.588485</td>\n",
              "    </tr>\n",
              "    <tr>\n",
              "      <th>18</th>\n",
              "      <td>스완카페트</td>\n",
              "      <td>NaN</td>\n",
              "      <td>커피점/카페</td>\n",
              "      <td>서울특별시</td>\n",
              "      <td>영등포구</td>\n",
              "      <td>대림3동</td>\n",
              "      <td>서울특별시 영등포구 도신로10가길</td>\n",
              "      <td>126.897710</td>\n",
              "      <td>37.503693</td>\n",
              "    </tr>\n",
              "    <tr>\n",
              "      <th>26</th>\n",
              "      <td>커피빈코리아선릉로93길점</td>\n",
              "      <td>코리아선릉로93길점</td>\n",
              "      <td>커피점/카페</td>\n",
              "      <td>서울특별시</td>\n",
              "      <td>강남구</td>\n",
              "      <td>역삼1동</td>\n",
              "      <td>서울특별시 강남구 선릉로93길</td>\n",
              "      <td>127.047883</td>\n",
              "      <td>37.505675</td>\n",
              "    </tr>\n",
              "  </tbody>\n",
              "</table>\n",
              "</div>\n",
              "      <button class=\"colab-df-convert\" onclick=\"convertToInteractive('df-1738f724-d3a2-4ca4-8ebc-fa11e1dfc67f')\"\n",
              "              title=\"Convert this dataframe to an interactive table.\"\n",
              "              style=\"display:none;\">\n",
              "        \n",
              "  <svg xmlns=\"http://www.w3.org/2000/svg\" height=\"24px\"viewBox=\"0 0 24 24\"\n",
              "       width=\"24px\">\n",
              "    <path d=\"M0 0h24v24H0V0z\" fill=\"none\"/>\n",
              "    <path d=\"M18.56 5.44l.94 2.06.94-2.06 2.06-.94-2.06-.94-.94-2.06-.94 2.06-2.06.94zm-11 1L8.5 8.5l.94-2.06 2.06-.94-2.06-.94L8.5 2.5l-.94 2.06-2.06.94zm10 10l.94 2.06.94-2.06 2.06-.94-2.06-.94-.94-2.06-.94 2.06-2.06.94z\"/><path d=\"M17.41 7.96l-1.37-1.37c-.4-.4-.92-.59-1.43-.59-.52 0-1.04.2-1.43.59L10.3 9.45l-7.72 7.72c-.78.78-.78 2.05 0 2.83L4 21.41c.39.39.9.59 1.41.59.51 0 1.02-.2 1.41-.59l7.78-7.78 2.81-2.81c.8-.78.8-2.07 0-2.86zM5.41 20L4 18.59l7.72-7.72 1.47 1.35L5.41 20z\"/>\n",
              "  </svg>\n",
              "      </button>\n",
              "      \n",
              "  <style>\n",
              "    .colab-df-container {\n",
              "      display:flex;\n",
              "      flex-wrap:wrap;\n",
              "      gap: 12px;\n",
              "    }\n",
              "\n",
              "    .colab-df-convert {\n",
              "      background-color: #E8F0FE;\n",
              "      border: none;\n",
              "      border-radius: 50%;\n",
              "      cursor: pointer;\n",
              "      display: none;\n",
              "      fill: #1967D2;\n",
              "      height: 32px;\n",
              "      padding: 0 0 0 0;\n",
              "      width: 32px;\n",
              "    }\n",
              "\n",
              "    .colab-df-convert:hover {\n",
              "      background-color: #E2EBFA;\n",
              "      box-shadow: 0px 1px 2px rgba(60, 64, 67, 0.3), 0px 1px 3px 1px rgba(60, 64, 67, 0.15);\n",
              "      fill: #174EA6;\n",
              "    }\n",
              "\n",
              "    [theme=dark] .colab-df-convert {\n",
              "      background-color: #3B4455;\n",
              "      fill: #D2E3FC;\n",
              "    }\n",
              "\n",
              "    [theme=dark] .colab-df-convert:hover {\n",
              "      background-color: #434B5C;\n",
              "      box-shadow: 0px 1px 3px 1px rgba(0, 0, 0, 0.15);\n",
              "      filter: drop-shadow(0px 1px 2px rgba(0, 0, 0, 0.3));\n",
              "      fill: #FFFFFF;\n",
              "    }\n",
              "  </style>\n",
              "\n",
              "      <script>\n",
              "        const buttonEl =\n",
              "          document.querySelector('#df-1738f724-d3a2-4ca4-8ebc-fa11e1dfc67f button.colab-df-convert');\n",
              "        buttonEl.style.display =\n",
              "          google.colab.kernel.accessAllowed ? 'block' : 'none';\n",
              "\n",
              "        async function convertToInteractive(key) {\n",
              "          const element = document.querySelector('#df-1738f724-d3a2-4ca4-8ebc-fa11e1dfc67f');\n",
              "          const dataTable =\n",
              "            await google.colab.kernel.invokeFunction('convertToInteractive',\n",
              "                                                     [key], {});\n",
              "          if (!dataTable) return;\n",
              "\n",
              "          const docLinkHtml = 'Like what you see? Visit the ' +\n",
              "            '<a target=\"_blank\" href=https://colab.research.google.com/notebooks/data_table.ipynb>data table notebook</a>'\n",
              "            + ' to learn more about interactive tables.';\n",
              "          element.innerHTML = '';\n",
              "          dataTable['output_type'] = 'display_data';\n",
              "          await google.colab.output.renderOutput(dataTable, element);\n",
              "          const docLink = document.createElement('div');\n",
              "          docLink.innerHTML = docLinkHtml;\n",
              "          element.appendChild(docLink);\n",
              "        }\n",
              "      </script>\n",
              "    </div>\n",
              "  </div>\n",
              "  "
            ],
            "text/plain": [
              "              상호명         지점명 상권업종중분류명    시도명  시군구명  행정동명                 도로명  \\\n",
              "9              왕실         NaN   커피점/카페  서울특별시    중구    명동       서울특별시 중구 남대문로   \n",
              "13            커피빈      코리아교대점   커피점/카페  서울특별시   서초구  서초1동     서울특별시 서초구 서초중앙로   \n",
              "15   고려대학교교육관쎄리오점         NaN   커피점/카페  서울특별시   성북구   안암동       서울특별시 성북구 안암로   \n",
              "18          스완카페트         NaN   커피점/카페  서울특별시  영등포구  대림3동  서울특별시 영등포구 도신로10가길   \n",
              "26  커피빈코리아선릉로93길점  코리아선릉로93길점   커피점/카페  서울특별시   강남구  역삼1동    서울특별시 강남구 선릉로93길   \n",
              "\n",
              "            경도         위도  \n",
              "9   126.982419  37.562274  \n",
              "13  127.014217  37.492388  \n",
              "15  127.031702  37.588485  \n",
              "18  126.897710  37.503693  \n",
              "26  127.047883  37.505675  "
            ]
          },
          "execution_count": 31,
          "metadata": {},
          "output_type": "execute_result"
        }
      ],
      "source": [
        "df_coffee = dataset[dataset['상권업종중분류명']=='커피점/카페']\n",
        "df_coffee.head()"
      ]
    },
    {
      "cell_type": "code",
      "execution_count": null,
      "metadata": {
        "colab": {
          "base_uri": "https://localhost:8080/"
        },
        "id": "Oltn-gxO97Xg",
        "outputId": "8eceaace-6dea-4f55-9a5c-c7e83363666f"
      },
      "outputs": [
        {
          "data": {
            "text/plain": [
              "Index(['상호명', '지점명', '상권업종중분류명', '시도명', '시군구명', '행정동명', '도로명', '경도', '위도'], dtype='object')"
            ]
          },
          "execution_count": 32,
          "metadata": {},
          "output_type": "execute_result"
        }
      ],
      "source": [
        "df_coffee.columns"
      ]
    },
    {
      "cell_type": "code",
      "execution_count": null,
      "metadata": {
        "colab": {
          "base_uri": "https://localhost:8080/"
        },
        "id": "FApTLq-C9-R8",
        "outputId": "b4b30a85-a808-4e5c-9c0d-48696bb45c8d"
      },
      "outputs": [
        {
          "name": "stdout",
          "output_type": "stream",
          "text": [
            "(12426,)\n"
          ]
        }
      ],
      "source": [
        "print(df_coffee['상호명'].unique().shape)"
      ]
    },
    {
      "cell_type": "code",
      "execution_count": null,
      "metadata": {
        "colab": {
          "base_uri": "https://localhost:8080/"
        },
        "id": "asSwf6qu-RUM",
        "outputId": "fe2a3656-d00a-4124-ef0c-ef88156825aa"
      },
      "outputs": [
        {
          "data": {
            "text/plain": [
              "간단하지만특별한화피디Cafe    1198\n",
              "이디야커피               338\n",
              "스타벅스                303\n",
              "커피빈                 146\n",
              "투썸플레이스              119\n",
              "                   ... \n",
              "허니비와플까페               1\n",
              "토즈신촌15센터              1\n",
              "탑커피숍                  1\n",
              "행복다방                  1\n",
              "밀스톤                   1\n",
              "Name: 상호명, Length: 12426, dtype: int64"
            ]
          },
          "execution_count": 43,
          "metadata": {},
          "output_type": "execute_result"
        }
      ],
      "source": [
        "df_coffee['상호명'].value_counts()"
      ]
    },
    {
      "cell_type": "code",
      "execution_count": null,
      "metadata": {
        "colab": {
          "base_uri": "https://localhost:8080/"
        },
        "id": "dt3dWr0g-e1U",
        "outputId": "1a100781-b30f-44b5-ad9e-44d737867e51"
      },
      "outputs": [
        {
          "name": "stdout",
          "output_type": "stream",
          "text": [
            "{'삼각카페', '곳간', '떡카페미소재', '스타벅스마포이마트점', '밀알카페', '질리', '카페이퍼스', '달콤커피논현점', '위드모리Withmorrie', '애프터유', '엘보르다도', '커피빈코리아CBTL잠실홈플러스점', '카페수에르떼', 'EDEN', '동', '미인단팥빵', '9카페', '아이스프링커피', '동병상련', '석굴암다방', 'PICTURESTAY', '동아다방', '탐앤탐스트래블', '바까날레커피전문점', '커피미', '카페26', '플리즈커피', '다같이카페', '에트리움카페', '커피베네', '공차현대천호점팝업스토어', '브레들리', '호원당', '빙빙', '약다방봄동', '투썸플레이스', '카페데뮤지까', '카페라루라루', '빅밤', '환다방', '산토리니커피', '카페루치아', '익동다방', '카페위드', '스타벅스상암DMC센트럴몰점', 'siscoffee', '겟잇커피', 'Perhaps', '메쉬커피', '성유엔터프라이즈', '울디', '미스터힐링명동인터네셔널점', '자바시티커피', '스튜디오27', 'CNNTHEBIZ', '커피넘버2COFFEENo.2', 'Tobean', '커피만역점', '가재울지혜마루', '스타벅스화곡DT점', '아삽', '쥬스킹', '커피랑파이랑', '반머이', '에이치이에이', '지에스25건대시티', '선길', '푸디스트카페퀸즈아모르', '그리고카페', '빽다방방화사거리점', '티테라피행랑', '트립커피', '보드카페오즈', '본전', '방초', '디초콜렛커피앤드', '쥬씨문정엠스테이트점', '에비뉴', '카페봉봉', '해머스미스로스터리', '커피니양재점', '조이스', '안녕강아지와고양이', '블링블링', '카페골목', '사뜨바', '공감', '카페베네', '을지사거리이디야커피숍', '백죠다방', '카페카리스&베이비카페', '안다즈커피', '삼양푸드다이닝까페믹스엔', '카페포엠', '스테이블커피로스터스', '더카페서울산업대점', '카페네스', 'N카페보라매점', '놀숲강남역점', '승룡이네집', '줄리에타', '머스핀', '알콩커피', '프롬하츠커피', '샵VR', '커피나무낙성대점', '행복창조산아래카페', '스완', '수커피숍', '북카페초록', '스타벅스구로에이스트윈타워1점', '온수밀밭', '카페리필', '까사미아', '유엠영어', '아다모Coffee', '카페숨', '카페트리', '커피1498', '요리카페쿠치나', '칸', '대치휴게소', '카페띠아모답십리점', '카페어나더', '스타벅스방이역점', '포비아명동', '쥬뗑뷔뜨', '제이제이카페', '폴바셋', '허유산코리아', '이치카커피', '슈팅스타', '카페LN', '카페소금다방', '미세스히긴스', '보나비아티제뱅뱅사거리점', 'Petfriendlycafe', 'QUASTACOFFEE', '할리스도심공항점2', '커피니중계점', '나이스', '슈퍼사이즈', '미스터디저트', '까페파비노', '아이리쉬', 'CAFEBLESSING', '튤립코리아', '야미요밀', '커피베이롯데청량리플라자점', '카페인갤러리에', '쥬시버블낙엽점', '미스터브리즈', 'Theorder', '커피테이크', '브런치가', '혜윰', '카페위', '브이엑스메이트카페', '아로마리즈허브티하우스', '크라스플러스', '성산커피숍', '꿀콩커피팩토리', '카페치노', '나에게주는달콤한시간', '커피정원', 'AgreatCafe', '카페만나', '우분트커피룸', 'RichMango', '자담치킨호프&까페', '허니카페', '다물', '카페소로', '핸드드립드로우커피콩', '제노까페', '소소한빈스토리', '프레코티', '클레어플레이스', '디렉터스커피', '커피콤마', '고센클래식', '백두강산', '카페로', '사원카페', '엘비씨카페', '정다운커피집', '그리움', '청소년휴카페', '라에스키모코엑스점', '프라빈', '한강커피숍', 'CNN카페세빛섬점', '스타벅스강남오거리점', '까페봉주르마담', '카페더래빗', '커피빈코리아강변테크노마트점', '아임커피', '카페류', '사주카페다락방', '엔제리너스잠실롯데월드타워1층', '세르비찌오카페', '브루다숙명여대', '카페프레스카', '카페호메이', '헬로티강남', '커플팔찌만들기STAY', '더치커피', '뉴욕핫도그앤커피잠실롯데월드점', '역전우동&빽다방', '트루어스', '아름다운차갤러리', '훈스커피랩', '글래드위드커피용산', '커피아일랜드', '하지커피', '탐앤탐스길동점', '브레드랩연남점', '커피브릿지', '카페131', '하드록카페', '스터디101', '에버그린', '커피언리미티드', '더리버로드카페', '커피베이정릉아리랑점', '커피누리', '세레니티커피', 'JJY카페', '이디야커피봉천역점', '가비아노피우', '카페조율소', '카페베네사당역점', 'STARBUCKSCOFFEE', '스타벅스서울교대점', '홍반장커피', '커피인동', '차밍디쉬', '커피토스피아하월곡점', '크눌프커피', '꾸아', '그냥플라워앤드까페', '잇파이', '고웨스트', '울랄라', '스타벅스서초파라곤점', '카페스윗', '썬리취치즈카페', '키즈북까페', '도노커피', '꽃담길', '호수다방', 'CafeNamoo', 'SG스터디카페', 'FOGHAT', '다빈', '애플블러썸', '비비앤줄리', '휘드카페', '에스프레소인뉴욕', 'MAMAS', '에이프릴.05', '흑화당', '카페얘기', '믹스', '글로보', '케이츠랩', '맥켄지커피역점', '카페시카고', '카페비즈', '정다방', 'Cafe.The', 'FRESHKING', '커피레이', '공상카페삼성점', '탭플레이커피', '토끼네부엌', '사는동안', '레몬트리', '긱스커피', '폴바셋현대모터스튜디오서울점서울점', '공차홈플러스영등포점', '지베르니정원', '내가좋아하는카페다', 'KIMSCoffee', '가빈커피로스터', '카페라리목동점', '홍카페', '고티카페', 'Mrbkcoffee', '디저트카페골드맘', '코네카페', '함께커피팜투컵응암', 'MEISTERCOFFEE', '문라이팅', '카페더힐링', '토즈모임센터강남2호점', '보그너커피응봉동점', '소호디자인르미엘커피교', '빈프로젝트', '연', '혜진스커피', '오하이오', '좋아해,커피', '복고다방', '잉클링', '메이티엔콘레드커피', '커피지인', '새콩커피', '커피아마토르', '커피웰', '미쓰리별다방', '꼬앙드파리', '상록', '스타벅스남산스테이트', '엔제리너스서울스카이', '쥬씨휘경점', '이혈건강카페', '제이루스커피', '사랑나눔카페', '앤드히어', '베로키오커피', '탕화쿵푸', '공차신촌연세로점', '153커피앤해피', '오작교', '디앤비', '투앤쓰리카페', '스타벅스한성대입구역점', '우면동다방', '스타벅스숙대점', '콘서트마루홀', 'HolythecafeCenacle', '파크커피숍', '카페소피,콕스앤드탭스', '점프셈교실', '대치본쌍화탕', '공방', '카페마스터', '더카페한남점', 'BHF&B', '서울식품랩', '타임스퀘어', '하이', '엄마가만든파이', '할리스남영점', '쥬스식스', 'SGS영재키즈카페', '세컨클락', '큐베리', '17그램', '카페봉', '가회한경헌', '카페루트나인서교점', '컵', '카페온고', '아지트', '컴바이', '카페도도', '포담티하우스', '카페베이', '카페57', '원기산삼다시스', '카페아비오', '삼선차', '카페나무', '책다방위숨', '동부다방', '설화', 'BNHRCOFFEE', '카페보바타임', '닉', '아리랑', '나무아래', '공간만화카페', '카페블라섬', 'COFFEEBOBROASTINGFACTORY', '노아스', '포샤인', '카페샌앤디', '쁘띠아르브르잠실한신점', '삼성웰스토리연합뉴스커피&', '제이콥스레더', '유수커피숍', '커피온도', '더크림', '카페라또', '22펠로톤', 'coffee공간', '커피빈코리아외대앞점', '그레이에스프레소', '그라찌에경기대학생회관점', '갈마루', '손탁커피YG점', '이디야커피전문점', '소설카페', '킹콩이', '그라놀로지여의도IFC점', '어라운드독', '은마루나눔카페', '세븐몽키스커피중곡점', '커피랑쥬스랑', '아프리카커피', '스카이보드', 'CG5', '카페진락', '로스터스커피', '타임', '빽다방신사역점', '트리니다드코리아', '카페앳', '카페테리아누벨', '쥬씨먹골역점', '아르고커피', '디밀리옹', '스윗번스커피', '웰유카페', '카페,클리닝데이', '연립커피', '그라피', 'Chooseyourcoffee', '키오스크', '디앤드커피', 'BrownHouse커피', '정만빙수', '커피다올', '예그리나카페', '나무네요프롤아트커피', '파리크라상', '노원1', '베이직하우스', '카페157', '카페디프', '수분', '소망다방', '월촌', '키친미미미', 'KOIcafe', '샤론', '미소디', '스완카페트', '이상한나라의엘리스', '카페더샌드위치', '굿앤굿커피', '커피작업실codeA-Z', '커피다이어리', '스윗블랙', '투썸플레이스상왕십리역점', '3샘파트너스', '카페포르', '신세계과일쥬스베지테리안', '커피이야기헬로웨일', '위드유시흥카페', '카페제니', '커피지오', '가예커피', '아이스패키지', 'FNCWOW', '매머드커피한티역점', '밤밤슈가', '블랙커', '커피바운드', '탭플레이롯데월드어드벤처점', 'CUP&COFFEE', '캔카페', '샤론꽃방.', '카페비스타', '한손에커피', '카페피베리', '스타벅스중랑역점', '12H', '맘모스커피', '커피빈코리아홍대주차장길', '노란코끼리', '테이크아웃샵', '빈앤클랑대치점', '한강대교전망쉼터', '다솜채', '한꼬집', '카페아이엠', '까페스토리웨이', '린도', 'Itscoffee', '비쇼네', '카페수다', 'THEM', '공차영등포구청점', '투썸플레이스골든서울호텔점', '스타벅스숭실대점', '원풀키즈카페', '알지카페', '카페안커피', '슈퍼말차', '디피엔커피', '알엔비스커피', '라인', '카페루앤비', '예쁜커피', '레이크라떼', '힐링카페심신프리', '작은도시', '쥬씨영', '라메어', 'cafe2350', '엔제리너스커피사당역점', '아모르데헬렌', '혜원갤러리커피숍', '까페뉴', '벨포스토', '커피베이당산하늘점', '긱라이브하우스', '카페리코', '에스프레소인', '이디아역삼시장점', '팬더', '제르보', '카페리비', '로벤', '익스페리멘탈커피바', '월드오브보드게임', '카페더단골', 'cafeHero', '쥬씨양천향교역점', '커피앤그릴', '다온', '만동제과', '커피지아카페1호점', 'MAYLIN', '엉클로', '빈스브라운', 'dab', '더착한커피신월점', '커피빈코리아건대스타시티', 'A-BRAICK', '사다리커피', '엑스퍼트마트', '부나빈', '크레디오스', 'MANCAVE', '옛날그다방', '셀렉토커피안국역점', '대동다방', '피어커피로스터스', '앤드하리한남', '오설록', '도노도노제이', '오리진키친과일카페', '이디야커피망우점', '커피앤라이프', '디토', '크라우드커피', '브렌다플라워', '토리커피', 'SIMPLE', '카페앤라씨', '설빙인사점', '블랙컵', '식빵은여기메가커피', '메리핀', '라이코스스테이션TIC', '젠틀콩커피', '에셀나무', '메인', '스타벅스조선호텔후문', '커피', '엄마손슈퍼', '일공오카페장충점', '에스프레소디또리노', '더빈스11', '장일커피숍', '한샘다방', '쥬씨잠실학원사거리점', '커피베이방배한샘앞점', '공짜바', 'cafeASILL', '브릭스', 'SDS커피&', 'cafeFelice', '이디아커피역점', '에버피씨카페', '카페안나', '할리스커피광나루역점', '품어주는카페', '매일이기념일', '연극보다가만화', '보나비아티제신라', '카페솔로', '마리', '끼룩', '안다미로종합관점', '온온커피', '카페97', '호반', '물커피', '세븐몽키스스위츠캣목동점', '스웨이하우스', 'coffeethyme', '구세군엔젤스토리', '까페나인', '사랑이뭐길래', '커피파츠', '파크279', '호프브로이하우스', 'THECOFFEEHOUSE', '노아이', '카페토스피아', '카페보테가', '롯데칠성음료카페칸타타화', '도토루커피숍수유지점', '出國', '업타운카페', '레이오버', '테르미니', '커피앨리', '바란초커피', '치즈빵야', '언노운커피13', '커피어게인', '인컴솔루션', '쥬스토어', '휴앤안', '카페예랑', '커피가있는라멘집', '카페알베르게', '리베흐떼', '매머드익스프레스외대점', '카페이월로스터스', '디어마더', '콜드브루디어더치', '클라우즈비', 'COMMONROOM', '야노아', '라이프커피숍', '공차신림역점', '셀렉토커피개봉점', '탄젠트', '누커피기업', '디저트39강동명일점', '콜렉티보커피컴퍼니', '오리지널빈스', '쥬씨하계점', '테카', '선유도커피', '데코아발림', '가고시포', '하워드커피', '피치트리', '샬레', '스타벅스영등포신길DT점', '눈꽃마녀', '즐거운커피', '할리스커피테크노마트점', '쥬빠', '디자인카페', '카페풀립', '카페드마린신문로점', '셀렉토커피개봉동점', '참호도과자', '송화의카페', '까페이탈리아북서울미술관점', '메이크타임', '리루하', '유니크스윗', '50/7', '마실카페', '노아스부티크', '허유산', '모카향기', '커피게이트', '커피아이', '선샤인커피', '로직커피', 'Coffe소', '샌드비', 'chefscafe', '커피빈코리아압구정로데오', '클로리스티룸신논현점', '친절한현석씨네', '이지인스', '핑크레빗', '보성테크', '사쿠라커피로스터스', '퍼즈카페커피농장', '코피에반하다', '푸드까페', '카페데베르선릉점', '블루오파스타카페', '카페베네2', '랄랄라350', '지에스그래픽스북카페마루', '쥬씨삼양점', '지향커피', '경향다방', '카페34WALTZ', '씨케이유통', '캔디커피문정법조단지점', '피에이씨그라운드', '애크로리소스카페드투칸', '커피타는고양이', '은성', '카페차뜨', '카페에이전시', '프렌치밀크티', '보나비아티제미래와희망병원점', '도피오커피한양대', '카페에쏠로지', '랄랄라김반장', '멋있는커피', '일오공', '뜨락', '파인힐', '커피앤샌드', '금성다방', '대무', '인터뷰', '잠바주스김포스카이파크점', '그럼블커피', '아데나', '벨라지오', '카페메종드한', 'Coffee:D1', '넬쿠오레델카페커피로스터즈', '라떼킹고덕점', '카페벨로마노', '칸커피', '카페네꼬', 'Quinto', '이브케어', '민티', '현대다방', '카페감', '신사장', '북카페', '바른커피', '카페드렌', '스타벅스광화문역점', 'Reve', '카페드파리', '쥬씨돌곶이역점', '멜팅', '지커피', 'CAFELEWIS', 'manna', '수아베', '55커피', '커피메이킹', '쥬시빈', '소피아', '우이동커피가게', '베네테크', '투썸플레이스올리브영본점', '커피이야기', '그랑카페', '카페믹스앤베이크', '카페티모르', '행복떡방&Cafe', '카페봉쥬르', '스타벅스월계이마트점', '카페정색', 'cafeohhappyday', '슈가링스', '현커피숍', '카페그랑', '파란행복', '레뚜라', '커피좀비', '티엘시에프앤비엘뽀요학동', '코끼리아', '커피코트마곡사이언', '시발점', 'HIPPO커피', '킹콩쥬스엔커피', '커피마켓어스', '앤탑PC방', '투썸플레이스앤드콜드스톤크리머리', '아델로가든', '동강에프앤비엔제리너커', '태종커피숍', '스타벅스새문안로점', 'COFFEEJAMAE', '요거프레소응암역점', '앨리스앤코', '목련다방', '카페랑스', '리틀제이콥스역삼리안점', '카페하나', '406THSTOVES', 'VONDOM', '사미루', '우연', '히어로', '원효로커피점', '지마요', '동신다방', '망개떡', '까패앳코너', '카페라', '메종카페', '낭', '더치앤빈황학', '스타벅스구로디지털타워점', 'CAFET', '카페더블', '카페미아미고', '엔제리너스커피구로디', 'TRUECOFFEE', '책발전소위례', '유로스타커피', '플라보', '테크네', '나무플라워카페', '라떼곰', '백씨네콩다방', 'X·D팩토리', '히읗', '승화산업동국대점', '목요일커피', '커피볶아주는남자CAFE끌림', '말리', '빙달', '커피앤티', '커피리브레', '복인당', '커피시크릿', '곰커피캠퍼스', '스타벅스서울대역점', '스모', '봄카페', '제비꽃다방', '조앤더주스교보', '커피앤브레드', '모모커피', '고구려갤러리', '스타벅스금천독산점', '홈스테드', '강철개나리', '토프레소개봉점', '콩샌', '앤트스텔라', '망고식스2.0', '어투썸프레이스', '제이콥스테이블', '오늘커피', '애기똥풀카페', '낙성대커피집', '케이신나뚜루청량리롯데백화점', '작은언덕', '제이에이치거국', '샤띨리옹', '공간도시', '어반스테이', '89헤르츠', '라뜰리에', '을지', '펄스에이트카페', '커피마시는사람들', '윤희커피', '식물학커피로스터스', '원다방', '카페브로디', '세나', 'cafe라이스', '아울커피', '프랑지파니플라워아뜰리에', '하모니앤발란스', '더블루스', '엘스토리', '주커피고척점', '더치앤드립', '루마앤차사랑카페', '라프라스', '카페안뜰', '카페굿뉴스', '민카인드커피', '공차고척스카이돔점', '골드버튼커피로스터스', '커피테르미니', '잠바주스용산미군기지점', '폴바셋디타워점', '더치스카페', '커피스테이션삼전점', '경성', '아마스빈', '씨즈앤베리', '자바씨티', '카페반디앤루니스', '오엠지엔터프라이즈', '카페데베르', '탐앤탐스은마사거리', '쥬시', '라임', '앤츠', '사회적협동조합동방', '애프터커피숍', '난달라커피', '카페로움', '커피식스주스식스', '글로벌라운지커피점', '윤커피숍', '투썸플레이스굽은다리역점', '오가닉커피', '스타벅스신도림점', '자연드림건강드림', '카페리시오', '카페아미', '빠삐에', '쥬씨숙대입구역점', '커피락', 'COFFEEDOOO', '카페블레싱', 'Mammothcoffee', '가배팩토리', '달.달커피', '면화빙', '스타벅스역삼럭키점', 'JUICY', '헬로카페에듀', '한강아라', '카페몽스', '어나더커피로스터스', '미카페토코리아', '달별해커피공방', '커피코트문정H비지니', '파리크라상파스쿠찌서', '포터스커피', '베네또', '나비스타', '고디바코엑스점', '어느하루', 'Cafe12', '안까페', '일리', '주스솔루션', '커피더맨', '호밀밭의호두꾼합정점', '커피연구소', '한국플러스그린스테이션', '쥬씨JUICY', '커피볶는집바오밥나무', '커피.3', '167', '테이큰', '제이에스앤씨카페죠', '쥬씨구로역남부점', '위에', 'dal.komm', '카페파시오네', '카페슈바빙', 'PASU', '스타벅스신설동역점', '사카', '바운스트램폴린파크', '래그랜느에스알티점', '하나원병과', '그릴오', '공상카페', '카페데이', '샤빌레', '사라의정원', '이디야을지로3가', '은혜커피숍', '카페원더', 'Thegreycoffee', '놀숲사당역점', '카페더플란트', '크레페드림노량진점', '크리스마스자몽광운대점', '벨가카페', '아름다운콩커피', '로이스', '라따뚜이', '카페쉼표', '은평뉴타운여성행복북카페', '커피마니아', '해리피아', '멜로우왈츠', '디졸브', '하우스터디', '스베아', '벡도어', '빈트리200.25', '1one커피가게', '카페쿤', '카페레네', '카페BRANDSSU', 'Breeze', '파티나', '에스베네핏', '주스식스금천독산로점', '커농커피', 'GESSO', '베이글팩토리', '878coffee', '카페22', '병만이생코코넛', '커피볶는女子', '샘', '이연에프엔씨지점카페씨엘', '할리스커피마곡퀸즈파크나인점', '한국커피바리스타협회', 'Q카페', '퍼블릭맨션', '별관커피숍', 'KOPITREE', '카페달삼청점', '허슬블렌딩', '더삼겹카페', '심플커피', '카페멍스', '커피베이장승배기역점', '카페공감', 'deldoge', '수하루', 'CoffeeBIG굿', '지유가오카핫초메청담점', '유로', '나따오비까', '데일리', '와플대학미아사거리점', '가루', '오드리헵번카페티엠', '아이스빌', '로터리다방', '소딜리셔스카페', '젠제로', '스마트글로벌', 'CAFEGL', '커피에반하다길동역점', '커피레벨52대륭점', '아하브', '렛잇고', '커피빈코리아서울대입구', '코레일유통대방카페', '쥬씨경복궁역점', 'CafeH', 'cocobruni', '킹스톤커피', '아띠랑스', '갤러리커피하우스', '일팔공커피', '아데네', '방배동커피볶는집一梨', '에뚜디아', '플랫빈', '소복소복', '미미커피', '공리로스팅팩토리방이점', '반지대학', '아몬드블루', '비워크', '카페4925', '엔제리너스커피수서환승통로점', '커피앤슈', '긱스타피씨카페', '그린라이트브이알씨씨', '퍼킨카페', '소공까페', '제너러스커피', '래포커피', '제이시', '카페드메이', '월든커피', '서울푸드앤씨', '오스타커피', '티맑은커피전문점', '카페중원', '커피빈코리아선릉로86', '엔제리너스커피잠실롯데월드타워19F', 'CAFEDELCIELO', '고관한복촬영소', '마이더스', '리트웨이', '한일', '커피베이경복궁역점', '어반팟', '커피스미스점', 'Evergreen', '크린베네', 'coffeebread', '모스트커피', 'DUDART', '마니커피', '363바이아이디어그룹', '카페코나', 'B.BAUM', '탐앤탐스화랑대점', '달콤스타', '잉큼', 'EXR쉼터', '히어이즈유어커피', '롯데리아엔제리너스건대시네마', '이립스', '베스트슬립힐링카페', '오토카페', '펭귄카페', 'imtcafe', '몽루', '무민앤미', '행복한커피상점커피정', '모조커피', '스텔라', '바오밥', '더마실까페', '애플카페', '씨엔엔카페이화여대솔베이점', '밀희', '엣지', '카페베네강동구청점', '한국문화재재단', '레이디해더스룸', '스타벅스선릉로점', '쟈뎅커피타운', '티즈데이', '볶은콩에피는꽃카페모카', '이즘', '92욜로', '예일커피숍', '코코브루리', '카페체칠SU', '바리스타마르코로프트', '카페티모아', '스타벅스동교점', '탐앤탐', '옐로우브릭스', '쿼츠브루', '따거', '카페정민', '왕다방', '그레이트버거앤커피', '가가린철우사주카페', '더커피팰리스', '떼루와떼루와자양2호점', '플러스골드', '더베이커스테이블', '서울다방', '제이스커피랩', '셀트리온스킨큐어카페', '본죽', '본솔커피연희점', '청운보이차', 'CafeP', '탐엠탐스', '플라밍고', '라쿤카페꾸꾸네', '카페라샤워', '카페더케익', '시월의곰', '나루213', '제너럴커피코디네이터', '레드컨테이너', '카페메이카', '카페베네영등포구청점', '가화다방', '에페', '시카사주카페', '아모제푸드잠실야구장점실외카페아모제', '르돌치1946', '모아', '갓구운커피7', '꽃물', '썩커피', '스타', '꿀다방', '캐빈커피숍', '커피엠비에이아카데미학원', '오미커피', '아리스타커피마포2호점', '팔공티대치역점', '카페씨어터', '카페LUKE', 'GRANGERIE', '만화카페통툰안암점', '손끝세상', '카페,델리아티제파티세리', '디초콜릿커피앤드남영점', '카페에프티', 'NEO', '카페이트', '파르코카페', '카페브론즈', '착한커피2호점', '아지트카페', '프라우스타상암월드컵1호점', '마이시크릿메이트', '탐스커피앤푸드', '놀술', '까페보니또', '죠아찌쥬스', '이야기카페', '카페안', 'CAFEFEEL', '커피타조', '밀키밀키', '허니비케이크', '룸카페쁠레쟝신림', '아워홈서울의료원점업타운', '빅컵커피', '바닐라베리', '카페다온', '54계단커피', '빌리지온', '숨앤쉼커피', '마노핀카페창동점', '커뮤니티카페', '커피모네', '떡담까페', '차밍커피숍', '모던팩토리', '카페데일리에디션', '마샹스', '강쇠네카페타운', '후니커피', '차고카페', 'MOONCAFE', 'JACKTTSBAR', 'JOHNCOOK', '우드우드', '카페미스코리아', '올라카페', '홍익미인석류연구소', '커피바이', 'CAFFE-LEAH', '데니스커피신림역점', '달달해', '루헨', '서울올림픽파크텔커피숍', '공부카페다행', '세븐몽키즈', '시에나블루', '벨로치노', '카페다바인그라이드', '그리다꿈', '할리스커피신정네거리역점', '쿠오레에스프레소', '커피나무학교', '카페베키오', 'COFFEEDECO', 'Gmono', 'CAFECO', '송파나루빈스토리', '고로케카페', '몬무스커피', '공원카페', '비어카페길양', '히포커피서울대점', '킹콩쥬스', '명동커피숍', '갤럭시펫강남점', '카페마마', '커피팩토리', '이디야IBK고객센터', '굿띵커피', '맥다방', '커피코트상암', 'EPISODE85', 'BOXCOFFEE박스커피', '둘리뮤지엄카페', '번스', '어반코트', '바닐라스위트', '플라워커피', 'Coffeebay', '카페오아시아사회적협동조합', '로타리커피숍', '마할로', '밀크카우', 'Qulznos', '리리움커피', '슬로웨이', '베네핏카페', '카페동동', '포레포레', '프레지아', '할리스커피불광역', '모카향', 'cafe.달보드레', '투썸플레이스파인애비뉴점', '선아커피', '793플라워팩토리', '에버롱런던', '엠뷰티크', '따몽', '마실ing', '올데이브런치', 'Crumb', '장동민의옹피씨', 'BABEANSCOFFEE', '투썸서초비씨카드사옥', '소소한즐거음', '오늘도하나롱', '볼룸', '앤트러사이트', '커피정', '위드파오', '릴리캣고양이카페', '강아지별애견카페', '명가원', '카페302', '영푸드', '한스커피', '푸른달', '호야커피', '피닉스', '퓨로쥬스', '키즈방방', '투썸플레이스개봉역점', '봉봉다방', '아람앤아델라', '비욘드커피', '카페엔유', '부띠끄호텔엑스와이엠', '지스토리', '크러쉬온유', '주스탐서소문점', '커피오카', '라끌레도르', 'NY커피아울렛논현점', '달콤커피위례중앙푸르지오점', '아뜰리에안연희', '어느,예쁜날', '포인포카페', '하니하우스', '카페베네청담사거리', '밀탑', '퀸즈커피', '카페리CafeRe합정점', '투고커피', '엠알광고기획', '달콤커피역삼에클라트점', '카페갤러리원', '만담', '탐앤탐스삼모타워신림역점', '유니콘', '연소바', '커피앤스위트', 'SNOWFOX', '헬로아린', '커피빈예술의전당앞점', '쉐르본1973', '랄랄라', '세컨드페이지', 'cafe커피콩', '요거프레소개봉2호점', '엠즈씨드', '첫만남', '카페르메이에르', '키웨스트커피화랑대역점', '별난만두까페', '카페이룸대치점', '란다방', '르살롱바이메종엠오', '크레마', '닥터커피', '림벅와플북촌점', '하루커피', '가회', '해피트리', '신길헤븐카페', '금성', '케미커피', '동인당베이커리카페', '카페플레인', '코스트코코리아아이스크림스무디코너', 'HERE카페', '이디야커피수유역점', '엠키친앤카페', 'CAFEPLUTO', '아카프', '팩토리카페', '까메오', 'BUKU', 'TAIMDISH', '프리모커피', '트루디', '아이스마일카페', '엘마르', '카페드아마폴라델리', '베이크럽보라매래미안점', '엔제리너스커피롯데시네마', '미초', '윙크르네상스북&아트갤러리', '커피빈코리아서초우성아파트앞점', '뉴욕핫도그앤커피수유점', '언제나맑은커피', 'RJPOT', '더주스박스', '커피베이강서힐스테이트', '아로하', 'PAIKSCOFFEE', '장띠', '북카페로뎀', '스타벅스상일동점', '커피랑', '커피숍프롤로그', '수연라이브메들리', '커피그레이드', '오크라', '마리웨일마카롱수유점', '카페리치', 'acafe', '커피공방오페라빈', '카페블라썸', '김주삼커피로스터스', '띵크인커피', '카페S프레소', 'Lento', '스노우볼카페', '더치스', '도르체비타', '커피에반젤린', '퀸즈타운', '포이트리', '커피빈코리아국기원사거', '토브서브', '마셔봄', '아트토이', '더라운드', '투썸대륭18차', '카페다미안', '카페디저트', '까페올리브', '엔제리너스라붐아울렛', '소스페소', '경성커피랩', '더리틀베어', '티앤티라이프', '크리서스커피', '녹NOK', '카페일루오고', '업.사이드', '못잊어', '브런치뷰', '롯데리아엔제리너스커피잠실롯데월드타워B1', '스타벅스가산디지털단지점', '예빈당', '카페테루아', 'GOOTAO', '추억의7080&다방', '할리스커피굽은다리점', 'Theoddcat', '쉠락에프앤비', 'CafeSerre', '르카페효온켐', '종로교회커피', '호박이좋은카페', '십자수&커피이야기', 'IZAKAYA나무', '스킨디빌리지점프카페', '그린고메', '아드라나눔카페', '커피타임', '서울만남의광장휴게소TOMNTOMS', '양지다방', '누베이크서대문점', '카페어느날', '앙상블커피', '토아빈커피', '스타벅스커피신도림디큐브시티2F', '커반', '빽다방중앙대병원점', '라에스키모', '송상수커피', '니즈유', '예다손', '금호문화재단', '티카페', '하늘정원', '카페드앙떼띠', '롯지', '테이크아웃', '커피세븐', '커피양탄국', '커피팝', '미도심', '스타벅스서울중앙우체국점', '스타벅스충정타워', '생각이나서', '디초콜릿커피', '설빙차이나', '요거프레소당산에스케이', '대한체육회공제회팀코리아', '도로시인더커피', '드쿠스커피', '손탁스커피', '문카페', '잠바주스합정메세나폴리스점', '카페하비', '아멜리아', '베네라이프', '량원카페', '쥬씨역삼사거리점', '커피나루', '올리비아커피', '브루잉웰', '위치스커피', '빈스앤와플', '지샘', '빈터커피로스터스', 'CAFERE:', '코코브루니', '북카페타셴', '오늘상점', '드롭탑', '양선생커피집', '수카페&쿠킹스튜디오', '메이딘리', '크레센도휴게음식점', '커피한잔', 'olleh', '금호커피숍', '고트레', '카페칸타타태릉입구역', '사루비아다방', '스플래쉬블랙', '브로일링커피컴퍼니', '카페처음', '루이14세', '토프레소선릉역', '요요프레쉬티바', '이화동', '카페반색', '버블유', 'AHC플레이존신사점카페테리아', '투썸플레이스커피', '피러팻', '등촌아리스타', '솔채카페', '한국커피연구원', '케이티그룹희망나눔재단광화문east', '투썸플레이스삼성', '금경에프엔비', '팍스커피', '플레인', '달콤', '헤어라떼', '수정', '카페딜리노', '티움카페앤토스트', '야쿤카야', '케롯', '그리다꿈숭실대점', '언니네다락방', '구스토', '모나코플라워', '아시아나타운커피숍', 'coffee&beer', '커피그리고', '장로회신학대학교그라찌에소양주기철기념관점', '미미갸또', '드링크7', '카페라몬', '행복식빵', '카페브와송', '가마빈', '툴스커피', '카페세향', '팬더커피숍', '주빈커피마에스더', '쥬씨사당역2호점', '캔모아', '콩부인', '여의디지털도서관', '마론바게트', '보나비아티제일원로비점', '유후인', '샌드위치카페', '경복비즈니스고등학교학교기업', '옷다방델리아', '보헤미안박이추커피공장', '보스커피숍', '디쉬룸바이도레도레', '토즈', '토프레소원효로점', '파이하우스', '왕궁다방', '센티모르', '용다방', '머미', '41ST', '서울강서지역자활센터-카페', 'Clucy', '라파미', '카페마리', '카리스', '티라레미수한양대엔터식스점', '모리나리까페', '루고', '글로우', '꿀스커피', '코너힐카페', '재미난조각가사주카페', '카페2도씨', '공사', '카페블릭', '휠링', '찬PLUS반찬카페', '가비1896', 'WL맥주커피', '달콩', '보야커피', '스타벅스종로수송점', '카페AA삼청동점', '모로티', '아름뜰FOOD&COFFEE', '아카데미카페', '아티제상일GEC점', 'CafeS', '카페M', '카페우리다', '디에고젤라또', '마이페스트카페', '카페38애견카페', '나이브', '노란코끼리커피로스터스', '쉬어가는페이지', '엔젤리스', '쥬씨남성역점', '상도다방', '키즈카페', '궁전', 'DAILYDEE', '팔로미노', '오월의커피', '위메이크커피', '투썸플레이스세관사거리점', '라온커피앤브래드', '기빙트리', '노란코끼리은행사거리점', '보나비아티제강남구청', '오봉팽', '카페베네등촌역점', '카페마마스상암MBC점', '죠샌드위치', '카페뚜또', '마미카롱&건대케이크', '휴카페', '이호다방', '카페베네가양역점', '라페트', '카페구름', '카페피티', '범스커피', '커피플라이', '명지대빽다방', '쥬씨오류동역점', '캠프다비드', '봉샌드', '커피인칼라세븐', '이대리커피', '영동다방', '쥬씨도깨비시장점', '스타벅스명동중앙로', 'omnibuscoffee', '그린머그', '드립하우스', '커피빈삼성역글라스타워뒷점', '코지카페', '비치s커피집', '로켓커피', '에피세리꼴라주', '맨인블랙', 'Paganini', '바리스타마르코강서경찰서점', '카페이드라', '일레븐시스', '카페라빈', '후pc', '커피만', '아쎄두', '푸르너가든서울숲점', '공차광화문점', '룸포커피', '토닥토닥', '아마폴라델리', '서린다방', '라마노', '럭키스타커피로스터스', '커피네언니', '청년다방가락점', '커피에반하다잠실고분로점', '커피타임즈', '지아뜰리에', '카페뚜니', '솟대사주까페', '방탈출제로', 'CafeAne', '스타벅스삼선교점', '빈스빈스커피', '예하카페', '커피온리건대', '캡슐팩토리', '말리커피삼성로점', '나눔공간', '젤라리소경희궁자이점', '커피프린스', '플레이그라운드', '맛샘커피농장', '워시타운', '더치앤빈', '다인투', 'Cafe-In', '내까페', '지오북카페', '카페치따', '가한', '죠샌드위치선릉점', '최고야커피랩', 'CoCoRo', 'C27', '자작나무카페', '지아이카페', '커피비상구', '롯데제이티비', '폴바셋신세계백화점본점', '메가커피미아', 'CREMADORO', '애드커피', '굴리엘모커피', '헐리우스연세대점', '에르마노키즈카페', '나누미', '코레일유통커피엔스위트', '카페그라치아', '아라마크제중관카페베네', '림벅와플', '소운빔', '커피점방', 'CAFEHEIM', '카페툰', '키즈팡팡', '할리스씨앤아이', '베르노', '엣코너', '한국커피연합회', '우리행성', '카페10PM', '행복마루', '보까', '고메', '벤센느', '동아쏘시오그룹공제회', '뽀쪼중계점', '와플빈', '투썸플레이스CGV상봉점', '롯데시네마김포공항엔제리너스', '카이저커피', '커피한약방', '킹스빈구로디지털점', 'CGV', '민물다방', '땡큐그린', '엘리의초콜릿', '마노핀수서역점', '이디야마들역', '카페라리방이점', 'AURAcafe', '해밀', '슬로우잼', '풍각당', '레이크', '스타벅스석촌호수점', '엠카페', '꿈을담은커피콩', 'Coffeetreeya', '카페앤아더', '하임', '카페별달밤', '이디야커피한국수출입은행점', '카페끌림', '스타벅스광운대점', '우정다방', '세미콜론커피', '무궁화꽃이피었습니다', '쁘띠렌', '참빛카페', '티몬스', '공차현대아울렛가산점', '미미당', '카페와이', '카페루루', '그라제난닥스', '츄로비아', '카페케로', '데이지공방', '투썸플레이스가산대성디폴리스점', '지소현커피나무', '두커피', 'mill', '드림스페이스버드', '투썸플레이스강남역중앙점', '파넬카페', '카툰바이커피', '비공이', '애논', '동건스', '엔제리너스푸드앤다이닝', '메트로', '커피앤드', '커피이즈', '하늘빛푸르다', '끌레르봉봉', '다향전통찻집', '인디에프갤러리카페쉐누', '에떼라이브카페', '엔제리너스라붐아울렛T/O', '스터디룸인', '커피지아', '셀렉토삼성역점', '홀리원코리아', '제프리카벤디쉬런던', '간쥬와플', '고디바MBC', '구멍가게', '오하나카페', '커피판다', '지튼', '연주다방', '엄지카페', '힐링카페테라하우스', '청년다방', '카페본주르', '삼거리다방', '떡카페아리랑', '베세토', '커피인커피', '페넥아트토스트', '까페거기', '스타벅스명동미래', '더벤티노량진점', '쉐프스카페테리아', '붐베이직', '10페이지한양대점', '커피에비뉴', '타르타르', '커피디지독바위점', '스케네브라운', '웰런커피', 'w카페', '그레트힐란', '로모커피', '나', '레이너드커피', '오투오카페', '루앤비', '카페론다', '뚜요', '코나베리', '꽃다락', '카페0', '빌리', '엘앤에스와이', '파인트리커피', '알라딘중고서점커피합정점', '탐앤탐스', '핸즈업', 'cafePINKHALL', '단잠', '스타벅스코엑스사거리점', '카페칼라풀', 'Cafe잉거독산점', '레벨업', '달콤달달', '이야기', '아멜라떼', '레인보우6', '본까스미니스텐드', '남양유업양천2분유커피전문점', '신스커피', '카페작은나무', '406번째스토브', '지하다방', '카푸치노카페', '바리스파티움', '커피이즘', '갓볶은커피', '영우홍익대학교매점', '첨밀', '지혜나무', '브라운팩토리', '이글루크리머리', '커피리퍼블릭', '쉬라이크스커피', '커피레벨52구로점', '빈스앤베리스', '리치망고', '에세스커피', '타르트팜', '카페아폴로', '카페놀다', '오버더레인보우', 'UNKNOWN', '퓨로주스', '스탠딩커피3', '이칠삼', 'Anne', '더치레이디', '둥지', '커피오터스', '메고지고', '테일러커피', 'CNNCAFE한양대2호점', '마리아칼라스.아름다운구멍가게', '카페a/ma', '까페햇츠', '트윈275', '스타벅스역삼럭키', '쁘띠렌대학로점', '카페라브리', '산토리니의아침', '밀케이커피', '카페안젤로', '라콤커피', '카페말로', '커피티쳐', 'TEAFORTWO', '미스라라coffeeshop', '포트오브모카독산점', '미스터브리즈커피가양점', '스윗드림카페SWEETDREAM', '바이헤이데이', '신사곰', '위드비', 'YOURCOFFEE', '라인업PC방', '만죠즉석커피점', '미네르바', '에브리데이챠', '엘리펀트커피', '헤엄', '아리스타커피', '키커피숍', '맘마미아파이', '이삭토스트', '투싸이드', '뽕커피', 'Wakemeup', '메르씨', '작은콩', '아마추어', '비에스마르첼로삼성점', 'CAFEIMT', '아띠오레', '커피볶는이야기두번째공간', '앨빈커피', '영잘아북카페', '큐비틀주스', '공차고대안암병원점', '케이에스케이공인중개사사무소카페', '갤러리카페브레송', '옷다방', '아일랜드', '조은하루', '바운트커피', '세가프레도', '퓨', '바재커피', '몽슈슈도지마롤', 'COFFEEPOST', '커피와문화', '커피빌리지', '블랙빈스커피', '써니사이드커피', '스타벅스명동길점', '더벤티숙대점', '까페워크샵', '핑크도그핑크다방', '싸가지', '클래식', '투썸플레이스가든파이브점', '요거프레소구로구청점', '삼성에버랜드삼성화재웰스토리카페', '주택커피', '마왕카스테라', 'cafem', '알커피', '엣홈', '마조앤새디', '투썸플레이스여의도금융투자협회', '까페골든컵올림픽공원점', '지오갤러리&카페', '까페자스민', '보드게임', '소마커피', 'STYLECOFFEE', '후아나', '프레지에', 'TWOSME+', '노들견우카페', '수커피볶는집', '카페보라', '토즈아트레온점', '보물창고', '별나라콩다방', '레몽즈', '아피커피', '카페쏘도베', '엘브로커피', 'TUICAF고려대점', '카페지붕아래', '보디가드', '투썸플레이스중계은행사거리점', '꿈꾸는다락방', '빌리엔젤마리오아울렛', 'FlatWhite', '다기전', '더카페마룬에프청담', '와플앤베어', '커피콩콩', '포트오브모카문정점', '라무어Lamour', '카페빈스', '까페부오노', '스타벅스경복궁역', '아리스타커피역삼2호점', '수힐링센터', '드림스테이', '브라질커피숍', '칸타트', '아티제올림픽공원점', '화이트', '카페마조앤새디', '파스텔드나따', '티마', '커피교습소', 'DILUTE', 'CAFEASHER', 'ABRI', '퀸즈', '바늘노리', '카페바인', '라임스트리트커피일기', '구스띠모', 'glt젤라또', '올코코', '까페오시정', '수수커피컴퍼니', '탭플레이', '멀티카페', 'WETRUSTCOFFEE', '카페언더바', '카페모로', '카페품다', '탭플레이강동성심병원점', '연미', '스몰커피로스터스', '파리크라상잠바주스디큐브', '도시보감', '망고스틴', '카페멘테', '스타벅스합정점', '카페인바이티드', '더맘', '커피부스', '파이브에비뉴', '커피나무K', '에쯔', '떼루와떼루와답십리점', '컵투', '북바위쉼터', '떼루와떼루와자양3호점', '티라레미수비트플렉스왕십리역점', '카페올', '카페커먼띵스', '그렇게카페가된다', '로비라운지&델리', '루미에르', '세레스홈', '뉴부림커피숍', '만화까페콩툰', '와하하커피', '포호커피', '카페아이엠티마곡점', '스무디킹송파파크하비오점', '해나헬시카페', '티앤톡', '펀비어킹송파구청점', '동부', '벨라빈스', '연다라', '혜성', '펄세이플라워', '비비디바비디부', '커피디지왕십리뉴타운점', '양남', 'cafeJoe', '커피잉', '생각나니', '카페드세라', '셜록홈즈영등포점', '아메리칸트레일러', '커피휘엘', '맨즈커피', '에스프레소살롱', '카페핑크데이지', '커피머그루', '나인어클락커피광운대점', '커피빈코리아현대자동차강남오토스퀘어점', '카페에쏘', '코나익스프레스', 'MANGOIXACADEMY', '쥬씨구로깔깔거리점', '카베하네커피공방', '빈스스토리', '후레쉬주스', '유니콘팩토리', '커피온리&팔공티', '까페아스노바', '견블리', '루소주얼리커플링만들기', '카페꼬미', '리이슈커피로스터스', '카페메이빈', '커피컴', 'ANOPLA', '스피드립', '누아르블랑', 'CAFEBOBO', '스타럭스', '블루펄호텔커피숍', '피초코', '비닐하우스', '커피파일럿', '오후', '올유니드면목점', '메론커피', '예당전통찻집', '드마린카페', '분식카페얌얌', '브릿지', '찬찬커피로스터스', '커피앨리스', '포르자카페', '4CDUTCHCOFFEE4도씨더치커피', '쉐어드테이블', '라카페갤러리', '향기있는카페', '옹달샘', '커피썸', '조히하루', '파운드로컬', '카페에뚜', '카미에커피', '할리스커피에벤에셀점', '자바시티코리아삼성CC', '드림베티', 'tea.n', 'StoryCafe', '출구31', '애니타임ANYTIME', '1번출구COFFEE', '해성', '카페넷', '꼼지락꼼지락', '앳오피셜', '공정무역평화다방', '커피기업', '페라', '주빈커피로스팅', '카페두', '비쥬블랑쉐', '파스쿠찌삼성역점', '애견까페', '벨로샵', '스타벅스청량리역점', '까페라함', '셰프리', '매머드익스프레스강서한강자이타워16호', '파나마', '닷', '카페에이룸', '피카노르딕', '카페위안', '커피클래식', '누리정', '스위밍풀', '틴패낼리', '다반', '커피벨', '사이카페', '뮤즈서울', 'TURTLELIBRARY', '모노레일에스프레소잠실삼성생', '경봉다방', '유성커피숍', '투썸플레이스대한통운사옥', '커피더캠프KBS스포츠월드컵', '안에', '라운지93', '카페조이', '이라운지', 'Andgrey', '천년초와전통차', 'DESEO', 'Theorderbeans', '그린마일커피', 'COFFEE&TEE', '자연물들이기', '디디스고프레', '카페바리스타케이에피소드2', '또아', '컵오브컴포트', '스타일커피', '헤일리스카페', '카페다스티', 'CAFEAZITO', '자바씨티커피', '카페더SOL', '커피빈코리아대치사거리점', '명일커피숍', '커피상호작용', '전한에프앤씨라바짜', '모듈팟', '스타벅스올림픽평화의문점', '바실레이아쇼콜라', '아로마까페', '하룻고양이', '라스', '매머드익스프레스', '카페크레마', '봉봉트리대학로점', '바내', '카페바운스', '커피해밀', '크랙', '주니시스블라썸', '궁', '커피앤바닐라', '일야에스프레소', '두드림씨앤엠', '노란손수건', '카페뿌우', '레드카페', '소풍', 'CF커피숍', '소프트리가양점', '비틀주스홍씨내', '제이미커피', 'CNN카페', '소현초콜릿공방', '내찬기and카페', 'cafe.U카페.유', '비가톤코리아압구정볶는커', '학산', '슬로우가든삼청점', 'KITTYCAFE', 'Viennacoffeehouse', '나의작은라임나무', '커피상점이심', '올리버스윗', '브룩스빌커피앤티', '키친5217', '요거프레소대방성애병원점', '차타임라운지', '다람쥐소나타', '스타벅스목동5단지점', '아워홈카페그랑', '리시오', '코나퀸즈석촌호수점', '그루비', '더가든커피', '은성커피숍', 'coffee&kitchen', 'COMET', '베리주스', '뒤주르', '킹제임스', '폴바셋롯데강남점', 'St.1549', '시얀', '카페가비', '카페라끄리마', '모뜨', '놀숲고척점', '까페로마', '슈퍼리치', '이다', '다빈커피', '카페엘리스라운지', '텐퍼센트스페셜티커피', '토프레소홍대점', '슈가연', '리버스로스터', '블루포트', '본까스댈리카페', '아모제카페아모제', '원두파파', '북카페다락', '카페다빈', 'kt광화문빌딩웨스트카페', '비에스케이코퍼레이션', 'Hannyhouse', '앤믹스', '게이트4', 'P268', '청복보이차', '카페탱크식스', '빈티지팩토리', '베키아에누보', '커피볶는Mr.김영다방', '스타벅스마포트라팰점', '향', '공방163', '다니엘커피숍', 'Asar로스터리카페', '커피빈코리아역삼역4', '커피빈코리아보라매공원', '까페Joyous', 'cafe453키친', '스무디팅', '커피바이셉템버', '쓰리팝', '와이투커피', '모란', '로컬카페', '와플반트', '아이원', '나폴레옹키오스크', '까페마음', '전통찻집인사동', 'ARISTACOFFEE', '5번출구', '지앤지카페', '청춘고양이카페', '카페로올봄', '바람과나무', '원츄', '신빙고', '허바허바사장', '바랑커피숍', '콩카페', '더담쟁이', '살롱드떼벨로', '까페드비반트', '로바토', '레떼', '카페바리스타아카데미', '안녕,도화동.', '이누', '쎄븐', '더스키&커피', '카페어반', '까페비아', '카페뮤제오커피박물관', '카페디디다', '커피의품격', '카페베네역점', '카페꼰띠고배봉사거리점', '카페브이', '콜드스톤', '와일드커피', '빈스토리', '조이커피', '크리스커피', '커피알라', 'Cafe곰퀼트', '감나무아래', '커피루왁', '커피로스팅', '주스킹위례', '헤세드커피공방', '쥬스드', '커피로드', '로리콘', 'eemobile', '프라비다커피', '르반베이커리카페', 'AND', '엘본그랑까페', '제이에스커피', '러쉬', '디리베', '카페인프래넷', '카페미미미', '타이니팀벌스', '브로트가쎄율리', '이디야커피천호현대점', '나라카페', '지유명차반포점', '코코라', '마더쥬스', '해피블럭카페신도림점', '그리운꼬마', '태성다방', '카페더스토리이점영', '넝쿨', '카페에치Cafe-H', 'DININGBOX', '테이블스', '스테이플392', '운봉사주카페', '커피인뉴옥', '커피볶는야곱', '카페이노', '커피빈문래동점', '아이엔유카페사랑', '우리동네라운지', '할리스커피방배점세리', 'cafe새벽', 'KOTSUNI', '롤링크레페', '해리스커피파크', '오설록가로수길점', '이디야카페', '홍어와탁주', '퍼넬케익앤커피', '카페어니스티', '카페다오', '일쁠루수빠리', '홈이디저트', '시다모커피', '카페5', '달씨', '붉은산다화', '카페밀크콩', '달팽이카페', '은지다방', '웜블루', 'AVECMOI', '와플마녀', 'Iambarista', '카페아드리아', '커피만나', '스타벅스송파방이DT점', 'CRACK', '키즈카페어린왕자', '지금의세상', 'ATwosomPlace', '비갠', '소커피암사점', '키라키라키친', '엔젤리너스미아삼거리', '극단배우다방', '공차남부터미널점', '마음', '공차화곡역점', '주카페', '스타벅스방화DT', '카페삼삼', '사군자커피숍', '전광수커피랩', '투썸플레이스홍대테디점', '몰리바', '더커피하이소', '휘도르', 'keep커피', '카페모스트', '정우연', '카카오독애견카페', 'GOMMICOFFEE', '커핀그루나루성동문화원점', '콩툰만화카페', '원펀치쓰리강냉이', '빈스앤베리즈태평로점', '정동다방', '주커피개포점', '쥬빌리', '젬스커피', '사주카페큐', '파스쿠찌LG트윈타워점', '부쿠', '공차경찰병원역점', '주커피', '앤스카페', '플라', 'Aboutespreso', '카스쿠르트', '카페쿠치나', '스타벅스마곡나루역점', '카페벤티', '더블에프앤시', '반지만들기카페커반', '커피나무', '카페아모카', '아라바카뜰', '골목카페일구공', '에이투지카페', '트립티커피', '카페팰리스', '바움스타커피', '프레소커피디자이너마천점', '카페소소공방', '와플스토어', '스타벅스명동입구점', '한강클래스', '곰스603', '제니스카페', '빈즈메이드', '쿼츠커피', '에듀라이브러리까페', '이디야서대문점2호', '망원동티라미수', '쌍문동맥주다방', '카페테바', '브래드앤빈', '커피빈코리아트레이드타', '쥬씨중계브라운스톤점', '카페앤', '카페루바토', '고구마명가', '썸주스', 'inkcoffee', '꿈', '청실다방', '투썸플레이스신사세로수길점', '산책', '코리아에스프레소', '블루리본', 'EPICCOFFEE', '동우네커피집', '카페서우', '찬스브로스', '베리베리', '카페크레아팜', '투썸플레이스한양대학생복지관', '언더그라운드커피웍스', '효이다방', '이디야커피약수점', '더루', 'Artofcoffee', '보그너커피', '빽다방신림역2호점', '그냥커피', 'Lindas', '라비또', '드링크펀펀크레페', '카페셀란', '프라하', '더케익', '구찌', '웍스프레소', 'hundred11', '미즈컨테이너', '더착한커피', '스타벅스상봉역점', '맹커피숍', '랑데부', '비마이까페', '빠넷빠베', '더칼라', '카페미플', '오설록티하우스삼청동점', '마노스커피', '리얼커피', '쥬씨88', '코코써니', '보스톤킹', '알프스', '매머드익스프레스교', '뚜또베네트라토리아', '카페바우하우스', '테일리', 'allfresh', '쥬씨강서고점', '정이정', '카페블리스', '곰다방', 'J니시', '라운지리포즈', '터치카페', '바리스타마르코북성교회점', '오티움커피랩', '이디야커피디지털미디어시티역사점', '랑', 'Malacca', '씨카페', '스타벅스이태원거리점', '커픽처스', '카페굴리엘모', 'VRAVO', '씨티즌커피', '스타벅스마포아크로타워점', '해빛', '허문담', '탐엔탐스', '커피마마성내점', '플리트비체', '까페이탈리아코리아', '태양다밥', '엉클빈스커피', '유로와플', '로제타1890', '미제', '무지개', '루하커피', '생생과일', '엔제이파크', '카페인디', '베니커피', 'cafe.C', '공차여의도순복음점', '야경', '더나무', '커피빈코리아강동경희대병원앞점', '커피빈코리아CBTL서울', '투썸플레이스구로', '커피스튜디오', '스타벅스을지로센타', '더봄', '드롭탑방이사거리점', 'Cacaoboom', '인공위성', '매스커피역삼점', '그라시아커피', '핑크파이', '익스트림커피', '루트28', '카페퍼블리크', '아리스타커피강동구청점', '데일리카페', '미스터브리즈커피강서구청점', '카페슬로우', '아이비커피', '포르테커피', '빈어홀릭', '아메리카노', '고디바눈스퀘어', '커플', '어바웃에스프레소', 'IMTEA', '커피마마이대점', '쏭다방', '에이쓰리바우트커피', '낭띠발아까페', '바움', '인디스에프앤디할리스커피', '이앤지커피', '빨라쪼델프레도', '서울테크커피', '롤링스톤즈', '더반카페앤드홈베이커리', '빽다방강동역헤르셔점', '오땅비어신논현점', '마플리MAFLI', '메르시투데이', 'PERPET', '프레즌트스퀘어커피', '점폴린파크', '커피향기비어', '후니드서울치대병원카페', '커피식스쥬스식스장한평점', '라붐카페', '에스메랄다', '커피빈코리아올림픽공원북', '도담갤러리', '보나비아티제', '스타벅스올림픽공원북문점', '카페크레타', '라이크잇커피앤북스', '카페공방해밀', '통인길커피점', '엠엠티에이치015', '백악관', '캐쉬플로우커뮤니케이션즈', '오케키', '에르보리앙', '디보빌리지', '웻커피', 'SOFT425', '바스킷423', '엘씨엘로', '마랭고', '캐리스커피', 'DAILY3', '우리동네구로커피집', '테라로사커피', '아이스팩토리', 'Newyorkbagelcafe', '라포레', '까페16번지', '에쏘드립', '민영', 'SOL', '빈트리이백이십오', '스타벅스송파사거리점', '프레드릭', '캔디델리노래방', '기린다방', '카페블록', '아이월드', '매머드익스프레스건대역점', '폴스카페협동조합', '오투', '평창동북카페소담원', '쎄리오', '투비샵', '아이손쿠킹클래스', '셀렉토커피돌곶이역스타점', '일민미술관', '홀릭앳홈', '보헤미안타운카페', '홍s커피', '달콤한홍콩', '스무디킹', '덕수궁리에제와플', '씨알', '카페드비', '카페리쉐', '플레이스425', '마을사랑방솜씨', 'cafeorange', '카페글렌천왕역점', '착형커피역삼점', '주스솔루션여의도IFC몰점', '까페블랙펄', '스미스바니스페셜티커피1호', '엔테이블', '에파타', '달콤커피광화문점', '상파울로', '브라운홀릭', 'STARDUST', 'mug공대', '샵일사오', '샌드프레소', '포방터카페', '카페겸', '비긴', '대왕커피', '카페안녕', '도눔데오엑스커피', 'TheWitch', '스무디킹도심공항터미널점', '커먼테이블', '카페카와', '디어브레드', '더치앤빈대치역점', '까페띠아모', '디저트월드', '시트론오피스', '개미지옥', '빙하라떼', '제일', '커피빈코리아구로디지털단지점', '더타르트', '킹스커피', '롯데리아엔제리너스강', '썬투커피', '쥬씨상도역점', '루크테이블', '이스팀커피', '쿠즈베리얼반', '쥬씨강동역점', '아이스팩트리', '스카이카페', '스터디카페위드유오륜', '프랭크', '비안빈신설동점', '꼬마BY블룸앤구떼', '2시의테이블by메종드꾸숑', '아티제여의도공원점', '줄리스커피', 'J카페', '올인어컵', '카페밀리그램', '삼화', '욜로욜리', '소나기', '커피빈장안점', '마크커피', '동그라미카페', '카페퓨리티', '커피니미래와희망산부인과라운지카페', '커피인더문', 'CGVARTHOUSE', '콩깍지', '카페유유얼셀프', '커피만중앙대점', 'bonneidee', '슈퍼커피', '브루브로스커피', '니나스', '한다솜복지회강동꿈드래마켓', '커피에그리다', '리틀파파포', '사주카페리', '아름다운사람들의공간', '메이크업베네', '작심스터디카페', '슬런치팩토리', '알로카시아인더테라스', '토스피아군포화목토', '타이티카페', '마을과마디', '나임북카페', '듀크렘', '쥬앤비', '모노치즈여의도아일렉스점', '덤스', '빅머그커피', 'PaPaCoffee', '스타벅스잠실대교남단점', '프로방스', '커피로만', '레이어스다동점', '경계선', '커피탄타라', '이디야커피낙원동점', '커피공장', '커피구멍가게', '라비커피', '보나비아티제SBTM점', '매카', '수사주까페', '플래이그라운드', '식스스트링스', '폴바셋상암MBC미디어센터점', '아티제잠원파스텔점', '카페잠실다방', '콜드스톤크리머리', '그대를위한커피', '구름정원커피집', '로비커피숍', '쥬씨전농사거리점', '카페레', '알바트로스', '우리', 'FORLOVE', '거성카페테리아', '곰브라더스용산아이파크몰점', '만남다방', '노리앤', '커피376', 'CCAFE', '스타벅스커피여의도호성', '빙설헌', 'VICC', '스타벅스삼성도심공항점', '스탠다드커피바', '태양커피숍', '킹콩쥬스&커피이대점', '테이블나인', 'seevary', '스마트브릭키즈카페', '브로커피앤쥬스', '버블베어', '스마일커피', 'STREAT연세', '자키야', '까망PC', '카페달다', '파란상자', 'LODGE', 'CAFEWONDER카페원더', '퀸즈브라운', '주부리', '플레져디', '세움카페지점', '떼루와신림점', '동양다방', '카페소나타', '카페4776', '라운지', '더설', 'Murmur', '스타벅스방배카페입구', '솔뱅대치점', '화이트커피', '이디야커피신금호역점', '이엔갤러리', '놀숲숙대입구점', 'FIDES', '더플라잉팬블루', 'CafeHiJenny', '더빅스터디', '임비스', '노벨티', '샵에이블록', '별다방미스리', '감나무집까페', '카페하이유', '카페띠아모제기점', '책읽는카페', '코레일유통비타민한끼', '자바시티', '샵coffee', '인디카페', '2Z커피', '티케스', '이지카페', '빌리엔젤신촌', '카페베리트', '코코커피', '할리스에프앤비할리스커피학원', '엔제리너스커피동강에프앤', '커피에반하다난곡점', '별1호점용기', '드링크박스', '블랙홀커피로스터즈', '마카롱원더스목동점', '2.9샌또다방', '커피제로', '카페해밀', '디인카페', '이리카페', '반고흐카페', '빅뱅', '슬로우리', '스코프', '오너스', '로렌스테이블', '준커피', '커피미아', '커피깡패연구소', 'CAFFESOSPESO', '쥬씨방이시장점', '커피피플', '카페이야기', '마호가니커피', '삼성웰스토리커피앤', '바리스타커피', 'BOSSCOFFEE', '생두', '쥬스스타방학역점', '커피팡', '데이즈커피', '슈퍼커피마포점', '대화다방', '나쿠펜다', '블룸앤구떼반포리체점', '트루비커피', '바네스', '허니빙수', '까페앨리스', '카페아일랜드', '오렌지블러썸', '메그놀리아디자인카페', '커피하우저', '웨일즈커피', '쿠즈코커피', '커피메이플', '요거트맨', '카페테라스', '영플랜츠&갤러리영', 'PLE', '앨리스토리커피볶는집', 'Dropp', '주빈커피', '영등포', '범이준이', '카페령', '정카페', '주스의신', '니블리', '커피베리티', '가루가루', '군바리스타', '릴리움', '카페306', '보나비아티제잠실롯데월드몰점', '일상커피컴패니', '더착한커피남부터미널점', '카페마리오네', '베뉴지커피숍', '우종호의커피볶는집', '투썸플레이스개화산역점', '깡통카페', '코지허브카페', 'FRUITSPOP외대점', '롯데리아자바커피잠실교보', 'xoxo', 'mr.black', '길숲', 'CAFEIN', '베리언스', '플립팝', '커피향깊은한옥', '카페베리타스', '크레마도르', '까페덴', '소풍가는날', '더달달', 'sec커피', '덥스텝비', '밤부', '커피메이', '스타벅스방배카페입구점', '아잉커피', '카페달콩', '하니비카페', '발아정신', '카페24창업센터청신점', '47stCafe#', '보틀팩토리', '이코복스', '메가커피', '오늘의커피', '더카페서울숲SKV1점', '스피키지인모네', '이디야커피신길썬프라자점', '티나가든', '29.5', '커피봄봄', '카페비원', '더카페가양홈플러스점', '아이비사주카페', '굿모닝커피', 'cafe구석', 'FUNCITY', '세븐빈즈', '로사우니카', '모드뜨레', '카페루', '쥬씨대림역점', '청담사주앤카페', '봉숙이네커피볶는집', '메디아', '이디야커피청계천점', 'BANJO', '카페드까사', '토마토키즈카페', '로우커피스텐드', '커피두', '민들레영토장신대점', '후니드', '투썸플레이스신촌점', '엉클샘팬케이크', '신흥커피숍', '가든', '고다커피숍', '더스테이크카페', '워너커피포스코센터점', '젝키살롱', '어썸', '휘카페동부시장점', '요거프레소동교점', '고스트커피', '푸에르', '차중의차', '나인카페', '옥토끼더카페', '키다방', 'TAETEA대익차', '규젤', '카페소설', '101커피컨테이너', '두손', '커피에반하다광장시장점', '디자인이알', '담톨', '은성커피', 'OZ의마법카페', '케이375', '카페버즈앤벅스', '보스코쿠치나', '카페헤세', '금남', '청년다방명품즉석떡볶이', '이브커피숍', '왓츠업PC방', '보꼬네', '춘화당', '카페마당', '맑은물카페', '새얀', '카페큐', '까페뷰', '까페uuup', '스타벅스신세계본점5F', '슈퍼커피문정엠스테이트점', '커피밴드', '카페아쉐르', '에이아이커피', '브라운커피', '나드리커피숍', '스타벅스성신여대정문', '에덴다방', '행복공장', 'COFFEEUS', '나이스커피시스템', '프린세스다이어리', '카페달토끼', '커피드러그', '카페까사데', '에스엠발아커피', '원데이브레드', '미즈스타커피', '설기향기앙금플라워떡케이크', '스윗스트로우', '나른한순간IDLEMOME', 'IDCAFE', '카페쉐누', '폴바셋여의도', '서룡씨앤케이코와핀강변역', '달마이어', '이디아에스프레소', 'coffeemadame', '다움', '빈스데이', '카페두센트레', '밀앤빈서초직영점', '사주카페연', '양재커피집', '2dot', '교토베네토', '베리트커피', '원더우먼', '수호깨비카페하우스', '라움카페', '커피인류', '마리웨일마카롱봉천현대시장점', '스타벅스석촌역', '즐거운찻집', 'B+', '디노마드진', 'SECRETCOFFEELAB', '헤르아', '뉴욕카페', '커피중심', '봄', '신세계푸드넥슨아펙스타워', '김종욱커피', '누스바움', '카페암스테르담', '프랜즈디자인', '파파오가닉', '포레스트카페', '데미타스', '스위츠켓', '휴온', '베리빈스', 'DIXMILLIONS', '에코커피', '행복한커피', '쥬씨건대역점', '요거프레소한성대점', '커피더캠프', '두리하나다울', '키노빈스', '카페초코빈', '커피마마신공덕점', '머피커피해피', '디저트39중계은행사거리점', '이디야커피신림문화교점', '펀비어킹', 'CafeMusto', '슬로우브릭', '브라운핸즈도곡점', '커피앰비언스', '아라비카빈커피', '엠플러스멀티방I', 'COFFEELAB', '서울고로케앤커피', '카페로찌', '명동고로케32그램', '에셀나무카페', '오~방가', '저스트커피로스터스', '홀리더카페세나클', '비엔비엔', '쥬씨냉천동점', '퀴클리', '씨앗카페느티', 'THANKYOUCOFFEE', '프로메싸강남역점', '커피곳', '제비카페', '에고트립', 'CAFENO37', '북카페옹기종기', '커피몬', '커피와쟁이', '쥬씨독산역점', '래빗스디저트카페', '북카페J-story', '커피빈코리아한티역디마크빌딩점', 'CAFEEBEN삼성R&D점', '돌샘', '파스쿠찌신촌연세대점', '카페제제', '카페큐브', '하루젤라', '카페그래서', '다올북카페', '까페로드', '20스페이스', '설빙문화방송지점', '델리바이쉐라톤', '피터프루츠', '커피디지랩', '마노핀군자역점', '역전우동구로디지털역점', '카페아눅', '페어리스트리', 'G카페PC', '카페마마스', '카페사부작', 'TheRedCOFFEE', '리버파크커피숍', '커피Ghouse', '다르다', '골드라떼', '코레일유통할리스', '프랑스에다녀온붕어빵강남점', '제임스보드카페', '커피에이비', '커피빈코리아신사점', '카페기린CAFEKIRIN', '커피하이', '벌떼카페', '쥬스', '까페고센', '오늘도고양이', '다그린', '올핸즈투게더', 'OSEVENS엠솔루션콥', '커피앳웍스', '기명전통찻집', '기빙카페', '베브릿지', '카페그랑아', '탐앤탐스매점', '더투웰브그로우', '더플레이스', '광화문커피', '보틀살롱', 'Myven마이븐', '브리즈', 'CNNCafe서울대', '공릉행복발전소북카페수다', '예랑', '동작구름카페', 'berry', '커피바실리아', '모스앤몰리', '아이케어와사람들', '엠아이씨', '아아폴리델리', '유씨씨커피', '카페마들렌카CAFFEMA', '에스프레소로이', '씨앤씨', '콩셔틀', '카페도로시', '한우리보호작업장', '씨엔티코리아', '지에스25명일중앙', '트리밍807', '미니말레커피', '부림커피숍', '더블하모니', '유토피아카페', '케이포크', '미피커피', '콩밭커피로스터', '모토라운지', '탐앤탐스반포디스커버리', '이즈', '덕수궁전통차전문', '쥬씨송정역점', '츄잉쥬스양재점', '시스템', '커피602', '놀숲압구정역점', '새소망', '거북이벗', '행복다방', '카페베네거여역점', 'CAFEMIN', '골목카페', 'cafethemuzzz', '르포즈한남점', '프레쉬컵', '비나원', '테이큰커피', '커피더', '커피하루', '레브', '호수', 'Sarah&Chois', '커피인류고덕아르테온점', 'CNN카페한양대서울캠퍼스점', 'Lchfcafe', '루소랩', '더착한커피서울시청점', '쥬스방', '졸리앗커피', 'CAFE201', 'liikecoffee', '비라티오', '카페오로시', '카페아삽', '투썸플레이스광화문점', '코드이스케이프', '분카샤', '카페팔롬바니', '마심', '이디야커피텐즈힐점', '어반레빗', '마노아', '로맨티카', '크리스앤제이든', '스페셜데이한강용산본점', '공간산마루', 'PROJECT℃', '스타벅스역점', '에이지커피', '자바커피', '우커피', '벨로치노개화점', 'COFFeeNchu', 'TUTTOOK', '마포구고용복지지원센터', '차칸커피', '헤이마커피로스터스', '커피투고로스팅팩토리', '지하철', '허니박스', '고디바삼청점', '초원다방', '폴바셋캠퍼스타운점', '블랙커피', '또아식빵', 'Dogcafebulldozer', '단하나케이크', '대청토스트', '쿠와', '커피&', '호이차', '블랙홀', '언커먼그라운드', '카페네', '커피빈코리아역삼점', '차오름인사동점', '스타벅스종로3가점', '이퍼스', '카페킹', '왓더독', '집커피', '스타벅스연세백양로점', '앤하우스', '원킨450그람', '커피리시버', '효창104', '리치커피숍', '카페코나퀸즈', '입땀', 'IROOM', '커피시드', '몽마르뜨언덕위은하수다방', '아마폴라델리선릉점', '씨엔엔카페', '파스쿠찌화곡역점', '자마이카', '앤틱박스', '카페샌드앤푸드', '더카페하임즈', '디케이커피앤로스터리', '띠아모이대점', '문정카페', '투오브어스', '바리스타마리코스티오브', '153스터디카페', '엉클빈', '더라이프갤러리', '다미스토리', '체리시', '커피나무신상도점', '포엑스', '예쁘다포토카페', '에이케이에스앤디카페드마티네', '커피기타', '카페르퓌제', '젬블리스', 'cafelereve', '제이스커피나무', '아워홈카페클라시코', '쥬스88.커피88', '그루', '투썸플레이스숭실대점', '스타타로', '베러댄와플', '보나비아티제신용산역점', '로직커피로스터스', '공차건대점', '데이비드쥬스', '라잇미', '이팡홍대', '할리스애프앤비', '올인커피', '주경자구름떡카페', '카페두립', '카페느림', '이씨엠디천재교육R&D', 'DreamHouse', '곱창카페', '지엔피인터네셔널', '벨코와플', 'W커피바', '비아엠', '모던양갱집', '희커피숍', '깔루아', '리얼빈', '이디야커피우장산동점', '꼼떼커피', 'COFFEETHE.R', '달콤커피발산역점', '95도CCoffee&버블티', '필립앤노아', 'OVENDAY&CAFE', '웨스트엔드문화카페', '예건', '커피테리어', '디스프루따', '오스커피', 'DUTCH&BEAN', '아이씨지', '스테이지', '커피빈코리아명동성당앞', '카페피움', '카페마실', '보일스커피', 'VIP커피숍', '모두다가치카페', '카페블라블라', '커피카포', '커피마심', 'MAINS', '탐앤탐스3호', '예쉬카페', '핀치카페', '드림스토리', '바르도아이스크림', '더치폴커피', '우쥬라이크카페', '리엘베이킹', '레즐리컵LESELYCUP', '경동다방', '체리블리', '디노월드전쟁기념관점', '뒤뜰', '카페레아', '카페지밥삼청동점', '예스투탐', '카페더도어', '스탠딩커피5', '스페셜티커피', '일마레', '홍scoffee', '커피101스트릿', '사주까페예지몽', '엔', 'onechu', '카페희다', '다연커피숍', '카페폰타나', '어플렌티오브', '나비드', 'OwinSmartCarCafe', '자연의길경복궁역점', '카페OL', '더차린', '더마실카페', '카페띤', '예설스페이스카페', '커피베이서울의료원점', '카스타운', '카페줌인', '일커피', '파리커피숍', '그린하우스이펙트', '카페위로', 'at61', '올리버브라운카페', '에이카페', '아름라떼', '카페오세요', '테라이그니스', '샘커피숍', '커피에반하다월곡역점', '애쉴리즈', 'Mandy', '커피앤틱', '까페더트리', '탐앤탐스서울대입구점', '커피플라넷츠', '혼디커피로스터', '떼루와떼루와반포점', '모노치즈카폐', '오가닉라운지', '르보', '이앤지커피카리부이대', '지구커피', '카페코보스', 'NPS카페테리아Cate36.5℃', '미카페', 'FLORAVELLO', 'cafe사월', '비사이드', '경복궁박광일갤러리카페', '맘앤차일드', '가배두림', '카페타임플라이스', '재미길', '카페러블리', '허밍벨라', '아마스빈안국역점', '고종의뜰굼터/더듀얼로스터즈', '카페커피로', '카페헐리우드', '스타벅스연희DT점', '오다방', '카로치아아차산점', '마실래', '런닝독애견카페', '카페비마이프렌드', '갤러리카페커피집', '핑크도그,핑크다방', '고고카페', '해사랑', '나뚜루타임스퀘어', '이디야커피도봉산역사점', '케이스카이엔터테인먼트카', '커피체리까페', '브이알커피다', '커피서랍', 'arco', '스타벅스압구정점', 'Cafedecen', 'cafeheaven', '동네카페고커피', '명선우S', '동원홈푸드서울고등검찰청샌드프레소', '대학로와플', '맑', '명커피', '카페플라티', '사랑커피숍', '까치다방', '퀵클리', 'AMAPOLACAFE', '레드엘리펀트', '티니워니', '미스랄라', 'COFFEE&BREAK', '너나들이', '세렝게티', '에이블힐', '갈비씨발산역점,에벤카페', '콩툰', '이디야커피을지로역점', '샤론화원', '카페베네금호점', '투썸플레이스서울스퀘', '두공간', '더테이스트빈커피', '러츠', '스타벅스천호로데오점', '스타벅스커피신도림디큐브시티B2', '달달커피', '아리아', '매머드익스프레스문정SKV1', '마인드디저트', '틈', '까페274', '카페포즈', '스타벅스경희대삼거리점', '에스프레소진', '커피빈코리아이태원점', '빅파운드커피', '푸른수목원가든카폐', 'JUNCOFFEE', '금화당', '컨테인커피', '아리스타커피서여의도점', '할리스커피', '카페즐거움', '곰발커피', 'Coffeeonly', '타니아카페', '러블리커피', '제이스티하우스', '웨지우드커피숍', '주빈', 'CAFE302', '뉴서울', '카페라리', '폴락커피로스터리', '커피티', '소소커피', 'SEMOCAFE', '홀릭', '3POP', '선남선녀', '까마르도', '행복플러스가게하이천사', '카페모니에', '커피링거', '토프레소까치산점', '풍전에프엔비', 'STORYCOFFEE', '명보다방', '베베르커피', '갤러리카페', '카페베네고려대중앙광장점', '초코바리스타', '다소다', '알라딘중고서점커피수유점중고서점커피수유점', '디초콜릿커피앤드', '카페머물다', '클로리스티앤씨', '오롤리데이숍앤카페', '스타벅스강동역점', '사층빵집', '커피니종합운동장역점', '리퍼블릭', '더느림까페', '커피야', '커피마리오', '쥬씨삼성점', '술마시는까페', '시럽', '앤스', '카페키플링', '한스텝씨즈캔디', 'MAFIACOFFEE', '탑프레소', '러스트', '커피낙타', '띵크커피', '열두시이십분', '계희커피', '커피만랩', '타야커피', '카페엔', '또와플러스', '알레데이아커피', '그럼피커피', '라떼떼관악신사점', '커피전문점DZ', '설빙', 'one멀티커피', '라이프커피', '커피더쏠광나루562점', '웅이네', '놀숲종로점', '라그리마커피', '앤드커피', '복합문화공간까페가화', 'LUVOCO카페', '토닉', 'TaimDish', '과수원길에피는꽃', '가회동177', '준', '엣모스피어', '마스터키이디야마곡나루역점', '히로커피', '카페한여름밤의꿈', 'TOMNTOMSCOFFEE', '이더블', '작심커피세종대점', '모모랑', '그라운드오리진', '레몬카페', '커피시네마', 'SHINY', '토즈모임센터', '소소한가', '여유당둘라이브카페', '블루빈', '원두커피', '훔볼트', '밀스톤', '미드나잇카페', '300420', '카페싱그러워', '크리스마스자몽목동점', '투론', '엔젤인어스커피숍', '과수원', '서울서부범죄피해자지원센터사업', '몽프레슈', '마노리치', '종로abc', '모데프', '리원', '카페다디오', '본헤드커피컴퍼니', 'Foicoffee', '용호야채곱창', '카페티포트', '밀크엠앤에스', '하심', '디톡시', '커피베이노원하계점', 'placeJ', '이디아신방화중앙점', '바른찻집', '페나슈발', '화수목', 'At', '카페알로', '걸리버여행기', '강정이넘치는집', '낙랑파라망원', '커피블러썸', '마노커피숍', '커피에반하다양천목3동점', '세븐투텐', '올리브리사', '후니드SK플래닛서울스퀘어카페점', '카페디아떼', '명인명촌마심', '요거프레소', '돼지다방', '카페팔레트', '가락동커피', '생활커피', '까페10그램', '이디야삼성', '푸른바다', '민스빈', '어린농부딸기가좋아타임스', '카페블랙', '1983떡볶이다방', '헬로커피', '카펜크레', '가비', '엔젤디오커피', '네일수다', '에스프레사멘테일리부띠크모나코점', '주모', '카페핸섬', '카페드블록', '안녕,반가워', '25프로', '캔디미나우', '커피코코스무디코코', 'TAMMYCOFFEE', '끄레마', '꽃이피움', '이디아커피합정엘아이지점', '지노', '세븐그램', '아티제잠실타워730점', '카페모에드', '파르코커피', '모나미커피', '커피3타임즈', '포카치노', '좀비커피', '레어로우', '비스트플래닛', '247커피', '쿄즈카페', '한빛선교교회', '희망플라워카페', '더욱커피', '학다방', '동화', '쵸이스커피숍', '커피베이강남삼성2동점', '코코브루니한남점', '브라운핸즈카페', 'Salondetearoom미스홍자', '파스쿠찌메세나폴리스점', '남문찻집', '카페다리', '아망떼커피점', '까페어쿠스틱', '요거프레소서여의도정우빌딩점', '카페낀디오', '커피델라', '핑크블라섬', '엘에이보바커피전문점', '카페라오라오', '차끓이는곰자씨', 'SELECTO', '허니비와플까페', '아임유', 'cafe이레', '세이세이세이', 'Surp', '내일은청춘바리스타', '카페아이엠티', '마이크로', '카페이안', '앤제리너스커피', '베어', 'snack&coffee', '후르츠팜', '리네아의가게', '쥬씨삼호가든사거리점', '143그린라인커피로스터스', '씨제이엔시티카페비즈코즈', 'CAFENEATO', '커피노마드', '카페크롤링', '투썸플레이스강남수서점', '꽃담', '낯선카페', '맥애덤스커피코리아', '커피인코나', '위', '금요일다섯시', '루이루스SFC몰점', '밥스타', '코니버거앤브런치', '모노치즈북촌점', '매카이', '제2북카페', '타니아', '게이트31', '커피라디오', '로팸', '스타벅스커피마포염리', '하늘카페', '카페아트', '포트오브모카보광점', '보보스', '블랙빈', '스타벅스구로디지털로점', '투썸플레이스상암E&M점', '키키노카페', '탐앤탐스망원점', 'oneweek', '미소누리나눔복지센터', '압구정로데오공차', '한복카페', '코피발리', 'MILL', '테디베어주롯데월드몰점', '톡앤티', '네스카페베르누이호텔오류동점', '반이홀릭', '커피볶는그랑', '쉼표', '92도씨', '몽인도풍좌식카페', '곰브라더스', '바리스타마르코디아티스티', '쥬씨등촌역점', '홀빈커피', '브릭라이브월드', '커피빈코리아올림픽공원', '연수커피', '카페아래', '카페데미', '베이루트', '써니데이커피', '카페두두', '스타벅스외대점', '나뚜루카페', '엔제리너스강남역점', '레어그루브', '리본카페', '마노핀압구정역점', 'CAFEVERONA', 'CASABEAN', '투썸플레이스구로디지털단지역점', '카페선데이런드리', '태양커피', '커피빈코리아동대문두타', '카페몰리', '엘크레', '세번걸이카페', '커피몽크', '무인카페', '오렌지타이거커피', '까페마조앤새디', '디자이너스라운지', '재미난조각가', '투썸플레이스,콜드스톤크리머리반포래미안퍼스티지점', '커피앤쿠키', '앙마떡뽀끼&카페빅', '단코', '셜록홈즈신림점', '삼성웰스토리동국대기숙사', '카페마운틴', '플러스카페종로노인종합복지관', '도토리카페', '밀랑스', '다원전통찻집', 'RORI', '삼청동에그롤', '다사랑다방', '키즈커피', '킹콩디저트', '현경개발릴리움커피', '빠리스타에스프레소', '까페뀌에르', '테라스위트', '히포커피', '쥬씨배명사거리점', '삼천리커피', '모서리에커피집', '커피스미스오기', '달리는커피노량진점', '와플루이', '카페보다', '영자클럽서울', '달숲', '오십사계단커피', '탐앤탐스안국역점', 'MEGACOFFEE', '샐프레소', '문정역점', '앳홈', '투썸플레이스왕십리역', '카페고다', '7080라이브이락', '카페에마미', '카페이담', '아소프로아', '스무디킹이대기숙사점', '두더지손', '힐링사주카페', '카페24창업센터', 'B.ratio', '왕관커피숍', '비트윈카페', '요미다방', '커피볶는농부의자연이준다', '스마일멀티방', '펭귄드링스커피', '전광수커피', '비전스토리문화까페', '규s커피', '홈플러스어라운드홈', 'STREETCOFFEE', '뽀빠숙대점', '앤마리플라워', '더빅', '마리S케이크', '미어캣프랜즈', '리틀브라운', '고디바광화문점', '클류치', '이노패밀리', '위너스커피', '밥까페', '미쓰퐁당', '나무의시간', '명동커피Ⅰ', '엔티스', '데일리그라운드', '커피주전자', '라온tree', '스터디카페더퍼스트', '라떼야커피', '배스킨라빈스동대문홈플러스', '임포스타', '더테라스다화', '서울통닭', '김.COFFEE', '바른강정연구소', '덤', '피어나', '알콜카페', '커피나무랩', '까페데베르', '갤러리안길', '카페와플대학명일캠퍼스', '설빙강남역점', 'TovCoffee', '스퀘어비스트로앤샵', '트리니티까페', '행복다온', '105카페이태원점', '코나커피', '원제커피전문점', '우드사이드커피랩', '쏘뇨', '커피프렌즈', '챔프커피', '카우하이드', '커피모리', '클래식플라워까페', '놀숲강남대성학원점', '그라찌에', '카페아띠', '제이스', '셀그린농산킹콩쥬스엔커피', '테라스나인', '카야커피랩CHAYAHcoffeelab', '카페데플레르', '카페요이', '랭스터디카페', '카페마조앤새디중계점', '카페뉴트리', '카페씨내', '은혜카페', '썬', '플러터커피로스터스', '포춘', '커피오쩜일', '탐앤탐스송파위례점', '이디야커피마포KCC점', '카페고조', '백다방', '새들깃든겨자나무', '마을북카페행복한이야기', 'BREWNINE', '휴cafe', '커피업', '카페씨드니', '용휴게소', '라떼나인', 'lex', '홍익고수보이차', '그린토마토', '코스빈', '커피스테이션', 'CERULEANcoffee', '카페르프랑', '피치그레이', '티티까페', '까페일루시온', '에르메스카페마당', 'Pebble&RockCoffee', '2라운드', '죠셉의커피나무', '씨네스타커피', '커피앤', '예술의전당카페마티스', '더안페리스', 'IL카페', '캔디드샷커피앤브레드', '카페브레아', '브라보커피', '상구다방', '엔제리너스잠실롯데월드몰', '페이지그린', '라바짜SHOP', '희망카페', '카페코지', '까미오', '뚜르드카페', '까페레블', '달콤한나의커피', '폴바셋롯데본점', '이즈번', '설빙신림3호점', '딤테크', '알레그리아커피로스터스', '하우스까페', '보다더카페', 'Anscoffee', '카페허그', '카페원룸', '쩨', '카페514', '다크브라운', '탐앤탐스일원점', '슈퍼사이즈커피', '커피빈건대스타시티점', '다사랑까페', '블루커피', '토크인커피', '마카다', '이디야커피김안과점', '더피아노', '아인즈커피', '가배장이', '킹콩쥬스양재', '하루카페', '동네목수의작은카페', '커피온', '할리스커피청계1가점', '나의작은카페', '지북카페', '라스미어', '썸띵에스프레소', '키웨스트', '카페더케냐', '얀', '카페하비토모', '스타벅스양천향교역점', '티박스', '썸씽겟', '투썸', '꽃다방미스김&마리왕+', '본푸드서비스조달청카페일마지오점', '스타럭스캐스카페', '지중해커피숍', '도피오후레쉬', '지카페', '커피나무노량진3호점', '까페스텔라', '커피&옐로우', '토키오', '타르타르송파점', '래핀', '에프이26', '아비앙또', '수지스', '텀브커피강동성심병원점', 'hervecafe', '커피빈코리아대치포스코', '할리스커피올림픽프라자점', '비즈카페', '에이블', '보스톤킹휴게실', '토끼와거북이', '르미엘커피', '25카츠', '아미가라이브메들리', '카페그라운드', '마주보기', '베르타플라워&카페', '거기coffee', 'Cafedomodirvine', '떼루와떼루와을지로점', '엘빈', '에쉬본', '고마워요.오늘도', '오밀', '스마일꽈배기', '캠토', '스타벅스구산역점', 'LemonMeringue', '뉘블랑쉬', '리히트', '칼라커피숍', '스타벅스명동역', '카페낢진', '원효로커피', '까페라고', '카페베네장평점', '카페노아', '삼청동커피', '카페레니', '잎과콩', '공차코리아대치점', '도넛플랜트뉴욕시티', '오르페블랙', '쥬트커피숍', 'coffee13oz', '행복한베이커리&카페', '커피나무필동점', '서드포지션카페', '대익보이차', '커피빈코리아논현동팍스타워', '카페윈스타', '커피향머무는빈스토리', '카페하이몬드', '더스토리', '쥬씨신월이마트점', '라스베이글재화스퀘어점', '카페아미치', '카페콜롬버스', '카페베이루트', '카페동희', '인사동', '네츄럴웨이브카페', '커피다다', '로스푼티노', '에코브릿지커피', '더브레드블루', '에오스', '반지만들기카페', '쉐이크', '디케이174-4', 'SE', '마시그레이', '펠리스', '엔제리너스커피롯데시네마강동', '캐스카페', '조스타커피', '아티제', '맥아카데미카페105', 'Wells', '바나나하루키', 'Groundcoffee', '더브라운네스카페', '카페늘봄', '곰', '국수카페', '바닐라라떼', '그린잎카페두레대치점', '에이그레이트카페', '베네딕트영', '이디야커피마곡엠밸리점', '카페아이덴티티', '카페imt', '백만잔의차', '크림사주카페', '루프테라스', '세가프레도목동SMT점', '카페두다트전경련점', '토프레소고척점', '카페마마스타임스퀘어점', '커피홀커피홀녹번역점', '끽다거', '사랑해디저트', '유오디아', '디얼브라운', '존에프커피', '띵크커피압구정점', '더카페', '스타빈', '로뎀나무숲', '커피스트림', '스타벅스둔촌동점', '스터디카페위드유', '카페루카', '도투루커피', '드림커피', '하늘다원', '까페위드', '이룸푸드시스템', '제이니씨', 'CAFEEEPHUS', '르로프드', '볼라벤커피', 'ediyacoffee', '분더킨트', '아르디카페방배지점', '레드캣', '2080더커피숍', '반지캠퍼스카페', '네스카페', '자리자바', '컴포즈', '빈트리', '토프레소엔터식스한양대점', '쥬씨역삼상록회관점', '카페오로미아', '브리지데이커피', '로', '카페인프라', '카페자스', '카페루이석촌호수점', '광전다방', '서연리얼티앤카페', '참카페', '놀숲성균관대점', '혼노베', '투썸플레이스양재역점', '투썸플레이스쌍문중앙점', '이가커피', '커피문화원', '타베쟈', '쥬씨서일대점', '세원다방', '나눔카페', '카페힐', '까페호', '3안', '스타벅스세종로점', '카페902', '피자인카페', '블레스카페테리아', 'AEDA', '92C', 'Comportcoffee', '풍경달다', '이마트24시논현진성점', '네이밍카페커피GO!#20', 'HansCoffee', '다향', '샹티브아르,그런커피', '카페스타', '버스커', '카페라쿤', '지하실', '커피숲', '세인트존스', '수제달달', '카페사뚜', '닥터오빈', '커피볶는영다방', '실버카페', '허니스트', '빈공간', '미엘', '라일락', '펙그로서리,커피', '에이치카페', '커피앤버블', '빽다방중랑역동부시장점', '카페에이엠730', '노란손수건2호점', '일에레델젤라또', '별까페', '삼호커피숍', '카페문화', '우이천커피', '드립', 'JAZZ', '커피소', '커피앤드디스트리뷰션오브코리아', '언노운커피7', '카페임', '마빈스커피', '페이퍼북', '버즈', '커피마마', '잇커피', '아트79', '머스타시', '커피런', '더블유빈코리아', '조나골드B', '토파즈', '지트', '크레센도', 'COFFEEZIP', '커피앤컬쳐', '휘경1동작은도서관', '꿀바른단호박', '띠아모한양대학교점', '카페바움', '로찌커피', '공간이북', '다인', '엠커피&칵테일', '거석', '나이스인프라', '한국플러스말차팥차', '카페부라노', 'JULIETTE', '힐링차이', '그린', '리스커피생각', '카페에스크', '푸드카페앤그릴', '카페드빈티지', '태재커피', '더네이버스커피', '메이제이카페', '연세대JK베리너리', '행복한하루의커피', 'COFFEEBYSOO', '호감카페', '신성', '1층커피숍', '프랄린', '지니는이쁘다', '카밀라의놀이터', '위너보드게임', '프롬하츠커피하왕십리점', '수다카페', '철도공익복지재단', '스마트카라더카페', '더올리브', '맑은상회에프앤비', 'G7커피코리아', '할리스에프앤비마이컵오브', '카페흰돌&U주스', '커피테이크아웃공장', '카페리빈스', '카페베네서울대역점', 'WOULDYOU', 'Hi키즈카페', '파크15', '빈스코리아', '카페윤언니네', 'MINIM', 'olentio', '강남오토스퀘어', '브이커피', '차민정씨', '보니떼', 'CAFEMERCI', '커피보이', '그룬트커피', '에피소드3', '커피컬처', 'cafeVIACE', '정드림', '마이베네핏', '베버리지랩', '안녕', '티라레미수과학기술대학교점', '커피빈대치동나무병원점대치동나무병원점', '커피스튜디오팍종이', '토리노', '반스커피', '고양이다락방강남점', '어반커피', '더나우커피', '3.15타이완카페', '비타민', '카페피오레', '할리스커피가산디지털단지점', '더리얼', '알랙산더501', '퍼블리크LF동관점', '까페2000', '카페글렌공덕점', '끼리끼리', '휘드까페', '포에버', '탠저린', '알토란', '노리터', '쥬뜨', '카페프라터', '존화이트', '매그놀리아', '작은카페', '커피잔속에테르', '커피지', '가을커피', '진커피숍', '스타벅스역삼역점', '뉴욕핫도그&커피', '원보드게임방', '카페유니', '그린문', '로얄호스트', '파넬커피', '커피엔드에이', '뭉치치카페', '몰입', '소양다방', '코코버블티', '카페함크', '카페레즈', '카페데스티니', '클럽바리스타', '티모커피', '스노우볼', '에피그램커피', 'CATEGORYA고양이카페', '쁘띠므띠', '핑크마운틴커피', '송파경찰서송파카페', '커피할루카', 'Studioyilee', '책읽는마을북카페', '커피빈삼성로점', '코이코히', '카페로플라대치천사점', '커피공감', '머랭아뜰리에', '엠엠티에이치010', '그라데이션커피', '이디야커피점', '더델리', '핸즈온캠퍼스', '한앤둘', '빽다방커피', '팥미옥', '카페반할라', '셀카페', '이따르뜨사당점', '수레', '이디야사러가', '민화랑', '테이크아웃커피', '라떼', '주스에비뉴', '에스프레사멘테일리', '해리스커피', '이디야당산', '백호만신당', '일젤라또', '제임스베리', '206COFFEE', '커피빈코리아서초역1번출구점', '까페시모', 'ZIP', '공차트윈시티점', 'cafeHoo', '은하수다방', '빽다방청담영동고점', '헤븐리가든', '쉬어가는모퉁이커피한잔', '몽글몽글', '카페요거프레소', '카페아쉐르동여의도점', 'coffeeroasting', '카페곁', '미노르', '미스터아메리카노', '부름', '이상한커피', '투썸플레이스쌍문역점', '메인즈MAINS', '매일봄카페', '라우렐', 'BMMcafe', '오스코네', '까페봄', '스몰커피', '노아커피', '카페클라라', '뷰코', '엘본그랑카페', '플라시보', '커피그리기', '요고요고', '별별다방', '더체어', '라일락다방', '제이시커피', '굿모닝커피숍', '디촐콜릿커피앤드상암YTN점', '에띠임프리미엄라운지', '아이디어팩토리', '커피킹', '메가커피고대점', '오엠', '종로커피집', '비엔나커피하우스', '일이COFFEESHOP', 'Eliot', '커피빈코리아낙성대역점', '포엠하우스', '카페통인', '베데스다', '팥이재', '헤이쥬', '카페알파', '베네핏', '케틀커피', '카페제피러스', '쥬씨동부시장점', '소프레소', '쁘띠하우스', '잉카', '아이엠씨', '심플카페', '달콤한카페', '또봄', '카페스토리', '양카페', '카페곰퀼트', '라보카', '삼양커피숍', '크레이저커피', '프랑켄모노카페FRANKENMONOCAFE', 'CoffeeGongBang', '그린오븐', '우리동네마곡일등커피집', '뽕다방뽕커피', 'S-카페', '카페클로버', '커피볶는김여사', '하늘꿈', '리스트레또', '나이스투밋츄', '투제이커피', '설빙청담공원점', '몽듀', '공장', '블리커167', '메디칼드림', '카페점보', '본스커피', '이카페', '화곡동커피', '퍼피앤커피', '블럭아트', '에도', '뉴달콤', '을지싸롱', '앤크레마', '신라다방', '카페아로파', '젯스디앤디헬로키티카페신촌점', '서나커피앤타르트', 'Igoteverything강동구청', '라루', '카페돌담콩', 'cafePERA', '카페트루칠로', '커피앤북스', '퍼피커피', '새천년', '요이5', '보드스쿨', '카페세라', '로스팅반커피', '서울모드', '슈엣', 'TOBIAS커피', '라심', '미스터카페', '위너커피', '오가다안국점', '일상다반사', '라이브카페7080삼태기메들리', '명온열앤힐링', '엔월52', '코너로스터스', '인텃매니아휴계실', '한마음커피숍', '키스더티라미수신당R&D센터점', '카페휴', '프라빈커피앤데일리브레드', '스타벅스남부터미널2점', '마운틴뷰', '토프레소역삼점', '기술자들커피랩', '도란도란', '셀렉토커피양재극동점', '더치앤빈신수점', 'BILLYANGEL', '경동커피숍', '대익인터내셔날코리아대익', '씨타델커피', '디자인60', 'CAFEGUMAREON까페구마리온', '바른차생활', '로지커피', '피카소', '커피식탁', '커피냅로스터스연남동', '디스커버커피남산', '바리스타엘리', '지베르니', '아이드라이브공차', '이승커피펙토리', '자카페', '24h스터디모임카페', '뎀셀브즈', '가영', '브라하', '호우', '우리동네노리터', '리베카이', '옥다방', '카페더블유', '카페지', '뚜또오케이', '카페아지토', '카페그랜드볼룸', '모나코', '네스카페디엠씨상암', '카페리노', '체화당', '더카페밀알아트센터점', '까치산커피', '달팽이', '삼맛호오떡', '빽다방노원역북부점', '수묵채카페', '카페조', '니어마이비카페', '허니브레드카페', '커피디셈버', '뉴욕47번가', '만리헬스카페', '베라커피', '엔제리너스삼성백암아트홀점', '힐링커피', '라마레따', '이레커피', '카페05:59', '오피스알파', '로뎀카페', '커피빈코리아상봉역점', '벨젬', '욜로케이크', '플로릭카페', '오네스토커피', '2ro2ro', '빽다방한양대점', '도형창작', '제스트', '세븐데이즈', '러브수', '갤러리라운지카페', '케사미고', '이안커피', '빈플라워', '가스펠', '탐앤탐스신도림테크노마트', '빈투빈', '약속커피숍', '카페다임', '커피자리', '델리롱', '스마트카페', '커피브리스톳', '카페사투', 'CounterCultureCoffe', '만땅커피', 'LEBEAUTEMPS르보땅', '사이앤코', '퍼블릭캠프', '마리웨일마카롱상암SBA점', '커피디자인', '카페오호', '프레시홀릭', '천호977', '슬로우커피1012', '카페푸릇', '이랜드레저비스더카페웰츠밸리점', '디자인커피', 'J커피', '와우크림', '카리부', '선인', '아미엘리소호앤노호', '떼일로사업본부', '소원나무', '삼성웰스토리리아체생명', '까페IMA', '허형만의압구정커피집', '보나르떼', '커피베리', '큐풀러스', 'G선상의커피', '브라운브레드커피', '큐커피향', '테르프로미즈', '단수이대왕카스테라', '손수다', '커피공방날', 'ARAROASTERS', '길보드커피', 'GS25연대서문', '플래그쉽', '오초록', '칼리', '카페베네무교사거리점', 'BUBBLETREE', '달콤커피삼성', '카페루스터', '역촌동커피', '까페꼬모', '톤즈커피Tonzcoffee', '펭귄마카롱', '에프터눈커피', '쥬씨동덕여대점', '스트릿츄러스', '카페칸타타', '파스쿠찌커피', '랠리까페', '컴온', '매머드커피묵동자이점', '스타벅스숭실대입구역점', '카페루이스테이블석촌점', '스타벅스공덕', '뚜르비옹', '로컬커피', '투썸강서', '빈스앤베리즈갤러리아포레점', '카페시벳', '하우', '세븐스프링스카페', '고디바', '아이센스PC', '카페가또CAFEGATTO', '빽다방서초우성점', '유올', 'STAGE9', '포비베이직', '커피씨', '루나루즈', '나너다방', '스타벅스종로관수점', '엠부띠크', '땅콩', '카페오가다롯데월드몰', '마노핀', '소정공방', '우림', '에프엔제이커피', '베리후레쉬', '썬휴게실', '커피빈코리아상암동SBS', '엔제리너스둔촌D/i', '짱커피', '맥켄지커피', '에이쓰리아카이브', '비타민청춘카페', 'JS커피', '빈사이드', '카페호미', '콩당콩당', '보떼가젤라또', 'coppercoffee', '청담음', '커피빈코리아삼청동점', '커피빈코리아여의도순복음교회옆점', '이야기보따리', '커피스트', '카페스텔라', '탐앤탐스한성대점', '라임팝COFFEE', '커피,와+,버블티', '코코몽', 'DETOXI', '에어건빵건대점', '엠케이세븐', '카피시모서비스', '보통커피', '셀렉토커피방이초교점', '자작나무이야기', 'Toocoolforschool', '설곡랩커피로스터스', '커피하우스101', '도도세라믹카페', '띠아모커피강서구청사거리점', '브로스버블티', '통툰만화까페', '한일다방', '카페바른생활', '웨이크컵', '보보커피', '아이크스커피더퍼스트', '넥스테이블메종드크레페', '커피라움', '까페마또', '모모카페', '카페토다', '놀숲둔촌역점', '카페미르', '빽다방월계광운대점', '불독커피건대점', '이디야커피삼성봉은사로점', '디핀커피', '체리커피', '크레이지초코', '와플반트신총현대점', 'JASS', '에싸임', 'CACAOBEAN', '정동클럽', '렐라', '이타', '카페촉', '장미맨숀', '유한테크노스커피프린스종', '커피스미스', '랩정다방프로잭트', '더베이직커피서울본점', 'NINECOFFEE', '카페샤인', '스타벅스강북구청사거리점', '카페아마떼', '한국보바랜드커피', '카페리앙', '쿠보커피', '커피스미스군자', '브레쉬에비뉴', '재회', '메이커스', '차향기', '애니팡팡', '이즈까페', '79THELAB', '커피수작', 'cafevent', '까페본동', '카페윤', '신세계', '스타벅스신세계본점', '파시야', '다온카페', '작은사치', '커피좋아', '까사커피', '욤토브', '까페모나티', '투캅스', '카페릴라', '별별상회', '성공커피숍', '킹콩쥬스&커피', '툰앤존', '판테온커피', '힐링카페멘토', '영자클럽club석관점', '달콤한커피방앗간', '데니보이', '카페인스페이스', '두블르쥬', '카페니드', '커피공작소', '고디바아모레타워', '카페씨에스', 'JK잉글리쉬하와이안카페', '701호', 'THECAFESHEENBANG', '컬쳐트리', '꼬메노', '탐앤탐스홈플러스강서점', 'CAFEFLOFFEE', '로그커피로스터스', '에이탭', '웰빙전통차', '뚜또에스프레소', '베짱이COFFEEZIP', '네스카페청담알로프트호텔점', '카페아트리움', '더치빈', '마라나타', 'COFFEEBOX', '카페레인', '카페벨라노이', '더나눔커피', '로타리다방', '행운의집', '마체베트카페노량진점', '행복플러스가게', '백스커피', '블랙PC카페', '슬로윗카페', 'Cafe622', '에네스', '수목티', '마일드', '로뎀나무아래서', '카파', '사주&타로', '아임유어커피', '카페402', '꽃카페프리플로', '커핀그루나루신도림역점', '브런치팩토리', '수선카페', '커피지아카페', '폴바셋신세계본점2호점', 'Cafegran', '탐앤탐스영등포', '삼거리', 'Croo:n', '베러덴와플', '사조직판장', '마먕갸또', '카페105', 'CNC', '커피탕', 'ISSUE', '푸드까페다와', '카페눈코입', '10센치', '카페리화인', '포인트힐', '이디야노원사거리', 'imp', 'MARU', '숏컷익스프레스', '3pop', '맛차차', '이지커피', '오가다대륭1차점', '카페책속의한줄', '카페비엠엠', '린다린다린다', '희차', '발롱카페', '행복한수플레', '사주타로', '나비컴퍼니', '도피오', 'UBLOSSOM', '야옹이네책다방', '씨엔엔카페한양대서울캠퍼스', '카페에피톤', '달보살롱', '빽다방압구정로데오점', '악스카페테리아', '커피베이한국관광공사서울센터점', '다락방고양이', '셰프커피', '카페심플리굿', '포트오브모카장안2호점', '이송카페포차', '눈', '그린비', '라이스팩토리', 'TheAkoffee', '디저트연구소', '커피빈코리아포스코옆삼성로86길점', '라티노', '10꼬르소꼬모카페', '퍼니플러스멀티방', '갓볶은커피보그너커피', '토즈모임센터건대점', '아마스빈은행사거리점', '삼무곡', '아카펠라', '매머드커피여의도S점', '더치터치', '85번가', '킹콩쥬스앤커피', '카페타우', '다실리', '홀릭카페', '어퍼스트로피에스굿테이스트', '아리스타커피선릉2호점', '착한카페', '일리카페잠실아이파크점', '스타벅스이수역사거리점', '매스커피', '띠아모쌍문동점', '컵오브티', 'CAFE95', '첼로', '앤커피프랑크', '캐리마켓가로수길지점', '와플대학', '올리버브라운여의도점', '또또', '카페쎄리오동국대원흥관점', '24시만화카페', '쥬씨창동점', '42', '런던바니', '빽다방청량리역점', '테라하우스', '서울만남의광장휴게소할리스매장', '리필커피', '아마스빈버블티', '벨루카테이블', '양재천커피볶는집', '카페데리오', '원두볶는사람들', '삼형다방', '청운동콩집', '라떼뜨', '매뉴팩처', '엔젤리너스롯데피트인동대문', '베브릿지중앙대점', '스타벅스신대방삼거리역점', '땡쓰네이쳐', '노들직녀카페', '아방가르드카페', '카페트S.N', '카페단테', '커피빈코리아강남역142', '산머리차방', 'ZAKOC&W', '코나빈스신월동점', '카페드림', '건대포토카페프린세스', '광개토관스카이레스토랑찬', '북해빙수', '카페더뮤즈', '원커피숍', '스미스바니스페셜티커피', '차콜로스터커피', '쿠카쿠커피', '커피스푼', '푸드카페퐁당', 'waffle&coffee', '카페언더24', '커피빈코리아강남역먹자골목점', '커피공장2010', '킴메이드', '카페엘', 'CAFE가끔', '카페그린빈', '루이루스교보문고', '더카페중계홈플러스2층점', '해브커피', '샤인커피숍', '맘스빈', '봄날', '바나나유', '싸가지삼촌', '토스피아', '디자인스토리', '델트렌', '커피온정', '참스카페', '오시정삼청점', '커피베이상도파크자이점', '커피인트로', '압구정북카페', '스타벅스화곡동점', '지유명차청담점', '8stcoffee', '미스에이드카페', '카페토이스토리', 'Coffee', '엘리커피', '바스크', 'CABANA', '커피랑도서관', '민속찻집', '와리터경희대점', '은경', '탑커피숍', '지임커피', '리둔주식카페', '에스프레소6230', '봄봄테이크아웃', '헨델과그레텔장충점', 'KCOFFEE', '카페에클레시아', '라콜롬브코리아', '내마음속의미니벨로', '이디야커피선정릉역점', '오혜', '이루리', '가온누리', '합동휴게실', '도무스커피점', '둘세', '티모시스커피코리아', '카페베네마포용강팰리스', '커피에설레다', '카페마미', 'COFFEEBAY', '이랜드파크외식', '모퉁이', '카페범CAFEBEOM', '독일카페', '카페네스카페', '하나빈', '청담웰컴센터', '푸른풀밭', '펠어커피초코강남', '닥터로빈목동점', '파라다이스커피', '영락사회복지재단', '클래시파이드555', '까페목요일', '빈투커피', '더블유카페송파점', '커피애드립', '만화카페툰', '까페마켓', 'MONCAFEGREGORY', '디에이치앤카페테리아', '카라&엘리사', '롤리팝신림점', 'TABLE88-2', '카페레알빈', 'Lafuma북한산점', '스커피', '쁘띠아르브르', '슈퍼문', '다쿠아랑', 'TOPRESSO교대역점', '키커랜드', '신림곰미커피', '카페테르', '푸르츠젤라떼리아', '캐리키즈카페', '쥬스로', 'MMTH', '썬빌인사이드', '카페우디', '에스알피커피', '커피팬', '엠엠티에이치123', '데니스커피남강점', '5500012Caffe', '크리미몰랑', '더블유더블유더블유', '강동빈스토리', 'TWOSOMEPLACE', '카페꽃집', '커피랩세아점', '씨걸', '케키하우스', '칸타타', '바글', 'Coffeewith', '카페꼰띠고', '랍슨', '더메디라운지', '스포애니불광역커피마마', '패션5제이미하우스', '리틀제이콥스프리미엄', '따호카스테라', '팡세', '미작', 'J&J로스팅샵', '퍼센트', '수정다방', '스마일머그커피', '하나미즈키', '커피베이마포용강점', '카페속작은가게', '미스핏츠', '프레쉬컵커피', '말리커피강남점말리씨앤브', '피에로커피', '반미팩토리', '카페더즌', '타맥', '유니버셜커피', '소울36.6', '고또카페GOTTO', 'MINOSCOFFEECULT미노스커피', '오븐앤', '메이린카페', '지인', '저스트브루드', '모뉴먼트', '까페T43', '빽스커피', '디디드립드림커피', '제이엘디저트바', '카페아모렘', '까페로움', '키즈카페디보랜드', '메구스아로마', '스테이지28카페', '리더스스터디카페', '스트라다146', '비플라워카페', '썸카페', 'jangel', '뷰티플건강&coffee', '율리아청', '더공드리', 'kinfolkscoffee', '1988coffee종로점', '카페라맘마', '오복다방', '리즈앤틱', '잭팟잉글리쉬', 'cafe연', '카페베네방이사거리점25일', '애견카페바우하우스', 'CafeONNA', '예향', '헐리우드코리아', '롯데씨티호텔김포공항점씨카페', '피티카페', '김밥까페', '파시당', '카페수프레모', '아마스빈행당점', '빈스바네스청량리점', '디초콜릿커피엔드', '영화카페', '오후카페', '까페3.14', '폴바셋여의도롯데캐슬점', '빽다방구로시장점', '커피8온스', '카페173', '가화', '스타벅스가든파이브', '스페이스엠', '까눌레드꼬레', '우자매', '카페아쿠아', '커피스누퍼즈', '카페제스트', 'FRUITSPOP', '남산', '디스이즈커피', '페르마타카페용산점', 'laac', '기센코리아', '카페나루', '호텔볼커피숍', '식스뷰리팁스', '리스카페엔엔', '커피반하다', '나이스데이', '토리돌코리아라나이카페', '리얼리티리플렉션', '이디야커피논골사거리점', '그랜파키친', '커피에이엠', '알라딘중고서점커피', '동원다방', '티하우스', '메디찌커피숍', '컵오브커피논현', '슬로시티', '커피101', '카페두루', '헬로빈스', '스타벅스공릉역점', '바리스타카페', '달콤커피송파중교사거리점', '맥카이하우스', '키즈팡팡구산점', 'ELLE커피숍', '커피스토리', '카페코드', '베스터디', '커피베이동서울터미널', '언덕위에카파', '트윈커피', '벌스가든', '웨이크업커피', '드립앤더치', '카페엠플러스', '아고라커피', '바리스타마르코악쓰는하마', '릴리온커피', '카페단지', '카페제르보', '카페하이', '자상한시간', '끌리앙', '모짜르트카페', '라운지카페', '토굽스커피', '마이파티룸', '카페D55', '코즈모갤러리', '말리커피', '로얄1번가커피타운', 'MAINZCOFFEE', '화동커피', '카페서로', '메일라드커피랩', '콥스', '커피클릭', '팔칠', '여의도KBS오가다', '다뉴브', 'CNNBIZ', '국제강화유리문전동샷다방범창방충망', '칠요일의케이크', '청구성심병원점', '까망콩', '올포유키즈카페', '마빙', '와우이레카페', '카페아페토', '커피러브', '커피역', '카페방방', '더치인', '양과자상점', '커피앤썸', '헤어네이쳐스케커피', 'Coffeednaroostingcompany', '새우개카페', '더퍼스트무브먼트', 'HELMUT', '블럭하우스', '두젠틀', '오로니아', '작은거리커피', '구름나무콩', '더싸가커피', '클립에스프레소', '제프리스아카데미', '자올카페', '스테이지9더치커피', '자몬', '밀크다방', '타로카페드뷔시산장', '팡뜰리에대치점', '본커피', '프라이데이무브먼트', '카페그림', '우결사주카페', '카페구로', '서울대학교병원휴게실', '민트레빗', '에이림', '오엠지도넛', '명', '가배연', '손다방', 'CAFE호우', '두렵지않은사랑라이브카페', '매직큐브카페', 'M플레이카페구의점', '스타벅스서교동사거리점', '커피바이러스', '아인', '디노월드', '스타벅스강남우성점', '해바라기', '콩자루', 'EspressoJin', '인비트원', '미루카페', '프티페티', '나눔', '레이앤크림', '라인프렌즈가로수길점', '인투커피', '곰미커피', '세라비', '옹헤야', '우지커피', '디어플라잉팬', '카페라푼젤', '노는카페자리', '모베러블루스', 'cafedyna', '빈스빈스', '서루당', '커피더캠프남성역점', '24시프리카페신림점', '꿈북카페', '삼봉-빠', '자바카페', 'AristaCoffee', '휴세코', '밀라노', '벨루토커피', '커피밥', '할리스커피노량진', '르땅커피점', '신일다방', '심리카페COM', '황생가', '투고커피박스', '카페1997', '카페러빈', '매일유업', '카페아크', '티가렛올림픽공원점', '쥬씨덕성여대점', '소셜테이블', '패트릭스와플', '다락방', '아라코북카페지점', '제이스커피나', '빽다방동대문역점', '라온커피인터내셔날', '여성건강카페화음', '까페렐리', '파리크라상파스쿠찌신촌연', '토아', '스노잉합정점', '스크롤', '프리아스', '미스터힐링', '커피앤커피', '카페달썸', '띵크커피코리아THINK', '쥬씨신도림디큐브점', '황다방', '쥬시동서울터미널점', '더코너', '에스프레소플러스', '아니스', '카페홈', '더카페월곡2호점', '카페빈둥', '갤러리카페레스토랑아델라베일', '그린하우스', '초코와커피', '커피인하우스', '듀이', '조니뎁스럽게', '키나카페', '꽃동산까페', '커피빈코리아논현2015번지점', '메가커피신도림역점', '모이슨', '엔237카페앤베이커리', '가베5225', '고이', '안다미로', '카페안토니오', '그레이', '카페마루니', '네추럴카페진락서초아르누보점', '커피향', '예스커피', '카페원두마크CAFEWONDUMARK', '카페꽃피는집', 'Wecafe', '소소한일상', '데코르', '더프렌즈카페', '도렐', 'Cf', '아라비카클럽', '요거프레소방학2호점', 'ave커피', '아스팔트커피로스터스', '백련다방', '퍼니펑키슬라임&폰데코&초콜릿만들기-', '카페작은자리', '탐앤탐스난곡사거리점', '블링엔젤', '가네샤사주카페', '커피502', '카페오작교', '더치즈케익', '뉴욕핫도그앤커피서울이대점', '카페알레', '끼니와끼니', '블랙앤트리', 'SELECTOCOFFEE', '스타벅스중랑구청점', '실로암커피숍', '메가커피수색자이', '스타벅스가산디지털단지역점', '영화에빠진커피', '점핑파크마곡점', '비8-2커피', '브람스', '왕실', '베이커리카페데쏘', '카페자작나무', '스타벅스약수역점', '랭귀지랩', '우즈오븐', '풍뎅이의숲', '커피코트구로벽산7차점', '보타니크', '화이트엔젤', '케이젤라또톡', '커피니덕성여대점', '파리크라상파스쿠찌홍', '커피지애', '로우커피스탠드', '커피IT수다', '까페핸드', '마가렛', '카페바우', '예일타운커피랩', '공짜카페', '커피빈코리아삼성오크우드', '에프엑스커피', '빈스로드', '밀크홀1937', '죠스샌드위치앤커피', '씨132', 'REALROASTING', 'MONSTERSCAFE', '해브언아이스데이', '여기인가', '설렌다방', '카페젬', '컵안에버블', '휴', '중심', '도봉주르', '클라우드나인', 'COFFEEAVENUEPUB', '몽탄이네M&THOUSE엠엔티하우스', '쥬씨성수아이티점', '델리로티', '엔타스카페테리아', '디저트39거여역점', '앙쥬', '카페베네연세대학교의료원제중관점연세대학교의료원제중관점', '파파앤번', '산다미아노', '블루펄호텔', '모노치즈이대점', '마리아커피', '커피공방/에이치엔씨아이', '카페커피상상', '에이미스커피', '소담까페', 'CafeSopia커피볶는집', '서룡씨앤케이코와핀청량리', '무비빈스토리', '유진다방', '플럼파이', '갤러리하이', '예카', '카페몽', '음성골만두카페', '밀크앤허니마포공덕', '라일', '산도', '슈퍼커피팩토리', '어드벤처스튜디오', '하바나커피', '골목길다방', '그라찌에경희대행복기숙사점', '빽다방논현본점', '까만콩나무', '달보드레', '슈가크림커피', '인도풍좌식카페', '카페쉼', '스타벅스예술의전당점', 'IF커피전문점', '커피라인', '커피보니또', '웨이즈오브씽', '무드벨벳', '비스트로33', '비오는가을아침', '노유민코페', '르페', '블루미시티', '오설록현대백화점무역점무역점무역점', '아체커피', '플리즈커피추계', '눈꽃여우대흥점', '마피아디저트', '엠커피', '카페커피씨', '제니스까페', '드노피', '블루하임', '와플에셋파트너', '지파시', '설나루', '카페동네', 'NEIGHBORHOOD', '갤러리나인티', '땅뜨', '프리즈커피', 'monceau', '커피만컴퍼니', '뜨레', '트리커피', '캔모아대학로', '카페일치프리아니', '더로스터리샵', '카페와사진관', '카페드온', '커피를만드는사람들', '투썸플레이스송파CGV점', '메종르베이지', '커피온리', '밍구케이크', '이화행복', '파티시에', '콩아의카페공간', '새날스토리', 'CafeLouisvis', '스윗레시피', '플랫', '더앨리', '커피마마예술의전당우리집', '매직샵', '첼바', '브라운하우스커피', '데라스카페', '코이스터디카페', 'coffeesharp#', 'Cafeair', 'LEMIELCOFFEE교대역점', '보아스', '카페그루', '오곰커피', '메종드허밍', '젤라또랩', '아마스빈코리아목동파리공원점', '카페모퉁이', '또또커피숍호프', '허니크림', '카페루앤비방학점', '쥬씨도깨비', '중심가', '필그림', '역풍', '종로강남한의원식품사업부더쌍화', '청주오믈렛', 'B', '커피202', 'CAFEYBEANS카페와이빈스', '소통과공감센터', '카페필림밸런스', '아마스빈구로점', 'T.HILL14ST', '안나비니카페', '수제모찌', '보타닉커피', '수수가든카페', '발코니', '제로커피', '카페알토', '커피,생각날때', '카페더레드', '라리', '검프', '북카페리비', '카툰공감성신여대점', '강동꿈드래마켓', '투썸플레이스선유도역점', '클로리스', '에셀카페', '카페완츄', '고디바_', '커피드코리아', '닥터스커피', '만화카페통툰', '어거스트준', '바리스타마르코마곡엠벨리점', '카페N258', '도이창', '루브앤카페', '카페까망', '느릿느릿', '더카페피씨존', '란커피', '카페말로덕성', '매드폭스커피', '쥬씨강남구청역점', '오마이팟', '무인양품', '에이치에스', '톨릭스', '엔제리너스서울대입구', '부팔라커피', '부두아', '르와지르', '루스티끄', '페르에피스', '다카페', '청구성심병원', '도쿄빙수익선동', '한국커피협동조합', '카페빠숑', '빽다방종로관철점', '남스카페', '빈즈에비뉴넘버원', '파리크라상파스쿠찌도', '아꼬떼', '카페DHMC', '커피베이불광점', '맥심플랜트', '더치앤빈가산디폴리스점', '카페벗티', '아웃트로', '시드누아노원본점', '메그리즈', '언클후니스', '코코엔허', '핏', '아르봉봉', '위카페', 'MUNCHBEANS', '상티비투썸플레이스가산대', '무티', '정글주스', '갤러리힐링카페', '3업플래너', '카페양화', '진심코리아', '커피코마', '카페베네홍은사거리점', '그린커피호프', '디지털놀이터', '원빈-Onebean', 'ARTMAJOR', 'cafscoffee', '디초콜릿앤드고대구로병원', '와플클라우드', '공차구로디지털2호점', '목동커피', '카페띠모아', '투썸플레이스금호하이리버점금호하이리버점', '수메이트', '인터카페', '브룬', '투썸플레이스금호하이리버점', 'florowsandcafe', '까페부에노', '오하이오옥수', '롯데리아엔제리너스잡지회관', '로미오아저씨커피', '더엠디저트카페', '판게아', '카페베네미아사거리역점', '성명다방', '카페하네', '트레프푼크트', '봉트랩', '달과6펜스', '커피빈코리아위례2차아이파크점', '마을가족카페너른마루', '언제나커피', '커피더주다', '월드컵공원연못카페테리아', '카페로빈', '커피하우스비', '하트츄중계점', '르씨엘', '봄빵', '사이베리아', '티아라쥬얼리카페', '꿀잠', '제이제이커피', '유메미루', '로디오븐', '카페솔리데오', '아웃스탠딩커피지향', '백미당뉴코아', '커피유기농박사', 'Mr,Breeze커피', '키라키라히카루', '더베스트커피', '95도CCOFFEE&생과일쥬스', '엔에프에어커피라운지', '파트너스', '황칠가힐링샵', '안다', '커피셀러', '버블살롱', '카사레쵸', '누아네', '모범시민카페', '앨리스커피하우스', '환기미술관휴게실', '스마일커피숍', '커피에반하다신림역점신림역점', '카페in중독', '강남고양이', '카페서드에비뉴', '클레오', '앤드하리', '카포라보로', '투더디프런트', '바모스시청점', '마더구즈', '블렌드13', '커피다락방', '이디야커피신당중앙점', '스테아', '앨리스케이크부티크', '더백설기', '해리스', '시간이흘러', 'JAM', '연희카페', '카페빅스케일', '힐링카페오', '자바씨티코리아', '스타벅스대치은마사거리점', '어쨌거나1MM', '페라커피숍', '예화', '정글커피로스터', '카페아모르', '배냇', '나와나타샤와흰당나귀', '멜로워', 'ONESUGARDAY', '렐란디', '화음', '리에또', '꿈꾸는씨앗', '커피샵', '커피앤스모킹', '보문', '미정커피숍', '빽다방망원시장점', '프로즌빈', '와이힐', '카페뜨란', '떼루와중랑점', 'CoffeePOP', 'METASTUDYCENTER', '사루비아', '마노핀어린이대공원역점', '투웰브바스캣', '돌체라쎄라', '파코', '몽크로스', '영앤핀치', '세컨드브레스', '리트웨이커피연구소', '로미오와줄리엣', '산옥커피로스터스', '구대회커피', '스타벅스회현역점', '까페팰리스', '카페모나티', '피어까페', '프렌즈', '디어파인', '소호', '우리카페', '쎄븐스퀘어', '조각커피', '마리웨일', 'MSCCOFFEE', '착한커피', '커피헤븐', '부에노커피로스팅', '씨에스타커피', 'AcKiss', '김종영미술관카페', '윤s커피', '엔제리너스잠실1점', '씸플십커피', '단조', '감로수커피', '카페라떼떼', '오까페', '카페컬리넌', '카페있떼', '브런치업', '세븐스웨이브성균관대점', '젤라리소', '컴앤드씨카페', '블랑', 'JS카페트', '스타벅스신천역점', '본초맘죽&coffee', '원팩토리커피', '카페.사부작', '포도나무', '비쥬블랑쉐앤올리비아하슬러', '씨제이푸드빌콜드스톤크리', '최신마미', '디케이컴퍼니커피휠coffeewheel', 'CAFEJUICY', 'SuperCoffee', '쥬씨포스코점', 'CafeDen', '아티제강남점', '아모르카페', '다트프린스', '고구마', 'ATTIORE커피나무', '슬리퍼456', '더느린카페', '케이원커피', '아리스타커피숍', '메드커피', '씽크어바웃커피', '퍼스트클래스', '카페레즈로스팅하우스', '마앤나', '꽃샘커피', '갤러리사진창고', '독수리', '구타오쥬스', '떼루와종로3가점', '카페더블컵', '이화', '연지다방', '비엔나커피하우스협동조합', '커피낫유얼스', '음대카페', '숙커피숍', '커피빈', '뉴욕다방', 'cafe74℉', '물오름달', '행복한이야기', '안테스', '플로아', '도로시', '마이쥬카페', '스무디킹코엑스2호점', '사주명가', '보바타임', '카페래빗', '플랜브이', '하겐다즈', '후르츠마마', '프롬하츠', '키다리아저씨', '비온후', '카페룽고', '잇츠리얼타임카페', '카페누', 'Coffee#', '카페컴온광화문점', '성곡미술관카페', '북아현마을북까페', '커피복음', '베베커피로스터즈', '경이로운', '희와래커피로스터스', '아쿠아플라넷63카페', '커피베이구로디지털점', '제이카페', '옻칠갤러리카페', '이광수별장춘원헌', '카페지브린엠', '웨이타미하우스', '카페마호우', '꼼지락커피하우스', 'VOGUM', 'FluffyMountain', '키다리커피', '네오베네하우스', '탐앤탐스아카데미', 'PitaPat', '커피볶는김판다', '별하', '소소', '몬스타커피클럽', '카페모', '쥬씨난곡점', '딩그루', 'CAFEJ카페제이', '폴바셋강남구청역점', '카페하나비', '노박주스', 'THE봄', '이디야충무로3가', '52랩', '종로서적휴게실', '투썸커피세종로점', '타미하우스커피', '비단콤마', '플로렛', '자바씨티커피코리아', '쥬씨시범단지점', '카카오썸', '코레일유통커피앤스위트', '우후루', '가비커피', 'coffeeplus+', '고도', '제이씨엑스', '티포투', '모아아트', '놀숲북카페', '코레일유통공차코리아', '제뉴어리피크닉', '화이트베일', '씨제이푸드빌', '커피베이종암점', '프라시아커피', '좋은씨앗', '블루노트커피', '커피포에버', '이디야에스프레소', '미리보기', '마체베트', '상록수', '엘쥬쥬디저트', '커피몽', '헤븐카페', '까페모임', '청과다방', '카페오즈', '세븐몽키스', '커피향기', '아티온', '베이글카페', '모카하마', '길리안초콜릿카페롯데월드몰점', '미니까페', '티라레미수강남아이파크타워점', '커피나라매일유업', '투썸플레이스포스코사거리점', '제이스카페', '커피하우스반달', '달콤커피범산구로디지털단지점', '쎄렌디피티', '오뚜기상조회오뚜기센터점', '비발디', '헬스바', '섬씽엘스', 'TRAUMCOFFEE', '카페안다미로', '피나포어25', '퍼블리카.PUBLICA', 'PUESTO', '애플원두커피점', '카페예스플러스', '카페르뷰', '투썸플레이스선릉ING점', '빅다방', 'Dancindolphin', '코코무드', '김밥카페', '커피볶는나무', '써브웨이', '플라페', '사계절커피', '런던티', 'Ka', '아보', '아르카디아커피컴퍼니', '보이차사랑방', '홈데코아티제', '커피빈코리아천호역점', '보나비아티제여의도', '포룸', '카페화실', '만남커피숍', '좋은하루', '마시그래이', '실라커피', '아침해가떠오르는땅', '로드앤커피2.5', '더카페교대역점', '오씨타임', '애플짐주스바', '제노피씨카페', '과일다방', '이너모스트', '아모레', '플라이디어', '퍼블리크라움점', '갤러리홈즈', '주스집', '비앤시', '라시쓰커피', '라퓨마보드게임', '카페메죠', '이디야역삼역', '폴바셋구로G밸리몰점', '커피의향기', '푸드파이터', '쿵짝쿵짝공작소', '커피빈코리아테헤란로하이', '엔제리너스커피카페앤다이닝석촌호수D/I', '몽크르스커피', '그래스하퍼인터내셔널', '승일푸드', '로시망고', '전통찻집이담', '내카페', '정지애', '토프레소연신', '커픽', 'Y.M커피프로젝트', '로이스홈카페', '로즈버드테그아웃', '쥬씨가양대교점', '오리지널팬케이크하우스이태원점', '떼오도르한남', 'Bally', '더커피빈앤티리프', '나일카페SO', '유니온커피마켓', '정우커피', '낙랑파라', '로비', '현스티', '아르티시카페', '킹콩조아커피', '커피팟', '커피홀릭', '카페빌리', '만랩커피', 'DESSERT39', '중앙커피숖', '커피메이드', '비티엔카페', '밤차', '투썸플레이스종로구청점', '말리커피이태원점말리씨앤', '행복커피', '마이톡스', '공차가산디지털단지점', '쥬씨상일동점', '카페제이더블유', '랄라', '하늘정원이야기', '커피투마로우', '무민샵', '터미널다방', 'deomelette', '예뜨레', '팔공티', '와플앤커피타임', '잇츠', '풀길', '한강다방', '방실방실이', '지비와이컨설팅', '빙빙빙월드타워점', '라떼밀레', '이디야커피마곡역점', 'Brick', '카페테이크알', '아씨뜰', '스터디나우한티역점', '카페하루', '시즌', '이브릭커피', '카페빌', '스타벅스미아역점', '쥬씨왕십리역점', '비자비카페', '엔제리너스시립대', '도깨비커피집', '커피앤챗', '마듀', '인덱스카라멜', '투핸즈커피엔타스', '테이크온미커피', '카페소소', '메가커피.에이치비지니', '샤크플레이카페', '커피zip', 'FRESHJOY', '로렐', '빈스빈스가로수길점', '더치프레소Dutchpresso', '다락', '노빈', '그카페', '이스턴', '커피다', '스타벅스청계산입구역점', '베네시아코리아', '피아이지에이', '반디랩', '체리브라운', '이코복스커피', '카페오도르', '카페마약', '라바토리카페N03', '엠엠티에이치005', 'SUBMEDIA9너스커피', '노아더네임', '갤러리인카페', '파파스토리키즈카페', '카페다인', '노르웨이숲', 'CAFEHERE', '티투데이', '카페에스프레소', '쥬씨국사봉점', '플로라떼', '요거프레소서울여대점', '카페리움', '커피플레이스', '폴바셋커피', '미오베네', '겟썸커피', '아사녀', 'OAK', 'D카페', '컨시어지커피', '스타벅스논현힐탑', '필즈커피', '헤이커피', '카페마망', '다방구', '데니스', '카페클럽', '예스디자인', '홀리페페', '비커피', '온링유', '커피퐁당', '초코비니', '다쿠아라', 'THANKsCOFFEE', '예일', '카페라포레올레', '노랑커피콩', '커피앤제이', 'jlnljolie', '세웅물산_커피', '아미커피', '커피후', '카페이지', '카페디자인', '카페가인', '나뚜루', '카페다카포', '필레오', '핑키즈업', '카페인사이드', '카페노킹온', '탐앤탐스구로점', '카페까사', '이나디토', '고디바롯데잠실', '카페토도르', '스타벅스여의도점', '우리애그린', '라리커피전문점', '커피커피', '초대', '홉슈크림', '카페테지움', '자양커피앤맥주', '초퍼', '워너커피서초점', '허브미', '해피콩', '올리브42', '라스베이글', '원제커피', '셀란세종문화회관', '라온MultiCafeteria', '모캄보', '서울가톨릭청소년회카페다', '오설록티하우스동대문점', '왓어블랭크', '꼬마빌리지', '스타벅스강변역점', '슬로우스텝', '까페올리브+1', '헤븐스타', '토기장이집', '라루라루', '컵인더스튜디오', '청담설기', '원빈', '보드게임카페', '커피블라썸', '키티스까페', 'Cafe79Rang친구랑', '커피앤드향', '스트레토', 'BrownBag', '위드미청계천점', '스타벅스차병원사거리점', '대하', '런카페', '아이엠.카페아이', '보성전통찻집', '카페미유', '토프레소상도점', '베이크스토리', '카페포우', '팔레트서울더커피플러스', '공차성수성원점', '더플레이트', '홈스테드커피마포점', '카페라파미', '커피빈코리아신림점', '아이스크림천국', '카페세이버본점', '투썸플레이스창동이마트점', '베버리힐스', '카페Moon', '위드엘', 'BOUNTE', '손탁커피공방', '투썸플레이스신논현역점1', '제임스', '더내츄럴카페', '핸디커피', 'ANDO', '카르포스', 'WOODBRICK', '어라운드썰티', '대흥다방', '골드바틀센터플레이스점', '딥다이브', '힐탑키즈카페', '스튜디오잇', '이어진플레이스', 'Aristacoffee', '커피앳웍스이대', '카페427', '카페알', '엘림스토리', 'POCOPOCO', '비아몬스', '배스칸라빈스이대캠퍼스점', '카페아리에따', 'J빌딩J카페', '그릴드치즈', '바디쉐프시그니쳐점', 'flowercafetiffany', '커피브로', '탭플레이FNC점', '들국화', 'Chally&Coffee', '꽃다방', '카페크로리스', '커피파인즈', '유아히어합정교보문고점', '커피식구', '아랑', '바르바커피', '티샵NO.1', '행복사랑방', 'Jelly', '커피만서울시립대점', '경복궁버들마루', '에스프레소비비안', '사랑옵다', '와이플레이스', '라운드커피', '한나식빵', '아더', '카페코스마이', '반지마을커플링반지만들기카페', '카베하네', '카페마마스강남역점', '양궁카페로빈훗', '우리하늘에서만나요카페', '던모스Dawnmoss', '빅', '망고차차', '카페돌', '꽁뜨', '티드빗', '쥬씨', '카페와플스토리', 'Fruittogo', '사르르녹다', '메이드커피', '테이크아웃커피전문점', '스타벅스황학캐슬점', '쥬씨동여의도점', '오직그대만', '써브웨이언주역점', '부티커리미엘르', '로즈버드', 'lcm', '제이에스커피랩', '카페스페이스', 'coffee34thST.', '투썸커피씨지브이대학로', '원남가베', '자유시간', '드롭탑송파가락점', '느티마을사회적협동조합', '카페디15', '도피오국립국악원점', '구일', '라퓨타', '셀렉토커피동묘역점', '허니와', '핑크젠틀맨', '북카페사가', '베스트빈', '그라노반디', '카페이니그마', '커피샤워', '카페리엔', '쥬쥬스', '엘팡', '소적두압구정본가', 'NINEoCLOCK', '마이카페', '피어라희망카페', '티라레미수', '키커피코리아', 'JEJUICE', '커피쿠즈코', '컴플렉스', '빽다방-목동사거리점', '로티', '버클리쿠키', '커피나무길동점', '커피마켓', 'BLOOM', '용궁', '유어퍼블릭오아시스', 'Barista', '로스터리', '보보찰리', '카페미니', '카페로뎀바이예다움', '필라멘트카페', '고이북촌', '커빙', '토프레스', '더수다카페', '팬도로시', '공릉다방', '솔사주카페', '카페빈', '까페하늘빛', '서현플라워&카페', '대학로흑백다방CAFE', 'FX스윙', '마시모', '카페베네건대역사거리점', 'cafedozen', '더키즈프리미엄키즈카페', '아메리카노커피', '에그셀런트', '할리스커피마포역점', '오리엔탈구내', '공차글라스타워점', '24시프리카페', '이츠이매지컬', '커피29', '카페1046', '헤비로테이트', '강남푸드마켓미소', '마룸', '빨간지붕coffee', '베이크샵701', '렛츠빈', '더벤티커피전문점', '커피빈코리아구의삼성쉐르빌점', '네이밍카페커피고', '사이판', '카페라끌레', '학화호도과자', '아이닛시/공차시', '카흐베하네', '몽샹디저트', '더쌍화', '카페아이엠티금천시흥점', '비비민트', '커피산책', '커피에반하다신대방역점', '쥬씨고덕역점', '라푼젤', '리제', '피스커피', '코오롱찻집', '커피메디컬팀', 'Riacoffee', '카페썬', '카페동선', '한잎', '카페에', 'M빌딩J카페', '마체베트정글키즈파미', '테이블비', '프롬비', '케이탑', '미노스', '커피천국', '파빌리온패밀리리틀마라케쉬', '엔트런스', '74번지커피하우스', '길건너커피', '두두퐁', '오다', '하늘유리', '자리', '윌리엄카페', '밀로커피', '마이스터디카페', '커피빈코리아압구정로데오점', '욜로', '학산테라로사커피', '서울강동경찰서복지회', '매머드커피익스프레스노량진점', '카페밀콩', '탐앤탐스한남점', '카페헤바', '페니커피로스터스', '지구촌카페', '탐앤탐스온수역점', '이디야커피건대스타시티점', '리오', '카페드미에', '스테이보드게임카페', '토프레소구로구청점', '커피스테이지', '현대그린푸드현대글로비스카페', '모노레일커피', '크런치오븐개포점', '뿌리플라워카페', '카페개네', '강남다방', '캐시아커피하우스', '까페플로르', '나진카페', '디오델커피', 'COFFEE', '리베르떼COFFEE', '파트원나이스', '카페마세리아', '로도덴드론', '열매다방', '모스트', '수무디킹롯데몰', '카페피파포', '원슈가데이', '용두다방', '테라커피머신', '커피테라스', 'RABBITHOLE', 'choicechurros', '카페도란도란', '카페옴니버스', '틱텍톡', '해다방', '블루웨일', 'BETWINS', '투썸플레이스서울대입구역점', '커피코트공덕롯데캐슬', '비트포비아', '위지안', '이후', '오손도손', '데이트카페', '사주카페자미', '커피식스쥬스식스천호역점', '쿠조코커피', '모노커피', '우리다방커피맥주', '북촌그길로그길에', 'TOPRESSO교대점', '에스프레소부티크', '잭카페', '밀당', '그라놀로지', '슬로우스트림커피컴퍼니', '해피하리', '노스페이스카페MYEONGDONG', '타르트마망', '커피빈코리아테헤란로비', '매머드커피역삼GFC점', 'CafeClara', '야니', '리쇼드남서울점', '카페산보', '카페리브레', '커피즐겨찾기', '코코호도왕십리뉴타운점', '돌리팝', '까페따옴', '카페비', '더블딥커피', '지니스빈', '카페디오', '지간테커피', '롯데리아엔제리너스커피', '파우치커피', 'ROBERTHARRIS', '신계커피', '비에스마르첼로', '빌라드깜빠뉴', '커피필그리마쥬', 'Cancafe', '코코부코', '리브스', 'MADCOFFEE삼성점', '자오나카페엘브로떼', '힐링초이스', '125coffee', '커피볶는피루니', '달콤커피', '작심커피', '쥬씨천호점', '동네카페', '간단하지만특별한화피디Cafe잇올림픽공원소마점', '언약커피하우스', 'TOM&TOMS', '에이티21', '카페컴온', '투썸플레이스뱅뱅사거리점', '커피조', '카페땡스', '손탁', '카페포유', '버거307', '신세계푸드이하우스에델리아', '신세계커피숍', '카페더원', '트리스트', '숲속식사', '더리터영등포점', '원기산삼다시스2', '호호당홍콩빵태국커피', '커피앤키', 'CafeLAOU카페라오', '스태픽스', '슬로스텝IN홍대', '카페드람브로종로점', '헤쉬', '대왕통카스테라', '스타벅스마포일진빌딩점', '찬차마요커피', '애견카페', '엘레이지', 'M카페', '키세키', '도노한남', '모로가도소울', '삼성웰스토리그레이스타워웰스토리카페', '빽다방공덕새창로점', '카페히릿', '해누리카페', '이디야커피창신중앙점', '코즈모갤러리서초', '빽다방잠실장미상가', '서울에서첫번째로잘하는한방찻집문래점', '와플', '한국문화재보호재단', '카페파티오', '스피드커피숍', '스타벅스합정메세나몰점', '지팡이아이스크림', '알베로', '쥬비스플라워', '담소', '선다방', '카페라엘스', '동백', '마르하바', '빵마담콜맨커피', '카페느티', '블랙king콩', '클로버보드게임카페', '커피정거장', '카페시소', '퍼플피씨', '토스트카페', '카페글렌은평뉴타운', '청소년카페OHO', '만쥬하나', '비전스트롤', '카페까밥', '까사밍고', '슬러프커피', '미스신커피', '도원유치원', '카페24창업센터보라매점', '류케이웨이브커피', 'COFFEE1899', '부엌이있는카페', 'Camtotoast&juice', 'COFFEEDAYS&와-뻑', '북촌협동조합', '메카커피숍', '커피당4310', '카페콤마', 'coffeeblossom', '파니니', '세시봉7080', '원두우먼', '트립티', '카페라이언', '이디야커피돈암아리랑점', '별이다섯개', '스넬스커피전', '더마이트', '독스PC방', '연티앤커피', '호아드', 'REPUBLICOFCOFFEE', '커피빈코리아강남역랭기지', '쥬씨자양로점', '이지웨이', '엔젤이너스', '그래버커피', '여자커피', '자로커피', '남양유업', '우리동네빵순이', '할리스커피홍대역점', '스타벅스커피강남대로신사', '셜록홈즈잠실점', '만쥬커피', '구카페선릉1호점', '카페두다트', '천리마살롱', '부틀렉', '마노핀면목역점', '델커피', '엔젤나루라떼', 'MANE', '카페장쌤', '카페컴온학동점', '두나미스커피', '밀집', 'PRANERNcoffee', '블리스커피', '브라운하우스', '진커피', 'creativebox', '카페준', '어까페', '몬토하베', '세라&로스터리카페', '티테디오스', '시나몬', '에코라이프카페', '탐앤탐스디엠씨탐스커버리', '에이블스터디카페', '1999카페', '할리스커피교통회관', '카페모아', '연다방', '빌리엔젤신라스테이점', '자문밖커피문', '9DCAFE', '동산손만두', '카페티아모', 'ANTTA', '콩툰만화카페신천점', '알에이치카페', '루크위드커피', '카페솔져', '매머드커피마포', '청구다방', '에이난카페', '인디고', '원희다방', '커피베스코', '커피드리즐', '공간을만드는사람들', '아티제청담제일점', '콩설기카페', '파머스빈', '예그리나', '한양대그라찌에', '까페이튼', '88브레드', '쥬스식스이수역점', '슬로우인디오븐', '과일파는덕이언니', '동작대교전망쉼터', '커피마시는인형', '카페퍼슨비', '카페오븐', '릴리데이지', '뉴웨이브커피로스터스', '애플커피호프', '러빙헛카페', '메모리스', '커피집숍', '엠즈씨드폴바셋이대점', '하재네커피', '더착한커피&쿠키', '미스터닥터빈스', '그랜드카페', 'DogISLAND독도', '커피가좋아', '남산커피집', '스노잉', '투썸플레이스콜드스톤크리머리반포래미안퍼스', '메쎄', '커피인더스터디', '포엘스', '시에스타', '카페쉐마', '카페라모엘', '케냐키암부', '초원', '카페원두마크CAFEWON', '카페더라몽떼', '행복플러스카페', '토마토', '카페테라', '로즈버드인정병원점', '로코랩', '커피홍', '이윤신', '만다향', '벨뷰', '쥬빌리쇼콜라띠에', '아트센터나비미술관', '커피집연남동풍경', '로찌', 'Dutch&bean', '봉봉cafe', '하와유카페104', '더마하', '커피트리', '바리스타마르코엔아르케점', '카페연', 'BERKELEYCOFFEEE', '챗베이커', '엠디레몬트리달루가', '카페시율', '디초콜릿커피앤드고대중앙광장점', '모찌크림카페명동롯데백화점', '커피베이행당점', '혁이다방', '카페라플로르', '카페아이스베리', '커핀그루나루평창동점', '모모의간식', '카페나무영우성균관대', '마체베트어린이대공원꿈마', '하늘을마시다망원동점', '서울에서첫번째전통찻집', '카페보스', '앤드류스에그타르트앤커피', '씨위드커피', '브런치커피', '오늘성수맑음', '엔비오브더빈', 'CafeHIAZO', '커피에스페란토', '드롭오가닉커피', '핸더스', '꽃이핀다coffee', '호까이도밀크팩토리', '퀸', '카파커피', '록키마운틴초콜릿팩토리', '리퍼블릭오브커피', '투썸플레이스논현역사거리점', '플러스타임카페', '카페이든', '알뮤트1917', '295st', '발리', '팡또아', '함께하는문화', '카페베네이노시티점', '북카페산책연남점', '일육커피', '이디야커피양재AT점', '디딤돌2018', '레트로시티커피로스트', '더로비', 'THEBRIDGE', '에떼', '백설공주', '브리진', 'W카페', '삼청', '솔다방', '프랜트', '늘커피', '베러댄와플협동조합', '카페사켈라', '갤러리카페도야골', '퍼즐카페', '쿠키보이커피걸', '커피알', '퀸즈브라운종로5가점', '픽셀카페', '커피만외대점', '커피나무카페', '마로니에커피앤와플', '라테라세', '소격동37번지KITCHE', '스타벅스신촌오거리점', '레미제라블', '카페더그레이', '라떼야', '더플롯커피', 'albero', '레트로나파이', '들다방', '까페마로니에', '블랙그라운드커피랩', '클로리스티앤커피', '카페쎄리오한양대병원점', '우유속에원두퐁', '10000LABCOFFEE', '차이니스21.차이니스북카페가경', '빈스브루', '수커피', '긱카페아키', '알바', '파오파오차', '카페원두마크', '무상킹코리아', '더베이크', '옛찻집', '예전에살던집', '8온스', '자니로켓카페', '쥬스식스구로디지털점', '세미다방', '숨&쉼coffee', '부머스', '멜로우그린', '요거프레소문래점', '투썸플레이스서울대역중앙점', '틈새커피', '모리나리', '할리스커피노량진역점노량진역점', '와이샐러드카페', '보뚜슈퍼푸드까페건대', '커피라', '레가타커피', '브이알스퀘어', '디초콜렛커피', '그린바이크커피', '더블랙더치커피', '미니스카페', '커피32', '북악관커피점', '이찌고', '워너빈', '애스토리까페', '카페베네치아', '츄로101삼청점', '민스슬라임', '사푼사푼', '도쿄밀크치즈팩토리', 'TALESPINNERCO', '카페7그램', '해피니스디저트', '이코복스커피로스터스', '스타벅스종로2가점', '엘로이', '아담채카페', '간단하지만특별한화피디Cafe안젤로여의도성모점', '용창산업영동관광호텔', '그린클라우드커피', '포라인스커피', '브레드앳홈', '레몬추리', '다희연가', '전광수커피숍', '파리다방', '멜슨하우스', '댓커피', '커피와그림', '나무그늘', '티제이', '홍커피', '쥬씨양천구청점', '탑카페', '엔제리너스홍대YZPAR', '프리퍼커피', '인디오븐', '스타일', '머꼬머꼬', '나무카페NAMUCAFE', '조스샌드위치앤커피', '테이믈A이대점', '맘스카페', '스타벅스삼성교점', '솔고바이오메디칼', '파이브센스', '스타벅스선정릉역점', 'PaulBassett', '카린홍대라운지', '정원의온도', '링고요고', '카페시크릿', '떡다방', '커피볶는집르카페', '장마리의커피공방', '피움카페', '아티제여의동점', '뉴푸드유통', '제일스터디카페', '커피빈코리아오목교역사거리점', '미쓰리손다방', '커피스테이', '커피스마일', '산풀잎', '바나나토크2', 'YourCoffee', '카페산다', '잠바주스청량리역사점', '카페레가토', 'CAFE영등포역점', '커피코트용산아스테리움점', '와플샵', '이디야커피가든파이브', '카페테인', '토프레소신설동점', '스무디킹코리아', '얌얌브레드', '공차명동점', '경慶', '숙다방', '모과나무집', '한울다방', '바치오커피', '3.3.3.커피', '카페비바', '키커피', '피티카페비엠에스점', '착한커피공장', '커피홀', '중앙커피숍', '커피소년', '스탠딩커피4', '카페블링컵', '베네피트', '연필1/3', '보나비아티제상일GEC', '카페데코믹스', 'DUTCH&COMPANY', 'Twosomeplace', '샤크', '그라나다', '루아흐', '토토치노', '에브리커피', '커피빈코리아강남역먹자', '모카라비아삼성점', '띠아모강변점', '카페에스파니', '카페온', '레이지마마스파이', '브링미커피컴퍼니', '효선당', '아프리카', '아름다운카페', '커피스미스신촌점', '비알라커피', '신트라커피', '천재교육원Rnd까페', '커피인뉴욕', '스테이모어', '이디야커피자양사거리점', '요거프레소보문동점', '길모퉁이커피', '예노', '감성커피', '여기커피', '8스탭스', '달달보드레', '프롬나드', 'softcoffee', '국회의원식당카페', '빈.티.지', 'CafeCivet', '집중소', '보나비아티제대신파이낸스센터점', '버터럼', '윙스커피', 'BOLACOFFEE', '놀이터커피', '뽀스뜨레', '잠바주스디큐브시티점', '아리스타커피서여의', '맥켄지', '카페아이', '킹스빈커피', '이디아커피세종대', '커피토스피아월계점', '앨리스', '탐앤탐스커피숍', '스위스워터커피', '마체베트어린이대공원점꿈', '엔티나카페', '대림창고', '발코니가든', '레이니어', '백림사주카페', '신촌시크릿', '롯데리아엔제리너스연대', '만화카페냐몽', '오프로앤커피', '달달하늬', '네추럴티어스', '명금탕', 'thecafe36.5', '취영루', '버블리', '브라운팰리스커피숍', '백상갤러리카페', '커피가먹고싶다', '소리마을까페', '커피빈코리아방배역점', '아티제송파아이파크점', 'K.SCAFE', '재쿠와커피콩나무', '시스터커피', '공차양재본점', '레인보울45도', '반지만들기대학로본점', '피켄스커피', '저스투고', '카페지오', 'cafeleA', '코스트코코리아푸드코트커피코너', '아름다운고궁', '북카페산책인턴십센터', '한스', '카페미오', '브레댄코', '노블카페', '반지다방', '블리스', '무진장', '카페홀릭', '카페시크릿가든', '아이스크림에듀', '심쿵달콩만화카페', '연운당', 'coffee122-6', '세잔', '대건상회', '쥬씨방화역점', '써니주분', '스타벅스잠실점', '엔커피', '정우에스프레소', '카페인터뷰', '아마스빈버블티잠실장미상가점', '멜팅팟', '카페넬비코로', '언덕위에커피집', '우분투', '도깨비', '아이엔씨풀서비스', '메가바이트', '레이지나인', '카페서울숲', 'coffee봄', '갤러시앤카페ONUE', '카페솟대', '비카페비비디바비디부', '다향전통차', '커피나무이수로스팅하우스', '장수커피', '브루테크네', '카페ONDA', '편한커피', '공차GONGCHA', '카페파스쿠치', '쥬씨노량진점', '도프커피로스팅랩', '애드립', '행복카페하늘', '카페필아떼', '긱커피', '라떼떼성대시장점', '우주토끼', '서울청소년수련관coffeeshop', '샌드위치&커피', '카페베네이노시티', '스타벅스월드컵경기장점', '모눈', '봉명다방', 'TOMAMOMS커피', '카페마로', '목화다방', '으뜸', 'Manna', '구나길구', '녹차원', '브이플렉스', '컬러리빙', '카페코이', '카페리빈강남', 'LAK25', '비니치', '커피펄쓴김판다', '행운당', '지혜의공간', '돌코롬', '카페어린왕자', 'ENVIE앙비', '커피마마양재우리집점', '커피수기', '권자Kwonja', '카페샹베르공덕코어점', 'THEMEKA', '카페IN', '로뎀나무까페', '도란도란카페', '모짜르트', '라로즈플라워커피', '카페미빌', '유어커피', '투썸플레이스답십리사거리', '부다페이스', '커피빈코리아세종문화회', '드림키퍼즈협동조합', '카페라유', '버블티코리아', '엘가커피', '림스커피', '카페드비반트', '커먼유즈', '현이커피숍', '미트프레쉬MEETFRESH', '팔선녀아기보살', '까페다', '투썸플레이스상암씨지브이', '쥬씨망원점', 'BABAYETU', '카페홈즈', '커피로153', '에스키모하와이', '헬리팜커피', '아람', '커피아이덴티티', '빈브라더스', '미어상봉점', '한보커피숍', '다과상사', '코벳블랑', '스타벅스명동역점', '요거프레소장위동방점', '카페와일리', '오로라커피', '삼성에버랜드그레이스타워웰스토리카페', 'SWEETBean', '마노핀카페', '킹콩쥬스대치학원가점', '주스킹', '광화문내커피', '커피몽드', '카페플래너', '매머드커피', '154SooDa', '제너시스에프앤비스위트빈', '할리스커피답십리역점', '근사한하루merci', '가장좋은커피', '주커피영등포지하상가점', 'JACOM', '윈보드게임', '코미코미', '뺨이샵', '커피힐스', '이리야에스프레소커피', '투썸플레이스옥수리버젠점', '커피스튜디오엘', '에잇플러스', '더핏불푸드카페', '동그라미놀이터', '엔티커피', '앤드류스에그타르트이대점', '보그너커피종암동점', '원인어밀리언', '빈스밀', '연남동239-20cafe', '카페효제눅', '비틀쥬스', '까페블랑', '작업실', '갬성', '짠커피숍', '카페사이좋은', '카페담', '디저트39서초법원점', '투썸플레이스쌍문역', '해피레몬', '차오름', '플러스카페마로니에공원점', '60STCOFFEE', '카페라로', '카페모노블럭', '카페도담', '빌리엔젤강남', '뉴욕핫도그앤커피안암', '앤드', '휘스커', '커피스위트', '주연커피숍', '카페단편집', '메가박스', '코코버블티여의도점', '다시스', '케이아이디코리아', '쿠드커피', '새임새임', '카사블랑카', '공쌤커피', '양천맘카페', '쥬씨천호초교암사점', '커피어라운드', '빽다방을지로입구역점', '카페29', 'KT', '사사', '베타엔커피', '커피집', '10TAN', '카페아이엠티숭실대점', '커피아로마', '카페데플뢰르', '카페라비다', '솔트카페', '신성다방', '위드커피', '커피빈코리아방배카페골목', '파스쿠찌동대문APM점', 'IQ84CHURROS', '이디야커피한성대역점2층', '해커피아', '카페솜씨', '아트큐브', '카페내이처', '로로커피', '한스제과공덕점', 'LUMINO', '카페그리다', '파스쿠치여의도점아이리스', '커피컵', '카페마에스트로', '더더모어', '유후와친구들', '봉플라워케익공방', '만돌다방', '스타벅스뱅뱅사거리점', '카페올레', '성북동콩집', '본돔', '파니니카페', '엠엠티에이치095', '투썸플레이스충정로역', '애로우팩토리양궁카페', '쥬씨불광로데오점', '모토빈', '양지커피', '소프트리', '후르츠판다', '숑디', '커피방앗간', '다방오크', '오가닉파이앤코', '슈니트매점', '나인원라이브카페', '이트앤토크', '카페원웨이', '인더랩', '스페이스M', '주스라이프', '빈스&멍', '카페소', '카페네스카페이화여대국제기숙사', 'SaintPaul', '치치라보', '커피나눔', '오미커피OHMI', '예다원', '카페앰핑', '엘림카페&스낵쉼터', '비에이블스터디카페', '에이치파이브-117', '에스프레소0039', '카페더크레마', '앨리', '제시카', '업타운카페LG', '어슬렁정거장', '더퍼스트클래스', '할리스커피구로디지털단지점', '씬커피전문점', '카페플러스', '별다방미스리시즌2', '언니쓰다방', '마이도시카페', '카페도즈', '카페타타', '엘에스씨푸드', '쇼위플로라', '에나꼬레', '후니드브로드카페', '카페모브', '폴바셋롯데마트', '소망글로벌베네', '커피앳웍스트윈시티남산점', 'e-그린PC&푸드카페', '투썸플레이스현대', '리치빈스', '키라커피', '탐앤탐스공릉역점', '탑클래스커피', '에드로쿰', '카페루엔비', 'CASCADA', '커피빈코리아수유역점', '12사주카페', '카페가든', '올리볼렌', '싱글오:커피저장소', '빈스마일', '예설', '커피사랑', '쭈다방NAIL', '청소년카페마니또', '롯데푸드파스퇴르밀크바', '수다커피', '그랑베네', 'LOTTYSCAFE', '카페만월', '카페10THAVE', '은하수', '투썸플레이스광화문', '까페콩', '할러스커피', '카페NODAZI', '프린세스', '학림', '하야로비커피숍', '카페아토제이드', '커피향이좋아서', '그라찌에김안과2호점', 'JOESBASCKET', 'NorwegianWood', '엠엠티에이치048', '541CAFE', '투썸플레이스사가정역점', 'The김밥cafe', '우리함께', '카페울림', '탭플레이홈플러스', '공차롯데미아점', '디저트팩토리', '카페라떼르', 'caffeforesta카페포레스타', '크라스플러스스터디컴플렉스', '오로오로보드게임카페', '모나티', 'CafeHUB', '손스커피', 'Coffeezip', '커피똥', '스카이래빗', '미진', '카페파쉬노', '원기찻집', 'SOODA', '마곡타로마님아카데미', '커피스퀘어', '카페에스더커피', '좋아요카페', '라이트닝커피', '프롬하츠커피서울역센트럴', '미스터블랙', '아티제강남역점', '118커피', '모노레일', '레이디엠', '사튀로스', '비씨팔백', '팔공', '쥬스와커피', '홍콩다방팩토리', '커피스노우', 'CAFFEILLYNO', '스모킹카페', '닥터스', '아자부', '정커피2', '카페더루쓰', '후식상봉직영점', '새라가비', '헤리스', '에쎄레젤라또', '빈둥백수네빙수', '현커피', '컴포즈커피선유도점', '청소코끼리', '구로구다문화북카페', '라이브홀리데이7080', '스타벅스광장점', '베네데프', '515티룸', '카페벨로주', '카페153', 'Bella-Bellocafe', '싱', '부일이디야커피', '바른찻집그리고바른맥주집', '금충초', '일레븐라운지', '카페봄날', '콘하스', '쥬씨가락점', '뮤즈', '방배동커피볶는집일리', '다솔', '음악다방', '할리스커피명동2호점', '커피에반하다공항점', '에쏠로지구로2호점', '고디바홍대점', 'Craftbeerhouse', '봉제산아래커피집', '카페38도씨', '신세계베이킹카페연세대학교제중학사점', '미스티블루', '커피크루', '커피빈파크에비뉴엔터식스한양대점', '까르페디엠', '카페마노', '카페시트러스페이퍼', '북카페픔', '디에떼에스프레소', 'Dalkommcoffee', '플로디', '라푸르타', '멤피스', '꼬꼬마', '킴스커피', '닥터피쉬카페', '커피스모키', 'CELSIUS', '스타벅스엔터식스한양대점', '빽다방PAIKSCOFFEE', '도티', '아침디자인그룹삼삼오오커피공작소', '할리스커피남부터미널', '육.구', '카페시우', '라포르뜨', '로스트제임스커피', '카페비움', '커피이너스', 'MEGACOFFEE메가커피', '코르소코모카페', '땡스네이처카페', '탐앤탐스가재울뉴타운점', '아티제역삼역점', 'Gueren', '커피니역삼점', '까루나', '리부트CTC', '씨투', '에제르커피하우스', '카페유원', '라콜롬보코리아', '커피내음', 'CARIBOUCOFFEE신촌점', '메종프랭크', '홈우드커피', '리즈다이닝', '시월의곰커피공장', 'CU', '카페세컨드홈', '리코커피', '아름다운커피', '글로리아진스커피코리아강', '혜화카페', '제이디비스퀘어', '탁앤초이투썸플레이스청담역지점', '할리스커피종로본점', '까페원', '카페엔젤', '포스빌미카사카페', '신호등', 'caferainbow', '오디', '카페띠아모교육장', '라오상하이고운찻집', '진서의정원', '퀴클리강남점', '카페벤지', '화유플라워앤커피', '투텐', '팝콘트리', '우리동네분식카페', '제일커피', '부암야생화카페', '베이스커피전문점', '타임커피', '니트', '張家', '온새미로cafe', '파스쿠찌테크노마트점', '카페트윈즈', '탐진씨앤씨딜라이트커피', '빵사부식빵공장', '브이알존', '프라자커피숍', '케이티링커스롯데강남점라바짜', '카페0691', '마마쥬스중계점', '칼딘커피', '모두의커피', 'Wannacoffee', '남산커피', '프렌드커피숍', '남산학사카페', '탐앤탐스1호', '쌔씨커피', '카페호리', '티티카카', '비알코리아베스킨라빈스', '언더루프', '선COFFEE', '목타르트레이딩', '텀브커피', '오베리굿', 'CAFE담쟁이107', '초우다방', '성북청소년문화의집', '레더앤카페디', '스폰지북카페', '엔제리너스커피에스알수서역사', '나무', '샤론꽃방', '테라로사', '빵굽는카페케이', '하이힐', 'Clatage', '주스탐', 'PEBBLE&ROCKCOFFEE', '세븐브릭스커피교대', '오렌지힐', '피아노카페', '카페밀브리지', '감성유리다방', '밀탑빙수,커피', '옐로우트리커피구로디지탈단지점', '공차석계역점', '티눈', '개러지107', 'BM카페', '쥬씨한신대교차로점', '탐앤탐스명동중앙우체국점', '펠리체가토', '카페마마스코엑스점', '꿈앤카페다솜', '비스듬히', '하나커피점', '카페801', '쉬헤즈커피', '펄', '스모킹카페신림점', '보사노바', 'DALSSA', '바우', '서드팩토리', '아워홈', '투썸플레이스삼성중앙역점', '잠실빈스토리', '동작노을카페', '허브드림', '다문화벨트큰집살림', '만남', '도니바니애견카페', '티모시스코리아', '자리어린이대공원점1층', '까페올렌스', '카페바니1995', '올림픽', '카페제이홀릭', '카페슈몽', '데얼즈프로젝트', '경문', '한스카페', '카페엔스토어이끌리오', '카페포제이', 'Ph6.5flower', '커피광', '경찰청복지관', '스노우스푼', '커피붕붕커피볶는집', '카페고릴라', '오렌지까페', '커피와사람들', '한강', '산중다원', '스타벅스올림픽공원남문점', '코나카페', '엉클롱', '카페보카', '예커피', '커피그루나루', '블링블링커피숍', '드러머', '떼루와가산', '꽃피는책', 'DODRIP', '애플블러썸커피', '소반', 'BEANSBARNES빈스바네스', '일리카페지엔코점', '투데이커피클럽', '카페라파스', '쥬씨명보사거리점', '모닝모닝', 'LUMBERJACK', '씨제이투썸플레이스', '브라운펄', '커피베이궁동유펄스점', '더니커피', '어바웃커피', '미칠비루디져트아뜰리에', '버자야에이치알카페코리아', '빙빙빙', '올림픽커피', '레드브릭스', '커피소사이어티', '하울팟', '다방,틈', '작은별카페', '행복한타로사주', '100코코넛카페', '프렌치앤틱', '허니콤커피로스터스', '쿠마커피', '투썸플레이스용산트윈시티점', '카페더블루스', '커피나무향기', '보스톤커피코리아', '페이지원', '드립하우스커피', '커피앤우', '커피하우스페이지원', '커피드슈', '205도씨', '올리브', '토크엔', '빅핑거', '카페2001', '단팥집', '티-타임푸드', '커피소리', '허니빙스', '망원마중', '데얼커피', '커피양탕국', '베네딘', '유달리아', '할리스커피세종로점', 'GENUSCOFFEE', '더블류피', '소디스', '쥬씨신촌점', '스티븐목장중앙대점', '투달러스커피', '빽다방사가정역점', '제일커피숍', '잠원커피', '스타벅스고대프라자점', '엘리스토리커피볶는집', '스타캐슬카페아띠', '커피빈순화점', '스칼라티움', '커피패트릭', '을지茶움', '더테라스', '엘카페', '커피노키오', '테이크아웃드로잉카페', '미스터팥집', '아붕', '뉴욕핫도그앤커피', '고다방', 'Boyacoffee', '개인공간', '수커피하우스', '석란커피.엔.티', '투썸플레이스차병원사거리', '스팅', '금성커피숍', '다온죽카페', '커피홀엔터식스한양대점', '뛰노리방방', '카페453키친', '달콤커피명지대점', '카페쿠모', '봄보다,너', '페더커피', '올어바웃미', '곰달래커피맥주', '카페랠리', '보이유통', '공차보라매점', '까페동화나라', '커피클럽', 'SGH한방차보감', 'espero', 'Rio:후아', '데이앤데이', '온뜨레', '엔제리너스커피영등포점', '빽다방', '커피가버먼트', 'DEEPCOFFEE', 'EPT커피', '딥블루레이크커피&로스터스', '서울대학교자하연카페', 'CAFEDURIP', '보드스토리', 'TODAYCAFE', '커피는사랑', '비니비니', '조샌드위치카페', '커피브루', '루체에살레', '원두막', '다온커피', '엔제리너스롯데캐슬잠실교보', '퓨로커피', '브라질다방', '카페데플뢰르방이본점', '바리스타리코카페', '커피투어', '카페자리', '라미으리커피볶는집', '커피마리', '메가엠지씨커피', '쪽방커피', '까페디아떼상계역점', '카페아임', '달콤커피여의도더디자이너스호텔점', '몽마르뜨이대로라이브카페', '라인보드카페', '리코리스커피', '한남동함바그또카레', '커피라운지55', '피아이이알39', '에스비', '굿커피', '남산카페', '카페몽타주', '도이창카페은평', '서울특별시다방구', '키쏘커피대치점', '래빗', '보나비아티제잠실타워730점', '코히', '엘리스', '달커피하우스', '스타벅스석촌서호점', '두루두루베이비카페', '선한이웃', '카페깔리아리', 'JUSTGUINNESS', '물놀이까페', '한국우편사업진흥원카페', 'DIEDRICH역삼점', '카페첼시', '프로푸모', '당근카페', 'CAFEONES', '카페레몬테이블', 'Thecornercoffee', '요리까페식땅', '모모공방&카페', '메이커스페이스', '더로스터리카페데베르', '윤스', '갓프레소', '스윗윤', '투썸플레이스명동역점', '마소커피', '뚜또오케이고대점', '레빈커피', '카페아르코', '슈만드젠', '필앤럭', '팔이커피', '카페미카야', '썬다방', '가능프라자', '샐리s키친', '안개', '오늘도좋은날', '메이듀', '메이드인카페런던', '진보공인중개사GangsParadise', '카페진', 'SOFTTREE', '이디야커피전농뉴타운점', '원원나인', '단빙각', '파빙목동파리공원점', '마녀늑대의발톱에빨간매니큐어를칠하다', '셀렉토커피마곡점', '고고스찹쌀떡', '스타라이트', '포스트카페', '소라커피숍', '안암다방', 'EGCOFFEE', '거북이의기적', '홍대더브릿지', '일등커피', '커피201', '레드머그', '폴바셋현대백화점디큐브시티점', '킹', '커피휴', '커피가좋아3S', '카페레이니데이', '아르떼미오', '올어바웃카페', '502커피', '카페자우', '도도리다방', '카페림', '업타운카페세브란스병원점', '베네펫', '파스쿠찌', '예감', 'CAFE곰다방', '언커먼그라운드커피카페', '바니빈스커피숍', '떼르드글라스', '카페티', '위드아티스트앤컴퍼니', 'Solcafe', '아티제중앙일보점', '오케이커피', '타이거에스프레소', '그다방', 'COFFEEDATE커피데이트', 'RANA', '카마르kamar', '커피베이구의점', '커피빈코리아여의도교보증', '사과나무', '송스커피', '에이미스커피코리아', '셀렉토커피마곡나루역점', '커피레터', '바디프랜드파크', '카페903', '주얼리카페세림', '카페밀크', '자바트래커', '커피코트문정테라타워2점', '메가커피우이동점', '강남70플러스라운지', '델리뉴스', '커피공간', '이디야커피문정현대시티몰점', '엔터타로', '카페워너비', '씨네마포', '방방키즈카페', '할리스신림역점', '스타벅스길동사거리점', '씨앤오코리아', '제이씨엑스커피', '카페하파라이', '이디야커피일원동점', '원스메이', '투맨커피스토어', '아마존슈라스카리아', '감성다방', '바리스타마르코영등포경찰서점', '망고식스강남롯데', '가을타는여자', 'COFFEETO', '커피빈코리아천호현대백화점옆', 'POTTERSCOFFEE', '프레피', '엘리펀트스페이스', '커피하우스', '카페더메드', '제이쿡카페', '21C&CLUNCHGIFT', '골목', '쥬스스타', '청춘124', '커피앤베이커리', 'COFFEEGAGE', '레미콘', '대지다방', '커피마마왕십리역점', 'BLACKPEARL', '다나인터내셔널', '카페모인', 'cafeEIGHT.TON', '베네코드', '에이티게임', '핵커피', '하비에르카페', '광희마루', '고이커피', '카페파이', '카페샬롬', '빵사부식빵공방마들점', '힐링카페에코맘', '성곽마을삼층까페', '카페두다트-메트로타워', 'CafeJUN', '자연꽃카페', '종점다방', '카페아파시아나또', '워즈', '폴라커피', '현대커피숍', '투썸플레이스우장산역점', '디저트올마이티', 'CafeAn449', '스타벅스노원마들역점', '가까운카페', '89반즈플레이스', '카페에스투', '학술정보관카페', '노리', '커피과학', '엠엠티에이치089', '빌리엔젤', '그리다꿈구로점', '야카모즈로스팅', '와츄홀릭', '엠지투게더카페', '떼', '에이디HOCCOFFEE', 'CAFEIMAGO', '버지니아커피숍', '달콤커피라이브라운지', '캔모아플러스', '카페베네논현역', '더더다다퀸마마마켓', '빽다방강남스시마이우점', '휘카페노원', '본까스', '별빛', '성호', 'Bro.COFFEE&JUICE', '카페인디블루', '씨케이코앤루소랩', '카페프렌즈', '커피의기준', '르푸', '스몰하우스카페', '커피박스', '쥬씨가인초교점', 'JAVATREKKERCOFFEE', 'CafeLAVIE', '엘카페커피로스터스', '고양이당', '브레머', 'biwon', '엠케이투', '카페밀도', '카페드롭탑위더스영등포점', '투썸플레이스커피경희대점', '쪼꼬커피', '카페드리옹케이크부띠끄면목점', '브레드미', '코코브루니사당점사당점', '스카이라운지', '쥬씨광장점', '우리마포시니어클럽마포주민편익시설점', '빽다방명일역점', '쓰임', '아더카페', '아리디', '오페라빈커피공방', '제일전통찻집및커피', '티블랙', '지유가오카핫쵸메', '더플레이그라운드', '키웨스트커피', '고양이다락방', '시티오브에스프레소', '커피볶는성군', '쥬씨도화점', '원더풀데이', '쥬씨영일고점', '본투비블루', '소금카페', '스위트커피', '카페이브닝', '커피베이금호래미안하이리버점', '에데니스', '엘빈커피', '벙커1', '만화카페산장', '미미의카페', '랫미커피', '카페에스비', '카페알베로', '커피볶는남자', '칼레오커피', '코에보컬쳐앤카페', '엘지사이언스파크지카페', '할리스커피북가좌점', '몬트', 'CaffeAttico', '공원', '에딸프', '꽃올림', '브로스', '도피오커피', '경성팥집옥루몽', '노을카페', '마빈스탠드', 'HOTDOGCOFFEE', '커피현상소', '마마스커피전문점', '엉클두', '스타벅스명일이마트점', '콩커피하우스', '이디야커피세광교회점', '더좋은생각', '카페다이렉트', '까사델리', '별과꽃', '원웨이', '카페커피수', '공차압구정로데오점', '커피와생과일주스', '편백나무', '미래안사주카페', '카마노커피', '양선생커피', '달콤커피서래마을점', '낭띠', '크런치오븐', '프로포즈', '투썸플레이스압구정51케이', '도봉산커피', 'Beetlejice', '커피토리노', '뿌리온더플레이트', '영수야놀자COFFEE', '언뜻가게', '소유화', '카페바보', '카페인인', '카페드미욜', '스타벅스종각점', '카카오프렌즈라이언카페', '대니의전봇대', '슈퍼오아시스케이티앤지', '벨롱에스프레소', '카페지니', '커피니공릉테마공원', '스타벅스서강광흥창역점', '자양다방', '이젠', '북카페마을과마디', '바엔카페앤드', '두카티카페', '소문난사주카페', '온앤온', '굴리엘모역삼역점', 'PLAN.Bean', '그레이스케일', '헤븐거피숍', '마포다방', '카페래', '하비비', '엘루체카페', '쥬씨서울역점', '메가진카페', '추억속의그다방', '호수커피', '핑크도그', '원커피', '라떼엔퐁당', '몽당', '아리스타커피압구정점', '커피베이대방현대점', '커피빈코리아MBC경영센터', '고마', '베이', '요거프레소신풍역점', '커피마마신내3지구점', '동그림', '라떼아커피', '쥬씨양재점', '도란도란학습카페', '커핀그루나루서초플레티넘점', '브이알지카페', '그라찌에스트라다', '카페나인', '쥬씨뚝섬역점', '투썸플레이스서대문KT&G타', '모찌이야기', '프로시트쿠헨', '일리카페', '지오캣', '만쥬카페', '르보땅', '남촌', '소마', '까페이삭', '엔제리너스커피연신내역', 'cafedumiel', '벤저민', '카페스트리트', '송진평커피', '브로', '카페7그람', '커피립몬스터', '감초다방', '매머드커피중앙대점', '더리터', '하운스스터디카페', '브라운필투', '뉴코피커피', '코코부르니', '알라카르테', '그리다', '에블린', 'cantocoffee', '금호커피맥주', '숲', '커피볶는고양이', '스타벅스양천향교역', '날쌘카페', '하니커피', 'onda109', '셀렉토커피마포구청점', '금커피숍', '나의작은식탁', '카페치타', '나들목카페', '스타벅스경복아파트점', '카페네스트', '모데라토', '미스퐁듀', '스칸디나', '커핀그루나루한솔병원점', '데일리3커피', '우리동네엄마학교', '칠이까페', '카페플로린', '이디야커피애오개역점', '502세컨즈카페', '커피커피플리즈', '카페12PM', '쥬씨금천가산점', '프리츠커피컴퍼니', '카페애티', '떼루아', '카페비전', '커피로스팅원두공장', '에스프레소', '메가커피대학점', '어짜다버블티', '와플대학노원역캠퍼스', '달달한오후의잼', '카페곳', '에스프레소코코', '쥬고', '이타르트', '까페베니시모', '스타벅스명지대점', '쥬씨위례트랜짓몰2호점', '동빙고다방', '카페게이트', '쉘터', '카페자마이카', '서룡씨앤케이코와핀종합운', '쥬씨상봉역점', '베네선릉점', '베스트빈커피', '프레세르커피로스터스', '까페에소르', '두들커피로스터리', '하비', '토즈모임센터신천점', '카페베네양천문화회관점', '비니웨이', '망원,그커피', '하울까페', '커피헌터', '올프리마카페', '카페카파', '카페스트라다', '시애이', '유어페이보릿', 'CLUB1d1m', '다톡다톡카페협동조합', '웰위치아', '씨즈캔디', '렉탱글618커피', '카페컵', '코나퀸즈', '투썸플레이스상도해링턴플레이스', '이수커피', '폰앤카페', '카페노이', '리얼크레마', '24.7카페', '티아트', '섬섬옥수', '나시타까페', '아티제동부이촌점', '레스빠스', '귀천', '망고식스', '후루츠젤라떼리아', '카페라제스', '키노키노', '카페루이스', '카페무이', '카페홍뜰', '엘씨포유', '하얀다방', '헨델과그레텔미니', '커피마루', '딘앤델루카', 'Take#1-1', '회화나무로스터스', '죠샌드위치와커피', '오설록티하우스', '콩블랑제리', '고려대학교교육관로즈버드커피전문점', '열매는달다', '셜록홈즈강남점', '다린갤러리', '바미', '달콤바스켓', '유한테크노스커피프린스', '슈어슈어리커피', '그립지카페', '폴바셋롯데영등포점', '카페AM', 'ESTO', '커피첼리나', 'HOUSECAFERESTAURANT', '빈스바네스논현점', '르마들렝', '비틀주스가산디지털단지점', '로얄카페', '청마루', '시모커피', '더치드림', '조선커피FACTORY', '오마뎅', '카페르뺑', 'BORDADO', '들꽃카페', '카페오기', '커피볶는집', 'The드림', '사진창고', '쿠벅커피', '카페에벤', '카페쥬빌리', '터치주스샐러드', '브알라누아르', '검과흙손', '카페포트', '왜이렇게즐거운거지', 'H본부', '마쿤키친카페', '동서화랑', '카페래이', 'BOY사주카페', '카페놀이터', '좁은문까페', 'COFFEEBEAN영동2교사거리점', '진', '에스프레사멘테일리보라매점', '폴바셋서울세관사거리점', '투썸플레이스대학로씨지브이', \"엄's김밥카페\", '통인동커피공방', '사당로159', '고로케데이', '메이', '더본코리아_빽다방등촌', '훌리리', '에듀윌역', 'BE', '일바리스타', '천사애견카페', '떼오도르', '마루마리', '요요도산대로점', '호시', '더브리제', '세운나', '커피볶는여자', '현미더치커피', '우리바둑까페', '저스트리슨', '카페아네', '카페페비어리', '유어마이커피브루어스', '스타벅스교대역점', '코코마커피', '차유', '인문까페엣꿈', '카페1993', '킹커피', '메핏커피숍', '킴스코퍼레이션', '지하로카페', '빈트리커피', '쥬씨현대시장점', '작은갤러리', '프랑스에다녀온붕어빵', '열두바구니창작공예', '원더커피', '금강F&B광희문', 'YX2', '소나무길삼무곡', '무비스타', '센트럴커피', '언더커피', '아로믹스커피시스템', '씨엔엔카페세빛둥둥섬점', '리틀마라캐쉬', 'KIUM#', '빽다방이태원점', '카페플레이버', '다아는커피', '할리스커피낙성대역점', '카페카자드지나', '화이트카멜레온카페', '반지앤디저트카페', '고전갤러리옥션', '아자라마', '씨앤앤카페영풍문고', '헬로방방', '스탠스커피', '디에떼에스프레소명동점', '카페씨', 'Swich카페', '커피플리즈', '콜롬비아퍼펙토', 'urbantable', '반지만들기홍대1호점', '테라코타커피', '토프레소대림점', '잡카페피플', '우주라이크합정역점', '이층까페', 'EDIYACOFFEE', '카페데이트팜', '슬로윗카페구로구청지점', '공차롯데백화점청량리점', '카페잇츠어바웃', '카페아늑', '커피플레이트바이베로키오', '스콜라', '미카페토', '카페알펜로제', '꿀단지디저트', '라떼플로라', '큐카페', '놀숲신림역점', '카페다커피', '로즈버드렌탈서비스', '커피에반하다<가든파이브점>', '착형', '라라감자탕', '카페엘림', '폴리카페앤티', '그레또', '슈퍼보드', '갤러리콘서트카페시가연', '토마토커피숍', '모르비도', '주다르', '스타벅스송파위례점', '골드버튼커피', '고메카페', '쏘나이스커피', '갤러리카페900', '삼성OK공인중개사사무소', '아트인커피', '키스', '콜레츠', '미남커피', '제이독', '장미라운지', 'Mea:l', '차이카페', '스카이라인', '카페쟈스', '까페린', 'COFFEEY', '대만며느리', '커피빈코리아양천향교역점', '하우스커피', '에이원커피', '비알브에노스페이스', '리프패럿', '창문카페', '리엔제이', 'BMM카페', '더빈21', '투썸플레이스코엑스메가박스점', '커피아나벨', '드롭탑강남아이파크애비뉴점', '이디야커피영등포본동점', '투썸플레이스사당역', '개구쟁이7080', '도기푸', '카페더브릿지합정점', '자작나무', '슬로우', '르와조브레', 'THEBOTTLEPLACE', '팔백이십삼미터', '언더텐커피', '카페플라밍고', '참좋다', 'espressamente', '카페모빈', '더비', '카페1883', '포포리POPORI', '폴바셋서울세관사거리', '펠리체', '우리동네커피집', '남양유업백미당천호점', 'MMMGCAFE', '메가커피왕십리점', '에페커피', '경호엑스파일', '아현동쓰리룸', '도통사주카페', '쥬쥬바', '애플바리스타', '매산인터내셔날투썸플레이스삼성동우리점', '라떼떼훌랄라', '우향다원', '카페클래시', '브릿지앤드', '뉴욕택시디저트', '스타벅스강남점', '루나모디카', '미어켓파크', '카페소고', '반지카페8그램', '핸드드립리얼커피', '카페타라', '공차교대점', '투고', '베리프레쉬', '갤러리카페나팔', '2막', 'Asthoughlhadwings..', '삼단변신신미쓰흥', '현경개발', '단골커피', '토끼의지혜', '로프트스터디카페', '카페무스토', 'SANDYLANE', '모노치즈연신내역점', '우주라이크커피메드렉스', '카페무티', '영상다방황금단추', '2카페', '초이', '와우카페', '사랑채', '루네쌍스다방', '상상다방', '자바', '카툰앤북카페놀숲', '카페드브리쉘', '팬도로시서울여대점', '카페띠아모', '지얼라이언스', '도로시앤', '슈비두비', '성북동커피', '베이커스필드파미에스테이션점', '쥬씨이대점', '우리동네일등가양커피집', '알토베네', '카페인', '몽바커피', '음큼커피', '쥬씨무학여고점', '고메베이글', '홈앤라이프부동산카페', '루소커피', '리본', '헝그리덩키', '타미하우스선릉점', 'CAFEHWARIM', 'coffeemama', '아브릴커피', '커피빈코리아강남구청앞점', '키즈카페몽', '페이브', '카페보니또', '뮤커피', '티브라우니', '심리카페.COM', '미스터투고', '인타임카페', '토프레소상계백병원점', '뮤지컬카페', '세컨더리', 'M.R빈', '콘레드커피', '스타벅스종로평창', '서울이스케이프룸', '아띠제이', 'SAM', '카페2977', '산다방', '커피그리머', '카페GLAD', '아이에스아비시니카', 'PSCAFE', '버블커피', '카페베네숭의여대점', '만화카페콩툰', '카페오월', '시너리', '카페라리대치점', 'KAFFE#', '공감락까페', '책과커피가있네몽당', '망우다방&일상맥주', '민트프랜트', '설빙신촌점', '커피야석촌점', '커피원', '준스빈', '카페비쥬', '신진커피숍', '센트코리아띠아모한양대HK점', '세인트앤드류스커피', '예담겔러리카페', '요모조모', '스타벅스가락시장역점', '덕카페', '오밀앤조밀', '그레피스', '컴포즈커피구로디지털2호점', '서교예술실험센터무인카페', '해방촌카페으흐흐', '예솔', '스타벅스', '카페그란데', '대지커피숍', '투썸플레이스공덕헤링턴스퀘어점', '밀리언비즈', '프리미엄커피', '아리스타커피등촌점', '경스커피', '커피닙스', '타요키즈카페', '쉐어티', '골든라이언', '베아뚜스카페', '데미타스커피', '배스킨라빈스청량리역사점', '카페예담', '커피이슈', '샌드카피노', '서른커피', '오리엔탈스푼', '앤레커피', '요거프레소대림우성사거리점', '연진다방', '카페하바나', 'US', '커피메카닉[최윤태]', '텅', '에스씨에프엔비이수역DI', '카페옐로우', '까페미루나무', '카페오', '까페쁠레쟝', '커피코트', '스마일빈', '빽다방둔촌동역점', '애견카페개그멍', '버블퐁', '랩', '고촌카페', '카페트인터내셔날코리아', '느티나무', '로즈버드디저트카페', '스타벅스외대정문점', '카페512', '공차바로', '빈트리망원점', 'cafecurve', '제니스브레드', '송정뜨락', '카페플로우', '미홍', '카페루앤비화곡점', '9cafe', '커핀그루나무', '식스플로어', '스페이스PC까페', '까페플라워', '카페티엔', '카페더파크', '커피볶는카페지팡', '쥬시상명대점', '카페다소', 'CUCINA', '커피데이', 'CAFE봄날', '콩장카페', '스타벅스종암점', '더컵스', '브라바아트뮤즈엄Bravaartmuseum', '커피하우스융', '아벨라', '세븐브릭스', '곰식스커피', '단순', '나인헤르츠', '알리바바', '치즈케이크', '럭셔리라임PC카페BIN', '카페글래드', '늘봄카페', '하늘을걷는고양이카페', '플라워카페', '그린프루츠', '커피이레', '바빈스커피홍대역점', '팔롬비니카페테리아', '폴스일레븐', '존스샌드위치카페', '라온', '쥬스식스대륭2차점', '카페파이드', '커피팩토리쏘다방점', '후츄', '라온커피', 'STABLE', '스타벅스신림사거리점', '카페도라토', '20온즈커피', '더북이대점', '스타벅스을지로입구', '벨라빈스커피길음뉴타운점', '아임바리스타', '스노우스토리송파점', '카페제이콥', '기념일프로젝트', 'CoffeeMAMA', '수노', '오멘사', '스타벅스상암디지털큐브점상암디지털큐브점', '공부차', '토즈모임센터강남토즈타워점', '와겐커피', '핑크스토리', '스타벅스중구저동점', '스타벅스구로하이엔드점', 'ThirdIam', '까페울랄라', '스타벅스충정타워점', '카페글렌', '필링', 'CAFECHACHALAMO', '라메종드플레', '사임당카페', '로내펠트티하우스', '테디베어주', '구카페', '아케랩', '카페에이치', '카사란', '티시스식음본부', '로뎀북카페', '테일팟', '카페노니다', '키즈카페주', '에꼴드마카롱', '공주의향기나는카페', '카페라네', '커피빈코리아노원역점', '리나앤세실', '요크커피', '이디애', '고츄러스', '루쏘커피', '고디바강남점', '오보코갤러리카페', '시퀀스커피', '까페더블해피니스', '리틀제이콥스프리미엄서머셋', '미래월드', '카페엔드', '롯데리아', '제이엠제이브로스', '석란카페', '꾸까', '깡통속별별이야기', '엔터하트카페', '청다방', '바꿈카페', '몬스터카페', '닐스', '까', '카페방학', '만랩커피문정', '오설록현대백화점목동점', '커피하우스원', '만모커피', '카페봄이', '카페집', '이화장', '만랩커피나미브', '산유화카페', '오롯이카페', '스타벅스동교삼거리점', '커피인프라하', '커피그래피티연남', '커피홀릭강정', '토프레소양평동사거리점', '엔646', '석원재', 'HOLLYSCO', '호박', '자모크커피', '이앤디', '다솜이야기', '갤러리에스피', '커피B.on.D', '카페유어스', '우주카페스텔라16', 'Juicy', '소월길커피', '카페르보땅', '카페로브', '카페호빈', '모노키친', '카페코지또', '그라찌에덕성학생회관점', '쏘렐라마켓', '베네피츠플러스', '킹콩점프우면점', '에쓰디지광화문지점', '커피품격', '송파다방', '얼스어스', '고담2015', '엔제리너스강남삼성타운', '스텀필즈커피', '커피커플', '탐앤탐스가로수길', '일리컴퍼니', '배재란의coffeecalass', '에스프레소북', '카페이유', '아름다운세상(쉴만한물가)', '알카페', '파이나누기', '카페앤드', '미스터패니', '카페잇', '커피,한송이', '몽모리아', '카페드위드샨', '카페보니또압구정점', '마리아테라스', '스타벅스문정하비오점', '쿡', '카페플리츠미', '이디야커피경희대점', '디저트39역점', '카페218', '콩툰중화점', '리틀제이콥스', '커피멜로우', '아이엠카페', '올웨이즈온', '스터디카페나무앤', '일카페', '이랜드파크외식카페명', 'PALCOFFEE', '크라운', '카페900', 'ZZYZX', '벤투라커피', '커피마마답십리역점', '이디야커피', '메가커피수락산역점', '할리스커피금천점', '까치', '커피에반하다', '망우산자락', '카페자우랩', '비툰', '파르나스코엑스카페', '까페유', '할리스커피회현SK리더스뷰', '커멍', '캣카페양이양이', '훈남', '그린커피코리아', '빽다방구로디지털역점', '기혼COCKTAILBAR', '목화', '케이마트Kmart', '비베이글', '캥스커피집', 'honeycomb로스터리카페', '커피원두도소매', '율리커피', '빠레트', '소보COFFE&DRINK', '쥬씨금남시장점', '키즈카페어린왕자서울대입구역점', '랜드커피숍', '라벨르', 'TIME', '8팩토리', '탐앤탐스목동예술인센터', '깜빡깜바', '에이더블유커피', '백인대장카페', '중앙', '리프커피', '모리나', '8st', '외계인싱글족house', '뽕다방', 'Wesous', '몰리스펫샵', '있소커피', '1인1잔', '한지야', '카페투칸', '에어패스', '선유도커피집은마', '커피볶는미스터김영다방', '카페테니어', 'CAFEGEN123', '엔존', '디캡슐', '까페호빈', '비스토핑Bistopping', '테이스티커피', '블루나일트레이딩', 'DUK커피', '빈틈', '나무향기', '강남면세점커피', '도그원카페', '아더커피', '카페868', '히코코서울역점', '퍼스트클래스롯데청량리점', '벼리스타', '공감커피전문점', '방콕카페', '수노커피', '카페디비베스일리', '토정방', '에이블커피', '어썸차드', '아르케', '까페리옌', '카페라인', '헤이리103커피', 'TBCAFE', '델라보보1', '커피블루', '카리부커피', '티지이카페', '카페체인지', '채트', '카페고고스', '닥터쥬스강남점', '카페마메', '미스쇼콜라', '슈퍼커피종로점', '필름37.2카페', '커피볶는집아띠', '오프셋커피', '물바람이야기', '쥬씨서울시립대점', '물댄동산', '지유명차', '남산스퀘어약국', '플로잉원', '평생직장커피', '카페벨루토', '사주카페미즈', '카페보자르', '만다그레커피2', '조은쥬스앤밀크티', '테크엔원', '오스카다방', '할리스커피장승배기역점', '커피아저씨', '블루오파스타', '카페큐브하우스', '르브레드랩건대커먼그라운드점', '이디야커피신림남부초교점', '비씨800서서울모터리움점', '동진커피', '365씨에이치에이', '공린가', '간단하지만특별한화피디Cafe', '카페파로', '제이비커피', '바리스타', '리더커피', '에스트로', '카페작', '아트엘', '로고스카페', '청자다방', '강남퀴클리', '굿윌스토어', '뉴천지커피숍', '사주카페세일', '엠엠티에이치055', '할리스로스터스스페셜티커피', '그램', 'cafeIYA', '쥬스식스노량진행복점', '에코로하스', '샌드플러스', '오블리비아테', 'CAFEMIE', '레이어드', '부르다커피', '아라커피', '덕수다방', '티키티키', '후르츠팝', '나눔문화', '카페더램프', '하이제씨', '허슬버슬', 'SOMETEA', '와플에반한커피', '카페H', '창조의샘', 'HotelDouce오뗄두스', '진영', 'LaundryProject', '프레도&토스트', '탐앤탐스탐스커버리광진화양점탐스커버리광진화양점', '카페반', '수애뇨339', '빽다방명동중앙우체', '스타벅스숙대입구역점', '행복나무', '올다커피', 'GOURMETdeCOFFEE', '카페콘디토라이', '장미', '스타벅스신림점', '블럭캠퍼스마곡', '바빈스커피', '컵앤커피', 'CAFECODE', '소담한풍경', '이니그마', '놀숲신사가로수길점', '커피림', '카페올소', 'GENERUSCOFFEE', '쇼앤톡카페', '티나모우', 'MOSOCOFFEE', '달달한오후', '홍루이젠', '댓라인', '리파인드', '우리커피숍', '배고픈사자', '카페도하', '커피볶는파티쉐', '구름카페', '지디패밀리', '까페지유', '배롱나무', '까페업', '도본', '카페쿠스토', '군인공제회관카페', '정인카페로뎀', '유아히어명동본점', '장수부띠끄', '잡동산', 'COFFEEONLY', '바리스타마르코공간', '코코브루니압구정점', '시그니처커피', '스터디카페', '난플라워카페', '샌프란시스코', '카페베네마포도화점', '별콩다방', '트라이어게인커피', '카페마리오', '퓨엘앳센티넬IFC', '동백양과점', '스트렝스커피', '커피플레이버', '카페디키미', '에이유', 'Cafe잇서울의료원점', '더불여', '카페토르토니', '카페아프리카', '굿럭커피', '꼼작', '샵1129-1커피', '까페코이노스', '바토커피점', '커피폴리', '카페다미', '북카페레벤', '카작', '씨키스커피', '쁘띠올리브', '카페보니또코레일본사점', '카페매화', '베거백', '풀하우스', '잉겔스', '카페타루', '큰나무', 'ASHCOFFEEHOUSE', '어벤더치', '셀위', '화이트브릿지커피', '인생이야기', '북카페서원', '앵글러빈', '쥬스식스커피식스', '비라운지', '지오커피', '카페쎄리오', '원달러커피클럽', '잇.', '카페상베르', '524', '카페숲', '비늘', '오르앤지드', '마치래빗샐러드가로수길본점', '더카페역삼이마트점', '오페뜨이수점', '호디박스가락점', '카페본스', '효다방', '왕의커피', '우희다방', '드림스페이스', '삼성웰스토리SDS서관커피&', '맨투롱', '희다방', 'cafehill', '카페그램', '다산카페', '열정공장', '녹스', '커피빈코리아선릉로93길점', '위드미', '카페플로리', '수카페', '크레마181', '카페랩', '행운로또복권판매점', '에스카페', '나인스트리트', '부동산카페', '쿠스톰커피여의도점', '커피리', '목', '프라우스타', 'faithcoffee', 'CafeRoyalNature', '생활커피마곡나루역점', 'PAULSCOFFEE', '카페파스쿠찌', '카페오아시아피앤에스', '베네브바이오랩', '카페테라스오늘', '레스카페비앤케이', '라라브레드', '수피아', '카페그레뱅', '법향', '산도이치&커피', '더진스커피', '카페문라이트', '엔포커피', '윌러스', '하이페리온커피', '그리다꿈미술', '하이버', '리스펙트커피랩', '멍프린세스', '붐커피', '장미다방', '스피티', '디아트', '스노우폭스플라워스', '선주카페', '투썸플레이스압구정로데오역점', '커피베이시립대점', '위넌스터디카페', '콘크리트108', '커피상사', '커피집오후2시', '올바른커피', '스몰카페', '블루노트', '로저스타임', '친구네놀이터', '바니카페', '윤', '스타벅스미아사거리역점', '사이드테이블', '팡뜰리에', '집쥬스', '하이디하우스', '에이엠쓰리', '카페코바', '눈꽃마녀동대문점', '삼청각다원', '아이크스커피THEGARD', '더카페36.5', '디드릭로스터스커피', '카페모넬린', '스타벅스신사가로수점', '미싱노리터', '한방좌훈카페', '향기', '카라', 'Bean tree coffee', '이츠굿베이커리카페신내점', '쥬씨녹번역점', '루노커피코어', '주미', '카페박마담', '홍콤바인', '라카페', '망명정부', '빈투스커피', '피프티', '아키커피', '소로앤노호', '폴바셋청담점', 'cafeZygo', '카페앙코르', 'FrenchBakeryCafe', '아우트커피', '크리미티', '까페데미타스', '매머드커피본사', '커피버넷', '투썸플레이스화랑대역점', '로얄커피숍', '더만듦데코덴카페내맘케', '성공을도와주는카페', '카페나무/중곡제일시장아리청정협동조합', '록원다방', 'FSAS', '카페프리다', '피디가커피를내리는이유', '요거프레소화곡푸르지오점', 'Cofeeniecafe', '이도카페', '보헤미안', '히읗카페', '매머드커피삼성역점', 'CafeDD', '운주문고BOOKCAFE', 'WHATUWANNA', '카페알럽라떼', '피오나가가져다준행운', '우스블랑', '카페베네청담역점', '카페필로네', '카페이즈보르', '카페프로기', '라페스타', '카페문', '아로이커피', '종로다방', '이디야커피용두점', '현대', '카페루소캣', 'cafeCREAM카페크림', '커피에반하다중계점', '허스', '셀렉토미아점', '셀렉토커피', '윤커피', '강현지앤씨스무디킹홍', '수다방', '단비', '시드투커피고', '카페드루와', '더스터디카페', '사내카페푸른수목원가든카페', 'MMTH커피', '림스커피혜화', '어울림카페', '구내다방', '로스팅데이신도림점', '꽃카페JE', '베이브', '체리블러썸', '커피베이강서공항점', '약속', '돌담커피', '소셜카페', '누죤떼루와', 'e-갤러리사주까페', '삭제_커피베이', '빨강커피앤', '이디도커피코리아', '엠티시스템코리아', '슈퍼커피신도림푸르지오점', '파티세리', '폴바셋롯데마트양평점', '모어댄덕', '공차광운대점', '티라레미수성수에스팩토리점', '커피핑크', '스타벅스압구정로데오역점', '커피나무장안교점', '다니엘미카엘', 'Cafe도로시', '빙달눈꽃빙수', '맥널티커피팩토리', '콘레드커피영등포', '오캄앤티', '금보성아트센터', '융드립커피', '카페프린세스스토리', '할리스커피문정테라타워점', '더치앤빈스', '느린내림', '컵오브커피', '씨앤지풀서비스흥국제선점', '커피빈코리아합정푸르지오점', '갤러리83', '스타벅스커피홍대역', '쥬씨굽은다리역점', '콩두', '위키드스노우', 'CAFFE모꼬', '하루에', 'TheCupStory', '투썸플레이스판교SK', '라떼킹', '마이하우스카페', '맛남다방', '커피식스', '김화자카페', '씨애틀즈베스트커피대사관점', '고프리', '제이디커피', 'LENTE', '별', '몬스트룸커피', '타임TIME', '가비애커피테이크아웃공장', '희와래커피로스터', '알프레도커피엔와인', '사주카페갤러리', '라르고', '작약', '분나', '힐링카페지유', '에스씨커피', 'LPMUSICCAFE', '성덕정길', 'W2', '굴리엘모', '미스터빈커피', '카페토스피아대학로점', 'COFFEELABROASTERS', '까페슬로비', '꿔다논커피자루', '커피코트서초애비뉴점', '카페센티모르', '파스구찌', '동광커피숍', '수련찻집', 'G-CAFE', 'PB산림욕힐링카페', '서아이디야', '카페블레스', '커피올로지', '스톤커피', '빽다방신림역1호점', '별라카페', '로얄네이쳐카페', '백조다방', '플루토', '칼디하우스', '커피콩깍지', '카페죠꽁드', '플젠24', '콜마커피', '세루리안앤드팩토리', '슈슈컵', '라티커피숍', '커피볶는집COFFEEIT수', '설화랑', '에이치에스커피', '커피솔브즈에브리띵', '루트커피', '형광커피', '카페엘리', '에스엠', '커피식스도봉역점', '비젼카페', '주스팩토리', '진주커피호프', '카페앤블라썸', '티22233', '커피사', '독립문커피', '보노보나마포합정점마포합정점', '융', '투썸플레이스사가정역', 'COFFEELAMB', '등대만화카페', '쥬씨군자역점', '리앤베이크', '엠오리진', '드플로허', '카페트렌디', '투썸플레이스잠실역점', '커피안바우', 'RuLuLaRA', '쥬씨명일동점', '버니빙스', '아이스크림', '르샤카페', '카페델씨엘로', '나이로비', '톡앤톡커피앤티', '연꽃향기', '완나카페', '커피스토어네모', '코나코모', '투썸플레이스종각역점', '사주카페', '까소엔더카페', '튠업카페', '쑤앤쑤', '커피십오일', '국화', '아르디카페', '에이스커피', 'MU커피', '아이엠바리스타', '경북궁앞무드리카페', '일육공도씨', '이랜드레저비스외식더카페', '카페다', '라나이카페', '메이슨드기기합정교보문고점', '모다기비', '셀렉토', '공차현대백화점신촌점', '디아트카페', '재미로테이크아웃', '커피더캠프서소문점', '파크카페', '클라소피', '카페난난', '안젤루스플라워', '커피디엔에이', '카페앤갤러리', '카페BONBON', '제이앤와이카페', '클로즈앤커피', '23홈즈', '커피그리다', '어투썸플레이스', '스터디카페북킹', '상봉맞이방커피', '까페마당', '지스바이', '커피베이강북인수점', '룸카페', '인트로', '맑음', '카페엠', '카페로드', '백미당강남358', '서울커피', '맛카롱', '올스톤커피하우스', 'Confezione', '스노우무무', '카페:인', '멜트커피', '카페레오', '블뤼테', 'cafe,끌림', '지브릭커피', 'SUDA커피전문점', '만랩커피묵동점', '인디커피푸드트럭', '조광', '북까페산책', '옷장속커피', 'CoffeeBreak공간', '커피빈코리아뉴교보타워옆', '피플', '보니에', '하정빈스토리', '청소년휴카페꽃다방', '디저트카페A음암점', '탐앤탐스대한항공서소문점', 'BeansGarden', '홍콩반점&빽다방', '아티젠', '투썸플레이스가산대륭18차점', '스타벅스학여울점', '델리', '백미당', '카페테리아', '브리즈브이알까페잠실새내점', '74시즌으로', '선인장', '커피더캠프로스터스&마카롱', '커피쟁이', 'HOTELTHEARTIST', '카페리사', '디터틀', '카페다올', '카페노마드', '탐앤탐스천호로데오점', '이네카페', '머린', '꽃밭에서', 'TicToc게임클럽', '라부에노', '평택쌀빵', '모모웨이', '모퉁2', '서교동모형다방', '카페한보리', '오가다문화일보점', '투사이드카페', '신라스테이서대문까페', '웨슬리커피앤티', '333', '마당', '미도다방', '도티카페', '그리다꿈강남구청역점', '팔공티상암점', '고양이똥커피상점', '훗닭피자카페', '카페일소뇨', '컬러미마인카페', '커피마드레', '토브커피', '마더스커피', '봄꽃스토어', '카페테리아스테이션', '토즈비즈니스센터홍대점', '하루', '알뤼르', '데어카페', 'Bingo', '힐링앳티파니스', '닛시카페', 'CF230커피', '커피를찾는사람들', '금산인삼집', '커피스미스석촌호수점', '쁘띠꼬모', '단델리온', '원더월커피로스터스', '까페베르떼', '카페베네송파구청점', '브리즈피씨카페', '마카롱스퀘어', '선', '와이즈커피', '백미당엔터식스', '로이즈', '할리스', '달콩커피', '카페오아시아떡찌니', '크라운커피', '아이언', '다브앙', 'CAFEW', '파스쿠찌서울대병원점', '유달리', '플러드엠', '티빠', 'cafedeJura', '이디야커피자양동점', '까페두', '탐앤탐스회기역점', '커피섬', '스터디카페S', '커농', '커피마마창동우리집점', '허', '스타벅스건국클래식점', '로스팅카페', '킹카페', '백송다방', '홈', '커피주아', '이비엠', '퓨로쥬스퇴계로점', '코너빈', '맨케이브커피', '카페T', 'chewychewy', '쥬씨중화역점', '플라타너스', '행복추풍령카페베네직영점', '아도나이', '돌다방', '열다방', '커피가맛있는집', '꽃커피', '토프레소방학역점', '커피가게', '카페온도', 'CNNCAFE', '할리스커피신림고시촌점', '카페드림고려대학교점', '카페야미', '베이지', '보드게임카페클루', '올넥스트', '히루요루', '매머드커피서일대점', '티파니', '로사퍼시픽생명연장', '빅브라더문라이트', '썰쓰티', '이디야커피개봉북부점', '리디아', '초이에스프레소', '까페낮잠', '수제상점행복담아', '닐리스커피', '띵낑커피', '꿈도미노카페', '커피본', '홈스테드커피', '놀숲노원역점', '밑업', '카페고마워', '아리미디저트', '카페24/7', '여기쯤', '프라한PRAHRAN', '카페미토', '카페제이', '잠바주스', '바이림', '퍼즈카페보라매점', '커피린', '카페타세', '유당카페', '보데이셔스', '우리동네그림가게', '삼거리커피숍', '카페쿠헨', '수퍼커피', '카페락앤락', '파이브플로어', '카페민', '핵커피이대엘', '신세계푸드건국대까페에델리아', '카페룸1024', '후엠아이', '플로워', '케미스트리비트윈어스', '제이아', '프렌치마켓', '스타벅스청담사거리점', '길다방', '커피91스토리', '쥬씨용두역점', '스타쿠빙커피전문점', '구대회커피마포', 'COFFEEN', '레드망고', '오다가다', '카페미소', '에잇디카페', '데쏘', '커피가르텐', '귀젤커피', '행복떡방&카페', '크레프트카페라온', '삼성웰스토리세스코카페', '더치랩', '더착한커피신촌점', '띵똥와플본사', '카페소파', '로즈버드고려대점', '구엄품', '만랩커피마곡LG사이언', '카페아드망', '신양커피', '카페지애', '마도', '카페설기', '전광수coffeehouse', '나이로비커피', '에프엠에스', '빽다방성신여대점', 'PHILCOFFEE', '디초콜릿커피앤', '투썸플레이스콜드스톤크리머리', '카페더롤', '반달곰', '숲속도서관카페', '까페바소', '드웰러스', '스타벅스커리학동사거리점', '백송커피숍', '커피만성신여대점', '더카페이랜드레저비스더카페네티션닷', '윌리스바', '스타더스트', '피터패트', '셀렉토커피강동구청역점', '요거프레스', '아이앤맘영어카페', '카페빈스트', '부엉이빈커피', '차나무', '점보카페', '삼도커피숍', '카페팟', '빈스벤치커피&부페', '작은섬', '한아름커피숍', '카페잼므', 'BOCCAZONE', '마이북카페', '라운드브릭', '카페IMT', '카페공린가', '스트릿츄러스홍대영풍문고점', '컨템포', '비마이플라워', '컴포즈커피마포점', '유명다방', '오드리까페', '커핀그루나루리미티드버티고', '오하이오커피', '더카페샤빌레', '오흐뒤구떼', '남산상점', '에이치큐브', '동구전자티타임', '커피와츄러스', '코와핀', '소소한', '샵브이알', '강북청소년드림센터움카페', '베이커스보이', 'HERESURCOFFEE', '폼앤드후릇트리', '토토카페', 'GE4ECOFFEE', 'THEVENTI', '위미', '하늘커피', '애플파이', '일커피앤띵', '서울에소프레소', '장수차생활', '디초콜릿', '옐로우문', '스타벅스W-MALL점', '할리스커피베네시티점', '뮤르뮤르', '카페595', '디저트39군자역점', 'JAVACITY', '모노치츠', 'cafe멍', '새싹까페', '라조', 'LOOKANDEAT', '동양방앗간', '커피볶는미스킴', 'CNNCafe세빛둥둥섬점', '카페656', '커피드림', '커피로드463', '상상아트홀카페', '소울클럽', '오롯이', '매머드커피강남대로점', '리틀비틀', '퍼핀카페', '폴바셋코엑스몰점', '데일리브라운', '아이러브참', '북카페다독다독多讀茶讀', '이디야커피동소문동점', '카페베네암사', '벨벳문', '루츠커피로스터스', '앙코코', '카페도쎄', '3poppc카페', '생활커피위례', '이브다방', '투엑스커피숍', '커피그루나무', '쥬씨신대방삼거리역점', '반포동커피', '언니네커피', '라운드어바웃', '아리따움', '커피꼬모', '베니키아호텔까페', '스탠딩커피', '카페오아시아', '백미당현대천호점', '카페잼잼', '삼성웰스토리고려대신의학관Coffee&', '라페뜨', '헬스케어카페', '스타벅스노원케이티점', '비-사이드', '길', '오케이라이브카페', '카페제네', '카페유', '빚은', '카페마루', '현다방', '림벅와플서촌점', '스카이', '동림커피숍', '어반라이프', '제퍼빈스', '루소커피랩학원', '남양', '마미스카페', '커피해바', '로코민트', '우리라운지', '로뎅커피숍', '아름다운꽃', '크럼브', '커피커넥션', '카린', '달리는커피', '활짝핀', '메머드커피', '커피볶는카페', '카페비긴', '스무디킹이마트가든파이브점', '로빈', '커피볶는곰', '길동무버즈', '카페더스노우', '투쓰리프레시커피', '카페소피', '소라다방', '카페브링', '마망베베키즈카페&킨더레고팡', '토이셔', 'Thursdaycoffe', '스타벅스청담영동대로점', '5BONG', '엔제리너스건대스타시티', '귀빈커피숍', '예일커피.호프', '토노토커피와인', '빈스앤코퍼레이션', '카페빅컵', '더라임', '워킹타이틀', 'DCOFFE', '오목눈이', '라로즈플라워앤스쿨', '위딤', '파비욘드갤러리카페', '영인성', '플로바리스커피', '홈스테드커피삼청점', '카페라온꿈', '바랑커피', '카페노리터', 'CONERBE코너비종로점', '말로야', '맨즈비커피', '더치앤빈신도림점', '커피플', '에이쓰리커피집', '원추', '아로하아이스앤커피', '카페그린', '제네카페', '아임일리터', '메이랩', '애니그린', '커피박스커피전문점', '젤라떼리아에따', '더컵스토리', '조은카페', '모리', '엔제이커피', '글로리아진스커피', '주시브로스GFC점', '커피력', '커피주네', '상록수커피숍', '아마스빈대치은마점', '디저트,지안', '와플앨리', '버블톡', '오설록팩토리', '커피비에이', '커피볶는이유', '카페식스틴', '고이서촌', '4도씨더치커피', '폴바셋롯데몰', '나폴리다방', '카페홉슈', '커피바이커피', '커피앤모어', '마키아티', '캣츠커피', '청량리롯데백화점엔제리너스식당가점', '헤브어바이트', '명성인터내셔널던킨', '홍다방', 'R카페', '스타벅스서소문배재점', '카페라부에노', '이웃집바리스타', 'CafeMODERN', '코이노니아', '코스믹라떼', '카페바이쏭', '카페시모', '에델리아카페', '죽앤카페', '호미빙', '투썸커피여의도IFC몰', '지혜나무카페', '롤앤브래드리퀴드', '태미스', '츄로킹', '어메리칸에스프레소', '카페루카코리아', '더드림', '할리스커피한양대시티빌점', '비에뜨반미합정교보점', '카페란스', '라온컨설팅그룹', '아름다운가게아름다운커', '만화카페벌툰', '블라썸컴패니언', '엔젤리또', '카페로떼', '미니다방', '어반테라스', '오츠커피', '플로블랑', '동서울호텔 커피숍', '다빈치커피', '꽃뜨락', '최강커피', '일루전이스케이프', '예랑떡카페', '마실', 'INTRO', '주스솔루션CJ오쇼핑사옥점', '종이비행기', '오프로드커피', '카페이마', '대박이네', '코믹베어', '치즈카페썬리치', '알랑가', '프리미엄에스프레소', '커피카파', '엠디오', '더베네푸드', '프레스카투', '바나프레소', '심리치유카페멘토건대', '엠케이에스행복제작소', '파스쿠찌연세세브란스2호', '목카페', '제트오오COFFEE', '카페베네화곡중앙점', '꿈커피', '블랑블랑카페', '미선이BAR', '해초공차6.0', '달근프라페', '예술담소', '생활창작가게키', '코코빙압구정점', '니들누들', '멀티까페놀러와', '신세계푸드넥슨아이타워', '산이', '노랑카페', '제퍼커피', '컴플렉스2', '더비스킷카페', '오렌', '카페아르떼', 'ELCAFECOFFEEROASTERS', '유투', '스타벅스강남에비뉴점', '알뜰포차케익까페', '커피운', '라치나타', '최가커피', '까페뷸라', '스타벅스커피여의도IFC1F', '쥬씨안국역점', '스타벅스신촌점', '프로젝트얼스', '카페키이로', '까페화덕', '열린사회엉클호', '카페베네천재교육점', '서점카페책과삶', '카페홍', '빽다방태평로점', '헬로우커피', '이름없음', '아가랑키즈클럽', '에무', '카페더라온', '라윤갤러리', '바리스타마르코스토피아점', '프라넬', '씨27', '구다시십', '허바허바', '리즈카페', 'Coldstone', '스윗트가든', '마이미미다방', '히코코커피', 'CAFEBLOG', '컴포스커피수서점', '카페스콘', '커피칼라', '워너커피', '오가다롯데마트중계점', '커피한', '필로커피', '로뎅', '퍼즈카페', '커피빈치', '부부커피', '스시오가다', '글로와', '네모', '하빈', '타로', '카페퍼블릭', '한마음맞춤운동센터', '파스쿠치커피숍', '모노치즈', 'ISOMCOFFEE', '굿브랜치카페', '카페케이', '비엘에이커피', '20온스', '커피동행', '탐앤탐스삼성오라클점', '위플래이스', '카페인시애틀구산점', '마차', '꾸까카페', '커피엔샐러드', '잠실마루쉼터', '스위티', '지니어스커피바', '제이커피하우스', '스노잉스위트', '문화커피숍', '탐앤탐스탐스커버리아셈타', '홍지문카페', '압구정커피볶는집', 'EAT', '브라운카페', '러브컵', '이리온', '엘시아커피', '도리스커피', '그라찌에커피', '르브레드랩', '애견카페서울리버티벨', '스타벅스대치점', '투썸플레이스발산역점', '커피클라우드', '커피로', '인테리어디자인수다', '이유콜렉션', 'CNN카페명지대서울캠퍼스점', '카페50', '700요트클럽', '카페톨릭스', '커피그라프', '이엔지카리브커피', '보다카페', '여름커피로스터즈', '벨가', '카페하랑', '코지', 'wildmulbluecha', 'Parlorm', '마이카페위드티에이블', '스프링블룸카페커피수점', '카페마레', '커피플랜트', '커피의신', '아이센스PC방강남역점', '카르페디엠', '벨루토커피숍', '로맨틱커피', '코니써', '직녀까페', '커피파는고양이변경전', '탐앤탐스강남관광센터점', '커피레오', '카페프리아스', '닥터로빈', '스무디킹키자니아', '음미커피', '아티제여의도롯데캐슬점', '소금다방', '에이블커피그룹', '식품명인체험관', 'SICILY', '커피하바나', '아침이성저녁감성', '카페드롭탑송파가락', '디카페아날로그', '할리스커피이수역점', '쁠로13', '메가엠지씨커피금천롯데캐슬', '더벤티', 'MMTH양재시민의숲', '카페아모제롯데미아점', '카페이루카', '커피드아시아', '훈고링고브레드', '커피볶는카페수다', 'CHOIBREWERSCOFFEE', '카페리빈', '바람', '커피브루어', '토크하우스', 'DONCAFE', '증가로커피공방', '더카페야THECAFEYA', '화이트하우스', '이화다방', '상아탑', '타요더카페청량리점', '프로퍼커피바', '앳더블랑', '빽다방역삼테헤란로점', '루트세븐틴', '난곡제과', '친절한커피집', '커피네이처', '빽다방중계은행사거리점', 'DEAR카페', '카페디엠', '325카페', '드레스카페', '터보힐링', '플레이도키즈라운지', '우성커피숍', '보나비아티제상암', '에스프레소코아', '엘리스스픈케익&커피', '투텍스처', '카페아라', '쥬씨고대점', '커피공화국', '카페인시애틀', '토마조앤김', '포우어', '피그말리온', '신바람LIVE카페', '버드', '커피스크립트', '카페395', '달콤퐁당', '키즈카페폭스맘', '대한다업필동티카페연구소', '어반앨리스', '커피빈코리아역삼동태광타워점', '카페여유', '쥬시생과일', '35커피', '산드라', '커피논현로', '저스트어모먼트', '본디', '카페이스턴사랑의열매점', '몰로컴퍼니', '라떼처럼', '아이스베리', 'pitstop', '준스와플', 'cafehoyacooks카페호야쿡스', '쇼콜라봉봉', '지구별고양이', '오에스인터내셔널카페데베르', '커피버스', 'Cafeit', '세컨드홈', '주커피압구정로데오', '케이팟커피', 'CAFE甫', '쁘띠크', '오렌지향기는바람에날리고', '케이비피', '더불어숲', '복다방', '엔제리너스강남역사거리점', '로즈pc카페', '커피나무상도2호점', '오늘도커피', '아이스빈', 'Magnumseoul', '인피니티피씨카페', '뜰가든', '안단단맛', '쥬씨송파역점', 'HN카페', '루시', 'paulbassett', '빽다방서울과기대점', 'CACAOCLOCK카카오클락', '모코커피', '우종호커피', '할리스포이사거리', '스타벅스압구정로데오역', '푸어스테디인뉴욕', '제이커피', '커피인더카툰', '탐앤탐스트레블', '언더그라운드', '카페바이한성', '담쟁이북카페', '평범한카페', '탐앤탐스문정로데오점', '미스터제이디', '카페브릭', '카페마노아', '에나꼬레커피', '할리스에프앤비신촌점', 'CAFEBOM카페봄', '애궁카페', '테라스', '라이언컴퍼니', '카페가가', '커피13온스', '마들까페클럽', '아름나라', '할리스커피용산더프라임점', '공차어린이대공원역점', '달나라고양이', '코드크레인', '비거커피', 'TOAST&COFFEE', '비스위트', '어드림오브시드', '울어비웃카페', 'Mmth', '애니', '티렉스', '디파이닝모먼트', '10스퀘어커피랩', 'test', '프리카페', '아리가또', '문화공간북악하늘', '더브라운카페네스카페', '무자커피', '상수동까페', '봄봄커피숍', 'CafeDudart', '미도반반찬까페', '커피디엔에이로스팅컴퍼니여의도점', '백포티', '빈스빈스커피이대점', '골드브라운', '보그너커피상도동점', '청계다방', '요거프레소건국대점', '지니어스커피', '바빈스커피문래점', '옐로우트리', '살레시오수녀회카페마인', '드롭탑서여의도점', '해방촌이야기', '클렌치', '판화사랑방', 'Butterfly', '자연향', '수제와플바리', '커피유', '세시셀라도산공원점', '뮤랭', '마망레브', '에이드립까페', '오르페오', '샌프란시스코플라워', '카페마나갤러리', '카페피렌체', '비피커머스', '마이커피스토리', '도피오카페', '85도씨아띠', '신맥', '프루토선릉점', '바나나다방', '마크앤프랭크', '꽃을바치는시간', '달조각', 'Cafe요거프레소', '더블루라운지', '익.coffee', '알렉스더커피', '커피투고', '샌드앤커피', '한국커피문화진흥원', '커핀그루나루대학로점', '스타벅스중계역점', '스타벅스목동점', 'EllysCoffeeN', '폴링커피허리우드점', '팡오르방', '올드뮤직카페', '헤픈커피', '떼루와종각점', '그레이스커피', '카페투', '고양이카페', '컴포즈커피', 'Roi:후아', '요거프레소대치사거리점', '쥬씨문래점', '츄잉타임', '조엘커피', '55커피로스터스', '희망나눔카페하랑', '데미타스커피상암DMC점', '커피프럼', '소담떡방', '테지움', '카페MJ19.4', 'LEE카페', '피어커피1호점', '이디야커피광산사거리점', '앤드커피랩', '카페드롭탑', '블랙앤브라운', '카페자스광화문', '벤', '공차', '쪼마', 'Sarr', '커피지원센터', '샤갈의눈내리는마을', '히코코', '쩡S92℃', '스위트번스', '파워플랜트디저트', '카페더블링', '따스한차한잔', '아라코', 'Coffee3Times', '블랙라인커피', '인사동풍경이있는찻집', '할리스커피발산역점', '카페그림과꽃', '배스킨라빈스불광', '킹조지', '카페유노', '카브', '엘에스씨푸드티타임동아', 'PUSE', 'Sen', '책마을커피점', '더파빌리온', '호밀호두', '커피노트', '모스버거종각역점', '이오의아침', '스타벅스광화문점', 'TAETEA대익보이차', '콩깍지카페', '엔뉴까페', '커피볶는곤이네집', '코나빈스', '이디야커피강남역지하상가점', '공차국악고점', '문래동의커피향기', '커피엔드붕붕', '테라로사여의도지점', '지니스', '명물다방', '에아미스커피', '만만한장어', '드렁큰독', '로스팅포인트', '이디야커피신림중앙점', '발음북카페', '바리스타마르코지니24', '아이프', '더쏠쏠한카페', '더브라운', '카페클라츠', '아이에게디디피', '지져스커피', '인테스커피', '삼백커피오륜점', '365차버블티', '플라워에이일공오', '애드리안윤', '아메리칸트레일러홍대타임스퀘어점', '에이아이디카페롯데월드몰', '송아지커피숍', '커피를들다', '마고이어라', '커피빈코리아도곡동지오빌딩점', '하우스칼라', '아리스커피', 'CAFENOA', '현명커피', '그린커피', 'Lcafe', '중촌가는길', '탐앤탐스수유역점', '올빛', '더스토리지', '우주라이크커피', '수에무와', '오늘도,내일도', '아이커피샵', '일층카페', '씨나본', '호박방커피', '믹스앤베이크', '위드카페', '아덜스타임', '에잇어클락', '월드컵공원별자리카페테리아', '카페비기닝', '밀로커피로스터스', 'NEWYORKSUB', '배오개', '동도카페트', '이씨씨스무디킹', '커피롯', '판다', 'Dutch&Bean', '다빈치', '시심트리', '카페로이스', '카페쉐이드트리', '라이프커피컴퍼니', '스타벅스신압구정점', '개성평통보쌈', '꿈꾸는리틀피플', '맘모커피&펍', '푸드카페', '커피토아', '커피앤십자수', '알서림', '전통찻집', '쥬씨화곡시장점', '폴라리스', '카페토니', '커피앤드힐', '정이네커피상점', '코렐원두커피', '카페오리', '소극장', 'COMPLETE6.8', '이디야커피은행나무사거리점', '작은커피집', '커피여기!', '카페드람브르', '카페웨스트브릿지', '킹스커피동양미래대학교점', '라벨라양재하이브랜드', '한방애차', '멍멍이다방', '카페하임', '밀리타전시장', '카페드아야', '쥬스에게청혼한과일', '와이파이', '요거프레소길음뉴타운점', '발리커피숍', '앤티앤스프레즐', '스타벅스구파발역점', '칠그램', '레전드PC카페', '달콤커피삼성점', '고릴라유아체육카페', '탐앤탐스도산사거리점', '울트라커피', '카페스튜디오', '마므레', 'COFFEE&WAFFLE', '샐러브001', '라스커피', '초코렛카페', '콜롬비아스페셜티커피', '굿푸드앤카페', '셜록홈즈', '고고스카페', '엔조이', '투데이스커피', '엑소엑소', '카페젤라', '한나공방', '쏠레커피숍', '메가커피홍대입구역점', '투썸플레이스카페', '스무디킹중계롯데마트점', '트레블카페', '계동13', '더커피', '포래빗', '생활커피학동점', 'bluetable', '9HERTZ고려', '연남다방', '찬합', '스타벅스문정역점', '몽키바나나', '카페라떼', '카페베네천호역점', '오플로-서울커피', '미스터브리즈커피성산점', '구동커피', '티스', '더팥', 'Cafeflat', '모노레일에스프레소잠실삼성생명점', '시노', '커피코트문정테라타워1점', '베네', '큐브', '코지사주카페', '정희커피카페', '노스페이스', '카페350', '투썸플레이스옥수역점', '카오COFFEE', '공간PC방', '카페오스', '배스킨라빈스', '반달곰커피전문점', '롯데칠성음료', '루앤로', '힐', '섬만화카페', '투톤', '까페강남방', '휘카페', 'Quilterscoffee커피를누비다', '원제이카페', '더즙', '구할구', '골든라티오', '함께커피팜투컵', 'BREADFORYOU', '카페작은마을', '아마스빈여의도2호점', 'CAFE,The1stCare카페,더퍼스트케어', '비츠앤바이츠', '카페게이트신라스테', '던킨도넛', '마다가스카르', '투썸커피', '쥬씨순천향병원점', '르카페디스', '말리카', '마틸다엔와이', '티오티', 'G커피샵', '나무와인', '동호', '카페이너스', '카페메모리', '커피볶는고양이커피', '북한산둘레길까페', '카페샤빌레', '청솔', '파티오', '크린카페', '카페순이', '설빙약수역점', '두소카페', '돌스커피', '엘림', 'BARISTA', '스타벅스명동메트로', '민들레영토그신대점', 'cafe제페토', '잉글블럭&카페', '카페하얀', '오페라빈', '온기경', '카페로로', '허니네커피', '피디스', '카페브람스2층', '군산카페', '큐브이스케이프', '아미띠에카페', '헬카페', '참된커피', '카페띠아모고대경영관점', '투썸플레이스남산트라팰리스점', '원효로COFFEE', '카페런드리', '퍼니펑키', '카페투샷', '토즈신촌15센터', 'Lowergarden', '모던바이츠', '카페인클럽', '커피큐브', '경향', '제이엠커피', '종점', '디오즈캣', '쿵푸티', '성북동연우재', '마리웨일237', '더쉼카페', '더모스트커피', '저니', '노남갤러리앤드커피', '모리티아', '커피베이강남역삼점', '옹심이', '샘터', '엔제리너스명동L7호텔점', '오설록티하우스명동점', '호즈', '아모제푸드잠실야구장점1루카페아모제,레드스푼', '카페필름포럼', '오슬로', '비비엘프로젝트', '제노PC카페', '이디야역삼플래티넘', '몰루카', '에이엔', '카페아지트', '만델링커피코리아', '파스커니', '압구정볶는커피', '버즈에스프레소', '도우넛카페', '대용이네호두과자', '아쁘레', 'Cafeyogi', '카사빈', '커피오즈', '투요', '다정한오후', '글로리아진스커피여의도점', '헬로우슬라임', '야고비네', 'OvenDays', '클럽핸즈', '들꽃누리', '드림하우스', '라고샤', '셀렉토커피성수하이엔드점', '에떼616', '토프레소방이시장점', '카페그물코', '단미커피', '카페가비애', '라바짜블루코리아', '카페아띠지아노', '카페인버스', '커피엔수다', '까페라운지', '면목제4동주민자치위원회', 'fiat피앗', '스타벅스사당점', '스타벅스홍대갤러리점', '노닥거리', 'EERT', '미스터빈', 'coffeeFill', '나라씨카페', 'ARISTA', '아이비', '에쎈', '커피디저트', '알틴', '꽃', '일점육일팔', '바리스타마르코', '토즈모임센터신촌본점', '르카페', '카페멜로우', '딴지카페', '티츄리카페', '마크레인커피', '모히또바인오션', '에이치커피쥬스', '마고카페', '카페아모제', '아스트로노머스커피', '카페potential', 'THEBAKE', 'AREACOFFEE', '카페POC', '니드카페', 'LITTLEBYLITTLE', '정원', '싱글오커피', '컵오브커피동소문동4가점', 'Cafeumplate', '빙스퐁', '달콤한일상', '커피베이방학성원점', '카페오페라', '큐커피', '슈커피', '타미하우스가산에이스', '카페소싸이어티', 'COFFEEFARM', 'TOBIAH', '커넥트투', '한여름밤의꿀계동점', '베네토', '콩스', '슬로비생활', '송스키친', '커피팩토리쏘', '쥬씨장승배기점', '욜로스커피', '커피파드', '럭키스터디까페', '차휴', 'CODE101', '레이블커피', '카페플래닝스쿨', 'OFete', '키미', '디카페', '마이빈', '퀸커피숍', '애플트리', '카페모모', '연희커피', '참스큐', '마노핀익스프레스압구정역점', '빠뜨릭스와플아일렉스점', '떼루와본사', '베스킨라빈스', '캐츠카페', '공부찻집', '봄이', '카페다독립문점', '썬플레이하우스카페', '달콤커피신대방점', '캐스팅', '양이양이', '투썸플레이스충정로역점', '카페베네서남병원점', '바그다드카페', '팩토리커피', '삼성웰스토리SDS커피&', '미어합정점', '씨엔엔카페고려대서울캠퍼스', '몽쁘티', 'lamp', '씨루씨1', '코리아나호텔캐터링지점법', '서울창업카페', '무늬공방까페', '도화타워까페', '리필&빈', '하루샐러드', '킹커피코리아', '모임센터', '커피미업', '언더크레마', 'EASTSIDEMARIOS', '일리노', '오떼르카페', '카페더젠틀', 'CAFEPAUSE', '수노의작은커피집', '랄랄라커피', '소망풍경', '오렌지', '플로바리스', 'PASENG', '퍼넬스페셜티커피하우스', '남', '빈볼', '코페아커피서울충정로점', '비알코리아베스킨라빈스양', '카페오르막', '아름드리카페', '프레즐메이커', '카페로이', '로나', '성원', '카페파이나무', '소나카페테라', '엔피에스카페365', '쥬씨방배역점', '숙녀미용실카페&펍', '카페73', '이디야잠실', '워커스커피로스터스', '커피N빙수', '커피폴', '꼬르소산도', '모찌청', '티하임', '룩아워티WITH한삼인', '까페사이공', '카페디토리노', '커피24시', '아리스타', '언니카페', '탬버린즈신사점', '커피빈코리아매헌역점', '우진커피숍', '블랙벤자민', '메가커피앤디바이스', '커피앤콤마', '공간여유', '카페홀썸', '떼루와', '카페브로딩', '쥬씨신목중점', '구카페종로1점', '띵똥와플', 'bluement', '오커피', '사당커피s', '명동사주카페', '버블마닐', '카페베네마인츠돔강남', 'espelle', '카페오아시아사회적협동조합포', '보스크커피', '카페527', '위고에빅토르', '카페글렌발산점', 'dollacorte', '반지만들기반지대학', '카페네스카페베스트웨스턴호텔', '카페곱게', '카페오주스', 'FromtheBean', '카페미엘', '카페COMETE', '헤르츠', '보아인터렉티브', '아로이', '카페라지엘', '퓨전2', '카페코알라', '카페아델라', '디오토스테이션', '이스팀', '카페오가다', '빽다방천호역로데오점', '역삼커피로스터스', '이노커피', '디비스토리카페', '역촌동,카페', '까페에스피', '슈르르까', '문커피', '카페누라', '톡카페', '커피알렉스', '로드앤스토리', '우리마포시니어클럽', '가인시루', '에그에그커피', 'cafeeasthills', '느루커피', '커핀그루나루신천점', '마피아커피동평화상가점', '카페잡스', '카페데로얄', '원더빌더커피', '스타벅스한남동점', '프렌즈커피컴퍼니', '에프씨서울팬카페', '빽다방반포고투몰2호점', '귀향', '체크페이먼트', 'NJPark', '더빠니니', '더즌', '카페두드림', '스타벅스포스코사거리점', '스타벅스송파구청점', '카카듀', 'MokoCoffee', '이디아', '85ST', '센티미터스페이스', '죠샌드위치&커피', '에이그레이트카페구로직영점', 'Cafeearnest', '요거프레소구일역점', '민들레커피숍', 'cafemani', '에피소드', '지올리띠강남직영점', '까페까마르도', '카페트리니티', '카페빙빙빙', '카페홀린', '킴스롱도그', '매머드커피잠실루터회관점', '카페빈토스', '티피에스커피', '9카페구로점', '세인트아이브스', '넵타임커피', '스타벅스서울대입구역점', '오빠', '폴바셋신세계본점', '카페모자이크교회', '000간', 'BANANATALK', '커피829', '꼼쑨', '블루', '쥬씨마포구청역점', '아시카페', '귀빈', '또바기', '요그릭', '동궁다방', '커피0503', '아뜰리에101', '세브웰', '카페정이든', '서울숲공원', '까페', '아자리아', 'TOPBAR', '커피앤두리', '커피마글', '카페이노이드', '카페아이스빈', '더퍼치', '카페주주', '휴머니스트카페', '커피랜드코리아', '바오밥나무', '백남준카페', '우성', 'EJ', '진공안드로메다스튜디오카페', '금농', '미트프레쉬', '부에노커피로스팅CO', 'G아르체', '엘피스카페', '커피팜', '카페본', '베네치아', '몰브레드', 'Cafe몽', '피콜로', '2&3FRESH', '도그비잉펫카페', '아주나무', '위드까페', '네스카페대학로이음센터', '카페예지', '난만', '이화동애', '랠리', '스타벅스신촌명물거리점', '전광수커피하우스', '피에이치오커피', 'CAFELULU', '미스터브리즈커피', '매머드커피익스프레스', '번앤펀', '달달', '보그너커피신금호동점', '오!베리굿', '카페보리', '모모', '디어달링', '카페알롱제', '서울역', '놀다가개', '플라워카페활짝', '카페시프트', '요리프레소', '키키앤리', 'melmelrefresh멜멜리프레쉬', '마피아커피', '리믹스앤더쥬스', '카페샤론', 'CremaDoro', '까페폴로라', '커피가', '터치까페', '엔젤리러스', '함께커피', 'PROMENADE', '카페무세띠', '트루커피', 'COFFINEGRUNARU', '세라앤커피랩', '성곽마루', '스타벅스홍대삼거리점', '세라띠에커피공방', '요거프레소마곡나루점', '에스파냐', '핸디엄', '체크인', '을지로사이', '루이스대디커피고야', '시티보울', '커피사피엔스', 'BR', '엘팔알레이터', '카페예인', '노팅힐가든', '도레도레', 'CAFEG', '주스앤', '다라온', '플문', '이상한나라의앨리스', '핀카페', '갸또마마', '더함', '압구정볶는커피강남터미널점', '카페더뉴', '프레쉬샵팔레트', '이디야커피정릉아리랑점', '언노운커피9', '바나다', '시즈더데이seizetheday', '아티제삼청점', '에이티폭스', '해피데이도봉구민회관점', '카페인중독도림점', '안단테', '커피드', 'POPBAR', '쥬씨종로종묘점', '엠즈씨드폴바셋', '계화커피숍', '닻별', '벌툰', '커피로드스타', '눈내리는집', '메가커피서울대입구점', '아티제상암드림타워점', '빽다방강남소망점', '엔제리너스여의도잡지회관', '커피프린스1호점&칵테일', '맹쿤', '더라떼', '카페미뇽', 'CaffeLaterre', '엠엠티에이치커피', '플라워앤티크', '그레이커피', '닥터주스', '더베럴스커피', '볶아커피', '그린웨이브', '고가다방', '파라다이스블루', '카페티라수', 'MH메튜스하우스', '아이니드팩토리', '비안', '문리버', '앤티앤스', '텃골', '커피골목', '파스쿠찌대학로점', '순수커피', '제이미쉬키친', '카페성수', '강릉산토리니', '커피DZ', 'SUNOCOFFEE', '엑스골프카페테리아', '커피하이컵', '셀렉토광운대점', '이니빈', '제이스커피', '란미은', '카페에그쁘', '포스유', '쥬씨잠실역지하상가점', '카페쏭', '프쉬케', '다정다감', '원앤하프', '스텔라커피', '더연카페', '데이지', '샌드밥', 'CafeThe9', '파스쿠찌종각알파빌딩점', '디커피', '마더앤도터', '카페오가닉', '스타벅스연신내역', '콜드브루만영등포점', '커피체리', '캣카페', '할리스대림역점', '카페드스페셜티스', '투썸플레이스광장힐스테이스점', '스타벅스오목교역점', '카페스카이앤라이브러리', '10G', '카페에스토', '엘스', '봄봄색동두번째이야기', '커피프로젝트', '커피작업실CODEAZ', '카페쁠레노', '엔제리너스', '정커피숍', '보나비', '아프리카스퀘어', '모나코다방', '카페드투칸', '카페먼스', '아라비카커피', '쥬씨서울대입구역점', '셀렉토커피압구정점', 'MANOFFIN', '닥터쥬스', '투썸플레이스가재울뉴타운점', '주젤리', '로지핀치', '커피보노', 'MERCIBONBON메르시봉봉', '러브커피', '브레드피트', '퀸까페', '따미커피', '스푼즈카페', '카페마타리', '카페비엔에스', 'Thecoffeehouse비오는가을아침', '존스몰커피로스터리', 'AtoZcafe', '커피램프', '쉼터올래', '심포니커피숍', '카페디모멘토', '엔제리스커피', '스타벅스강남삼성타운점', '샐:미', '강동역커피베이', '굿', '스시마이우강남역빽다방', '카페로비', 'Roiyu쥬스', '마운틴에프엔드비', '커피마을', 'TEALOFT', '다시스31호점', '아티굿띵', '쉬즈리빙갤러리까페', '헐리우드연세대점', '커피더쿠', 'WhatsCoffee', '밀르몽', '카페앤샌드위치', 'wheypoint', '오픈키친', '투썸플레이스역삼르네상스점', '카페베이트리', '카페르뮤즈', '커피인', '팬도로시세종대학교행복기숙사점', '바닐라블룸', '커피나우', '라노떼', 'ZOO커피전문점', '엘비엔또커피', '카페비플러스', '엠앤디', '커피농장', '반지놀이터신사가로수길점', '어지', '카페라임', 'WonderBuilder', '헤일빈스', '염리동커피가게', '홉아이카페', '파스쿠찌카페', '나비', '모어댄레스', '떼루와우면2호점', '더카페동작구청점', '더로스팅', '유어플래닛', '커피그라피', '커피앤솔티', '빈스앤베리즈', '중앙다방', '미스터브리즈커피신정푸른마을점', '쥬씨압구정2호점', 'LILT', '커피를부탁해', '순카페', '카페옹끌', '디에이치커피', '샐리스타임', 'cafe내자리', '506커피하우스재미갤러리', '롯데칠성음료커피청량리점칸타타', '북파크카페', '하우스브란트', '카페마론', '벨띠에다빈치카페', '말차팥차', '엠엠티에이치062', '모닝에스프레소', 'CAFEH', '천기누설사주카페', '궁전커피숍', '착한커피구로동지점', '와플반트남부터미널', '할리스커피화양점', '커피에반하다구로디지털단지점', '오얏꽃', '미스터퀵다방', '킹콩커피', '디저트39합정점', '커피트레인', '네임리스', '위트러스트커피', 'CAFE57', '이츠굿베이커리카페', '홍스파이', '공차중앙대점', '에그타르트', '떼오도', '금란', '요거프레소신도림푸르지오점', '할리스에프앤비르네상스', '쥬스리', '아르떼', '폴씬플레이스', 'Cafe-H', 'YUMTHAI', '내츄럴드림카페', '빽다방노량진학원점', 'cafe2892', '커피랩', '글라세라떼', '베르띠체커피전문점', '그라찌에총신대학교점', 'CNNtheBiz', 'GABO', '카페아리보', '밀키웨이', 'ESPRESSOJIN', '쥬스바', '더프레쉬', '쟈드커피숍', '더마실', '커피공방', '커피어시스트', '카페화이브', '금고양이카페', '아메리카노스', '이디야커피신도림테크노마트', '카페플라워', '누코코리아', '할리스에프앤비', '카페코튼', '스타벅스염창역점', '다래사우나내매점', '하늘향기', '베리머치', '비터스윗', '버터핑거팬케이크', '커피만홍대점', '두근두근쿠키야', '서울여성공예센터더아리움', '영화커피숍', '차타임강남점', '스트라다로스터스', '빌로우BELOW', '통인동커피공방신촌로스팅라이브러리', '커피난다', '스타벅스이수역점', '통쌀카페쌀리다', 'CNNCAFE한양대역점', '코스모스커피볶는집', '세븐일레븐', '카페디차', '코믹토토만화방', '미커피', '세븐몽키스목동점', '부케', '커피앤소울', 'CARIBOUCOFFEE', 'JAHA커피', '페미닌', '카페마노핀', 'JULENG', '한누리', '세가토', '빌리프커피로스터스', '크리에이티브맥셀', '랑상텐', '친절한성진씨', '쥬스팝', '엘림클래식뮤직아트리움', '라보이떼', '네아이가먹는강정', '체리카페', '카페모차르트', '쥬씨명지대점', '안티공짜카페', '커피사회', '파이브포인츠', 'CoffeeMong', 'BULLDOGCOFFEELAB61', '참스프링', '조인커피', '더로바이트윈스', '더플롯', '클라시코', '나리당', '프린세스카페', '희차코리아', '카멜커피', '오가다', '알레투어앤카페', '도노커피푸른수목원점', '과수당', '디드릭노원점', '커피디즈구로삼성IT점', 'NARINO', '경성커피', '구름뜬하늘', 'LOCK&LOCKPLUS', '보사노바커피로스터스', 'Cafebliss', '칸카페', '삼청동4차원', 'COFFEE&SNACK', '디저트39', '전통찻집들꽃', '테오의1.5층', '스타벅스서소문배재', '신세계푸드성신여대까페에델리아', '아모르', '이태원더블샷W', 'ceccoBeppe카페', 'JLDessertBar', '메이앤토니', '오롯이정성', '카페리에또', '칠성다방', '공차한양대점', '티니위니카페', '커피식스쥬스식스', '이레카페', '유기농커피공동체', '카페눈', '신규커피숍', '커피블랑', '카페아루밍', '커피빈코리아고대참살이길점', '깍지다방', '보스톤더카페델리강', '쥬씨삼성중앙역점', '인광로스팅커피', '더카페상봉이마트점', '송파커피', 'boutcoffee', 'cafe에스프레소', '숙이카페', '모니카', '카페뮤', '카페아띠끄', '커피아리', '놀숲', '비정상카페', '구스비어', '김군COFFEE', '카페하우스', '모도리', '밀크앤프룻츠버블티', '누쿠이커피팩토리', 'LSY', '카페칼디', '쿠벅', '더벤티삼성점', '토프레소신논현점', '카페로니', '블랙모티브', '에코하우스커피기프트', '굴림', '커피명가', '그릿시냇가까페', '달콤커피상암팬엔터점', '쥬씨강남역세무서점', '모데나커피', '수화다방', '엘오에이커피', '학', '도시선언', '해바라기카페', '까페밀로', '카멜롯', '세컨스텝', '영우한양대학교커피점', '커피뚜깡', '아마스빈코리아', 'MODOcoffee', '이디야커피가좌역점', '다몽헌', '에클레시아', '카페로얄', '레빵뺑', '카페분나마프라트', '더퍼즐', '카페수', 'CAFE4가13번지', '카페노냥', '북카페찬샘', '아이우애오', '한남대교전망쉼터', '카페포르자', 'JANTIQUE', 'ANTCAFE', '카페좋은공간', '설빙홍대점', '굿피플앤커피', '카페보쿠', '공주밤빵프렌치카페성내점', '닥스까페', '더크레마', '뽀르뚜아', 'WAFFINGCOFFEE', '피스북스', '이디야커피연구소', '마리웨일마카롱', '앤드그레이', '터방네', '아라코스타에스프레소', '김수연의인생한방', '제이쓰리글로벌', '더파이홀', '컷팅엣지+', '엠케이커피', '보스케베이커리카페', '광장커피', '베네타', '카페구마리온', '까페아모제', '태양', 'PARRACAFE파라카페', '카페아레아', 'CJ푸드빌투썸플레이스퀘', '알레소커피', '센티모르대치점', '카페플랜', '카페원두', '달다롱', '트루로맨스', '라운드어바웃커피', '도깨비커피', '요거프레소용산한강로점', '팬', '주희스커피', 'IBeanCoffee', '갤러리도희', '요거프레소상계점', '더블유카페', '대한불교조계종유지재단템플스테이지점', '할리스커피노원문화의거리점', '파스쿠찌한강자이타워점', '씨제이프레시웨이', '커피볶는집낙타', 'IMT호텔', '제비다방', '지붕', '빠아빠', '두레차', 'ALICAFE', '꿈터로뎀카페', '마리몬드라운지', '수무디킹명동메트로점', '약수터', '김대기커피스쿨', '브레머석촌호수점', '커피코트가산그레이트밸리점', '꿈더하기카페', '담아', '카페긴고랑길', 'e갤러리사주카페', '야쿤커피앤토스트', 'caffeprima', '훌랄라치킨카페&천족', 'EDIYA카페', '지오반니', '카페질리', '투썸플레이스등촌로점', 'CANDYFLOSS캔디플로스', '다사랑실버카페', '메이준', '커피니', '서대문커피공장', '고푸다', '진이', '파스쿠찌선릉이노센스점', '리앙빈', '카페브릭스', '시화담카페', '마이분주스바', '둔촌동카페', '스타벅스사당로데오점', '커피오름', 'coffeeplanet', '석커피숍', '콩스커피', '마이웨일', '에스쁘아커피', '쥬씨가양역점', '꽃꿈', 'Teastory', '카페원더스', '찰리스카페삼성점', '이스트덜위치', '아로마틱커피브루어스', '가노커피코리아', '아틀리에송', '아리스타커피다동점', '커피애비뉴평창동점', '엔에스파트너스', '문립커피', '오페라빈로스터스', '겸스커피', 'DALDAL-HI', '대루커피', '동아커피호프', '아이스바써브제로', '랑꼬뉴', '벨로라테', '프리지어', '고마켓', '정성담음', 'HUTCH', '베누스타', '카페크림', 'COFFEEAMICO', '로얄네이쳐', 'Supercoffee', '스타벅스커피가산브이타워', '커피501', '커피5.1', '클라우드9', '북스프레소', '경다방', '원모어바이트', '언벌스', 'CJ투썸플레이스', '고대북카페', '지유명차종로점', '모즈', '플리즈커피서강대점', 'EDIYACOFFEESHOP', '카페롯지201', '카페281', '썰스티', '아재커피', '커피그래피티', '미라쥬양과점', '29-77카페', 'TERAROSA', '청춘까페', '제이씨제이푸드', '바리스타마르코YES24', '커피갤러리', '씨엔엔카페세빛섬점', '갤러리아트다림', '와이블랙', '해인아트', '문스트럭', '더하다커피칵데일학원', '장르', '벌스', '커피숍', '커피볶', '카페오픈키친', '벨라빈스커피', '마이쥬스', '더스텐딩101', '뚜또', '커피엠', '카페걸리버', '아가페', '우쥬커피', '크리스마스자몽', '치킨라떼', '세븐스헤븐커피', '까페로프트', '블럭캠퍼스', '빽다방종암사거리점', '카페라미떼', '카페욜로', 'CoffeeDNA', '카페토크', '미스터프랭크', '카페드마린', '쿠카쿠', '메리하하', '뉴욕핫도그앤커피서울마포대흥역점', '2*3COFFEE', '삼삼한청춘', '샤넬', '스타벅스용산역점', '카페4M', '커피빈코리아압구정에스점', '커피세도나', '파란달의커피볶는집', '카페E.M.S', 'brewercoffee', '바이네츄럴', '교대애니메클럽', '띵킹커피', '쥬씨강동구청역점', '삼성테스코홈플러스월곡점포토', '커피셀러515', '노엘', '오주꾸몽', '에프앤비', '권농동커피플레이스', '커피를사랑한소믈리애', '영우명지전문대편의점', '커피에반하다행당점', 'cafenoll', '리얼에스프레소', '자몽카페', '더나더나', '카페져스트', '1%리버티커피', '홍남다방', '58도C', '에덴커피', '카페드롭탑금천은행나무점', '에이비씨커피', '이니스프리', '티마인드', '북카페산책', '작은커피숍', '도담도담', '평창동전통찻집', '양지커피전통한방차', '더요거트샵', '갤러리전통찻집', 'CAFEB', '에스에스푸드마켓에스에스지커피하우스', '놀숲홍대입구점', '버블트리', '진솔커피코리아', '브릿지11', 'JUICY내방역', '루앤비까페', '5월5일', '카페브러리에어', '엔터브이알', '커피하오', '데일리브라운여의도점한국예탁결제원신용', '돌커피숍', '쇼콜라', '매머드익스프레스영등포우체국점', '북카페공간', '카페오카', '조이', '카페에티오', '겨울나그네', '백산가', '사주카페가네샤', '베네디체레', '칸트의시간', '카페라노떼', '미담전통찻집', '카페2POP', '에이에프히치콕', '코코모', '커피밀', '유아마니아', '사사이프로젝트', '아틀리에', '스페샬coffee', '어셈블리커피', '서서카페', '러브낚시카페', '파치먼트', '카페줄', '말랑말랑슬라임앤폰데코카페', '10카페', '카페정', 'CAFE.W', '엔트로피커피', '7月1日', '향수', '올몰', '폴바셋양재점', '카페보니떼마들점', '메리어트카페', '시장길커피', '카페리맨즈', '보나파이드커피', '커피볶는집시다모', '스타벅스대치사거리점', 'COFFEECOURT', '라바짜', 'SGARDEN', '하이드아웃', '카페디오믈렛', '세븐몽키스커피', '다르다카페', '땡스커피', '샌드프레소강남세브란스병원', '카페온더문', '타피올레', '더카페굿윌송파점', '오프더그라운드', '카페파스타', '카페클라시코', '라노비아', '퍼블리카', '4˚C커피', '파쪼카페', '컵희', '이디아커피', '스윗솔', '퍼피도그', '나무자전거', '이상', '더차', '페나비', 'Bear-presso', '유어마이커피', '마타', '카이스트', '망고식스코엑스사거리점', '리브스커피', '유후카페', '다다', '작은풀씨의꿈', '쥬씨구일역점', '카페그레이스', '저스트블루', '레인바우', '엘가', '다향만당', '오설록티하우스시그니쳐타워점', '베네팩토리', 'CAFEKOHI', '카페이스턴', '갈릴리까페', '폴링인스노우', '생명나무', '쉴만한물가', '엔피에스카페테리아카페삼십육점', '커핀그루나루', '장사찻집', '몽쥬르COFFEE', '투썸플레이즈', '솔', '까페누마루', '포비', '간단하지만특별한화피디Cafe오아시아동부여성발전센터점', '바네스플라워', '루미카페', '엠케이이디야마곡나루역점', '한독', '인카페', '털리스커피', '공차명일역점', '샤또쇼콜라이태원점', '호두파이이야기', '라온커피숍', '투썸커피고려대법학관', '인투고', '하므케이크', '라니작업실', '투썸플레이스국립중앙박물관1호점', '로씨', '스터디카페애플트리', '스타벅스황학사거리점', 'moonji', 'SEE2카페', '갤러리아토아트', '달프루토역삼점', '징검다리북까페', '영단기라운지', '카페291-2', '여전히달달해', '플러피마운틴', 'Murmurdemargem', '에슬로우커피', '스타벅스차병원사거리', '차뜨라므', '브루잉부라더스상왕십리점', '할리스커피강남역점', '할리스커피합정역점', '에벤에이치할리스', '멀티까페커스', '리플라이커피', '미스타이거', '베리베리생과일', '36.5도여름동쪽점', '카페199-1', '앨스트릿커피', '브이아이피커피', '미스터패니신세계영등포점', '낙엽커피', '아브라소', '카페토이즌', '오픈카페', '리얼메이드카페', '당산댁', '정간', '커피와이', '투썸플레이스연신내점', '햅시바', '디자인에스프레소', '카페투니온', '디스프루따커피', '카페디어빈', '마카롱팝', 'Rcoron', '현미마을', '커피나무서울대입구역점', '하품', '카페인더집', '무로', 'ELLOroasters', '놀자', '일리커피데이콤점701704', '커피생각', '아리스타커피영등포구청점', '커피콩', 'TODAH', 'A3CHIVECOFFEE', '면곡당', '선릉마실길', '커피닷', '알프레도', 'FineThankyou', '커피빈코리아서초우성아', '카페캠퍼', '아이코드델리카페', '커피향창고', '초록달', '웨이크업굿나잇', '카페델리카토', '카페메사키', '카페eliot', '오늘은좋은날', '철도공익복지재단영', '차타임', '쉼스토리', '카페띠아모송파거여점', '맹꽁이노리터', '비원커피', '가고싶은카페오름', '세인티앤엘', '머그포래빗', '난다', '아워홈디카페', 'CFOUR문정점', '모이카롱', '노아스로스팅', '블라블라', '페이벡커피', '카페구디', '꼬지짱', '커피볶는집와플에숍', '커피베이온수역점', '커피인더블랙', '서촌음료연구소', '빈티지204', '라이트미', '예일타운', '더오색', '이튼104', '나인커피로스터스', '테이크온미', '여우뜰에는', '스타벅스동묘앞역점동묘앞역점', 'PRiNK&DRiNK', '까페오블리끄', '로지카스터디카페', '두잉나띵', '커피마마망원우리집점', '블랙포트', '카페비쎄븐', '할리스커피여의도', '요거프레소금호동점', '커피테크', '세스니', '블루트리', '투썸플레이스동서울터미널', '굿데이커피', '안드레아', '굿에스프레소', '온오프', '가무', 'cafedeM', '커피뿅', '카페펀코', 'R&RCoffee', '슈거링', '쟈우스', '스타벅스연신내역점', '커피베이경희궁자이점', '그랜트', '샌드위치카페테리아', '아티제서초우성점', '커먼디자인스튜디오', '맥썸커피', '카페르마들렝', 'REYNARD', '카페엘리홍대점', '꿈너머', '안다미료', '피데스', '버블티킹', '차오름와이에스', '스타벅스연대동문', 'COFFEE&BINGSUDESERT', '코레일유통바날', '커피볶는집빈스브라운', '정', '마크툽카페앤펌', '카페폰스', '리치빈스커피', '이디야불광역', '카페톡톡', '스타벅스소공로북창점', '녹스커피숍', '바람쐬다', '더와플', '밀크공방', '커피옹녀', '타피오스커피브루어', '윈디시카고', '해피플레이스', '더치앤빈공덕역점', '뚜스뚜스', '일공일커피', '팬더리아', '블라썸', '카페모우', '스탠다드플로우', '슬로우가든', '카페엘루체', '교보핫트랙스', '커피코드', '청자다바', '초콜렛콘츄러스', '행복담은반찬카페', '칸타타커피', '킹스독', '남산테디베어갤러리', '케이엠법률카페', 'REALCOFFEE', '코레일유통할리스커피', '커피기술', '커피와대장장이', '더치공방휴', '초코츄츄', '만쥬앤커피', '지인앤컴퍼니', '클레시아', '플란다스개', '타미하우스', 'cafehan', '비스토핑', 'enter', 'onceuponamilkshake', 'SMC', 'HILLSCOFFEE', '카페드콜롬비아', '다올', '언노운커피17', '호야커피로스터스', '떼루와떼루와구로디지털단지점', '카페더브릿지', '커피점본본', '다미가한방카페', '카페1001', '폴바셋역삼점', '커피나라', '수', '요거프레소대치아이파크점', '한입원바이트', '황제커피', '카미노커피로스터스', '상가', '란스', 'COFFEESHOLIC', '어느날오늘', '노유민카페', '쥬스팩토리개봉역점', '36.5바이키', 'Coffeeis...커피이즈', '토프레소', '라퀴송', '슈타인보크', '태평커피숍', '스타벅스커피가산그레이트', 'JYCOFFEEROASTERS', '리투팜', '아이크스커피숍', '사주카페프라임', '코어커피', '삼성에버랜드검찰청웰스토리카페', '커피중독', '폴바셋뉴코아강남점', '빈트리225', '알지비지구맛', '상상카페', '파파클레멘스', '이에스티디2017', '마마커피', '콩볶는고양이똥', '애니커피', '704에비뉴', '복', '여기는카페다', '커피캣츠웰', 'osevens', '언노운커피', '커피빈남부터미널점', '내생애에스프레소', '투썸플레이스선정릉역', '빈스투커피', 'KIRAKIRA', '스페인클럽', '셀렉토커피잠실시그마타워점', '커피보스', '제이스킹커피대치점', '약속다방', '세인트빈', '엠엠티에이치006', '팜코트', 'AfterCoffee', '카페판타지오', '화성다도', '맘모스', '버블티킹신촌점', 'MOMOIRO', '오래된미래', '이디야커피봉천중앙점', '레트로카페', '제레미아이디어연구소', '루트커피숍', '착형커피', '데일리쥬스', '어쉐프컴퍼니', '8마일츄러스', '부미', '더카페/서울숲SKV1', '빈브라더스카페', '소울푸드', 'CAFE-in', '카페5017', 'CJ푸드빌투썸플레이스', '카페91플러스', '동자희망나눔센터', '심온사회적협동조합', '영사미', '고궁', '슈가링스화랑대점', '커피맬러드', '쁘띠크로아상', '착한커피구로디지털역점', '힐링앤카페', '카페사월', '베어스덴', '엔학고레', '하나커피', '무드포커피', '커피볶는중카페김쌤', '공작은가비', '지구정복을꿈꾸는고양이', '삼성웰스토리대우접견실웰스토리카페', '리빈코리아갤러이아포레점', '호두사랑', 'Coffee&Bakery', '더플라잉팬레드', '카페아이엠티을지로유안타증권점엔브이알', 'misreum', '라이스&카페씨', 'B.B.Q카페은평뉴타운', 'CafeAlice', 'YEOGIYA커피', 'AZUR아쥐르', '카페베네독산역점', '띠아모둔촌점', '바니', '할리스커피고덕리앤파크점', '쥬씨봉천역점', '커피프린지', '호나s플로리안', '아프리칸쵸이스카페', '츄이팩토리', '동네카페하하하', '아뜰리에에마미', '요거프레소광산사거리점', '탐앤탐스중랑구청점', '스위트몬스터', '단카스테', '매뉴팩트커피', '유티비커피', '앤써커피로스터스', '수다쟁이', '제프리카벤디쉬카페', '카페피아트121', '크라스플러스독서실', '허니네카페', '부암동언니네', '빨라쪼델쁘레또', '카페올리브', '카페쇼파르', '지그재그', '바이탈', '연꽃커피숍', 'BILLCOSBY', '뽕뜨락카페', '맷차', '세렌디피티', '감각', '윤빈커피', '더킹', '다쓰커피', '커피쉼', '모노레일에스프레소', '앤스마일', 'coffeesong', '램스1979', '커피안', '커피코트구로e스페이스점', '마일스톤커피로스터스', '애정다방', '아이엠커피', '화이트카멜레온', '플랜씨커피하우스', '카페꿈틀', '프리젠트', '2CAFE', '커피프롬', '개러지커피', '까페리채소', '이디아신촌역점', '커피베이용두점', '365-T', '지에스엘앤씨', '미스터커피로스터리', '토프레소태평로점', '언더그라운드커피', '띠아모', '이안', '카페오디너리', '베키아에누보PNP커피스테이션', '리안', '워커스에디션', '카페딩동', '오색티카페', '커피브레이크', '선비카페', '카페블랙드럼', '카페SN', '푸드카페보메', '라팡', '웨잇어미닛', 'BlessingHouse', '플라스크', 'Cafeespani', '헤리티지', '사랑방카페', '카페진정성', '동네커피', '올리브나무', 'STX', '올댓커피', '세운커피숍', '이기야커피숍', '투썸플레이스묵동자이점', '쥬씨증미역점', '민속집카페랑', '어로우즈카페', '카페793', '다시스1', 'CafeB', '이디아커피선릉아이빌점', '마이도시국민전산', 'dogzone', 'MARIEMARC', '대만락카스테라', '파랑가by콩두', '진포토,진cafe', '와플플러스', '등촌빈스토리', '토브카페', '주연다방', '카페다다', '스타벅스낙성대DT점', '카페콜론', '코칭', '커피더소울', '카페123길', 'Coffeesquare', '아난티', '윈디', '파스쿠찌국악고점', '데얼즈커피', '미드센츄리무드', '라벤다플라워', '블루포토케이씨대학교점', '잠바주스한남더힐', '커피베이', '리앤홍', '카페톡', '절묘한커피', '해남커피숍', '쥬씨독산점', '헤븐', '도미넌트', '공원있는카페', '스타커피', '카페피노사', 'EDIYA커피', '보드게임까페오즈', '갤러리판', '모던까페', 'CAFE6269', '올리브카페', '답십리커피숍', '쥬씨약수점', '트라이바', '이코복스커피삼성', '고려대학교교육관쎄리오점', '커피매니아', '이디야신사역', '미스터브리즈커피아현점', '판다쥬스', '바리스타하우스', '영우국민대학교', '카페레스트리', 'Cafe문달', 'RAGDADCAFE', '마이커피', '샤르트르커피', '아소프로아Ⅰ', '체리블로썸', '카페제이비블루', '파브리끄', '카페그라우', '커피는기억의끌림', '라운드렉탱글RoundRectangle', '커피점빵', '디저트삼십구', '커피빈코리아고대안암역', '투썸플레이스송파위례트랜짓몰점', '칼도카페', '오렌지빈', '쉼힐링카페', '공상CAFE', 'V45뷰티라운지', '까페엉클', '커피홀송파석촌점', '잇버블비앤비윗커피', '베네치아건설', '아이스샌드', '까페모닝', '빈치', '이디야커피한강공원로점', '요크', 'BREAKFAST', '북카페자유다', '더랩', '까페75', '앤트러사이트커피', '카페다니엘', '스트릿마블러스', '위치커피중랑망우점', '온도씨', '카페시그널', '커피나무아래', '오가다대치점', '지엠유', '에덴커피숍', '커피마스', '요거프레소태릉입구역점', '사랑방', '애니타임커피', '홍림통산진락', '멀티하우스카페앤스터디룸', 'chosecoffee', '벨스킨카페', '제이엠커피하우스', 'TARECoffeeRoasters', '부암동와플샵', '두잉나띵DOINGNOTHING', '빽다방이대정문점', 'VAN', '엘리앤펀', '우정', '커피크리닉', '금호아시아나본관커피숍', '커피나무방배역점', '코피커피', '다경향실', '제이', '커피체리빈', '푸조', '노미널', '대박TEA', '에어커피', '한경헌', '플라워카페에일린', '해피커피', '키스엔커피', '트루비커피숍', '포플러', '명동커피I명동커피II', '쥬씨사당역점', 'BC800COFFEETEA', '커피나무먹골역점', '홈스테드종각SK점', '파이빌카페', '은이네커피', '숲속카페', '이디야커피등촌동점', '원효로', '본솔카페', '쥬씨신풍역점', '카페에일린', '히든', '워너커피구로', '위치커피', '팀베리', '신세계푸드', '이디야커피중곡대원점', '멀리가는향기', '샹제리제', '이디야커피사당역점', '우물가상사.커피넷,HOF이사', '카페틔움', '아트앤크래프트', '카페드림브런치플러스', '카페나무야', '고고즉석떡볶이', '보고타', '스타벅스삼청동점', '서정적살롱', '카페쉘', '카페리세', '설매화', '센티모르커피', '여름소나무', '백다방커피', '나무늘보북카페', '도토루커피오스', '안느시카페', '까페미네', '사프라', '타로카페', '가만히숨은찻집'}\n"
          ]
        }
      ],
      "source": [
        "print(set(df_coffee['상호명'].unique()))"
      ]
    },
    {
      "cell_type": "code",
      "execution_count": null,
      "metadata": {
        "colab": {
          "base_uri": "https://localhost:8080/"
        },
        "id": "QcxN1ofc9qyx",
        "outputId": "18876b73-1e18-4b98-a8ee-d31019dd49e3"
      },
      "outputs": [
        {
          "data": {
            "text/plain": [
              "(506,)"
            ]
          },
          "execution_count": 55,
          "metadata": {},
          "output_type": "execute_result"
        }
      ],
      "source": [
        "df_coffee.loc[df_coffee['상호명'].str.contains('스타벅스|starbucks|STARBUCKS'),'상호명'].shape"
      ]
    },
    {
      "cell_type": "code",
      "execution_count": null,
      "metadata": {
        "colab": {
          "base_uri": "https://localhost:8080/"
        },
        "id": "Vd9O7iHJ-ZxR",
        "outputId": "65fd200b-a0a0-478d-dc4a-b462d57d8492"
      },
      "outputs": [
        {
          "data": {
            "text/plain": [
              "(432,)"
            ]
          },
          "execution_count": 57,
          "metadata": {},
          "output_type": "execute_result"
        }
      ],
      "source": [
        "df_coffee.loc[df_coffee['상호명'].str.contains('이디야|ediya|EDIYA'),'상호명'].shape"
      ]
    },
    {
      "cell_type": "code",
      "execution_count": null,
      "metadata": {
        "colab": {
          "base_uri": "https://localhost:8080/"
        },
        "id": "AAgMDbO-_qIp",
        "outputId": "f17a4eaf-79c6-4039-ade9-5458369a5659"
      },
      "outputs": [
        {
          "data": {
            "text/plain": [
              "array(['스타벅스', '스타벅스종로3가점', '스타벅스커피여의도IFC1F', '스타벅스신림사거리점', '스타벅스커피홍대역',\n",
              "       '스타벅스새문안로점', '스타벅스올림픽평화의문점', '스타벅스가락시장역점', '스타벅스외대점', '스타벅스연신내역',\n",
              "       '스타벅스연세백양로점', '스타벅스석촌역', '스타벅스연대동문', '스타벅스명지대점', '스타벅스압구정로데오역',\n",
              "       '스타벅스신림점', '스타벅스사당점', '스타벅스강남삼성타운점', '스타벅스서울대입구역점', '스타벅스명동미래',\n",
              "       '스타벅스건국클래식점', '스타벅스신촌명물거리점', '스타벅스광장점', '스타벅스커피여의도호성',\n",
              "       '스타벅스올림픽공원북문점', '스타벅스삼선교점', '스타벅스연희DT점', '스타벅스충정타워', '스타벅스종각점',\n",
              "       '스타벅스이수역점', '스타벅스방배카페입구', '스타벅스W-MALL점', '스타벅스마포일진빌딩점',\n",
              "       '스타벅스천호로데오점', '스타벅스용산역점', '스타벅스중계역점', '스타벅스명동메트로', '스타벅스마포아크로타워점',\n",
              "       '스타벅스중랑구청점', '스타벅스남부터미널2점', '스타벅스구로디지털로점', '스타벅스종로관수점', '스타벅스논현힐탑',\n",
              "       '스타벅스삼성도심공항점', '스타벅스선정릉역점', '스타벅스종로2가점', '스타벅스미아역점', '스타벅스선릉로점',\n",
              "       '스타벅스명동역', '스타벅스역삼럭키', '스타벅스커피신도림디큐브시티B2', '스타벅스이태원거리점',\n",
              "       '스타벅스구로에이스트윈타워1점', '스타벅스교대역점', '스타벅스을지로입구', '스타벅스서울중앙우체국점',\n",
              "       '스타벅스명일이마트점', '스타벅스조선호텔후문', '스타벅스목동점', '스타벅스구로하이엔드점', '스타벅스삼성교점',\n",
              "       '스타벅스남산스테이트', '스타벅스서울교대점', '스타벅스커리학동사거리점', '스타벅스강북구청사거리점',\n",
              "       '스타벅스방이역점', '스타벅스청담사거리점', '스타벅스서초파라곤점', '스타벅스종로평창', '스타벅스신압구정점',\n",
              "       '스타벅스명동중앙로', '스타벅스올림픽공원남문점', '스타벅스강변역점', '스타벅스광화문역점', '스타벅스세종로점',\n",
              "       '스타벅스서소문배재', '스타벅스커피가산그레이트', '스타벅스여의도점', '스타벅스경복궁역', '스타벅스차병원사거리',\n",
              "       '스타벅스예술의전당점', '스타벅스을지로센타', '스타벅스중랑역점', '스타벅스학여울점', '스타벅스사당로데오점',\n",
              "       '스타벅스상봉역점', '스타벅스구파발역점', '스타벅스신천역점', '스타벅스숙대입구역점', '스타벅스가든파이브',\n",
              "       '스타벅스동교삼거리점', '스타벅스커피가산브이타워', '스타벅스커피신도림디큐브시티2F', '스타벅스차병원사거리점',\n",
              "       '스타벅스뱅뱅사거리점', '스타벅스석촌서호점', '스타벅스경복아파트점', '스타벅스동교점',\n",
              "       'STARBUCKSCOFFEE', '스타벅스월계이마트점', '스타벅스신촌점', '스타벅스광화문점', '스타벅스구산역점',\n",
              "       '스타벅스숭실대점', '스타벅스상일동점', '스타벅스대치점', '스타벅스광운대점', '스타벅스합정메세나몰점',\n",
              "       '스타벅스목동5단지점', '스타벅스역삼역점', '스타벅스석촌호수점', '스타벅스상암DMC센트럴몰점',\n",
              "       '스타벅스청량리역점', '스타벅스홍대갤러리점', '스타벅스홍대삼거리점', '스타벅스삼청동점', '스타벅스서소문배재점',\n",
              "       '스타벅스숙대점', '스타벅스송파사거리점', '스타벅스길동사거리점', '스타벅스한성대입구역점', '스타벅스잠실점',\n",
              "       '스타벅스가산디지털단지점', '스타벅스오목교역점', '스타벅스금천독산점', '스타벅스노원케이티점',\n",
              "       '스타벅스고대프라자점', '스타벅스황학캐슬점', '스타벅스코엑스사거리점', '스타벅스명동역점',\n",
              "       '스타벅스압구정로데오역점', '스타벅스월드컵경기장점', '스타벅스강남에비뉴점', '스타벅스연신내역점',\n",
              "       '스타벅스상암디지털큐브점상암디지털큐브점', '스타벅스명동길점', '스타벅스방배카페입구점', '스타벅스마포트라팰점',\n",
              "       '스타벅스엔터식스한양대점', '스타벅스종로수송점', '스타벅스미아사거리역점', '스타벅스소공로북창점',\n",
              "       '스타벅스포스코사거리점', '스타벅스신설동역점', '스타벅스화곡동점', '스타벅스종암점', '스타벅스서교동사거리점',\n",
              "       '스타벅스역삼럭키점', '스타벅스동묘앞역점동묘앞역점', '스타벅스둔촌동점', '스타벅스청계산입구역점',\n",
              "       '스타벅스송파방이DT점', '스타벅스숭실대입구역점', '스타벅스염창역점', '스타벅스마포이마트점', '스타벅스약수역점',\n",
              "       '스타벅스회현역점', '스타벅스명동입구점', '스타벅스대치은마사거리점', '스타벅스대치사거리점',\n",
              "       '스타벅스영등포신길DT점', '스타벅스충정타워점', '스타벅스중구저동점', '스타벅스신촌오거리점', '스타벅스강동역점',\n",
              "       '스타벅스합정점', '스타벅스압구정점', '스타벅스가산디지털단지역점', '스타벅스낙성대DT점', '스타벅스성신여대정문',\n",
              "       '스타벅스한남동점', '스타벅스커피마포염리', '스타벅스화곡DT점', '스타벅스강남우성점', '스타벅스양천향교역점',\n",
              "       '스타벅스송파구청점', '스타벅스양천향교역', '스타벅스신사가로수점', '스타벅스신세계본점', '스타벅스청담영동대로점',\n",
              "       '스타벅스서울대역점', '스타벅스서강광흥창역점', '스타벅스경희대삼거리점', '스타벅스신세계본점5F',\n",
              "       '스타벅스문정역점', '스타벅스황학사거리점', '스타벅스문정하비오점', '스타벅스송파위례점',\n",
              "       '스타벅스구로디지털타워점', '스타벅스외대정문점', '스타벅스공릉역점', '스타벅스이수역사거리점',\n",
              "       '스타벅스잠실대교남단점', '스타벅스커피강남대로신사', '스타벅스강남점', '스타벅스신도림점', '스타벅스역점',\n",
              "       '스타벅스강남오거리점', '스타벅스마곡나루역점', '스타벅스노원마들역점', '스타벅스신대방삼거리역점', '스타벅스공덕',\n",
              "       '스타벅스방화DT'], dtype=object)"
            ]
          },
          "execution_count": 58,
          "metadata": {},
          "output_type": "execute_result"
        }
      ],
      "source": [
        "df_coffee.loc[df_coffee['상호명'].str.contains('스타벅스|starbucks|STARBUCKS'),'상호명'].unique()"
      ]
    },
    {
      "cell_type": "code",
      "execution_count": null,
      "metadata": {
        "colab": {
          "base_uri": "https://localhost:8080/"
        },
        "id": "njlEDpgZ_-qg",
        "outputId": "c91a4d09-7792-46cb-c075-5fc8f3f31ea4"
      },
      "outputs": [
        {
          "data": {
            "text/plain": [
              "array(['이디야커피', '이디야IBK고객센터', '이디야서대문점2호', 'EDIYA커피', '이디야커피전농뉴타운점',\n",
              "       '이디야커피자양동점', '이디야커피은행나무사거리점', '이디야커피마포KCC점', '이디야커피천호현대점',\n",
              "       '이디야커피연구소', '이디야커피동소문동점', '이디야커피전문점', '이디야커피세광교회점', '이디야마들역',\n",
              "       '이디야커피봉천역점', '이디야커피신도림테크노마트', '이디야커피점', '이디야역삼플래티넘', '이디야커피망우점',\n",
              "       'EDIYACOFFEE', '부일이디야커피', 'EDIYACOFFEESHOP', '이디야에스프레소',\n",
              "       '이디야커피경희대점', '이디야커피청계천점', '이디야커피애오개역점', '이디야커피자양사거리점', '이디야커피용두점',\n",
              "       '이디야커피낙원동점', '이디야커피양재AT점', '이디야커피강남역지하상가점', '이디야커피봉천중앙점',\n",
              "       '이디야커피가든파이브', '이디야카페', '이디야커피신림중앙점', '이디야커피수유역점', '이디야커피약수점',\n",
              "       '이디야커피을지로역점', '이디야커피김안과점', '이디야커피한성대역점2층', '이디야커피삼성봉은사로점',\n",
              "       'EDIYA카페', 'ediyacoffee', '이디야커피정릉아리랑점', '이디야커피한국수출입은행점',\n",
              "       '이디야커피디지털미디어시티역사점', '이디야커피일원동점', '이디야커피신금호역점', '이디야커피영등포본동점',\n",
              "       '이디야커피광산사거리점', '이디야커피신길썬프라자점', '이디야커피도봉산역사점', '이디야커피신당중앙점',\n",
              "       '이디야커피중곡대원점', '이디야커피논골사거리점', '이디야커피개봉북부점', '이디야커피돈암아리랑점',\n",
              "       '이디야커피사당역점', '이디야커피텐즈힐점', '이디야커피마곡역점', '이디야커피마곡엠밸리점',\n",
              "       '이디야커피신림문화교점', '이디야커피창신중앙점', '이디야커피한강공원로점', '이디야커피등촌동점',\n",
              "       '이디야커피건대스타시티점', '이디야커피가좌역점', '이디야커피선정릉역점', '이디야불광역', '이디야을지로3가',\n",
              "       '이디야충무로3가', '서아이디야', '이디야당산', '이디야잠실', '이디야커피신림남부초교점', '이디야역삼역',\n",
              "       '이디야삼성', '을지사거리이디야커피숍', '이디야커피우장산동점', '이디야커피문정현대시티몰점', '이디야노원사거리',\n",
              "       '이디야신사역', '이디야사러가', '엠케이이디야마곡나루역점', '마스터키이디야마곡나루역점'], dtype=object)"
            ]
          },
          "execution_count": 59,
          "metadata": {},
          "output_type": "execute_result"
        }
      ],
      "source": [
        "df_coffee.loc[df_coffee['상호명'].str.contains('이디야|ediya|EDIYA'),'상호명'].unique()"
      ]
    },
    {
      "cell_type": "code",
      "execution_count": null,
      "metadata": {
        "colab": {
          "base_uri": "https://localhost:8080/"
        },
        "id": "P6ISlbBWASkx",
        "outputId": "1a8d9281-ab3b-43df-ada4-0e429aa10684"
      },
      "outputs": [
        {
          "data": {
            "text/plain": [
              "(506, 9)"
            ]
          },
          "execution_count": 64,
          "metadata": {},
          "output_type": "execute_result"
        }
      ],
      "source": [
        "# 스타벅스 데이터 뽑아온다.\n",
        "df_seoul_starbucks = df_coffee.loc[df_coffee['상호명'].str.contains('스타벅스|starbucks|STARBUCKS')]\n",
        "df_seoul_starbucks.shape"
      ]
    },
    {
      "cell_type": "code",
      "execution_count": null,
      "metadata": {
        "colab": {
          "base_uri": "https://localhost:8080/",
          "height": 354
        },
        "id": "-fpAjKnrAcm6",
        "outputId": "e1e387a7-34bf-442f-fb1c-2863d698a3d6"
      },
      "outputs": [
        {
          "data": {
            "text/html": [
              "\n",
              "  <div id=\"df-8cb06cb5-44c7-46c5-a4a9-554c76a0ec93\">\n",
              "    <div class=\"colab-df-container\">\n",
              "      <div>\n",
              "<style scoped>\n",
              "    .dataframe tbody tr th:only-of-type {\n",
              "        vertical-align: middle;\n",
              "    }\n",
              "\n",
              "    .dataframe tbody tr th {\n",
              "        vertical-align: top;\n",
              "    }\n",
              "\n",
              "    .dataframe thead th {\n",
              "        text-align: right;\n",
              "    }\n",
              "</style>\n",
              "<table border=\"1\" class=\"dataframe\">\n",
              "  <thead>\n",
              "    <tr style=\"text-align: right;\">\n",
              "      <th></th>\n",
              "      <th>상호명</th>\n",
              "      <th>지점명</th>\n",
              "      <th>상권업종중분류명</th>\n",
              "      <th>시도명</th>\n",
              "      <th>시군구명</th>\n",
              "      <th>행정동명</th>\n",
              "      <th>도로명</th>\n",
              "      <th>경도</th>\n",
              "      <th>위도</th>\n",
              "    </tr>\n",
              "  </thead>\n",
              "  <tbody>\n",
              "    <tr>\n",
              "      <th>752</th>\n",
              "      <td>스타벅스</td>\n",
              "      <td>이태원점</td>\n",
              "      <td>커피점/카페</td>\n",
              "      <td>서울특별시</td>\n",
              "      <td>용산구</td>\n",
              "      <td>이태원1동</td>\n",
              "      <td>서울특별시 용산구 이태원로</td>\n",
              "      <td>126.994781</td>\n",
              "      <td>37.534303</td>\n",
              "    </tr>\n",
              "    <tr>\n",
              "      <th>1406</th>\n",
              "      <td>스타벅스종로3가점</td>\n",
              "      <td>종로3가점</td>\n",
              "      <td>커피점/카페</td>\n",
              "      <td>서울특별시</td>\n",
              "      <td>종로구</td>\n",
              "      <td>종로1.2.3.4가동</td>\n",
              "      <td>서울특별시 종로구 종로</td>\n",
              "      <td>126.990207</td>\n",
              "      <td>37.570585</td>\n",
              "    </tr>\n",
              "    <tr>\n",
              "      <th>1875</th>\n",
              "      <td>스타벅스</td>\n",
              "      <td>신사2점</td>\n",
              "      <td>커피점/카페</td>\n",
              "      <td>서울특별시</td>\n",
              "      <td>서초구</td>\n",
              "      <td>잠원동</td>\n",
              "      <td>서울특별시 서초구 강남대로</td>\n",
              "      <td>127.019763</td>\n",
              "      <td>37.513663</td>\n",
              "    </tr>\n",
              "    <tr>\n",
              "      <th>9952</th>\n",
              "      <td>스타벅스커피여의도IFC1F</td>\n",
              "      <td>NaN</td>\n",
              "      <td>커피점/카페</td>\n",
              "      <td>서울특별시</td>\n",
              "      <td>영등포구</td>\n",
              "      <td>여의동</td>\n",
              "      <td>서울특별시 영등포구 국제금융로</td>\n",
              "      <td>126.924863</td>\n",
              "      <td>37.525172</td>\n",
              "    </tr>\n",
              "    <tr>\n",
              "      <th>9957</th>\n",
              "      <td>스타벅스</td>\n",
              "      <td>삼성역점</td>\n",
              "      <td>커피점/카페</td>\n",
              "      <td>서울특별시</td>\n",
              "      <td>강남구</td>\n",
              "      <td>삼성1동</td>\n",
              "      <td>서울특별시 강남구 테헤란로103길</td>\n",
              "      <td>127.063878</td>\n",
              "      <td>37.510038</td>\n",
              "    </tr>\n",
              "  </tbody>\n",
              "</table>\n",
              "</div>\n",
              "      <button class=\"colab-df-convert\" onclick=\"convertToInteractive('df-8cb06cb5-44c7-46c5-a4a9-554c76a0ec93')\"\n",
              "              title=\"Convert this dataframe to an interactive table.\"\n",
              "              style=\"display:none;\">\n",
              "        \n",
              "  <svg xmlns=\"http://www.w3.org/2000/svg\" height=\"24px\"viewBox=\"0 0 24 24\"\n",
              "       width=\"24px\">\n",
              "    <path d=\"M0 0h24v24H0V0z\" fill=\"none\"/>\n",
              "    <path d=\"M18.56 5.44l.94 2.06.94-2.06 2.06-.94-2.06-.94-.94-2.06-.94 2.06-2.06.94zm-11 1L8.5 8.5l.94-2.06 2.06-.94-2.06-.94L8.5 2.5l-.94 2.06-2.06.94zm10 10l.94 2.06.94-2.06 2.06-.94-2.06-.94-.94-2.06-.94 2.06-2.06.94z\"/><path d=\"M17.41 7.96l-1.37-1.37c-.4-.4-.92-.59-1.43-.59-.52 0-1.04.2-1.43.59L10.3 9.45l-7.72 7.72c-.78.78-.78 2.05 0 2.83L4 21.41c.39.39.9.59 1.41.59.51 0 1.02-.2 1.41-.59l7.78-7.78 2.81-2.81c.8-.78.8-2.07 0-2.86zM5.41 20L4 18.59l7.72-7.72 1.47 1.35L5.41 20z\"/>\n",
              "  </svg>\n",
              "      </button>\n",
              "      \n",
              "  <style>\n",
              "    .colab-df-container {\n",
              "      display:flex;\n",
              "      flex-wrap:wrap;\n",
              "      gap: 12px;\n",
              "    }\n",
              "\n",
              "    .colab-df-convert {\n",
              "      background-color: #E8F0FE;\n",
              "      border: none;\n",
              "      border-radius: 50%;\n",
              "      cursor: pointer;\n",
              "      display: none;\n",
              "      fill: #1967D2;\n",
              "      height: 32px;\n",
              "      padding: 0 0 0 0;\n",
              "      width: 32px;\n",
              "    }\n",
              "\n",
              "    .colab-df-convert:hover {\n",
              "      background-color: #E2EBFA;\n",
              "      box-shadow: 0px 1px 2px rgba(60, 64, 67, 0.3), 0px 1px 3px 1px rgba(60, 64, 67, 0.15);\n",
              "      fill: #174EA6;\n",
              "    }\n",
              "\n",
              "    [theme=dark] .colab-df-convert {\n",
              "      background-color: #3B4455;\n",
              "      fill: #D2E3FC;\n",
              "    }\n",
              "\n",
              "    [theme=dark] .colab-df-convert:hover {\n",
              "      background-color: #434B5C;\n",
              "      box-shadow: 0px 1px 3px 1px rgba(0, 0, 0, 0.15);\n",
              "      filter: drop-shadow(0px 1px 2px rgba(0, 0, 0, 0.3));\n",
              "      fill: #FFFFFF;\n",
              "    }\n",
              "  </style>\n",
              "\n",
              "      <script>\n",
              "        const buttonEl =\n",
              "          document.querySelector('#df-8cb06cb5-44c7-46c5-a4a9-554c76a0ec93 button.colab-df-convert');\n",
              "        buttonEl.style.display =\n",
              "          google.colab.kernel.accessAllowed ? 'block' : 'none';\n",
              "\n",
              "        async function convertToInteractive(key) {\n",
              "          const element = document.querySelector('#df-8cb06cb5-44c7-46c5-a4a9-554c76a0ec93');\n",
              "          const dataTable =\n",
              "            await google.colab.kernel.invokeFunction('convertToInteractive',\n",
              "                                                     [key], {});\n",
              "          if (!dataTable) return;\n",
              "\n",
              "          const docLinkHtml = 'Like what you see? Visit the ' +\n",
              "            '<a target=\"_blank\" href=https://colab.research.google.com/notebooks/data_table.ipynb>data table notebook</a>'\n",
              "            + ' to learn more about interactive tables.';\n",
              "          element.innerHTML = '';\n",
              "          dataTable['output_type'] = 'display_data';\n",
              "          await google.colab.output.renderOutput(dataTable, element);\n",
              "          const docLink = document.createElement('div');\n",
              "          docLink.innerHTML = docLinkHtml;\n",
              "          element.appendChild(docLink);\n",
              "        }\n",
              "      </script>\n",
              "    </div>\n",
              "  </div>\n",
              "  "
            ],
            "text/plain": [
              "                 상호명    지점명 상권업종중분류명    시도명  시군구명         행정동명  \\\n",
              "752             스타벅스   이태원점   커피점/카페  서울특별시   용산구        이태원1동   \n",
              "1406       스타벅스종로3가점  종로3가점   커피점/카페  서울특별시   종로구  종로1.2.3.4가동   \n",
              "1875            스타벅스   신사2점   커피점/카페  서울특별시   서초구          잠원동   \n",
              "9952  스타벅스커피여의도IFC1F    NaN   커피점/카페  서울특별시  영등포구          여의동   \n",
              "9957            스타벅스   삼성역점   커피점/카페  서울특별시   강남구         삼성1동   \n",
              "\n",
              "                     도로명          경도         위도  \n",
              "752       서울특별시 용산구 이태원로  126.994781  37.534303  \n",
              "1406        서울특별시 종로구 종로  126.990207  37.570585  \n",
              "1875      서울특별시 서초구 강남대로  127.019763  37.513663  \n",
              "9952    서울특별시 영등포구 국제금융로  126.924863  37.525172  \n",
              "9957  서울특별시 강남구 테헤란로103길  127.063878  37.510038  "
            ]
          },
          "execution_count": 65,
          "metadata": {},
          "output_type": "execute_result"
        }
      ],
      "source": [
        "df_seoul_starbucks.head()"
      ]
    },
    {
      "cell_type": "code",
      "execution_count": null,
      "metadata": {
        "colab": {
          "base_uri": "https://localhost:8080/"
        },
        "id": "LSe8bpS9ArfX",
        "outputId": "21800258-0efe-428e-f77a-ce599ae98e19"
      },
      "outputs": [
        {
          "data": {
            "text/plain": [
              "(432, 9)"
            ]
          },
          "execution_count": 66,
          "metadata": {},
          "output_type": "execute_result"
        }
      ],
      "source": [
        "# 이디야 데이터를 뽑아온다.\n",
        "df_seoul_ediya = df_coffee.loc[df_coffee['상호명'].str.contains('이디야|ediya|EDIYA')]\n",
        "df_seoul_ediya.shape"
      ]
    },
    {
      "cell_type": "code",
      "execution_count": null,
      "metadata": {
        "colab": {
          "base_uri": "https://localhost:8080/",
          "height": 354
        },
        "id": "TxbdRWw6DOTP",
        "outputId": "662bcd77-ee25-430e-b24c-81e4df63e125"
      },
      "outputs": [
        {
          "data": {
            "text/html": [
              "\n",
              "  <div id=\"df-540a3e34-451f-485d-adf7-19ccb878fdce\">\n",
              "    <div class=\"colab-df-container\">\n",
              "      <div>\n",
              "<style scoped>\n",
              "    .dataframe tbody tr th:only-of-type {\n",
              "        vertical-align: middle;\n",
              "    }\n",
              "\n",
              "    .dataframe tbody tr th {\n",
              "        vertical-align: top;\n",
              "    }\n",
              "\n",
              "    .dataframe thead th {\n",
              "        text-align: right;\n",
              "    }\n",
              "</style>\n",
              "<table border=\"1\" class=\"dataframe\">\n",
              "  <thead>\n",
              "    <tr style=\"text-align: right;\">\n",
              "      <th></th>\n",
              "      <th>상호명</th>\n",
              "      <th>지점명</th>\n",
              "      <th>상권업종중분류명</th>\n",
              "      <th>시도명</th>\n",
              "      <th>시군구명</th>\n",
              "      <th>행정동명</th>\n",
              "      <th>도로명</th>\n",
              "      <th>경도</th>\n",
              "      <th>위도</th>\n",
              "    </tr>\n",
              "  </thead>\n",
              "  <tbody>\n",
              "    <tr>\n",
              "      <th>1153</th>\n",
              "      <td>이디야커피</td>\n",
              "      <td>신길역점</td>\n",
              "      <td>커피점/카페</td>\n",
              "      <td>서울특별시</td>\n",
              "      <td>영등포구</td>\n",
              "      <td>신길1동</td>\n",
              "      <td>서울특별시 영등포구 영등포로</td>\n",
              "      <td>126.918062</td>\n",
              "      <td>37.515118</td>\n",
              "    </tr>\n",
              "    <tr>\n",
              "      <th>1981</th>\n",
              "      <td>이디야커피</td>\n",
              "      <td>이마트구로점</td>\n",
              "      <td>커피점/카페</td>\n",
              "      <td>서울특별시</td>\n",
              "      <td>구로구</td>\n",
              "      <td>구로3동</td>\n",
              "      <td>서울특별시 구로구 디지털로32길</td>\n",
              "      <td>126.897870</td>\n",
              "      <td>37.484385</td>\n",
              "    </tr>\n",
              "    <tr>\n",
              "      <th>5352</th>\n",
              "      <td>이디야커피</td>\n",
              "      <td>중계롯데우성점</td>\n",
              "      <td>커피점/카페</td>\n",
              "      <td>서울특별시</td>\n",
              "      <td>노원구</td>\n",
              "      <td>중계1동</td>\n",
              "      <td>서울특별시 노원구 노원로22길</td>\n",
              "      <td>127.072754</td>\n",
              "      <td>37.646364</td>\n",
              "    </tr>\n",
              "    <tr>\n",
              "      <th>9359</th>\n",
              "      <td>이디야커피</td>\n",
              "      <td>금호역점</td>\n",
              "      <td>커피점/카페</td>\n",
              "      <td>서울특별시</td>\n",
              "      <td>성동구</td>\n",
              "      <td>금호2.3가동</td>\n",
              "      <td>서울특별시 성동구 장터길</td>\n",
              "      <td>127.017791</td>\n",
              "      <td>37.548427</td>\n",
              "    </tr>\n",
              "    <tr>\n",
              "      <th>10176</th>\n",
              "      <td>이디야커피</td>\n",
              "      <td>NaN</td>\n",
              "      <td>커피점/카페</td>\n",
              "      <td>서울특별시</td>\n",
              "      <td>강남구</td>\n",
              "      <td>대치2동</td>\n",
              "      <td>서울특별시 강남구 테헤란로104길</td>\n",
              "      <td>127.064790</td>\n",
              "      <td>37.508585</td>\n",
              "    </tr>\n",
              "  </tbody>\n",
              "</table>\n",
              "</div>\n",
              "      <button class=\"colab-df-convert\" onclick=\"convertToInteractive('df-540a3e34-451f-485d-adf7-19ccb878fdce')\"\n",
              "              title=\"Convert this dataframe to an interactive table.\"\n",
              "              style=\"display:none;\">\n",
              "        \n",
              "  <svg xmlns=\"http://www.w3.org/2000/svg\" height=\"24px\"viewBox=\"0 0 24 24\"\n",
              "       width=\"24px\">\n",
              "    <path d=\"M0 0h24v24H0V0z\" fill=\"none\"/>\n",
              "    <path d=\"M18.56 5.44l.94 2.06.94-2.06 2.06-.94-2.06-.94-.94-2.06-.94 2.06-2.06.94zm-11 1L8.5 8.5l.94-2.06 2.06-.94-2.06-.94L8.5 2.5l-.94 2.06-2.06.94zm10 10l.94 2.06.94-2.06 2.06-.94-2.06-.94-.94-2.06-.94 2.06-2.06.94z\"/><path d=\"M17.41 7.96l-1.37-1.37c-.4-.4-.92-.59-1.43-.59-.52 0-1.04.2-1.43.59L10.3 9.45l-7.72 7.72c-.78.78-.78 2.05 0 2.83L4 21.41c.39.39.9.59 1.41.59.51 0 1.02-.2 1.41-.59l7.78-7.78 2.81-2.81c.8-.78.8-2.07 0-2.86zM5.41 20L4 18.59l7.72-7.72 1.47 1.35L5.41 20z\"/>\n",
              "  </svg>\n",
              "      </button>\n",
              "      \n",
              "  <style>\n",
              "    .colab-df-container {\n",
              "      display:flex;\n",
              "      flex-wrap:wrap;\n",
              "      gap: 12px;\n",
              "    }\n",
              "\n",
              "    .colab-df-convert {\n",
              "      background-color: #E8F0FE;\n",
              "      border: none;\n",
              "      border-radius: 50%;\n",
              "      cursor: pointer;\n",
              "      display: none;\n",
              "      fill: #1967D2;\n",
              "      height: 32px;\n",
              "      padding: 0 0 0 0;\n",
              "      width: 32px;\n",
              "    }\n",
              "\n",
              "    .colab-df-convert:hover {\n",
              "      background-color: #E2EBFA;\n",
              "      box-shadow: 0px 1px 2px rgba(60, 64, 67, 0.3), 0px 1px 3px 1px rgba(60, 64, 67, 0.15);\n",
              "      fill: #174EA6;\n",
              "    }\n",
              "\n",
              "    [theme=dark] .colab-df-convert {\n",
              "      background-color: #3B4455;\n",
              "      fill: #D2E3FC;\n",
              "    }\n",
              "\n",
              "    [theme=dark] .colab-df-convert:hover {\n",
              "      background-color: #434B5C;\n",
              "      box-shadow: 0px 1px 3px 1px rgba(0, 0, 0, 0.15);\n",
              "      filter: drop-shadow(0px 1px 2px rgba(0, 0, 0, 0.3));\n",
              "      fill: #FFFFFF;\n",
              "    }\n",
              "  </style>\n",
              "\n",
              "      <script>\n",
              "        const buttonEl =\n",
              "          document.querySelector('#df-540a3e34-451f-485d-adf7-19ccb878fdce button.colab-df-convert');\n",
              "        buttonEl.style.display =\n",
              "          google.colab.kernel.accessAllowed ? 'block' : 'none';\n",
              "\n",
              "        async function convertToInteractive(key) {\n",
              "          const element = document.querySelector('#df-540a3e34-451f-485d-adf7-19ccb878fdce');\n",
              "          const dataTable =\n",
              "            await google.colab.kernel.invokeFunction('convertToInteractive',\n",
              "                                                     [key], {});\n",
              "          if (!dataTable) return;\n",
              "\n",
              "          const docLinkHtml = 'Like what you see? Visit the ' +\n",
              "            '<a target=\"_blank\" href=https://colab.research.google.com/notebooks/data_table.ipynb>data table notebook</a>'\n",
              "            + ' to learn more about interactive tables.';\n",
              "          element.innerHTML = '';\n",
              "          dataTable['output_type'] = 'display_data';\n",
              "          await google.colab.output.renderOutput(dataTable, element);\n",
              "          const docLink = document.createElement('div');\n",
              "          docLink.innerHTML = docLinkHtml;\n",
              "          element.appendChild(docLink);\n",
              "        }\n",
              "      </script>\n",
              "    </div>\n",
              "  </div>\n",
              "  "
            ],
            "text/plain": [
              "         상호명      지점명 상권업종중분류명    시도명  시군구명     행정동명                 도로명  \\\n",
              "1153   이디야커피     신길역점   커피점/카페  서울특별시  영등포구     신길1동     서울특별시 영등포구 영등포로   \n",
              "1981   이디야커피   이마트구로점   커피점/카페  서울특별시   구로구     구로3동   서울특별시 구로구 디지털로32길   \n",
              "5352   이디야커피  중계롯데우성점   커피점/카페  서울특별시   노원구     중계1동    서울특별시 노원구 노원로22길   \n",
              "9359   이디야커피     금호역점   커피점/카페  서울특별시   성동구  금호2.3가동       서울특별시 성동구 장터길   \n",
              "10176  이디야커피      NaN   커피점/카페  서울특별시   강남구     대치2동  서울특별시 강남구 테헤란로104길   \n",
              "\n",
              "               경도         위도  \n",
              "1153   126.918062  37.515118  \n",
              "1981   126.897870  37.484385  \n",
              "5352   127.072754  37.646364  \n",
              "9359   127.017791  37.548427  \n",
              "10176  127.064790  37.508585  "
            ]
          },
          "execution_count": 67,
          "metadata": {},
          "output_type": "execute_result"
        }
      ],
      "source": [
        "df_seoul_ediya.head()"
      ]
    },
    {
      "cell_type": "code",
      "execution_count": null,
      "metadata": {
        "colab": {
          "base_uri": "https://localhost:8080/"
        },
        "id": "8ciaYkffDSsP",
        "outputId": "54f66af5-b07c-4113-e9b7-6ea9c2e16902"
      },
      "outputs": [
        {
          "data": {
            "text/plain": [
              "(938, 9)"
            ]
          },
          "execution_count": 78,
          "metadata": {},
          "output_type": "execute_result"
        }
      ],
      "source": [
        "# 스타벅스와 이디야 데이터 뽑아오기\n",
        "df_seoul_star_edi = df_coffee.loc[df_coffee['상호명'].str.contains('이디야|ediya|EDIYA|스타벅스|starbucks|STARBUCKS')].copy()\n",
        "df_seoul_star_edi.shape"
      ]
    },
    {
      "cell_type": "code",
      "execution_count": null,
      "metadata": {
        "colab": {
          "base_uri": "https://localhost:8080/",
          "height": 354
        },
        "id": "sY5jnGXVEDaQ",
        "outputId": "f16139d4-e1de-4c1a-a18a-0c687dcced45"
      },
      "outputs": [
        {
          "data": {
            "text/html": [
              "\n",
              "  <div id=\"df-84caf1c0-4e7b-4115-b785-8c8ef2910a4b\">\n",
              "    <div class=\"colab-df-container\">\n",
              "      <div>\n",
              "<style scoped>\n",
              "    .dataframe tbody tr th:only-of-type {\n",
              "        vertical-align: middle;\n",
              "    }\n",
              "\n",
              "    .dataframe tbody tr th {\n",
              "        vertical-align: top;\n",
              "    }\n",
              "\n",
              "    .dataframe thead th {\n",
              "        text-align: right;\n",
              "    }\n",
              "</style>\n",
              "<table border=\"1\" class=\"dataframe\">\n",
              "  <thead>\n",
              "    <tr style=\"text-align: right;\">\n",
              "      <th></th>\n",
              "      <th>상호명</th>\n",
              "      <th>지점명</th>\n",
              "      <th>상권업종중분류명</th>\n",
              "      <th>시도명</th>\n",
              "      <th>시군구명</th>\n",
              "      <th>행정동명</th>\n",
              "      <th>도로명</th>\n",
              "      <th>경도</th>\n",
              "      <th>위도</th>\n",
              "    </tr>\n",
              "  </thead>\n",
              "  <tbody>\n",
              "    <tr>\n",
              "      <th>752</th>\n",
              "      <td>스타벅스</td>\n",
              "      <td>이태원점</td>\n",
              "      <td>커피점/카페</td>\n",
              "      <td>서울특별시</td>\n",
              "      <td>용산구</td>\n",
              "      <td>이태원1동</td>\n",
              "      <td>서울특별시 용산구 이태원로</td>\n",
              "      <td>126.994781</td>\n",
              "      <td>37.534303</td>\n",
              "    </tr>\n",
              "    <tr>\n",
              "      <th>1153</th>\n",
              "      <td>이디야커피</td>\n",
              "      <td>신길역점</td>\n",
              "      <td>커피점/카페</td>\n",
              "      <td>서울특별시</td>\n",
              "      <td>영등포구</td>\n",
              "      <td>신길1동</td>\n",
              "      <td>서울특별시 영등포구 영등포로</td>\n",
              "      <td>126.918062</td>\n",
              "      <td>37.515118</td>\n",
              "    </tr>\n",
              "    <tr>\n",
              "      <th>1406</th>\n",
              "      <td>스타벅스종로3가점</td>\n",
              "      <td>종로3가점</td>\n",
              "      <td>커피점/카페</td>\n",
              "      <td>서울특별시</td>\n",
              "      <td>종로구</td>\n",
              "      <td>종로1.2.3.4가동</td>\n",
              "      <td>서울특별시 종로구 종로</td>\n",
              "      <td>126.990207</td>\n",
              "      <td>37.570585</td>\n",
              "    </tr>\n",
              "    <tr>\n",
              "      <th>1875</th>\n",
              "      <td>스타벅스</td>\n",
              "      <td>신사2점</td>\n",
              "      <td>커피점/카페</td>\n",
              "      <td>서울특별시</td>\n",
              "      <td>서초구</td>\n",
              "      <td>잠원동</td>\n",
              "      <td>서울특별시 서초구 강남대로</td>\n",
              "      <td>127.019763</td>\n",
              "      <td>37.513663</td>\n",
              "    </tr>\n",
              "    <tr>\n",
              "      <th>1981</th>\n",
              "      <td>이디야커피</td>\n",
              "      <td>이마트구로점</td>\n",
              "      <td>커피점/카페</td>\n",
              "      <td>서울특별시</td>\n",
              "      <td>구로구</td>\n",
              "      <td>구로3동</td>\n",
              "      <td>서울특별시 구로구 디지털로32길</td>\n",
              "      <td>126.897870</td>\n",
              "      <td>37.484385</td>\n",
              "    </tr>\n",
              "  </tbody>\n",
              "</table>\n",
              "</div>\n",
              "      <button class=\"colab-df-convert\" onclick=\"convertToInteractive('df-84caf1c0-4e7b-4115-b785-8c8ef2910a4b')\"\n",
              "              title=\"Convert this dataframe to an interactive table.\"\n",
              "              style=\"display:none;\">\n",
              "        \n",
              "  <svg xmlns=\"http://www.w3.org/2000/svg\" height=\"24px\"viewBox=\"0 0 24 24\"\n",
              "       width=\"24px\">\n",
              "    <path d=\"M0 0h24v24H0V0z\" fill=\"none\"/>\n",
              "    <path d=\"M18.56 5.44l.94 2.06.94-2.06 2.06-.94-2.06-.94-.94-2.06-.94 2.06-2.06.94zm-11 1L8.5 8.5l.94-2.06 2.06-.94-2.06-.94L8.5 2.5l-.94 2.06-2.06.94zm10 10l.94 2.06.94-2.06 2.06-.94-2.06-.94-.94-2.06-.94 2.06-2.06.94z\"/><path d=\"M17.41 7.96l-1.37-1.37c-.4-.4-.92-.59-1.43-.59-.52 0-1.04.2-1.43.59L10.3 9.45l-7.72 7.72c-.78.78-.78 2.05 0 2.83L4 21.41c.39.39.9.59 1.41.59.51 0 1.02-.2 1.41-.59l7.78-7.78 2.81-2.81c.8-.78.8-2.07 0-2.86zM5.41 20L4 18.59l7.72-7.72 1.47 1.35L5.41 20z\"/>\n",
              "  </svg>\n",
              "      </button>\n",
              "      \n",
              "  <style>\n",
              "    .colab-df-container {\n",
              "      display:flex;\n",
              "      flex-wrap:wrap;\n",
              "      gap: 12px;\n",
              "    }\n",
              "\n",
              "    .colab-df-convert {\n",
              "      background-color: #E8F0FE;\n",
              "      border: none;\n",
              "      border-radius: 50%;\n",
              "      cursor: pointer;\n",
              "      display: none;\n",
              "      fill: #1967D2;\n",
              "      height: 32px;\n",
              "      padding: 0 0 0 0;\n",
              "      width: 32px;\n",
              "    }\n",
              "\n",
              "    .colab-df-convert:hover {\n",
              "      background-color: #E2EBFA;\n",
              "      box-shadow: 0px 1px 2px rgba(60, 64, 67, 0.3), 0px 1px 3px 1px rgba(60, 64, 67, 0.15);\n",
              "      fill: #174EA6;\n",
              "    }\n",
              "\n",
              "    [theme=dark] .colab-df-convert {\n",
              "      background-color: #3B4455;\n",
              "      fill: #D2E3FC;\n",
              "    }\n",
              "\n",
              "    [theme=dark] .colab-df-convert:hover {\n",
              "      background-color: #434B5C;\n",
              "      box-shadow: 0px 1px 3px 1px rgba(0, 0, 0, 0.15);\n",
              "      filter: drop-shadow(0px 1px 2px rgba(0, 0, 0, 0.3));\n",
              "      fill: #FFFFFF;\n",
              "    }\n",
              "  </style>\n",
              "\n",
              "      <script>\n",
              "        const buttonEl =\n",
              "          document.querySelector('#df-84caf1c0-4e7b-4115-b785-8c8ef2910a4b button.colab-df-convert');\n",
              "        buttonEl.style.display =\n",
              "          google.colab.kernel.accessAllowed ? 'block' : 'none';\n",
              "\n",
              "        async function convertToInteractive(key) {\n",
              "          const element = document.querySelector('#df-84caf1c0-4e7b-4115-b785-8c8ef2910a4b');\n",
              "          const dataTable =\n",
              "            await google.colab.kernel.invokeFunction('convertToInteractive',\n",
              "                                                     [key], {});\n",
              "          if (!dataTable) return;\n",
              "\n",
              "          const docLinkHtml = 'Like what you see? Visit the ' +\n",
              "            '<a target=\"_blank\" href=https://colab.research.google.com/notebooks/data_table.ipynb>data table notebook</a>'\n",
              "            + ' to learn more about interactive tables.';\n",
              "          element.innerHTML = '';\n",
              "          dataTable['output_type'] = 'display_data';\n",
              "          await google.colab.output.renderOutput(dataTable, element);\n",
              "          const docLink = document.createElement('div');\n",
              "          docLink.innerHTML = docLinkHtml;\n",
              "          element.appendChild(docLink);\n",
              "        }\n",
              "      </script>\n",
              "    </div>\n",
              "  </div>\n",
              "  "
            ],
            "text/plain": [
              "            상호명     지점명 상권업종중분류명    시도명  시군구명         행정동명                도로명  \\\n",
              "752        스타벅스    이태원점   커피점/카페  서울특별시   용산구        이태원1동     서울특별시 용산구 이태원로   \n",
              "1153      이디야커피    신길역점   커피점/카페  서울특별시  영등포구         신길1동    서울특별시 영등포구 영등포로   \n",
              "1406  스타벅스종로3가점   종로3가점   커피점/카페  서울특별시   종로구  종로1.2.3.4가동       서울특별시 종로구 종로   \n",
              "1875       스타벅스    신사2점   커피점/카페  서울특별시   서초구          잠원동     서울특별시 서초구 강남대로   \n",
              "1981      이디야커피  이마트구로점   커피점/카페  서울특별시   구로구         구로3동  서울특별시 구로구 디지털로32길   \n",
              "\n",
              "              경도         위도  \n",
              "752   126.994781  37.534303  \n",
              "1153  126.918062  37.515118  \n",
              "1406  126.990207  37.570585  \n",
              "1875  127.019763  37.513663  \n",
              "1981  126.897870  37.484385  "
            ]
          },
          "execution_count": 79,
          "metadata": {},
          "output_type": "execute_result"
        }
      ],
      "source": [
        "df_seoul_star_edi.head()"
      ]
    },
    {
      "cell_type": "code",
      "execution_count": null,
      "metadata": {
        "id": "opue4-SmED7f"
      },
      "outputs": [],
      "source": [
        "df_seoul_star_edi.loc[df_seoul_star_edi['상호명'].str.contains('스타벅스|starbucks|STARBUCKS'), '브랜드명']='스타벅스'"
      ]
    },
    {
      "cell_type": "code",
      "execution_count": null,
      "metadata": {
        "id": "MK2gwO92F88Y"
      },
      "outputs": [],
      "source": [
        "df_seoul_star_edi.loc[df_seoul_star_edi['상호명'].str.contains('이디야|ediya|EDIYA'), '브랜드명']='이디야'"
      ]
    },
    {
      "cell_type": "code",
      "execution_count": null,
      "metadata": {
        "colab": {
          "base_uri": "https://localhost:8080/",
          "height": 354
        },
        "id": "DQie9JqjE34v",
        "outputId": "361d9cb7-cafe-4bf4-98c6-7c7b3a7cb7b1"
      },
      "outputs": [
        {
          "data": {
            "text/html": [
              "\n",
              "  <div id=\"df-d66e92a0-c876-4b9c-a351-ff2d440dbeb1\">\n",
              "    <div class=\"colab-df-container\">\n",
              "      <div>\n",
              "<style scoped>\n",
              "    .dataframe tbody tr th:only-of-type {\n",
              "        vertical-align: middle;\n",
              "    }\n",
              "\n",
              "    .dataframe tbody tr th {\n",
              "        vertical-align: top;\n",
              "    }\n",
              "\n",
              "    .dataframe thead th {\n",
              "        text-align: right;\n",
              "    }\n",
              "</style>\n",
              "<table border=\"1\" class=\"dataframe\">\n",
              "  <thead>\n",
              "    <tr style=\"text-align: right;\">\n",
              "      <th></th>\n",
              "      <th>상호명</th>\n",
              "      <th>지점명</th>\n",
              "      <th>상권업종중분류명</th>\n",
              "      <th>시도명</th>\n",
              "      <th>시군구명</th>\n",
              "      <th>행정동명</th>\n",
              "      <th>도로명</th>\n",
              "      <th>경도</th>\n",
              "      <th>위도</th>\n",
              "      <th>브랜드명</th>\n",
              "    </tr>\n",
              "  </thead>\n",
              "  <tbody>\n",
              "    <tr>\n",
              "      <th>752</th>\n",
              "      <td>스타벅스</td>\n",
              "      <td>이태원점</td>\n",
              "      <td>커피점/카페</td>\n",
              "      <td>서울특별시</td>\n",
              "      <td>용산구</td>\n",
              "      <td>이태원1동</td>\n",
              "      <td>서울특별시 용산구 이태원로</td>\n",
              "      <td>126.994781</td>\n",
              "      <td>37.534303</td>\n",
              "      <td>스타벅스</td>\n",
              "    </tr>\n",
              "    <tr>\n",
              "      <th>1153</th>\n",
              "      <td>이디야커피</td>\n",
              "      <td>신길역점</td>\n",
              "      <td>커피점/카페</td>\n",
              "      <td>서울특별시</td>\n",
              "      <td>영등포구</td>\n",
              "      <td>신길1동</td>\n",
              "      <td>서울특별시 영등포구 영등포로</td>\n",
              "      <td>126.918062</td>\n",
              "      <td>37.515118</td>\n",
              "      <td>이디야</td>\n",
              "    </tr>\n",
              "    <tr>\n",
              "      <th>1406</th>\n",
              "      <td>스타벅스종로3가점</td>\n",
              "      <td>종로3가점</td>\n",
              "      <td>커피점/카페</td>\n",
              "      <td>서울특별시</td>\n",
              "      <td>종로구</td>\n",
              "      <td>종로1.2.3.4가동</td>\n",
              "      <td>서울특별시 종로구 종로</td>\n",
              "      <td>126.990207</td>\n",
              "      <td>37.570585</td>\n",
              "      <td>스타벅스</td>\n",
              "    </tr>\n",
              "    <tr>\n",
              "      <th>1875</th>\n",
              "      <td>스타벅스</td>\n",
              "      <td>신사2점</td>\n",
              "      <td>커피점/카페</td>\n",
              "      <td>서울특별시</td>\n",
              "      <td>서초구</td>\n",
              "      <td>잠원동</td>\n",
              "      <td>서울특별시 서초구 강남대로</td>\n",
              "      <td>127.019763</td>\n",
              "      <td>37.513663</td>\n",
              "      <td>스타벅스</td>\n",
              "    </tr>\n",
              "    <tr>\n",
              "      <th>1981</th>\n",
              "      <td>이디야커피</td>\n",
              "      <td>이마트구로점</td>\n",
              "      <td>커피점/카페</td>\n",
              "      <td>서울특별시</td>\n",
              "      <td>구로구</td>\n",
              "      <td>구로3동</td>\n",
              "      <td>서울특별시 구로구 디지털로32길</td>\n",
              "      <td>126.897870</td>\n",
              "      <td>37.484385</td>\n",
              "      <td>이디야</td>\n",
              "    </tr>\n",
              "  </tbody>\n",
              "</table>\n",
              "</div>\n",
              "      <button class=\"colab-df-convert\" onclick=\"convertToInteractive('df-d66e92a0-c876-4b9c-a351-ff2d440dbeb1')\"\n",
              "              title=\"Convert this dataframe to an interactive table.\"\n",
              "              style=\"display:none;\">\n",
              "        \n",
              "  <svg xmlns=\"http://www.w3.org/2000/svg\" height=\"24px\"viewBox=\"0 0 24 24\"\n",
              "       width=\"24px\">\n",
              "    <path d=\"M0 0h24v24H0V0z\" fill=\"none\"/>\n",
              "    <path d=\"M18.56 5.44l.94 2.06.94-2.06 2.06-.94-2.06-.94-.94-2.06-.94 2.06-2.06.94zm-11 1L8.5 8.5l.94-2.06 2.06-.94-2.06-.94L8.5 2.5l-.94 2.06-2.06.94zm10 10l.94 2.06.94-2.06 2.06-.94-2.06-.94-.94-2.06-.94 2.06-2.06.94z\"/><path d=\"M17.41 7.96l-1.37-1.37c-.4-.4-.92-.59-1.43-.59-.52 0-1.04.2-1.43.59L10.3 9.45l-7.72 7.72c-.78.78-.78 2.05 0 2.83L4 21.41c.39.39.9.59 1.41.59.51 0 1.02-.2 1.41-.59l7.78-7.78 2.81-2.81c.8-.78.8-2.07 0-2.86zM5.41 20L4 18.59l7.72-7.72 1.47 1.35L5.41 20z\"/>\n",
              "  </svg>\n",
              "      </button>\n",
              "      \n",
              "  <style>\n",
              "    .colab-df-container {\n",
              "      display:flex;\n",
              "      flex-wrap:wrap;\n",
              "      gap: 12px;\n",
              "    }\n",
              "\n",
              "    .colab-df-convert {\n",
              "      background-color: #E8F0FE;\n",
              "      border: none;\n",
              "      border-radius: 50%;\n",
              "      cursor: pointer;\n",
              "      display: none;\n",
              "      fill: #1967D2;\n",
              "      height: 32px;\n",
              "      padding: 0 0 0 0;\n",
              "      width: 32px;\n",
              "    }\n",
              "\n",
              "    .colab-df-convert:hover {\n",
              "      background-color: #E2EBFA;\n",
              "      box-shadow: 0px 1px 2px rgba(60, 64, 67, 0.3), 0px 1px 3px 1px rgba(60, 64, 67, 0.15);\n",
              "      fill: #174EA6;\n",
              "    }\n",
              "\n",
              "    [theme=dark] .colab-df-convert {\n",
              "      background-color: #3B4455;\n",
              "      fill: #D2E3FC;\n",
              "    }\n",
              "\n",
              "    [theme=dark] .colab-df-convert:hover {\n",
              "      background-color: #434B5C;\n",
              "      box-shadow: 0px 1px 3px 1px rgba(0, 0, 0, 0.15);\n",
              "      filter: drop-shadow(0px 1px 2px rgba(0, 0, 0, 0.3));\n",
              "      fill: #FFFFFF;\n",
              "    }\n",
              "  </style>\n",
              "\n",
              "      <script>\n",
              "        const buttonEl =\n",
              "          document.querySelector('#df-d66e92a0-c876-4b9c-a351-ff2d440dbeb1 button.colab-df-convert');\n",
              "        buttonEl.style.display =\n",
              "          google.colab.kernel.accessAllowed ? 'block' : 'none';\n",
              "\n",
              "        async function convertToInteractive(key) {\n",
              "          const element = document.querySelector('#df-d66e92a0-c876-4b9c-a351-ff2d440dbeb1');\n",
              "          const dataTable =\n",
              "            await google.colab.kernel.invokeFunction('convertToInteractive',\n",
              "                                                     [key], {});\n",
              "          if (!dataTable) return;\n",
              "\n",
              "          const docLinkHtml = 'Like what you see? Visit the ' +\n",
              "            '<a target=\"_blank\" href=https://colab.research.google.com/notebooks/data_table.ipynb>data table notebook</a>'\n",
              "            + ' to learn more about interactive tables.';\n",
              "          element.innerHTML = '';\n",
              "          dataTable['output_type'] = 'display_data';\n",
              "          await google.colab.output.renderOutput(dataTable, element);\n",
              "          const docLink = document.createElement('div');\n",
              "          docLink.innerHTML = docLinkHtml;\n",
              "          element.appendChild(docLink);\n",
              "        }\n",
              "      </script>\n",
              "    </div>\n",
              "  </div>\n",
              "  "
            ],
            "text/plain": [
              "            상호명     지점명 상권업종중분류명    시도명  시군구명         행정동명                도로명  \\\n",
              "752        스타벅스    이태원점   커피점/카페  서울특별시   용산구        이태원1동     서울특별시 용산구 이태원로   \n",
              "1153      이디야커피    신길역점   커피점/카페  서울특별시  영등포구         신길1동    서울특별시 영등포구 영등포로   \n",
              "1406  스타벅스종로3가점   종로3가점   커피점/카페  서울특별시   종로구  종로1.2.3.4가동       서울특별시 종로구 종로   \n",
              "1875       스타벅스    신사2점   커피점/카페  서울특별시   서초구          잠원동     서울특별시 서초구 강남대로   \n",
              "1981      이디야커피  이마트구로점   커피점/카페  서울특별시   구로구         구로3동  서울특별시 구로구 디지털로32길   \n",
              "\n",
              "              경도         위도  브랜드명  \n",
              "752   126.994781  37.534303  스타벅스  \n",
              "1153  126.918062  37.515118   이디야  \n",
              "1406  126.990207  37.570585  스타벅스  \n",
              "1875  127.019763  37.513663  스타벅스  \n",
              "1981  126.897870  37.484385   이디야  "
            ]
          },
          "execution_count": 83,
          "metadata": {},
          "output_type": "execute_result"
        }
      ],
      "source": [
        "df_seoul_star_edi.head()"
      ]
    },
    {
      "cell_type": "code",
      "execution_count": null,
      "metadata": {
        "colab": {
          "base_uri": "https://localhost:8080/"
        },
        "id": "MGIO8jYFFzl3",
        "outputId": "2afceeab-5357-453b-cdca-9e76c59082fc"
      },
      "outputs": [
        {
          "data": {
            "text/plain": [
              "스타벅스    506\n",
              "이디야     432\n",
              "Name: 브랜드명, dtype: int64"
            ]
          },
          "execution_count": 85,
          "metadata": {},
          "output_type": "execute_result"
        }
      ],
      "source": [
        "df_seoul_star_edi['브랜드명'].value_counts()"
      ]
    },
    {
      "cell_type": "code",
      "execution_count": null,
      "metadata": {
        "id": "e7iflln4Guq3"
      },
      "outputs": [],
      "source": [
        "geo_df_coffee = df_seoul_star_edi"
      ]
    },
    {
      "cell_type": "code",
      "execution_count": null,
      "metadata": {
        "colab": {
          "base_uri": "https://localhost:8080/"
        },
        "id": "I1IH4Ar9G32f",
        "outputId": "24b861fb-6fa0-4648-860b-30491ca455d0"
      },
      "outputs": [
        {
          "name": "stdout",
          "output_type": "stream",
          "text": [
            "Looking in indexes: https://pypi.org/simple, https://us-python.pkg.dev/colab-wheels/public/simple/\n",
            "Requirement already satisfied: folium in /usr/local/lib/python3.8/dist-packages (0.12.1.post1)\n",
            "Requirement already satisfied: jinja2>=2.9 in /usr/local/lib/python3.8/dist-packages (from folium) (2.11.3)\n",
            "Requirement already satisfied: numpy in /usr/local/lib/python3.8/dist-packages (from folium) (1.21.6)\n",
            "Requirement already satisfied: requests in /usr/local/lib/python3.8/dist-packages (from folium) (2.23.0)\n",
            "Requirement already satisfied: branca>=0.3.0 in /usr/local/lib/python3.8/dist-packages (from folium) (0.6.0)\n",
            "Requirement already satisfied: MarkupSafe>=0.23 in /usr/local/lib/python3.8/dist-packages (from jinja2>=2.9->folium) (2.0.1)\n",
            "Requirement already satisfied: urllib3!=1.25.0,!=1.25.1,<1.26,>=1.21.1 in /usr/local/lib/python3.8/dist-packages (from requests->folium) (1.24.3)\n",
            "Requirement already satisfied: certifi>=2017.4.17 in /usr/local/lib/python3.8/dist-packages (from requests->folium) (2022.12.7)\n",
            "Requirement already satisfied: idna<3,>=2.5 in /usr/local/lib/python3.8/dist-packages (from requests->folium) (2.10)\n",
            "Requirement already satisfied: chardet<4,>=3.0.2 in /usr/local/lib/python3.8/dist-packages (from requests->folium) (3.0.4)\n"
          ]
        }
      ],
      "source": [
        "!pip install folium"
      ]
    },
    {
      "cell_type": "code",
      "execution_count": null,
      "metadata": {
        "id": "crqiZcvHG9en"
      },
      "outputs": [],
      "source": [
        "import folium"
      ]
    },
    {
      "cell_type": "code",
      "execution_count": null,
      "metadata": {
        "id": "jcDV1SYYHMnn"
      },
      "outputs": [],
      "source": [
        "# folium tiles 종류 구글 검색\n",
        "# tiles 배경지도 변경하기\n",
        "#map = folium.Map(location=[geo_df_coffee['위도'].mean(), geo_df_coffee['경도'].mean()], zoom_start=12)\n",
        "map = folium.Map(location=[geo_df_coffee['위도'].mean(), geo_df_coffee['경도'].mean()], zoom_start=12, tiles='Stamen Toner')\n",
        "#map = folium.Map(location=[geo_df_coffee['위도'].mean(), geo_df_coffee['경도'].mean()], zoom_start=12, tiles='cartodb positron')\n",
        "\n",
        "for n in geo_df_coffee.index:\n",
        "  # 팝업에 들어갈 텍스트를 지정해준다.\n",
        "  popup_name = geo_df_coffee.loc[n, '상호명'] + ' - ' + geo_df_coffee.loc[n, '도로명']\n",
        "  # 브랜드명에 따라 아이콘 색상을 다르게 준다.\n",
        "  if geo_df_coffee.loc[n, '브랜드명'] == '스타벅스':\n",
        "    icon_color = 'green'\n",
        "  else:\n",
        "    icon_color = 'blue'\n",
        "\n",
        "  folium.CircleMarker(location=[geo_df_coffee.loc[n, '위도'], geo_df_coffee.loc[n, '경도']],\n",
        "                                radius = 3,\n",
        "                                popup = popup_name,\n",
        "                                color = icon_color,\n",
        "                                fill = True,\n",
        "                                fill_color = icon_color).add_to(map)\n",
        "# fill 옵션은 비어있는 부분을 NA로 채울지 여부를 결정합니다. \n",
        "# 디폴트 FALSE인데, 비어있는 부분을 채우지 않고 오류를 반환합니다. TRUE로 설정해야 NA로 채워줍니다. "
      ]
    },
    {
      "cell_type": "code",
      "execution_count": null,
      "metadata": {
        "id": "79KY-QOYIB3g"
      },
      "outputs": [],
      "source": [
        "#map"
      ]
    },
    {
      "cell_type": "code",
      "execution_count": null,
      "metadata": {
        "id": "B-8bREgXJhU3"
      },
      "outputs": [],
      "source": [
        "map.save('./pdsample/df_coffee.html')"
      ]
    },
    {
      "cell_type": "code",
      "execution_count": null,
      "metadata": {
        "colab": {
          "base_uri": "https://localhost:8080/",
          "height": 206
        },
        "id": "XTidjm0KN_9X",
        "outputId": "7246f9d1-6b95-4f2e-d19b-fc8045cb8d7d"
      },
      "outputs": [
        {
          "data": {
            "text/html": [
              "\n",
              "  <div id=\"df-b82e4cc8-9846-4d32-bb1b-1a30336fa19d\">\n",
              "    <div class=\"colab-df-container\">\n",
              "      <div>\n",
              "<style scoped>\n",
              "    .dataframe tbody tr th:only-of-type {\n",
              "        vertical-align: middle;\n",
              "    }\n",
              "\n",
              "    .dataframe tbody tr th {\n",
              "        vertical-align: top;\n",
              "    }\n",
              "\n",
              "    .dataframe thead th {\n",
              "        text-align: right;\n",
              "    }\n",
              "</style>\n",
              "<table border=\"1\" class=\"dataframe\">\n",
              "  <thead>\n",
              "    <tr style=\"text-align: right;\">\n",
              "      <th></th>\n",
              "      <th>구</th>\n",
              "      <th>브랜드명</th>\n",
              "      <th>매장수</th>\n",
              "    </tr>\n",
              "  </thead>\n",
              "  <tbody>\n",
              "    <tr>\n",
              "      <th>0</th>\n",
              "      <td>강남구</td>\n",
              "      <td>스타벅스</td>\n",
              "      <td>85</td>\n",
              "    </tr>\n",
              "    <tr>\n",
              "      <th>1</th>\n",
              "      <td>강남구</td>\n",
              "      <td>이디야</td>\n",
              "      <td>40</td>\n",
              "    </tr>\n",
              "    <tr>\n",
              "      <th>2</th>\n",
              "      <td>강동구</td>\n",
              "      <td>스타벅스</td>\n",
              "      <td>12</td>\n",
              "    </tr>\n",
              "    <tr>\n",
              "      <th>3</th>\n",
              "      <td>강동구</td>\n",
              "      <td>이디야</td>\n",
              "      <td>10</td>\n",
              "    </tr>\n",
              "    <tr>\n",
              "      <th>4</th>\n",
              "      <td>강북구</td>\n",
              "      <td>스타벅스</td>\n",
              "      <td>5</td>\n",
              "    </tr>\n",
              "  </tbody>\n",
              "</table>\n",
              "</div>\n",
              "      <button class=\"colab-df-convert\" onclick=\"convertToInteractive('df-b82e4cc8-9846-4d32-bb1b-1a30336fa19d')\"\n",
              "              title=\"Convert this dataframe to an interactive table.\"\n",
              "              style=\"display:none;\">\n",
              "        \n",
              "  <svg xmlns=\"http://www.w3.org/2000/svg\" height=\"24px\"viewBox=\"0 0 24 24\"\n",
              "       width=\"24px\">\n",
              "    <path d=\"M0 0h24v24H0V0z\" fill=\"none\"/>\n",
              "    <path d=\"M18.56 5.44l.94 2.06.94-2.06 2.06-.94-2.06-.94-.94-2.06-.94 2.06-2.06.94zm-11 1L8.5 8.5l.94-2.06 2.06-.94-2.06-.94L8.5 2.5l-.94 2.06-2.06.94zm10 10l.94 2.06.94-2.06 2.06-.94-2.06-.94-.94-2.06-.94 2.06-2.06.94z\"/><path d=\"M17.41 7.96l-1.37-1.37c-.4-.4-.92-.59-1.43-.59-.52 0-1.04.2-1.43.59L10.3 9.45l-7.72 7.72c-.78.78-.78 2.05 0 2.83L4 21.41c.39.39.9.59 1.41.59.51 0 1.02-.2 1.41-.59l7.78-7.78 2.81-2.81c.8-.78.8-2.07 0-2.86zM5.41 20L4 18.59l7.72-7.72 1.47 1.35L5.41 20z\"/>\n",
              "  </svg>\n",
              "      </button>\n",
              "      \n",
              "  <style>\n",
              "    .colab-df-container {\n",
              "      display:flex;\n",
              "      flex-wrap:wrap;\n",
              "      gap: 12px;\n",
              "    }\n",
              "\n",
              "    .colab-df-convert {\n",
              "      background-color: #E8F0FE;\n",
              "      border: none;\n",
              "      border-radius: 50%;\n",
              "      cursor: pointer;\n",
              "      display: none;\n",
              "      fill: #1967D2;\n",
              "      height: 32px;\n",
              "      padding: 0 0 0 0;\n",
              "      width: 32px;\n",
              "    }\n",
              "\n",
              "    .colab-df-convert:hover {\n",
              "      background-color: #E2EBFA;\n",
              "      box-shadow: 0px 1px 2px rgba(60, 64, 67, 0.3), 0px 1px 3px 1px rgba(60, 64, 67, 0.15);\n",
              "      fill: #174EA6;\n",
              "    }\n",
              "\n",
              "    [theme=dark] .colab-df-convert {\n",
              "      background-color: #3B4455;\n",
              "      fill: #D2E3FC;\n",
              "    }\n",
              "\n",
              "    [theme=dark] .colab-df-convert:hover {\n",
              "      background-color: #434B5C;\n",
              "      box-shadow: 0px 1px 3px 1px rgba(0, 0, 0, 0.15);\n",
              "      filter: drop-shadow(0px 1px 2px rgba(0, 0, 0, 0.3));\n",
              "      fill: #FFFFFF;\n",
              "    }\n",
              "  </style>\n",
              "\n",
              "      <script>\n",
              "        const buttonEl =\n",
              "          document.querySelector('#df-b82e4cc8-9846-4d32-bb1b-1a30336fa19d button.colab-df-convert');\n",
              "        buttonEl.style.display =\n",
              "          google.colab.kernel.accessAllowed ? 'block' : 'none';\n",
              "\n",
              "        async function convertToInteractive(key) {\n",
              "          const element = document.querySelector('#df-b82e4cc8-9846-4d32-bb1b-1a30336fa19d');\n",
              "          const dataTable =\n",
              "            await google.colab.kernel.invokeFunction('convertToInteractive',\n",
              "                                                     [key], {});\n",
              "          if (!dataTable) return;\n",
              "\n",
              "          const docLinkHtml = 'Like what you see? Visit the ' +\n",
              "            '<a target=\"_blank\" href=https://colab.research.google.com/notebooks/data_table.ipynb>data table notebook</a>'\n",
              "            + ' to learn more about interactive tables.';\n",
              "          element.innerHTML = '';\n",
              "          dataTable['output_type'] = 'display_data';\n",
              "          await google.colab.output.renderOutput(dataTable, element);\n",
              "          const docLink = document.createElement('div');\n",
              "          docLink.innerHTML = docLinkHtml;\n",
              "          element.appendChild(docLink);\n",
              "        }\n",
              "      </script>\n",
              "    </div>\n",
              "  </div>\n",
              "  "
            ],
            "text/plain": [
              "     구  브랜드명  매장수\n",
              "0  강남구  스타벅스   85\n",
              "1  강남구   이디야   40\n",
              "2  강동구  스타벅스   12\n",
              "3  강동구   이디야   10\n",
              "4  강북구  스타벅스    5"
            ]
          },
          "execution_count": 130,
          "metadata": {},
          "output_type": "execute_result"
        }
      ],
      "source": [
        "### 서울시 구 별 스타벅스, 이디야 수\n",
        "df_coffee_brand = pd.DataFrame(df_seoul_star_edi.groupby(['시군구명', '브랜드명'])['상호명'].count().reset_index())\n",
        "df_coffee_brand.columns = ['구','브랜드명', '매장수']\n",
        "df_coffee_brand.head()"
      ]
    },
    {
      "cell_type": "code",
      "execution_count": null,
      "metadata": {
        "colab": {
          "base_uri": "https://localhost:8080/",
          "height": 278
        },
        "id": "ybTBnim9Rfmu",
        "outputId": "8a3bd84a-5678-4353-94bc-eb436fab6c7f"
      },
      "outputs": [
        {
          "data": {
            "text/plain": [
              "<matplotlib.axes._subplots.AxesSubplot at 0x7fae84d0ae20>"
            ]
          },
          "execution_count": 131,
          "metadata": {},
          "output_type": "execute_result"
        },
        {
          "data": {
            "image/png": "[encoded data removed]",
            "text/plain": [
              "<Figure size 1728x432 with 1 Axes>"
            ]
          },
          "metadata": {},
          "output_type": "display_data"
        }
      ],
      "source": [
        "plt.figure(figsize=(24,6))\n",
        "sns.barplot(data=df_coffee_brand, x='구', y='매장수', hue='브랜드명')"
      ]
    },
    {
      "cell_type": "code",
      "execution_count": null,
      "metadata": {
        "colab": {
          "base_uri": "https://localhost:8080/"
        },
        "id": "Ucp8RS7nSpnY",
        "outputId": "332736f8-f32a-44bf-9b4c-59a6e438a8d2"
      },
      "outputs": [
        {
          "data": {
            "text/plain": [
              "시군구명\n",
              "강남구    125\n",
              "강동구     22\n",
              "강북구     15\n",
              "강서구     54\n",
              "관악구     31\n",
              "Name: 상호명, dtype: int64"
            ]
          },
          "execution_count": 137,
          "metadata": {},
          "output_type": "execute_result"
        }
      ],
      "source": [
        "df_seoul_star_edi.groupby(['시군구명'])['상호명'].count().head()"
      ]
    },
    {
      "cell_type": "code",
      "execution_count": null,
      "metadata": {
        "id": "xB37ljiIUD0-"
      },
      "outputs": [],
      "source": [
        "df_seoul_star_edi_gu = pd.DataFrame(df_seoul_star_edi.groupby(['시군구명'])['상호명'].count())"
      ]
    },
    {
      "cell_type": "code",
      "execution_count": null,
      "metadata": {
        "id": "SLUejN6hUtR3"
      },
      "outputs": [],
      "source": [
        "import json"
      ]
    },
    {
      "cell_type": "code",
      "execution_count": null,
      "metadata": {
        "id": "2szFMKJxUuV9"
      },
      "outputs": [],
      "source": [
        "# https://github.com/southkorea/southkorea-maps\n",
        "\n",
        "geo_path = 'pdsample/skorea-municipalities-2018-geo.json'\n",
        "geo_json = json.load(open(geo_path, encoding='utf-8'))"
      ]
    },
    {
      "cell_type": "code",
      "execution_count": null,
      "metadata": {
        "colab": {
          "base_uri": "https://localhost:8080/",
          "height": 354
        },
        "id": "ru5gZNkpVfut",
        "outputId": "734422c8-3d02-4242-e0b4-4cbb206af9ea"
      },
      "outputs": [
        {
          "data": {
            "text/html": [
              "\n",
              "  <div id=\"df-7cf2784f-a4ac-4294-851a-9550fec9049c\">\n",
              "    <div class=\"colab-df-container\">\n",
              "      <div>\n",
              "<style scoped>\n",
              "    .dataframe tbody tr th:only-of-type {\n",
              "        vertical-align: middle;\n",
              "    }\n",
              "\n",
              "    .dataframe tbody tr th {\n",
              "        vertical-align: top;\n",
              "    }\n",
              "\n",
              "    .dataframe thead th {\n",
              "        text-align: right;\n",
              "    }\n",
              "</style>\n",
              "<table border=\"1\" class=\"dataframe\">\n",
              "  <thead>\n",
              "    <tr style=\"text-align: right;\">\n",
              "      <th></th>\n",
              "      <th>상호명</th>\n",
              "      <th>지점명</th>\n",
              "      <th>상권업종중분류명</th>\n",
              "      <th>시도명</th>\n",
              "      <th>시군구명</th>\n",
              "      <th>행정동명</th>\n",
              "      <th>도로명</th>\n",
              "      <th>경도</th>\n",
              "      <th>위도</th>\n",
              "      <th>브랜드명</th>\n",
              "    </tr>\n",
              "  </thead>\n",
              "  <tbody>\n",
              "    <tr>\n",
              "      <th>752</th>\n",
              "      <td>스타벅스</td>\n",
              "      <td>이태원점</td>\n",
              "      <td>커피점/카페</td>\n",
              "      <td>서울특별시</td>\n",
              "      <td>용산구</td>\n",
              "      <td>이태원1동</td>\n",
              "      <td>서울특별시 용산구 이태원로</td>\n",
              "      <td>126.994781</td>\n",
              "      <td>37.534303</td>\n",
              "      <td>스타벅스</td>\n",
              "    </tr>\n",
              "    <tr>\n",
              "      <th>1153</th>\n",
              "      <td>이디야커피</td>\n",
              "      <td>신길역점</td>\n",
              "      <td>커피점/카페</td>\n",
              "      <td>서울특별시</td>\n",
              "      <td>영등포구</td>\n",
              "      <td>신길1동</td>\n",
              "      <td>서울특별시 영등포구 영등포로</td>\n",
              "      <td>126.918062</td>\n",
              "      <td>37.515118</td>\n",
              "      <td>이디야</td>\n",
              "    </tr>\n",
              "    <tr>\n",
              "      <th>1406</th>\n",
              "      <td>스타벅스종로3가점</td>\n",
              "      <td>종로3가점</td>\n",
              "      <td>커피점/카페</td>\n",
              "      <td>서울특별시</td>\n",
              "      <td>종로구</td>\n",
              "      <td>종로1.2.3.4가동</td>\n",
              "      <td>서울특별시 종로구 종로</td>\n",
              "      <td>126.990207</td>\n",
              "      <td>37.570585</td>\n",
              "      <td>스타벅스</td>\n",
              "    </tr>\n",
              "    <tr>\n",
              "      <th>1875</th>\n",
              "      <td>스타벅스</td>\n",
              "      <td>신사2점</td>\n",
              "      <td>커피점/카페</td>\n",
              "      <td>서울특별시</td>\n",
              "      <td>서초구</td>\n",
              "      <td>잠원동</td>\n",
              "      <td>서울특별시 서초구 강남대로</td>\n",
              "      <td>127.019763</td>\n",
              "      <td>37.513663</td>\n",
              "      <td>스타벅스</td>\n",
              "    </tr>\n",
              "    <tr>\n",
              "      <th>1981</th>\n",
              "      <td>이디야커피</td>\n",
              "      <td>이마트구로점</td>\n",
              "      <td>커피점/카페</td>\n",
              "      <td>서울특별시</td>\n",
              "      <td>구로구</td>\n",
              "      <td>구로3동</td>\n",
              "      <td>서울특별시 구로구 디지털로32길</td>\n",
              "      <td>126.897870</td>\n",
              "      <td>37.484385</td>\n",
              "      <td>이디야</td>\n",
              "    </tr>\n",
              "  </tbody>\n",
              "</table>\n",
              "</div>\n",
              "      <button class=\"colab-df-convert\" onclick=\"convertToInteractive('df-7cf2784f-a4ac-4294-851a-9550fec9049c')\"\n",
              "              title=\"Convert this dataframe to an interactive table.\"\n",
              "              style=\"display:none;\">\n",
              "        \n",
              "  <svg xmlns=\"http://www.w3.org/2000/svg\" height=\"24px\"viewBox=\"0 0 24 24\"\n",
              "       width=\"24px\">\n",
              "    <path d=\"M0 0h24v24H0V0z\" fill=\"none\"/>\n",
              "    <path d=\"M18.56 5.44l.94 2.06.94-2.06 2.06-.94-2.06-.94-.94-2.06-.94 2.06-2.06.94zm-11 1L8.5 8.5l.94-2.06 2.06-.94-2.06-.94L8.5 2.5l-.94 2.06-2.06.94zm10 10l.94 2.06.94-2.06 2.06-.94-2.06-.94-.94-2.06-.94 2.06-2.06.94z\"/><path d=\"M17.41 7.96l-1.37-1.37c-.4-.4-.92-.59-1.43-.59-.52 0-1.04.2-1.43.59L10.3 9.45l-7.72 7.72c-.78.78-.78 2.05 0 2.83L4 21.41c.39.39.9.59 1.41.59.51 0 1.02-.2 1.41-.59l7.78-7.78 2.81-2.81c.8-.78.8-2.07 0-2.86zM5.41 20L4 18.59l7.72-7.72 1.47 1.35L5.41 20z\"/>\n",
              "  </svg>\n",
              "      </button>\n",
              "      \n",
              "  <style>\n",
              "    .colab-df-container {\n",
              "      display:flex;\n",
              "      flex-wrap:wrap;\n",
              "      gap: 12px;\n",
              "    }\n",
              "\n",
              "    .colab-df-convert {\n",
              "      background-color: #E8F0FE;\n",
              "      border: none;\n",
              "      border-radius: 50%;\n",
              "      cursor: pointer;\n",
              "      display: none;\n",
              "      fill: #1967D2;\n",
              "      height: 32px;\n",
              "      padding: 0 0 0 0;\n",
              "      width: 32px;\n",
              "    }\n",
              "\n",
              "    .colab-df-convert:hover {\n",
              "      background-color: #E2EBFA;\n",
              "      box-shadow: 0px 1px 2px rgba(60, 64, 67, 0.3), 0px 1px 3px 1px rgba(60, 64, 67, 0.15);\n",
              "      fill: #174EA6;\n",
              "    }\n",
              "\n",
              "    [theme=dark] .colab-df-convert {\n",
              "      background-color: #3B4455;\n",
              "      fill: #D2E3FC;\n",
              "    }\n",
              "\n",
              "    [theme=dark] .colab-df-convert:hover {\n",
              "      background-color: #434B5C;\n",
              "      box-shadow: 0px 1px 3px 1px rgba(0, 0, 0, 0.15);\n",
              "      filter: drop-shadow(0px 1px 2px rgba(0, 0, 0, 0.3));\n",
              "      fill: #FFFFFF;\n",
              "    }\n",
              "  </style>\n",
              "\n",
              "      <script>\n",
              "        const buttonEl =\n",
              "          document.querySelector('#df-7cf2784f-a4ac-4294-851a-9550fec9049c button.colab-df-convert');\n",
              "        buttonEl.style.display =\n",
              "          google.colab.kernel.accessAllowed ? 'block' : 'none';\n",
              "\n",
              "        async function convertToInteractive(key) {\n",
              "          const element = document.querySelector('#df-7cf2784f-a4ac-4294-851a-9550fec9049c');\n",
              "          const dataTable =\n",
              "            await google.colab.kernel.invokeFunction('convertToInteractive',\n",
              "                                                     [key], {});\n",
              "          if (!dataTable) return;\n",
              "\n",
              "          const docLinkHtml = 'Like what you see? Visit the ' +\n",
              "            '<a target=\"_blank\" href=https://colab.research.google.com/notebooks/data_table.ipynb>data table notebook</a>'\n",
              "            + ' to learn more about interactive tables.';\n",
              "          element.innerHTML = '';\n",
              "          dataTable['output_type'] = 'display_data';\n",
              "          await google.colab.output.renderOutput(dataTable, element);\n",
              "          const docLink = document.createElement('div');\n",
              "          docLink.innerHTML = docLinkHtml;\n",
              "          element.appendChild(docLink);\n",
              "        }\n",
              "      </script>\n",
              "    </div>\n",
              "  </div>\n",
              "  "
            ],
            "text/plain": [
              "            상호명     지점명 상권업종중분류명    시도명  시군구명         행정동명                도로명  \\\n",
              "752        스타벅스    이태원점   커피점/카페  서울특별시   용산구        이태원1동     서울특별시 용산구 이태원로   \n",
              "1153      이디야커피    신길역점   커피점/카페  서울특별시  영등포구         신길1동    서울특별시 영등포구 영등포로   \n",
              "1406  스타벅스종로3가점   종로3가점   커피점/카페  서울특별시   종로구  종로1.2.3.4가동       서울특별시 종로구 종로   \n",
              "1875       스타벅스    신사2점   커피점/카페  서울특별시   서초구          잠원동     서울특별시 서초구 강남대로   \n",
              "1981      이디야커피  이마트구로점   커피점/카페  서울특별시   구로구         구로3동  서울특별시 구로구 디지털로32길   \n",
              "\n",
              "              경도         위도  브랜드명  \n",
              "752   126.994781  37.534303  스타벅스  \n",
              "1153  126.918062  37.515118   이디야  \n",
              "1406  126.990207  37.570585  스타벅스  \n",
              "1875  127.019763  37.513663  스타벅스  \n",
              "1981  126.897870  37.484385   이디야  "
            ]
          },
          "execution_count": 142,
          "metadata": {},
          "output_type": "execute_result"
        }
      ],
      "source": [
        "geo_df_coffee.head()"
      ]
    },
    {
      "cell_type": "code",
      "execution_count": null,
      "metadata": {
        "colab": {
          "base_uri": "https://localhost:8080/"
        },
        "id": "khBs-JorVqvF",
        "outputId": "d5fcfbaa-6028-458b-9a3c-923ea00a11e2"
      },
      "outputs": [
        {
          "name": "stderr",
          "output_type": "stream",
          "text": [
            "/usr/local/lib/python3.8/dist-packages/folium/folium.py:409: FutureWarning: The choropleth  method has been deprecated. Instead use the new Choropleth class, which has the same arguments. See the example notebook 'GeoJSON_and_choropleth' for how to do this.\n",
            "  warnings.warn(\n"
          ]
        }
      ],
      "source": [
        "#map = folium.Map(location=[geo_df_coffee['위도'].mean(), geo_df_coffee['경도'].mean()], zoom_start=12)\n",
        "map = folium.Map(location=[geo_df_coffee['위도'].mean(), geo_df_coffee['경도'].mean()], zoom_start=12, tiles='Stamen Toner')\n",
        "#map = folium.Map(location=[geo_df_coffee['위도'].mean(), geo_df_coffee['경도'].mean()], zoom_start=12, tiles='cartodb positron')\n",
        "\n",
        "# 단계 구분도(Choropleth Map)\n",
        "map.choropleth(geo_data = geo_json,\n",
        "               data = df_seoul_star_edi_gu['상호명'],\n",
        "               columns = [df_coffee_brand.index, df_seoul_star_edi_gu['상호명']],\n",
        "               fill_color = 'Purples',\n",
        "               key_on = 'feature.properties.name',\n",
        "               fill_opacity = 0.7,\n",
        "               line_opacity = 0.2,\n",
        "               highlight = True)\n",
        "\n",
        "for n in geo_df_coffee.index:\n",
        "  # 팝업에 들어갈 텍스트를 지정해준다.\n",
        "  popup_name = geo_df_coffee.loc[n, '상호명'] + ' - ' + geo_df_coffee.loc[n, '도로명']\n",
        "  # 브랜드명에 따라 아이콘 색상을 다르게 준다.\n",
        "  if geo_df_coffee.loc[n, '브랜드명'] == '스타벅스':\n",
        "    icon_color = 'green'\n",
        "  else:\n",
        "    icon_color = 'blue'\n",
        "\n",
        "  folium.CircleMarker(location=[geo_df_coffee.loc[n, '위도'], geo_df_coffee.loc[n, '경도']],\n",
        "                                radius = 3,\n",
        "                                popup = popup_name,\n",
        "                                color = icon_color,\n",
        "                                fill = True,\n",
        "                                fill_color = icon_color).add_to(map)"
      ]
    },
    {
      "cell_type": "code",
      "execution_count": null,
      "metadata": {
        "id": "kGhR8GhSW1Tl"
      },
      "outputs": [],
      "source": [
        "#map"
      ]
    }
  ],
  "metadata": {
    "colab": {
      "provenance": [],
      "authorship_tag": "ABX9TyNZCPeptYDUOLrAqjp1U0N4",
      "include_colab_link": true
    },
    "kernelspec": {
      "display_name": "Python 3",
      "name": "python3"
    },
    "language_info": {
      "name": "python"
    }
  },
  "nbformat": 4,
  "nbformat_minor": 0
}