{
  "nbformat": 4,
  "nbformat_minor": 0,
  "metadata": {
    "colab": {
      "provenance": [],
      "authorship_tag": "ABX9TyPcDu4d7YE4U8K2unoKrOr9",
      "include_colab_link": true
    },
    "kernelspec": {
      "name": "python3",
      "display_name": "Python 3"
    },
    "language_info": {
      "name": "python"
    }
  },
  "cells": [
    {
      "cell_type": "markdown",
      "metadata": {
        "id": "view-in-github",
        "colab_type": "text"
      },
      "source": [
        "<a href=\"https://colab.research.google.com/github/gustmdtmd/pythondemo/blob/main/python_03_statement.ipynb\" target=\"_parent\"><img src=\"https://colab.research.google.com/assets/colab-badge.svg\" alt=\"Open In Colab\"/></a>"
      ]
    },
    {
      "cell_type": "code",
      "execution_count": null,
      "metadata": {
        "colab": {
          "base_uri": "https://localhost:8080/"
        },
        "id": "Wn1hod6trvoh",
        "outputId": "41e3503c-2556-46a1-d4b4-734c13222c62"
      },
      "outputs": [
        {
          "output_type": "stream",
          "name": "stdout",
          "text": [
            "No\n"
          ]
        }
      ],
      "source": [
        "a = 1\n",
        "if a>3:\n",
        "  print('Yes')\n",
        "else:\n",
        "  print('No')"
      ]
    },
    {
      "cell_type": "code",
      "source": [
        "if a>0:\n",
        "  print('Yes')\n",
        "  print('Ok')\n",
        "else:\n",
        "  print('No')"
      ],
      "metadata": {
        "colab": {
          "base_uri": "https://localhost:8080/"
        },
        "id": "bQor8CiVsZlo",
        "outputId": "61d7204c-7ad1-4eb9-c60d-b248c2430ca3"
      },
      "execution_count": null,
      "outputs": [
        {
          "output_type": "stream",
          "name": "stdout",
          "text": [
            "Yes\n",
            "Ok\n"
          ]
        }
      ]
    },
    {
      "cell_type": "code",
      "source": [
        "#jumsu가 80이상 '상' , 80미만~60이상 '중', 60미만 '하'\n",
        "jumsu = 55\n",
        "if jumsu>=80:\n",
        "  print('상')\n",
        "elif jumsu>=60:\n",
        "  print('중')\n",
        "else:\n",
        "  print('하')"
      ],
      "metadata": {
        "colab": {
          "base_uri": "https://localhost:8080/"
        },
        "id": "WX7wSAILsngO",
        "outputId": "840bf227-7da4-42dc-f721-0b7072615a74"
      },
      "execution_count": null,
      "outputs": [
        {
          "output_type": "stream",
          "name": "stdout",
          "text": [
            "하\n"
          ]
        }
      ]
    },
    {
      "cell_type": "markdown",
      "source": [
        "### existance\n",
        "   python에서 조건은 존재론(existance)적이다. -> truthy,falsy"
      ],
      "metadata": {
        "id": "Sv8QP_y7tjxl"
      }
    },
    {
      "cell_type": "code",
      "source": [
        "# 0은 숫자가 없는 것과 같음 -> falsy\n",
        "a = 0.0\n",
        "if a:\n",
        "  print('Yes')\n",
        "else:\n",
        "  print('No')"
      ],
      "metadata": {
        "colab": {
          "base_uri": "https://localhost:8080/"
        },
        "id": "xwSKZT5qtLDl",
        "outputId": "6763b304-a383-4dc6-cc56-5bcc52318e38"
      },
      "execution_count": null,
      "outputs": [
        {
          "output_type": "stream",
          "name": "stdout",
          "text": [
            "No\n"
          ]
        }
      ]
    },
    {
      "cell_type": "code",
      "source": [
        "# None은 객체가 없는 것과 같음 -> falsy\n",
        "a = None\n",
        "if a:\n",
        "  print('Yes')\n",
        "else:\n",
        "  print('No')"
      ],
      "metadata": {
        "colab": {
          "base_uri": "https://localhost:8080/"
        },
        "id": "OGJdWVC6t4ve",
        "outputId": "e4cfb831-ba44-41fa-91c0-bc7cd5df47b1"
      },
      "execution_count": null,
      "outputs": [
        {
          "output_type": "stream",
          "name": "stdout",
          "text": [
            "No\n"
          ]
        }
      ]
    },
    {
      "cell_type": "code",
      "source": [
        "# 비어 있는 dict는 없는 것고 같다 -> falsy\n",
        "a = {}\n",
        "if a:\n",
        "  print('Yes')\n",
        "else:\n",
        "  print('No')"
      ],
      "metadata": {
        "colab": {
          "base_uri": "https://localhost:8080/"
        },
        "id": "R6sXKHuiu8yt",
        "outputId": "a0b59f9e-e42c-4f81-c3ce-94e3b4451b49"
      },
      "execution_count": null,
      "outputs": [
        {
          "output_type": "stream",
          "name": "stdout",
          "text": [
            "No\n"
          ]
        }
      ]
    },
    {
      "cell_type": "code",
      "source": [
        "# 인스턴스 방식으로 값을 만들 때 괄호 안이 비어 있으면 비어 있는 값을 만든다.\n",
        "# if에서 모두 false이다.\n",
        "a = int()\n",
        "b = float()\n",
        "c = complex()\n",
        "d = list()"
      ],
      "metadata": {
        "id": "zKI5AgjovTvd"
      },
      "execution_count": null,
      "outputs": []
    },
    {
      "cell_type": "code",
      "source": [
        "if a:\n",
        "  print('Yes')\n",
        "else:\n",
        "  print('No')"
      ],
      "metadata": {
        "colab": {
          "base_uri": "https://localhost:8080/"
        },
        "id": "udIkcBaLvsac",
        "outputId": "74f52850-b08f-480c-ca40-403a0cf84fd0"
      },
      "execution_count": null,
      "outputs": [
        {
          "output_type": "stream",
          "name": "stdout",
          "text": [
            "No\n"
          ]
        }
      ]
    },
    {
      "cell_type": "code",
      "source": [
        "3<2 or 4<5"
      ],
      "metadata": {
        "colab": {
          "base_uri": "https://localhost:8080/"
        },
        "id": "dozIW9EwvzkE",
        "outputId": "a205df4c-c987-40c8-ef26-cdde223e0725"
      },
      "execution_count": null,
      "outputs": [
        {
          "output_type": "execute_result",
          "data": {
            "text/plain": [
              "True"
            ]
          },
          "metadata": {},
          "execution_count": 22
        }
      ]
    },
    {
      "cell_type": "code",
      "source": [
        "# and는 앞이 True이면 뒤에 값을 반환한다.\n",
        "# 3은 존재론적으로 True\n",
        "3 and 4"
      ],
      "metadata": {
        "colab": {
          "base_uri": "https://localhost:8080/"
        },
        "id": "MBCpXliTxtc1",
        "outputId": "5a2411c5-79c8-4860-f235-b9e349087664"
      },
      "execution_count": null,
      "outputs": [
        {
          "output_type": "execute_result",
          "data": {
            "text/plain": [
              "4"
            ]
          },
          "metadata": {},
          "execution_count": 29
        }
      ]
    },
    {
      "cell_type": "code",
      "source": [
        "# and는 앞이 False이면 앞에 값을 반환한다.\n",
        "# 비어있는 문자열은 없는 것 과 같음 -> falsy\n",
        "\"\" and 4"
      ],
      "metadata": {
        "colab": {
          "base_uri": "https://localhost:8080/",
          "height": 35
        },
        "id": "9dHU3ulMyNZN",
        "outputId": "b97ea085-386a-4156-df5d-54cd832102fe"
      },
      "execution_count": null,
      "outputs": [
        {
          "output_type": "execute_result",
          "data": {
            "text/plain": [
              "''"
            ],
            "application/vnd.google.colaboratory.intrinsic+json": {
              "type": "string"
            }
          },
          "metadata": {},
          "execution_count": 32
        }
      ]
    },
    {
      "cell_type": "code",
      "source": [
        "# or는 and의 반대\n",
        "# 앞이 True이면 앞, 앞이 false이면 뒤의 값을 반환한다.\n",
        "3 or 4 "
      ],
      "metadata": {
        "colab": {
          "base_uri": "https://localhost:8080/"
        },
        "id": "DZ0YhysVydP0",
        "outputId": "97df7061-2ed7-42ff-e0d0-2ded4948b4fd"
      },
      "execution_count": null,
      "outputs": [
        {
          "output_type": "execute_result",
          "data": {
            "text/plain": [
              "3"
            ]
          },
          "metadata": {},
          "execution_count": 37
        }
      ]
    },
    {
      "cell_type": "code",
      "source": [
        "'' or 4"
      ],
      "metadata": {
        "colab": {
          "base_uri": "https://localhost:8080/"
        },
        "id": "6KjSxWLizBOU",
        "outputId": "14c86245-975e-40eb-ad1d-f30e45f4e3b3"
      },
      "execution_count": null,
      "outputs": [
        {
          "output_type": "execute_result",
          "data": {
            "text/plain": [
              "4"
            ]
          },
          "metadata": {},
          "execution_count": 39
        }
      ]
    },
    {
      "cell_type": "code",
      "source": [
        "# if 조건에 문장을 사용할 수 없다.(어떤 조건식이든 동일하다.)\n",
        "if a=4:\n",
        "  print('Yes')"
      ],
      "metadata": {
        "colab": {
          "base_uri": "https://localhost:8080/",
          "height": 137
        },
        "id": "AXM9k31zzFuM",
        "outputId": "881371d3-a0a3-4bc5-c441-65b257b26eef"
      },
      "execution_count": null,
      "outputs": [
        {
          "output_type": "error",
          "ename": "SyntaxError",
          "evalue": "ignored",
          "traceback": [
            "\u001b[0;36m  File \u001b[0;32m\"<ipython-input-41-0124ea6c812c>\"\u001b[0;36m, line \u001b[0;32m2\u001b[0m\n\u001b[0;31m    if a=4:\u001b[0m\n\u001b[0m        ^\u001b[0m\n\u001b[0;31mSyntaxError\u001b[0m\u001b[0;31m:\u001b[0m invalid syntax\n"
          ]
        }
      ]
    },
    {
      "cell_type": "markdown",
      "source": [
        "##for문\n",
        "###범위를 지정하는 방법에는 두 가지 방법이 있다.\n",
        "- 첫번째 방법은 순서형이나 딕셔너리를 사용하는 것이다.\n",
        "- 두번째 방법은 변수 자체를 출력하는 방법이다\n",
        "\n",
        "##반복문\n",
        "반복문에서 else는 반복문이 완벽하게 끝났을 때 실행된다.   \n",
        "대부분의 프로그래밍 언어는 while과 for을 지원한다.   \n",
        "\n",
        "##for문과 함께 사용되는 함수\n",
        "#####enumerate 함수   \n",
        "- enumerate() 함수는 인데스와 객체를 동시에 저장할 수 있는 특징을 가진 for문을 좀더 효율적으로 사용하기 위한 함수이다.   \n",
        "- enumerate()함수는 순서자료형(리스트,튜플,문자열)을 입력받아 인덱스를 포함하는 emuerate()함수객체를 리턴한다.   \n",
        "- enumerate([순서자료형],[시작값=0])d의 형식을 가지며 순서자료형은 반복자가 가능한 객체가 입려되고 시작값은 입력시 해당수 부터 증가하면, 생략했을경우 기본값은 0이다.\n",
        "\n",
        "#####zip함수\n",
        "- 매개 인자로 여러 목록을 받아 각 목록의 요소를 튜플에 담아 목록에 저장한다.\n",
        "\n",
        "#####items 함수\n",
        "- dict의 내장함수로 키와 값을 동시에 검색한다.\n"
      ],
      "metadata": {
        "id": "9v-xoD4i7ktE"
      }
    },
    {
      "cell_type": "code",
      "source": [
        "# 첫번째 방법은 순서형이나 딕셔너리를 사용하는 것이다.\n",
        "for v in [1,2,3,4,5]:\n",
        "  print(v)\n",
        "\n",
        "print(\"-----------\")\n",
        "\n",
        "for v in 'python':\n",
        "  print(v)\n",
        "\n",
        "print(\"-----------\")\n",
        "\n",
        "t = [('one',1), ('two',2)]\n",
        "for k, v in t:\n",
        "  print('{0}:{1}'.format(k, v))\n",
        "\n",
        "print(\"-----------\")\n",
        "\n",
        "#딕셔너리 {}\n",
        "dic = {'a':1, 'b':2}\n",
        "for k in dic:\n",
        "  print('{0} : {1}'.format(k,dic[k]))"
      ],
      "metadata": {
        "colab": {
          "base_uri": "https://localhost:8080/"
        },
        "id": "dowl_yBM3pj0",
        "outputId": "8c8f835c-eb4b-45eb-8681-bcc26715e055"
      },
      "execution_count": null,
      "outputs": [
        {
          "output_type": "stream",
          "name": "stdout",
          "text": [
            "1\n",
            "2\n",
            "3\n",
            "4\n",
            "5\n",
            "-----------\n",
            "p\n",
            "y\n",
            "t\n",
            "h\n",
            "o\n",
            "n\n",
            "-----------\n",
            "one:1\n",
            "two:2\n",
            "-----------\n",
            "a : 1\n",
            "b : 2\n"
          ]
        }
      ]
    },
    {
      "cell_type": "code",
      "source": [
        "print(len(dir(dict)), len(dir(dic)))"
      ],
      "metadata": {
        "colab": {
          "base_uri": "https://localhost:8080/"
        },
        "id": "ZZXSwtjt7IOD",
        "outputId": "b37d6b31-3a16-4081-afe8-cdad8e5ba579"
      },
      "execution_count": null,
      "outputs": [
        {
          "output_type": "stream",
          "name": "stdout",
          "text": [
            "41 41\n"
          ]
        }
      ]
    },
    {
      "cell_type": "code",
      "source": [
        "dic.__doc__"
      ],
      "metadata": {
        "colab": {
          "base_uri": "https://localhost:8080/",
          "height": 90
        },
        "id": "Xs9Qg06B8NAr",
        "outputId": "2b34dd90-028f-4cd0-bfa7-2be45c5be394"
      },
      "execution_count": null,
      "outputs": [
        {
          "output_type": "execute_result",
          "data": {
            "text/plain": [
              "\"dict() -> new empty dictionary\\ndict(mapping) -> new dictionary initialized from a mapping object's\\n    (key, value) pairs\\ndict(iterable) -> new dictionary initialized as if via:\\n    d = {}\\n    for k, v in iterable:\\n        d[k] = v\\ndict(**kwargs) -> new dictionary initialized with the name=value pairs\\n    in the keyword argument list.  For example:  dict(one=1, two=2)\""
            ],
            "application/vnd.google.colaboratory.intrinsic+json": {
              "type": "string"
            }
          },
          "metadata": {},
          "execution_count": 57
        }
      ]
    },
    {
      "cell_type": "code",
      "source": [
        "dict.__doc__"
      ],
      "metadata": {
        "colab": {
          "base_uri": "https://localhost:8080/",
          "height": 90
        },
        "id": "iev6QSLX8R4S",
        "outputId": "2e36d47b-b88f-494d-f1fa-cf04555a43da"
      },
      "execution_count": null,
      "outputs": [
        {
          "output_type": "execute_result",
          "data": {
            "text/plain": [
              "\"dict() -> new empty dictionary\\ndict(mapping) -> new dictionary initialized from a mapping object's\\n    (key, value) pairs\\ndict(iterable) -> new dictionary initialized as if via:\\n    d = {}\\n    for k, v in iterable:\\n        d[k] = v\\ndict(**kwargs) -> new dictionary initialized with the name=value pairs\\n    in the keyword argument list.  For example:  dict(one=1, two=2)\""
            ],
            "application/vnd.google.colaboratory.intrinsic+json": {
              "type": "string"
            }
          },
          "metadata": {},
          "execution_count": 58
        }
      ]
    },
    {
      "cell_type": "code",
      "source": [
        "# else는 if문, while문, 예외처리에서 사용된다.\n",
        "# 아래는 while문이 완벽히(정삭적으로) 돌았으므로 end가 출력된다.\n",
        "a = 20;\n",
        "\n",
        "while a>10:\n",
        "  a -= 1\n",
        "  print(a)\n",
        "else:\n",
        "  print('end')"
      ],
      "metadata": {
        "colab": {
          "base_uri": "https://localhost:8080/"
        },
        "id": "dbnbqqou-JLs",
        "outputId": "72116bc3-77e4-4372-f764-63c8aba8f8f5"
      },
      "execution_count": null,
      "outputs": [
        {
          "output_type": "stream",
          "name": "stdout",
          "text": [
            "19\n",
            "18\n",
            "17\n",
            "16\n",
            "15\n",
            "14\n",
            "13\n",
            "12\n",
            "11\n",
            "10\n",
            "end\n"
          ]
        }
      ]
    },
    {
      "cell_type": "code",
      "source": [
        "# break는 반복문을 중단시킨다.\n",
        "# break가 실행되면 반복문이 완벽하게 실행된 것이 아니므로 else가 실행되지 않는다.\n",
        "\n",
        "a = 10\n",
        "while a>1:\n",
        "  a-=1\n",
        "  if a==5:\n",
        "    break  #중단\n",
        "  print(a)\n",
        "else:\n",
        "  print('end')"
      ],
      "metadata": {
        "colab": {
          "base_uri": "https://localhost:8080/"
        },
        "id": "n4uXBKGe_H-z",
        "outputId": "e6fa0f57-1a22-4324-ddb4-39bf14c07d54"
      },
      "execution_count": null,
      "outputs": [
        {
          "output_type": "stream",
          "name": "stdout",
          "text": [
            "9\n",
            "8\n",
            "7\n",
            "6\n"
          ]
        }
      ]
    },
    {
      "cell_type": "code",
      "source": [
        "#continue는 다음 루프로 바로 넘어간다.\n",
        "#그러므로 continue는 반복문을 중단시키지 않기때문에 else가 실행된다.\n",
        "a = 10\n",
        "while a>1:\n",
        "  a-=1\n",
        "  if a==5:\n",
        "    continue\n",
        "  print(a)\n",
        "else:\n",
        "  print('end')"
      ],
      "metadata": {
        "colab": {
          "base_uri": "https://localhost:8080/"
        },
        "id": "r99yytqS_5lb",
        "outputId": "0198ac8b-b517-4047-de14-e0ce0519c621"
      },
      "execution_count": null,
      "outputs": [
        {
          "output_type": "stream",
          "name": "stdout",
          "text": [
            "9\n",
            "8\n",
            "7\n",
            "6\n",
            "4\n",
            "3\n",
            "2\n",
            "1\n",
            "end\n"
          ]
        }
      ]
    },
    {
      "cell_type": "code",
      "source": [
        "# 두번째 방법은 변수 자체를 출력하는 방법이다.\n",
        "# for 변수 in range(시작번호, 마지막 번호, 증가값)\n",
        "# range는 for과 같이 사용된다.\n",
        "# 숫자범위에 대하여 반복을 하거나 특정한 범위의 숫자를 나열하도록 해주는 특별한 함수\n",
        "for i in range(1,6):\n",
        "  print(i)"
      ],
      "metadata": {
        "colab": {
          "base_uri": "https://localhost:8080/"
        },
        "id": "xQ8pgDXc9vJX",
        "outputId": "263319f0-7466-43da-84ad-6c9a9f1d6a3f"
      },
      "execution_count": null,
      "outputs": [
        {
          "output_type": "stream",
          "name": "stdout",
          "text": [
            "1\n",
            "2\n",
            "3\n",
            "4\n",
            "5\n"
          ]
        }
      ]
    },
    {
      "cell_type": "code",
      "source": [
        "# enumerate함수\n",
        "for k, v in enumerate(['apple','python','microsoft']):\n",
        "  print('{0}:{1}'.format(k,v))"
      ],
      "metadata": {
        "colab": {
          "base_uri": "https://localhost:8080/"
        },
        "id": "JEbgOC9yKcnK",
        "outputId": "68789ebb-191b-4a49-8080-1afd1bfc04c6"
      },
      "execution_count": null,
      "outputs": [
        {
          "output_type": "stream",
          "name": "stdout",
          "text": [
            "0:apple\n",
            "1:python\n",
            "2:microsoft\n"
          ]
        }
      ]
    },
    {
      "cell_type": "code",
      "source": [
        "for j in enumerate(['apple','python', 'microsoft'],1):\n",
        "  print('{0}'.format(j))"
      ],
      "metadata": {
        "colab": {
          "base_uri": "https://localhost:8080/"
        },
        "id": "P6eyosOOLHH8",
        "outputId": "1b176a62-86eb-4961-c747-1639a3f40fb2"
      },
      "execution_count": null,
      "outputs": [
        {
          "output_type": "stream",
          "name": "stdout",
          "text": [
            "(1, 'apple')\n",
            "(2, 'python')\n",
            "(3, 'microsoft')\n"
          ]
        }
      ]
    },
    {
      "cell_type": "code",
      "source": [
        "# zip함수\n",
        "a = [1,2,3,4,5]\n",
        "b = ['a','b','c','d','e']\n",
        "for x,y in zip(a,b):\n",
        "  print(x,y)\n",
        "  t=x,y\n",
        "print(type(t))"
      ],
      "metadata": {
        "colab": {
          "base_uri": "https://localhost:8080/"
        },
        "id": "xwk7cRoFLcrh",
        "outputId": "dbfc9fa8-3a30-41f4-ae72-4f09b6681ec2"
      },
      "execution_count": null,
      "outputs": [
        {
          "output_type": "stream",
          "name": "stdout",
          "text": [
            "1 a\n",
            "2 b\n",
            "3 c\n",
            "4 d\n",
            "5 e\n",
            "<class 'tuple'>\n"
          ]
        }
      ]
    },
    {
      "cell_type": "code",
      "source": [
        "# items 함수\n",
        "dic = {'애플':'www.apple.com', '파이썬':'www.python.org'}\n",
        "for k,v in dic.items():\n",
        "  print('{0}:{1}'.format(k,v))\n",
        "  m=k,v\n",
        "print(type(m))"
      ],
      "metadata": {
        "colab": {
          "base_uri": "https://localhost:8080/"
        },
        "id": "T_g6vVHuMHIL",
        "outputId": "a1b78cc8-50fb-4ec3-b879-da118c06b6f8"
      },
      "execution_count": null,
      "outputs": [
        {
          "output_type": "stream",
          "name": "stdout",
          "text": [
            "애플:www.apple.com\n",
            "파이썬:www.python.org\n",
            "<class 'tuple'>\n"
          ]
        }
      ]
    },
    {
      "cell_type": "markdown",
      "source": [
        "### 예외(Exception)\n",
        "- 프로그램을 수행하다 보면 문법적으로 문제가 없는 코드를 실행하는 중에 더 이상 진행할 수없는 상황이 발생하는 경우를 의미한다.   \n",
        "- 모든 예외는 클래스로 표현되면 최상위 클래스는 BaseException클래스이다.   \n",
        "- 예외상황   \n",
        "  -0으로 숫자 나누기   \n",
        "  -문자열과 숫자 더하기   \n",
        "  -참조 버위를 넘어서 인덱스 참조하기   \n",
        "  -등록되어 있지 않은 키로 사전 검색하기   \n",
        "[exception 종류](https://blog.naver.com/PostView.nhn?isHttpsRedirect=true&blogId=dudwo567890&logNo=130161392390)   \n",
        "[exception](https://python.bakyeono.net/chapter-9-4.html)\n",
        "![exception](https://python.bakyeono.net/img/img-9-4.png)"
      ],
      "metadata": {
        "id": "WFQDCc_qODbC"
      }
    },
    {
      "cell_type": "code",
      "source": [
        "# 나누기 연산에서 ZeroDivisionError 에러 발생\n",
        "a, b = 5, 0\n",
        "c = a/b\n",
        "c"
      ],
      "metadata": {
        "colab": {
          "base_uri": "https://localhost:8080/",
          "height": 229
        },
        "id": "CY6lL4DNOCdZ",
        "outputId": "8c1968eb-4559-4c30-cc5b-11aed56e59ae"
      },
      "execution_count": 148,
      "outputs": [
        {
          "output_type": "error",
          "ename": "ZeroDivisionError",
          "evalue": "ignored",
          "traceback": [
            "\u001b[0;31m---------------------------------------------------------------------------\u001b[0m",
            "\u001b[0;31mZeroDivisionError\u001b[0m                         Traceback (most recent call last)",
            "\u001b[0;32m<ipython-input-148-582f4011ad99>\u001b[0m in \u001b[0;36m<module>\u001b[0;34m\u001b[0m\n\u001b[1;32m      1\u001b[0m \u001b[0;31m# 나누기 연산에서 ZeroDivisionError 에러 발생\u001b[0m\u001b[0;34m\u001b[0m\u001b[0;34m\u001b[0m\u001b[0;34m\u001b[0m\u001b[0m\n\u001b[1;32m      2\u001b[0m \u001b[0ma\u001b[0m\u001b[0;34m,\u001b[0m \u001b[0mb\u001b[0m \u001b[0;34m=\u001b[0m \u001b[0;36m5\u001b[0m\u001b[0;34m,\u001b[0m \u001b[0;36m0\u001b[0m\u001b[0;34m\u001b[0m\u001b[0;34m\u001b[0m\u001b[0m\n\u001b[0;32m----> 3\u001b[0;31m \u001b[0mc\u001b[0m \u001b[0;34m=\u001b[0m \u001b[0ma\u001b[0m\u001b[0;34m/\u001b[0m\u001b[0mb\u001b[0m\u001b[0;34m\u001b[0m\u001b[0;34m\u001b[0m\u001b[0m\n\u001b[0m\u001b[1;32m      4\u001b[0m \u001b[0mc\u001b[0m\u001b[0;34m\u001b[0m\u001b[0;34m\u001b[0m\u001b[0m\n",
            "\u001b[0;31mZeroDivisionError\u001b[0m: division by zero"
          ]
        }
      ]
    },
    {
      "cell_type": "code",
      "source": [
        "# 정의되지 않은 변수를 사용하면 NameError 에러 발생\n",
        "4 + spam * 3"
      ],
      "metadata": {
        "id": "hKRhBFVfPWxw"
      },
      "execution_count": null,
      "outputs": []
    },
    {
      "cell_type": "code",
      "source": [
        "# 숫자가 아닌 데이터를 int로 변형할때 ValueError 에러 발생\n",
        "int(3)**int('abc')"
      ],
      "metadata": {
        "id": "OpjA42QEPfpK"
      },
      "execution_count": null,
      "outputs": []
    },
    {
      "cell_type": "code",
      "source": [
        "# 연산 중에 인수의 타입이 맞지 않으면 TypeErroe 에러 발생\n",
        "'2' + 2"
      ],
      "metadata": {
        "id": "xd-Ngf87P-ax"
      },
      "execution_count": null,
      "outputs": []
    },
    {
      "cell_type": "code",
      "source": [
        "# try:      \n",
        "#     <예외가 발생될 가능성이 있는 문장>     \n",
        "# except[발생오류[as 오류 메세지 변수]:   \n",
        "#     <예외가 발생했을 때 실행되는 문장>   \n",
        "# else:   \n",
        "#     <예외가 발생하지 않았을때 실행되는 문장>   \n",
        "# finally:   \n",
        "#     <예외 발생 여부에 상관없이 무조건 실행되는 문장>"
      ],
      "metadata": {
        "id": "APyw5rqeSXI5"
      },
      "execution_count": 149,
      "outputs": []
    },
    {
      "cell_type": "code",
      "source": [
        "def divide(x,y):\n",
        "  return x/y\n",
        "\n",
        "try:\n",
        "   result=divide(1,0)\n",
        "except ZeroDivisionError:\n",
        "   print('분모는 0이면 안됨')\n",
        "else:\n",
        "   print(result)\n",
        "finally:\n",
        "   print('문제풀이 끝')"
      ],
      "metadata": {
        "colab": {
          "base_uri": "https://localhost:8080/"
        },
        "id": "_fsmX8RkWjVB",
        "outputId": "a94f9433-78f9-49de-88f2-b1cd17b56b12"
      },
      "execution_count": 150,
      "outputs": [
        {
          "output_type": "stream",
          "name": "stdout",
          "text": [
            "분모는 0이면 안됨\n",
            "문제풀이 끝\n"
          ]
        }
      ]
    },
    {
      "cell_type": "code",
      "source": [
        "# try ~ except\n",
        "# try 절 안에 문제가 발생할 가능성이 있는 코드 블록을 배치하고\n",
        "# except 절에는 문제가 생겼을 때 뒤처리를 하는 코들 블록 배치\n",
        "\n",
        "# try:      \n",
        "#     <예외가 발생될 가능성이 있는 문장>     \n",
        "# except 예외형식:  \n",
        "#     <예외가 발생했을 때 실행되는 문장>  "
      ],
      "metadata": {
        "id": "LyDtGhmpW9TR"
      },
      "execution_count": 151,
      "outputs": []
    },
    {
      "cell_type": "code",
      "source": [
        "# 복수개의 except\n",
        "# try 블록 안에서 여러 종류의 예외가 발생하는 경우에 사용\n",
        "\n",
        "# try:      \n",
        "#     <예외가 발생될 가능성이 있는 문장>     \n",
        "# except 예외형식1:\n",
        "#     <예외가 발생했을 때 실행되는 문장>     \n",
        "# except 예외형식2:\n",
        "#     <예외가 발생했을 때 실행되는 문장>   \n",
        "\n",
        "my_list = [1,2,3]\n",
        "\n",
        "try:\n",
        "   print('첨자를 입력하세요.')\n",
        "   index = int(input())\n",
        "   print(my_list[index]/0)\n",
        "except ZeroDivisionError:\n",
        "   print('0으로 나눌 수 없습니다.')\n",
        "except IndexError:\n",
        "   print('잘못된 첨자입니다.')"
      ],
      "metadata": {
        "colab": {
          "base_uri": "https://localhost:8080/"
        },
        "id": "wXYZLATBYUKp",
        "outputId": "ab737c1d-8c55-4b08-bda2-793854241fd7"
      },
      "execution_count": 152,
      "outputs": [
        {
          "output_type": "stream",
          "name": "stdout",
          "text": [
            "첨자를 입력하세요.\n",
            "1\n",
            "0으로 나눌 수 없습니다.\n"
          ]
        }
      ]
    },
    {
      "cell_type": "code",
      "source": [
        "# 복수개의 except\n",
        "# 예외의 인스턴스르 활용하는 방법 : as문 사용\n",
        "\n",
        "# try:      \n",
        "#     <예외가 발생될 가능성이 있는 문장>     \n",
        "# except 예외형식1 as err:\n",
        "#     <예외가 발생했을 때 실행되는 문장>     \n",
        "# except 예외형식2 as err:\n",
        "#     <예외가 발생했을 때 실행되는 문장>   \n",
        "\n",
        "my_list = [1,2,3]\n",
        "\n",
        "try:\n",
        "   print('첨자를 입력하세요.')\n",
        "   index = int(input())\n",
        "   print(my_list[index]/0)\n",
        "except ZeroDivisionError as err:\n",
        "   print('0으로 나눌 수 없습니다.({0})'.format(err))\n",
        "except IndexError as err:\n",
        "   print('잘못된 첨자입니다.({0})'.format(err))"
      ],
      "metadata": {
        "colab": {
          "base_uri": "https://localhost:8080/"
        },
        "id": "8T85pkZoaV-x",
        "outputId": "a56cfe65-d85c-4f62-f7af-653cdefe58ca"
      },
      "execution_count": 153,
      "outputs": [
        {
          "output_type": "stream",
          "name": "stdout",
          "text": [
            "첨자를 입력하세요.\n",
            "2\n",
            "0으로 나눌 수 없습니다.(division by zero)\n"
          ]
        }
      ]
    },
    {
      "cell_type": "code",
      "source": [
        "#try ~ except ~ else\n",
        "#try와 함께 사용하는 else절은 try절에 있는 코드블록 실행 중에 아무런 예외가 일어나지 않으면 실행됨\n",
        "\n",
        "# try:      \n",
        "#     <예외가 발생될 가능성이 있는 문장>     \n",
        "# except[발생오류[as 오류 메세지 변수]:   \n",
        "#     <예외가 발생했을 때 실행되는 문장>   \n",
        "# else:   \n",
        "#     <예외가 발생하지 않았을때 실행되는 문장>  \n",
        "\n",
        "\n",
        "my_list = [1,2,3]\n",
        "\n",
        "try:\n",
        "   print('첨자를 입력하세요.')\n",
        "   index = int(input())\n",
        "   print('my_list[{0}]:{1}'.format(index, my_list[index]))\n",
        "except ZeroDivisionError as err:\n",
        "   print('0으로 나눌 수 없습니다.({0})'.format(err))\n",
        "except IndexError as err:\n",
        "   print('잘못된 첨자입니다.({0})'.format(err))\n",
        "else:   \n",
        "   print('리스트의 요소 출력에 성공했습니다.')"
      ],
      "metadata": {
        "colab": {
          "base_uri": "https://localhost:8080/"
        },
        "cellView": "code",
        "id": "ZZjWULgvb6OQ",
        "outputId": "4ca03c60-b410-41d1-b503-b2d6cf591e83"
      },
      "execution_count": 164,
      "outputs": [
        {
          "output_type": "stream",
          "name": "stdout",
          "text": [
            "첨자를 입력하세요.\n",
            "2\n",
            "my_list[2]:3\n",
            "리스트의 요소 출력에 성공했습니다.\n"
          ]
        }
      ]
    },
    {
      "cell_type": "code",
      "source": [
        "# raise (java에서는 throw)\n",
        "# raise은 프로그래머가 의도적으로 예외를 발생시켜야 하는 경우에 사용한다.\n",
        "# raise구문은 해당 예외를 단순히 발생시키거나 예외 발생시 \n",
        "#필요한 정보를 같이 전달하기 위하여 인자로 넘겨줄수 있다,\n",
        "# 또한 예외를 상위에서 처리하ㅣ도록 그대로 전달할수도 있다.\n",
        "# raise구문의 예외로 올수 있는 것으로 내장예외와 사용자정의 예외가 있다.\n",
        "\n",
        "# raise [Exception] #해당 예외를 발생함\n",
        "# raise [Exception(data)] #예외를 발생시 관련 데이터를 전달함\n",
        "# raise #발생된 예외를 상위로 전달함\n",
        "\n",
        "def RaisErrorFinc():\n",
        "   raise NameError('NameError의 인자') #raise문을 통해 예외를 일으킨다. 그 후 except:발생\n",
        "\n",
        "def PropagateError():\n",
        "   try:\n",
        "      RaiseErrorFunc()\n",
        "   except:\n",
        "      print('에러전달 이전에 먼저 이메세지가 출력됨')\n",
        "   raise # 밑에 PropagateError()에 예외를 넘겨줌\n",
        "\n",
        "PropagateError()"
      ],
      "metadata": {
        "colab": {
          "base_uri": "https://localhost:8080/",
          "height": 358
        },
        "id": "unKpcEBfdnzY",
        "outputId": "f9d91e53-5d76-41c7-c76e-5d011823688e"
      },
      "execution_count": 156,
      "outputs": [
        {
          "output_type": "stream",
          "name": "stdout",
          "text": [
            "에러전달 이전에 먼저 이메세지가 출력됨\n"
          ]
        },
        {
          "output_type": "error",
          "ename": "RuntimeError",
          "evalue": "ignored",
          "traceback": [
            "\u001b[0;31m---------------------------------------------------------------------------\u001b[0m",
            "\u001b[0;31mRuntimeError\u001b[0m                              Traceback (most recent call last)",
            "\u001b[0;32m<ipython-input-156-343347103e3f>\u001b[0m in \u001b[0;36m<module>\u001b[0;34m\u001b[0m\n\u001b[1;32m     20\u001b[0m    \u001b[0;32mraise\u001b[0m \u001b[0;31m# 밑에 PropagateError()에 예외를 넘겨줌\u001b[0m\u001b[0;34m\u001b[0m\u001b[0;34m\u001b[0m\u001b[0m\n\u001b[1;32m     21\u001b[0m \u001b[0;34m\u001b[0m\u001b[0m\n\u001b[0;32m---> 22\u001b[0;31m \u001b[0mPropagateError\u001b[0m\u001b[0;34m(\u001b[0m\u001b[0;34m)\u001b[0m\u001b[0;34m\u001b[0m\u001b[0;34m\u001b[0m\u001b[0m\n\u001b[0m",
            "\u001b[0;32m<ipython-input-156-343347103e3f>\u001b[0m in \u001b[0;36mPropagateError\u001b[0;34m()\u001b[0m\n\u001b[1;32m     18\u001b[0m    \u001b[0;32mexcept\u001b[0m\u001b[0;34m:\u001b[0m\u001b[0;34m\u001b[0m\u001b[0;34m\u001b[0m\u001b[0m\n\u001b[1;32m     19\u001b[0m       \u001b[0mprint\u001b[0m\u001b[0;34m(\u001b[0m\u001b[0;34m'에러전달 이전에 먼저 이메세지가 출력됨'\u001b[0m\u001b[0;34m)\u001b[0m\u001b[0;34m\u001b[0m\u001b[0;34m\u001b[0m\u001b[0m\n\u001b[0;32m---> 20\u001b[0;31m    \u001b[0;32mraise\u001b[0m \u001b[0;31m# 밑에 PropagateError()에 예외를 넘겨줌\u001b[0m\u001b[0;34m\u001b[0m\u001b[0;34m\u001b[0m\u001b[0m\n\u001b[0m\u001b[1;32m     21\u001b[0m \u001b[0;34m\u001b[0m\u001b[0m\n\u001b[1;32m     22\u001b[0m \u001b[0mPropagateError\u001b[0m\u001b[0;34m(\u001b[0m\u001b[0;34m)\u001b[0m\u001b[0;34m\u001b[0m\u001b[0;34m\u001b[0m\u001b[0m\n",
            "\u001b[0;31mRuntimeError\u001b[0m: No active exception to reraise"
          ]
        }
      ]
    },
    {
      "cell_type": "code",
      "source": [
        "def RaisErrorFinc():\n",
        "   raise NameError('NameError의 인자')\n",
        "\n",
        "def PropagateError():\n",
        "    try:\n",
        "       RaiseErrorFunc()\n",
        "    except:\n",
        "       print('에러전달 이전에 먼저 이메세지가 출력됨')\n",
        "    raise \n",
        "try:\n",
        "  PropagateError()\n",
        "except Exception as err:\n",
        "  print('{0} 예외가 발생했습니다.'.format(err))"
      ],
      "metadata": {
        "id": "r72Mc3hDisbH",
        "colab": {
          "base_uri": "https://localhost:8080/"
        },
        "outputId": "e056fa6a-7406-4439-ad24-f2ed43b1a5bf"
      },
      "execution_count": 155,
      "outputs": [
        {
          "output_type": "stream",
          "name": "stdout",
          "text": [
            "에러전달 이전에 먼저 이메세지가 출력됨\n",
            "No active exception to reraise 예외가 발생했습니다.\n"
          ]
        }
      ]
    }
  ]
}