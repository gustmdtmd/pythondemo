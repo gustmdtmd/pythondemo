{
  "nbformat": 4,
  "nbformat_minor": 0,
  "metadata": {
    "colab": {
      "provenance": [],
      "authorship_tag": "ABX9TyOAQuRFxaUO2NhEsakD8EDb",
      "include_colab_link": true
    },
    "kernelspec": {
      "name": "python3",
      "display_name": "Python 3"
    },
    "language_info": {
      "name": "python"
    }
  },
  "cells": [
    {
      "cell_type": "markdown",
      "metadata": {
        "id": "view-in-github",
        "colab_type": "text"
      },
      "source": [
        "<a href=\"https://colab.research.google.com/github/gustmdtmd/pythondemo/blob/main/python_10_%EC%A0%95%EA%B7%9C%ED%91%9C%ED%98%84%EC%8B%9D.ipynb\" target=\"_parent\"><img src=\"https://colab.research.google.com/assets/colab-badge.svg\" alt=\"Open In Colab\"/></a>"
      ]
    },
    {
      "cell_type": "markdown",
      "source": [
        "### 정규 표현식(Regular Express)\n",
        "메타문자 : 원래 그 문자가 가진 뜻이 아닌 특별한 용도로 사용되는 문자이다.  \n",
        "정규 표현식에서 사용되는 문자 : ^$+?{}"
      ],
      "metadata": {
        "id": "nVRiqe9-K3VW"
      }
    },
    {
      "cell_type": "code",
      "execution_count": 1,
      "metadata": {
        "id": "ySSh1MjSKvoV"
      },
      "outputs": [],
      "source": [
        "import re"
      ]
    },
    {
      "cell_type": "code",
      "source": [
        "#[ ] : or\n",
        "p = re.compile('[a-z]')"
      ],
      "metadata": {
        "id": "3Qg2v_roLJCu"
      },
      "execution_count": 2,
      "outputs": []
    },
    {
      "cell_type": "code",
      "source": [
        "m = p.match('python')"
      ],
      "metadata": {
        "id": "-FQRdQqtLh_U"
      },
      "execution_count": 4,
      "outputs": []
    },
    {
      "cell_type": "code",
      "source": [
        "print(m)"
      ],
      "metadata": {
        "colab": {
          "base_uri": "https://localhost:8080/"
        },
        "id": "gmsn1zPFLlt8",
        "outputId": "e68627d1-26a8-4422-8c61-553db3a25ef6"
      },
      "execution_count": 5,
      "outputs": [
        {
          "output_type": "stream",
          "name": "stdout",
          "text": [
            "<re.Match object; span=(0, 1), match='p'>\n"
          ]
        }
      ]
    },
    {
      "cell_type": "code",
      "source": [
        "n = p.search('python')\n",
        "n"
      ],
      "metadata": {
        "colab": {
          "base_uri": "https://localhost:8080/"
        },
        "id": "V4NgB_TfLmUk",
        "outputId": "594477fe-7e23-4e5c-8a03-0f040ac982aa"
      },
      "execution_count": 6,
      "outputs": [
        {
          "output_type": "execute_result",
          "data": {
            "text/plain": [
              "<re.Match object; span=(0, 1), match='p'>"
            ]
          },
          "metadata": {},
          "execution_count": 6
        }
      ]
    },
    {
      "cell_type": "code",
      "source": [
        "p = re.compile('[a-z]')"
      ],
      "metadata": {
        "id": "mj4n_2msL31f"
      },
      "execution_count": 7,
      "outputs": []
    },
    {
      "cell_type": "code",
      "source": [
        "m = p.findall('3 life ti sto short')\n",
        "print(m)"
      ],
      "metadata": {
        "colab": {
          "base_uri": "https://localhost:8080/"
        },
        "id": "7mAKv_uuMDS8",
        "outputId": "12d371e5-38ba-4b90-f0d3-c00474942aa4"
      },
      "execution_count": 8,
      "outputs": [
        {
          "output_type": "stream",
          "name": "stdout",
          "text": [
            "['l', 'i', 'f', 'e', 't', 'i', 's', 't', 'o', 's', 'h', 'o', 'r', 't']\n"
          ]
        }
      ]
    },
    {
      "cell_type": "code",
      "source": [
        "p = re.compile('[a-z]+')\n",
        "m = p.findall('li2fe is %to short3 e')\n",
        "print(m)"
      ],
      "metadata": {
        "colab": {
          "base_uri": "https://localhost:8080/"
        },
        "id": "pJU2po9TMMzs",
        "outputId": "12ee91fe-16ad-473e-d68d-4367179068df"
      },
      "execution_count": 9,
      "outputs": [
        {
          "output_type": "stream",
          "name": "stdout",
          "text": [
            "['li', 'fe', 'is', 'to', 'short', 'e']\n"
          ]
        }
      ]
    },
    {
      "cell_type": "code",
      "source": [
        "p = re.compile('[a-z]+')\n",
        "m = p.finditer('life is to short')\n",
        "print(m)"
      ],
      "metadata": {
        "colab": {
          "base_uri": "https://localhost:8080/"
        },
        "id": "1oGyTVnUMqpU",
        "outputId": "df2feb3a-26fb-498f-ba06-2b0a486b60e7"
      },
      "execution_count": 10,
      "outputs": [
        {
          "output_type": "stream",
          "name": "stdout",
          "text": [
            "<callable_iterator object at 0x7f6e699ff4c0>\n"
          ]
        }
      ]
    },
    {
      "cell_type": "code",
      "source": [
        "for r in m:\n",
        "  print(r)"
      ],
      "metadata": {
        "colab": {
          "base_uri": "https://localhost:8080/"
        },
        "id": "vjqSJ9j3M-01",
        "outputId": "4ada71ac-f994-454b-adbe-df3b55f0f475"
      },
      "execution_count": 11,
      "outputs": [
        {
          "output_type": "stream",
          "name": "stdout",
          "text": [
            "<re.Match object; span=(0, 4), match='life'>\n",
            "<re.Match object; span=(5, 7), match='is'>\n",
            "<re.Match object; span=(8, 10), match='to'>\n",
            "<re.Match object; span=(11, 16), match='short'>\n"
          ]
        }
      ]
    },
    {
      "cell_type": "code",
      "source": [
        "print(type(r))\n",
        "print(dir(r))"
      ],
      "metadata": {
        "colab": {
          "base_uri": "https://localhost:8080/"
        },
        "id": "2NqeiRKsNEB0",
        "outputId": "6445c6af-0eb5-4202-cc70-25e13a9fa62a"
      },
      "execution_count": 13,
      "outputs": [
        {
          "output_type": "stream",
          "name": "stdout",
          "text": [
            "<class 're.Match'>\n",
            "['__class__', '__copy__', '__deepcopy__', '__delattr__', '__dir__', '__doc__', '__eq__', '__format__', '__ge__', '__getattribute__', '__getitem__', '__gt__', '__hash__', '__init__', '__init_subclass__', '__le__', '__lt__', '__ne__', '__new__', '__reduce__', '__reduce_ex__', '__repr__', '__setattr__', '__sizeof__', '__str__', '__subclasshook__', 'end', 'endpos', 'expand', 'group', 'groupdict', 'groups', 'lastgroup', 'lastindex', 'pos', 're', 'regs', 'span', 'start', 'string']\n"
          ]
        }
      ]
    },
    {
      "cell_type": "code",
      "source": [
        "p = re.compile('[a-z]+')\n",
        "m = p.finditer('life is to short')\n",
        "print(m)\n",
        "\n",
        "for r in m:\n",
        "  print(r.group(), r.start(), r.end(), r.span())"
      ],
      "metadata": {
        "colab": {
          "base_uri": "https://localhost:8080/"
        },
        "id": "Hcb6TYaZNRhE",
        "outputId": "643bb14c-cfcc-4d87-ff76-5afa0d0c5547"
      },
      "execution_count": 20,
      "outputs": [
        {
          "output_type": "stream",
          "name": "stdout",
          "text": [
            "<callable_iterator object at 0x7f6e699e26d0>\n",
            "life 0 4 (0, 4)\n",
            "is 5 7 (5, 7)\n",
            "to 8 10 (8, 10)\n",
            "short 11 16 (11, 16)\n"
          ]
        }
      ]
    },
    {
      "cell_type": "code",
      "source": [
        "# 문자클래스[] : 문자 a-z 아무거나 들어가도 매치\n",
        "p = re.compile('[a-z]')\n",
        "m = p.match('abc')\n",
        "print(m)\n",
        "print(dir(m))\n",
        "print(m.group(), m.start(), m.string)"
      ],
      "metadata": {
        "colab": {
          "base_uri": "https://localhost:8080/"
        },
        "id": "9Pw_etJNNkJM",
        "outputId": "d5abdeda-b6f7-496e-bb79-54c004f0396e"
      },
      "execution_count": 31,
      "outputs": [
        {
          "output_type": "stream",
          "name": "stdout",
          "text": [
            "<re.Match object; span=(0, 1), match='a'>\n",
            "['__class__', '__copy__', '__deepcopy__', '__delattr__', '__dir__', '__doc__', '__eq__', '__format__', '__ge__', '__getattribute__', '__getitem__', '__gt__', '__hash__', '__init__', '__init_subclass__', '__le__', '__lt__', '__ne__', '__new__', '__reduce__', '__reduce_ex__', '__repr__', '__setattr__', '__sizeof__', '__str__', '__subclasshook__', 'end', 'endpos', 'expand', 'group', 'groupdict', 'groups', 'lastgroup', 'lastindex', 'pos', 're', 'regs', 'span', 'start', 'string']\n",
            "a 0 abc\n"
          ]
        }
      ]
    },
    {
      "cell_type": "code",
      "source": [
        "# Dot(.) : a와 b사이에 줄바꿈 문자를 제외한 어떤 문자도 모두 매치\n",
        "p = re.compile('a.b')\n",
        "m = p.match('abc')\n",
        "print(m)"
      ],
      "metadata": {
        "colab": {
          "base_uri": "https://localhost:8080/"
        },
        "id": "oSe3EPAUPbJY",
        "outputId": "fc74d67d-daca-469d-a68f-a9e20ae435dc"
      },
      "execution_count": 40,
      "outputs": [
        {
          "output_type": "stream",
          "name": "stdout",
          "text": [
            "None\n"
          ]
        }
      ]
    },
    {
      "cell_type": "code",
      "source": [
        "# 반복(*) : *문자 바로 앞에 있는 t가 0번 이상 반복되면 매치\n",
        "p = re.compile('cat*k')\n",
        "m = p.match('ck')\n",
        "print(m)\n",
        "\n",
        "m = p.match('cak')\n",
        "print(m)\n",
        "print(m.group())\n",
        "\n",
        "m = p.match('catttk')\n",
        "print(m)\n",
        "print(m.group(), m.start())"
      ],
      "metadata": {
        "colab": {
          "base_uri": "https://localhost:8080/"
        },
        "id": "Zn4nA_vvOlHM",
        "outputId": "af31b263-5b44-4c6e-afe3-ddc9e9ff4864"
      },
      "execution_count": 61,
      "outputs": [
        {
          "output_type": "stream",
          "name": "stdout",
          "text": [
            "None\n",
            "<re.Match object; span=(0, 3), match='cak'>\n",
            "cak\n",
            "<re.Match object; span=(0, 6), match='catttk'>\n",
            "catttk 0\n"
          ]
        }
      ]
    },
    {
      "cell_type": "code",
      "source": [
        "# 반복(+) : +문자 바로 앞에 있는 t가 1번 이상 반복되면 매치\n",
        "p = re.compile('cat+k')\n",
        "m = p.match('ck')\n",
        "print(m)\n",
        "\n",
        "m = p.match('cak')\n",
        "print(m)\n",
        "\n",
        "m = p.match('catttk')\n",
        "print(m)\n",
        "print(m.group(), m.start())"
      ],
      "metadata": {
        "colab": {
          "base_uri": "https://localhost:8080/"
        },
        "id": "34k2hAb-QMbc",
        "outputId": "a9b0086d-df07-416e-a5e0-a60d0c8e75bb"
      },
      "execution_count": 56,
      "outputs": [
        {
          "output_type": "stream",
          "name": "stdout",
          "text": [
            "None\n",
            "None\n",
            "<re.Match object; span=(0, 6), match='catttk'>\n",
            "catttk 0\n"
          ]
        }
      ]
    },
    {
      "cell_type": "code",
      "source": [
        "# 반복{{m, n}, ?} : 반복 횟수를 고정시킬 때 사용한다.\n",
        "p = re.compile('ca{2}t')\n",
        "m = p.match('cat')\n",
        "print(m)"
      ],
      "metadata": {
        "colab": {
          "base_uri": "https://localhost:8080/"
        },
        "id": "27taehlERKyW",
        "outputId": "5588ab20-0969-40fb-f614-617845263bc9"
      },
      "execution_count": 65,
      "outputs": [
        {
          "output_type": "stream",
          "name": "stdout",
          "text": [
            "None\n"
          ]
        }
      ]
    },
    {
      "cell_type": "code",
      "source": [
        "# 반복{{m, n}, ?} : 반복 횟수를 고정시킬 때 사용한다.\n",
        "p = re.compile('ca{2}t')\n",
        "m = p.match('caat')\n",
        "print(m)"
      ],
      "metadata": {
        "colab": {
          "base_uri": "https://localhost:8080/"
        },
        "id": "z6QW8w8IRyZl",
        "outputId": "88499f25-5917-4dc9-d082-b7d5b4385af3"
      },
      "execution_count": 66,
      "outputs": [
        {
          "output_type": "stream",
          "name": "stdout",
          "text": [
            "<re.Match object; span=(0, 4), match='caat'>\n"
          ]
        }
      ]
    },
    {
      "cell_type": "code",
      "source": [
        "# 반복{{m, n}, ?} : 반복 횟수를 고정시킬 때 사용한다.\n",
        "p = re.compile('ca{2}t')\n",
        "m = p.match('caaat')\n",
        "print(m)"
      ],
      "metadata": {
        "colab": {
          "base_uri": "https://localhost:8080/"
        },
        "id": "g3S18DQDR0gL",
        "outputId": "2b03ab24-93d3-465c-d859-c05e4c05395d"
      },
      "execution_count": 67,
      "outputs": [
        {
          "output_type": "stream",
          "name": "stdout",
          "text": [
            "None\n"
          ]
        }
      ]
    },
    {
      "cell_type": "code",
      "source": [
        "# ? : {0, 1} 의미한다.\n",
        "p = re.compile('ca?t')\n",
        "m = p.match('cat')\n",
        "print(m)\n",
        "print(m.group())"
      ],
      "metadata": {
        "colab": {
          "base_uri": "https://localhost:8080/"
        },
        "id": "i3AEry7GR--G",
        "outputId": "7dc32b81-f3c7-4d5c-f183-93b1385e6657"
      },
      "execution_count": 70,
      "outputs": [
        {
          "output_type": "stream",
          "name": "stdout",
          "text": [
            "<re.Match object; span=(0, 3), match='cat'>\n",
            "cat\n"
          ]
        }
      ]
    },
    {
      "cell_type": "code",
      "source": [
        "# ? : {0, 1} 의미한다.\n",
        "p = re.compile('ca?t')\n",
        "m = p.match('ct')\n",
        "print(m)\n",
        "print(m.group())"
      ],
      "metadata": {
        "colab": {
          "base_uri": "https://localhost:8080/"
        },
        "id": "4BCVr6pTSIrk",
        "outputId": "466bea43-2f6f-4f96-b5f1-922bb2ebdb96"
      },
      "execution_count": 71,
      "outputs": [
        {
          "output_type": "stream",
          "name": "stdout",
          "text": [
            "<re.Match object; span=(0, 2), match='ct'>\n",
            "ct\n"
          ]
        }
      ]
    },
    {
      "cell_type": "markdown",
      "source": [
        "### 정규화 표현식 옵션"
      ],
      "metadata": {
        "id": "S8gB4v6uSWcT"
      }
    },
    {
      "cell_type": "code",
      "source": [
        "# 줄바꿈 문자를 포함하여 모든 문자와 매치할 수 있도록 한다.\n",
        "p = re.compile('a.b', re.DOTALL)\n",
        "m = p.match('a\\nb')\n",
        "print(m)\n",
        "print(m.group())"
      ],
      "metadata": {
        "colab": {
          "base_uri": "https://localhost:8080/"
        },
        "id": "anYIm9mnSRcU",
        "outputId": "66591ca7-dc4e-4d03-c42c-b3a48c06e08e"
      },
      "execution_count": 73,
      "outputs": [
        {
          "output_type": "stream",
          "name": "stdout",
          "text": [
            "<re.Match object; span=(0, 3), match='a\\nb'>\n",
            "a\n",
            "b\n"
          ]
        }
      ]
    },
    {
      "cell_type": "code",
      "source": [
        "# 대소문자에 관계없이 매치할 수 있도록 한다.\n",
        "p = re.compile('[a-z]', re.I)  # 대문자 아이 (Ignore)\n",
        "m = p.match('Life is to short')\n",
        "print(m)\n",
        "print(m.group())"
      ],
      "metadata": {
        "colab": {
          "base_uri": "https://localhost:8080/"
        },
        "id": "WyLOH9RdSr8z",
        "outputId": "bb1a603f-914e-4ba5-a0b1-f90ea574f91d"
      },
      "execution_count": 83,
      "outputs": [
        {
          "output_type": "stream",
          "name": "stdout",
          "text": [
            "<re.Match object; span=(0, 1), match='L'>\n",
            "L\n"
          ]
        }
      ]
    },
    {
      "cell_type": "code",
      "source": [
        "p = re.compile('^python\\s\\w+', re.M)\n",
        "m = p.findall('''python one\n",
        "life is too short\n",
        "python two\n",
        "you need python\n",
        "python _\n",
        "python 5\n",
        "python three''')\n",
        "\n",
        "print(m)"
      ],
      "metadata": {
        "colab": {
          "base_uri": "https://localhost:8080/"
        },
        "id": "NBc-0-NaUNcL",
        "outputId": "da20403c-0707-43b9-f7c5-6e7907b26a56"
      },
      "execution_count": 94,
      "outputs": [
        {
          "output_type": "stream",
          "name": "stdout",
          "text": [
            "['python one', 'python two', 'python _', 'python 5', 'python three']\n"
          ]
        }
      ]
    },
    {
      "cell_type": "code",
      "source": [],
      "metadata": {
        "id": "6_2j_xrWU1N7"
      },
      "execution_count": null,
      "outputs": []
    }
  ]
}