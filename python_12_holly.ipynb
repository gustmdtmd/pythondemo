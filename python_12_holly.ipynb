{
  "nbformat": 4,
  "nbformat_minor": 0,
  "metadata": {
    "colab": {
      "provenance": [],
      "authorship_tag": "ABX9TyPl9FO+4hxp/ANW9eqW900a",
      "include_colab_link": true
    },
    "kernelspec": {
      "name": "python3",
      "display_name": "Python 3"
    },
    "language_info": {
      "name": "python"
    }
  },
  "cells": [
    {
      "cell_type": "markdown",
      "metadata": {
        "id": "view-in-github",
        "colab_type": "text"
      },
      "source": [
        "<a href=\"https://colab.research.google.com/github/gustmdtmd/pythondemo/blob/main/python_12_holly.ipynb\" target=\"_parent\"><img src=\"https://colab.research.google.com/assets/colab-badge.svg\" alt=\"Open In Colab\"/></a>"
      ]
    },
    {
      "cell_type": "markdown",
      "source": [
        "## hollys.co.kr 크롤링 하기"
      ],
      "metadata": {
        "id": "w8qpNpiwII9V"
      }
    },
    {
      "cell_type": "code",
      "source": [
        "### 구글 드라이브 연결\n",
        "from google.colab import drive\n",
        "drive.mount('/content/drive')\n",
        "\n",
        "# 경로 변경은 !가 아닌 % 사용\n",
        "%cd /content/drive/MyDrive/python_demo\n",
        "\n",
        "!pwd"
      ],
      "metadata": {
        "colab": {
          "base_uri": "https://localhost:8080/"
        },
        "id": "OgAs0whlITd2",
        "outputId": "908ffcc1-ac5b-4a7a-899c-f8bf57f0143e"
      },
      "execution_count": 194,
      "outputs": [
        {
          "output_type": "stream",
          "name": "stdout",
          "text": [
            "Drive already mounted at /content/drive; to attempt to forcibly remount, call drive.mount(\"/content/drive\", force_remount=True).\n",
            "/content/drive/MyDrive/python_demo\n",
            "/content/drive/MyDrive/python_demo\n"
          ]
        }
      ]
    },
    {
      "cell_type": "markdown",
      "source": [
        "### 1. import"
      ],
      "metadata": {
        "id": "_nxfbCkFIwhM"
      }
    },
    {
      "cell_type": "code",
      "execution_count": 195,
      "metadata": {
        "id": "GYWlKEFCGduV"
      },
      "outputs": [],
      "source": [
        "import requests\n",
        "from bs4 import BeautifulSoup"
      ]
    },
    {
      "cell_type": "markdown",
      "source": [
        "### 2. 작업결과를 저장할 리스트 준비"
      ],
      "metadata": {
        "id": "Np-Y8riVIk7W"
      }
    },
    {
      "cell_type": "code",
      "source": [
        "result = []"
      ],
      "metadata": {
        "id": "6qQGROGBI6aT"
      },
      "execution_count": 196,
      "outputs": []
    },
    {
      "cell_type": "markdown",
      "source": [
        "### 3. BeautifulSoup 객체 생성하여 파싱"
      ],
      "metadata": {
        "id": "718NIwY5JCXF"
      }
    },
    {
      "cell_type": "code",
      "source": [
        "header = {\"user-agent\": \"Mozilla/5.0 (Windows NT 10.0; Win64; x64) AppleWebKit/537.36 (KHTML, like Gecko) Chrome/108.0.0.0 Safari/537.36\"}\n",
        "url = \"https://www.hollys.co.kr/store/korea/korStore2.do\"\n",
        "\n",
        "res = requests.get(url, headers=header)\n",
        "soup = BeautifulSoup(res.text, 'html.parser')\n",
        "print(type(soup))\n",
        "\n",
        "tbody_tag = soup.find('tbody')\n",
        "#print(type(tbody_tag))\n",
        "\n",
        "# 모든 tr을 가져온다.\n",
        "#tr_list_tag = soup.find_all('tr')\n",
        "#print(len(tr_list_tag)) # 11\n",
        "#print(type(tr_list_tag))\n",
        "#print(tr_list_tag[0])\n",
        "\n",
        "# tbody안에 있는 tr만 가져온다.\n",
        "tbody_tr_list_tag = tbody_tag.find_all('tr')\n",
        "#print(len(tbody_tr_list_tag)) # 10\n",
        "#print(tbody_tr_list_tag[0])"
      ],
      "metadata": {
        "colab": {
          "base_uri": "https://localhost:8080/"
        },
        "id": "KHrHs2sVJGA1",
        "outputId": "12d36c6a-4655-4edd-e655-3cbf37be8c57"
      },
      "execution_count": 197,
      "outputs": [
        {
          "output_type": "stream",
          "name": "stdout",
          "text": [
            "<class 'bs4.BeautifulSoup'>\n"
          ]
        }
      ]
    },
    {
      "cell_type": "code",
      "source": [
        "for store in tbody_tr_list_tag:\n",
        "  store_td = store.find_all('td')\n",
        "  store_area = store_td[0].string\n",
        "  store_name = store_td[1].string\n",
        "  store_phone = store_td[5].string\n",
        "  result.append([store_area]+[store_name]+[store_phone])   #['서울 강남구'], ['강남우리라운지점'], ['02-566-1002']"
      ],
      "metadata": {
        "id": "UWkox22iKRF1"
      },
      "execution_count": 198,
      "outputs": []
    },
    {
      "cell_type": "code",
      "source": [
        "# 참고\n",
        "print(['a']+['b'])\n",
        "print(['서울 강남구']+ ['강남우리라운지점']+ ['02-566-1002'])"
      ],
      "metadata": {
        "colab": {
          "base_uri": "https://localhost:8080/"
        },
        "id": "X7wuMV-SNV8k",
        "outputId": "28e1781a-d374-441d-f208-e9fb1bd98ac8"
      },
      "execution_count": 199,
      "outputs": [
        {
          "output_type": "stream",
          "name": "stdout",
          "text": [
            "['a', 'b']\n",
            "['서울 강남구', '강남우리라운지점', '02-566-1002']\n"
          ]
        }
      ]
    },
    {
      "cell_type": "markdown",
      "source": [
        "### 4. 크롤링 결과 확인"
      ],
      "metadata": {
        "id": "M659WdGYPerj"
      }
    },
    {
      "cell_type": "code",
      "source": [
        "result"
      ],
      "metadata": {
        "colab": {
          "base_uri": "https://localhost:8080/"
        },
        "id": "qLV36wVZO49L",
        "outputId": "8f398798-81e4-42bf-dbdc-efadeb257e3d"
      },
      "execution_count": 200,
      "outputs": [
        {
          "output_type": "execute_result",
          "data": {
            "text/plain": [
              "[['서울 강남구', '강남우리라운지점', '02-566-1002'],\n",
              " ['경기 수원시', '수원영통점', '031-202-3356'],\n",
              " ['경기 고양시 덕양구', '원흥역점', '031.967.0302'],\n",
              " ['서울 양천구', '오목교역점', '02-2062-8405'],\n",
              " ['대구 서구', '롯데시네마프리미엄만경관점', '070-7717-2192'],\n",
              " ['전남 순천시', '순천신대점', '061-723-5185'],\n",
              " ['서울 금천구', '시흥사거리점', '02-804-9226'],\n",
              " ['전북 전주시 완산구', '전주효천점', '063-224-5777'],\n",
              " ['제주 제주시', '제주도두해안DT점', '064-745-7301'],\n",
              " ['부산 북구', '부산화명점', '070-8884-1101']]"
            ]
          },
          "metadata": {},
          "execution_count": 200
        }
      ]
    },
    {
      "cell_type": "markdown",
      "source": [
        "### 5. 테이블을 csv파일로 저장"
      ],
      "metadata": {
        "id": "O5hoGt4OO-uL"
      }
    },
    {
      "cell_type": "code",
      "source": [
        "import csv\n",
        "\n",
        "# field names\n",
        "fields = ['StoreArea', 'StoreName', ' StorePhone']\n",
        "\n",
        "with open('./data_crowing/hollys.csv', 'w', newline='') as f:\n",
        "  write = csv.writer(f)\n",
        "  write.writerow(fields)\n",
        "  write.writerow(result)"
      ],
      "metadata": {
        "id": "g7iQp9RWPqYP"
      },
      "execution_count": 201,
      "outputs": []
    },
    {
      "cell_type": "code",
      "source": [
        "!pwd"
      ],
      "metadata": {
        "colab": {
          "base_uri": "https://localhost:8080/"
        },
        "id": "PrXnIX0JSweb",
        "outputId": "1eaca29e-5ba2-41fd-d421-a1e16cb206e2"
      },
      "execution_count": 202,
      "outputs": [
        {
          "output_type": "stream",
          "name": "stdout",
          "text": [
            "/content/drive/MyDrive/python_demo\n"
          ]
        }
      ]
    },
    {
      "cell_type": "code",
      "source": [
        "%cd data_crowing"
      ],
      "metadata": {
        "colab": {
          "base_uri": "https://localhost:8080/"
        },
        "id": "1DyIBSMrS2yb",
        "outputId": "9295fb47-014b-439f-8703-2a4a5d23c792"
      },
      "execution_count": 203,
      "outputs": [
        {
          "output_type": "stream",
          "name": "stdout",
          "text": [
            "/content/drive/MyDrive/python_demo/data_crowing\n"
          ]
        }
      ]
    },
    {
      "cell_type": "code",
      "source": [
        "!ls *.csv"
      ],
      "metadata": {
        "colab": {
          "base_uri": "https://localhost:8080/"
        },
        "id": "c2vuigJkTAUL",
        "outputId": "863e8ca8-470a-457e-da11-8c80f5443394"
      },
      "execution_count": 204,
      "outputs": [
        {
          "output_type": "stream",
          "name": "stdout",
          "text": [
            "2022-12-12-hollys.csv  hollys.csv  test.csv\n"
          ]
        }
      ]
    },
    {
      "cell_type": "code",
      "source": [
        "%cd .."
      ],
      "metadata": {
        "colab": {
          "base_uri": "https://localhost:8080/"
        },
        "id": "n4BBo5T3Tdsb",
        "outputId": "13292c63-a6e6-4d33-d4c6-388aebfd2b82"
      },
      "execution_count": 205,
      "outputs": [
        {
          "output_type": "stream",
          "name": "stdout",
          "text": [
            "/content/drive/MyDrive/python_demo\n"
          ]
        }
      ]
    },
    {
      "cell_type": "code",
      "source": [
        "# 폴더 생성\n",
        "#!mkdir kkk"
      ],
      "metadata": {
        "id": "HbDw-pC2TsPT"
      },
      "execution_count": 206,
      "outputs": []
    },
    {
      "cell_type": "code",
      "source": [
        "!cat hollys.csv"
      ],
      "metadata": {
        "colab": {
          "base_uri": "https://localhost:8080/"
        },
        "id": "QXiqsghqT6Bz",
        "outputId": "11f09974-5ddf-4d08-9a4f-8dfbb5fa899f"
      },
      "execution_count": 207,
      "outputs": [
        {
          "output_type": "stream",
          "name": "stdout",
          "text": [
            "cat: hollys.csv: No such file or directory\n"
          ]
        }
      ]
    },
    {
      "cell_type": "code",
      "source": [
        "%cd python_demo"
      ],
      "metadata": {
        "colab": {
          "base_uri": "https://localhost:8080/"
        },
        "id": "4VrDbo_wT7jL",
        "outputId": "af2c8fbb-1430-424f-80fa-e7b47dc218c2"
      },
      "execution_count": 210,
      "outputs": [
        {
          "output_type": "stream",
          "name": "stdout",
          "text": [
            "/content/drive/MyDrive/python_demo\n"
          ]
        }
      ]
    },
    {
      "cell_type": "markdown",
      "source": [
        "### 6. 기타 : 저장할 때 날짜 지정"
      ],
      "metadata": {
        "id": "vubgGQiIU9_a"
      }
    },
    {
      "cell_type": "code",
      "source": [
        "# 날짜와 시간\n",
        "import datetime\n",
        "now = datetime.datetime.today()\n",
        "print(now)\n",
        "print(now.utcnow())\n",
        "print(now.year, now.month, now.day, now.hour, now.minute, now.second)\n",
        "print(now.date())\n",
        "print(now.time())"
      ],
      "metadata": {
        "colab": {
          "base_uri": "https://localhost:8080/"
        },
        "id": "sGNfFbu7VSWz",
        "outputId": "07c2991c-6bc6-4604-e25b-2151f1dc46dc"
      },
      "execution_count": 211,
      "outputs": [
        {
          "output_type": "stream",
          "name": "stdout",
          "text": [
            "2022-12-12 09:29:01.940242\n",
            "2022-12-12 09:29:01.942559\n",
            "2022 12 12 9 29 1\n",
            "2022-12-12\n",
            "09:29:01.940242\n"
          ]
        }
      ]
    },
    {
      "cell_type": "code",
      "source": [
        "import time\n",
        "time.strftime('%Y-%m-%d', time.localtime(time.time()))"
      ],
      "metadata": {
        "colab": {
          "base_uri": "https://localhost:8080/",
          "height": 35
        },
        "id": "lur6QoX0VcsK",
        "outputId": "e9283081-28ab-4b11-f77e-852a0c6b1313"
      },
      "execution_count": 212,
      "outputs": [
        {
          "output_type": "execute_result",
          "data": {
            "text/plain": [
              "'2022-12-12'"
            ],
            "application/vnd.google.colaboratory.intrinsic+json": {
              "type": "string"
            }
          },
          "metadata": {},
          "execution_count": 212
        }
      ]
    },
    {
      "cell_type": "markdown",
      "source": [
        "### 파이썬 파일 작성하여 크롤링 작업하기"
      ],
      "metadata": {
        "id": "EDDZd87LWQ6D"
      }
    },
    {
      "cell_type": "code",
      "source": [
        "import requests\n",
        "from bs4 import BeautifulSoup\n",
        "\n",
        "import csv\n",
        "import datetime\n",
        "\n",
        "def hollys_store():\n",
        "  result = []\n",
        "  header = {\"user-agent\": \"Mozilla/5.0 (Windows NT 10.0; Win64; x64) AppleWebKit/537.36 (KHTML, like Gecko) Chrome/108.0.0.0 Safari/537.36\"}\n",
        "  url = \"https://www.hollys.co.kr/store/korea/korStore2.do\"\n",
        "  \n",
        "  res = requests.get(url, headers=header)\n",
        "  soup = BeautifulSoup(res.text, 'html.parser')\n",
        "  \n",
        "  tbody_tag = soup.find('tbody')\n",
        "  tbody_tr_list_tag = tbody_tag.find_all('tr')\n",
        "\n",
        "  \n",
        "  for store in tbody_tr_list_tag:\n",
        "     store_td = store.find_all('td')\n",
        "     store_area = store_td[0].string  # text는 아무것도 없으면 리턴을 안하고 string은 none을 리턴한다\n",
        "     store_name = store_td[1].string\n",
        "     store_phone = store_td[5].string\n",
        "     result.append([store_area]+[store_name]+[store_phone])\n",
        "  return result\n",
        "\n",
        "\n",
        "def main():\n",
        "  result = hollys_store()\n",
        "\n",
        "  to_now = datetime.datetime.today().date()\n",
        "\n",
        "  # field names\n",
        "  fields = ['StoreArea', 'StoreName', 'StorePhone']\n",
        "  \n",
        "\n",
        "  with open('./data_crowing/%s-hollys.csv' %to_now, 'w', newline='') as f:\n",
        "    write = csv.writer(f)\n",
        "    write.writerow(fields)\n",
        "    write.writerows(result)\n",
        "  \n",
        "  print('hollys 데이터 저장완료')\n",
        "  del result[:]\n",
        "\n",
        "if __name__ == '__main__':\n",
        "  main()"
      ],
      "metadata": {
        "colab": {
          "base_uri": "https://localhost:8080/"
        },
        "id": "XPQJvCoWWnW6",
        "outputId": "5b7bd4fc-3732-4db1-c46a-9daff561f325"
      },
      "execution_count": 229,
      "outputs": [
        {
          "output_type": "stream",
          "name": "stdout",
          "text": [
            "hollys 데이터 저장완료\n"
          ]
        }
      ]
    },
    {
      "cell_type": "code",
      "source": [
        "%cd data_crowing\n",
        "!cat 2022-12-12-hollys.csv\n",
        "%cd .."
      ],
      "metadata": {
        "colab": {
          "base_uri": "https://localhost:8080/"
        },
        "id": "EQLNHuV3Wy3D",
        "outputId": "42ddba64-e063-4909-da3b-b3fd53bf973b"
      },
      "execution_count": 215,
      "outputs": [
        {
          "output_type": "stream",
          "name": "stdout",
          "text": [
            "/content/drive/MyDrive/python_demo/data_crowing\n",
            "\"['StoreArea', 'StoreName', 'StorePhone']\",\"['서울 강남구', '강남우리라운지점', '02-566-1002']\",\"['경기 수원시', '수원영통점', '031-202-3356']\",\"['경기 고양시 덕양구', '원흥역점', '031.967.0302']\",\"['서울 양천구', '오목교역점', '02-2062-8405']\",\"['대구 서구', '롯데시네마프리미엄만경관점', '070-7717-2192']\",\"['전남 순천시', '순천신대점', '061-723-5185']\",\"['서울 금천구', '시흥사거리점', '02-804-9226']\",\"['전북 전주시 완산구', '전주효천점', '063-224-5777']\",\"['제주 제주시', '제주도두해안DT점', '064-745-7301']\",\"['부산 북구', '부산화명점', '070-8884-1101']\"\r\n",
            "/content/drive/MyDrive/python_demo\n"
          ]
        }
      ]
    },
    {
      "cell_type": "code",
      "source": [
        "to_now = datetime.datetime.today().date()\n",
        "with open('./data_crowing/%s-hollys.csv' %to_now, 'r') as f:\n",
        "  #print(type(list(f.read())))\n",
        "  #print(f.readline())\n",
        "  for row in f:\n",
        "    #print(row)\n",
        "    #print(type(row))\n",
        "    td_list = row.split(',')\n",
        "    print(td_list[0],td_list[1],td_list[2])\n",
        "    # break"
      ],
      "metadata": {
        "colab": {
          "base_uri": "https://localhost:8080/"
        },
        "id": "IEw94TeQZ4pi",
        "outputId": "fe5ddbd1-7ce9-4d85-9217-ad71db8bbba7"
      },
      "execution_count": 232,
      "outputs": [
        {
          "output_type": "stream",
          "name": "stdout",
          "text": [
            "StoreArea StoreName StorePhone\n",
            "\n",
            "서울 강남구 강남우리라운지점 02-566-1002\n",
            "\n",
            "경기 수원시 수원영통점 031-202-3356\n",
            "\n",
            "경기 고양시 덕양구 원흥역점 031.967.0302\n",
            "\n",
            "서울 양천구 오목교역점 02-2062-8405\n",
            "\n",
            "대구 서구 롯데시네마프리미엄만경관점 070-7717-2192\n",
            "\n",
            "전남 순천시 순천신대점 061-723-5185\n",
            "\n",
            "서울 금천구 시흥사거리점 02-804-9226\n",
            "\n",
            "전북 전주시 완산구 전주효천점 063-224-5777\n",
            "\n",
            "제주 제주시 제주도두해안DT점 064-745-7301\n",
            "\n",
            "부산 북구 부산화명점 070-8884-1101\n",
            "\n"
          ]
        }
      ]
    },
    {
      "cell_type": "code",
      "source": [],
      "metadata": {
        "id": "L0792m09aIZR"
      },
      "execution_count": null,
      "outputs": []
    }
  ]
}